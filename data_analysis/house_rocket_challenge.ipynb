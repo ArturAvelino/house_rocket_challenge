{
  "nbformat": 4,
  "nbformat_minor": 0,
  "metadata": {
    "colab": {
      "name": "house_rocket_challenge.ipynb",
      "provenance": [],
      "collapsed_sections": [],
      "toc_visible": true
    },
    "kernelspec": {
      "name": "python3",
      "display_name": "Python 3"
    }
  },
  "cells": [
    {
      "cell_type": "markdown",
      "metadata": {
        "id": "JIsYzgGukZPf"
      },
      "source": [
        "# **House Rocket Challenge**\r\n",
        "\r\n",
        "The challenge is a simulation of a digital platform whose business model is the purchase and sale of real estate.\r\n",
        "I'm taking the role of a data scientist hired to help find the best opportunities in the real estate market.\r\n",
        "\r\n",
        "My main strategy is to buy good houses with great locations and low price and then resell them later with higher prices. So my job as a data scientist is answer the following questions:\r\n",
        "\r\n",
        "Which houses should de CEO of House Rocket buy and a what purchase price?\r\n",
        "\r\n",
        "Once the house is owned by the company, what's the best moment to sell it and what would be the sale price?\r\n",
        "\r\n",
        "The House Rocket should do some renovation to increase the sale price? What would be the suggestions for changes? What is the increase in the price given for each renovation option?\r\n",
        "\r\n",
        "What's the ideal house's profile based on average price and frequency?"
      ]
    },
    {
      "cell_type": "markdown",
      "metadata": {
        "id": "afJOEJmMPg46"
      },
      "source": [
        "## **Importing libraries and dataframe**"
      ]
    },
    {
      "cell_type": "code",
      "metadata": {
        "id": "xHhAT6mMuMxz"
      },
      "source": [
        "import pandas as pd\r\n",
        "import numpy as np\r\n",
        "import matplotlib.pyplot as plt"
      ],
      "execution_count": 1,
      "outputs": []
    },
    {
      "cell_type": "code",
      "metadata": {
        "id": "yciNawO0uCuD",
        "colab": {
          "resources": {
            "http://localhost:8080/nbextensions/google.colab/files.js": {
              "data": "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",
              "ok": true,
              "headers": [
                [
                  "content-type",
                  "application/javascript"
                ]
              ],
              "status": 200,
              "status_text": ""
            }
          },
          "base_uri": "https://localhost:8080/",
          "height": 72
        },
        "outputId": "5337967e-5891-4c4e-eb0e-84eea2c230b4"
      },
      "source": [
        "from google.colab import files\r\n",
        "uploaded = files.upload()"
      ],
      "execution_count": 2,
      "outputs": [
        {
          "output_type": "display_data",
          "data": {
            "text/html": [
              "\n",
              "     <input type=\"file\" id=\"files-8563f077-b93e-4c9a-9f16-1dfe5ccfcfea\" name=\"files[]\" multiple disabled\n",
              "        style=\"border:none\" />\n",
              "     <output id=\"result-8563f077-b93e-4c9a-9f16-1dfe5ccfcfea\">\n",
              "      Upload widget is only available when the cell has been executed in the\n",
              "      current browser session. Please rerun this cell to enable.\n",
              "      </output>\n",
              "      <script src=\"/nbextensions/google.colab/files.js\"></script> "
            ],
            "text/plain": [
              "<IPython.core.display.HTML object>"
            ]
          },
          "metadata": {
            "tags": []
          }
        },
        {
          "output_type": "stream",
          "text": [
            "Saving kc_house_data.csv to kc_house_data.csv\n"
          ],
          "name": "stdout"
        }
      ]
    },
    {
      "cell_type": "code",
      "metadata": {
        "id": "sIOD0pY2q6fR"
      },
      "source": [
        "df = pd.read_csv(\"kc_house_data.csv\")"
      ],
      "execution_count": 3,
      "outputs": []
    },
    {
      "cell_type": "markdown",
      "metadata": {
        "id": "V38GhFrWOzTc"
      },
      "source": [
        "## **Sales throughout the year**"
      ]
    },
    {
      "cell_type": "markdown",
      "metadata": {
        "id": "Pw73i1xg2SFt"
      },
      "source": [
        "### **Date**"
      ]
    },
    {
      "cell_type": "code",
      "metadata": {
        "colab": {
          "base_uri": "https://localhost:8080/"
        },
        "id": "RgcJvmlu1x3P",
        "outputId": "21a78edb-7f4c-4d1a-a1ab-e482ea4e53e3"
      },
      "source": [
        "df.date.describe()"
      ],
      "execution_count": 4,
      "outputs": [
        {
          "output_type": "execute_result",
          "data": {
            "text/plain": [
              "count               21613\n",
              "unique                372\n",
              "top       20140623T000000\n",
              "freq                  142\n",
              "Name: date, dtype: object"
            ]
          },
          "metadata": {
            "tags": []
          },
          "execution_count": 4
        }
      ]
    },
    {
      "cell_type": "code",
      "metadata": {
        "colab": {
          "base_uri": "https://localhost:8080/"
        },
        "id": "r_3jD_mD336g",
        "outputId": "a91c9fd4-6ece-4e22-d4e1-df9df618a0bb"
      },
      "source": [
        "# Turning the column date into datetime by month\r\n",
        "df[\"date\"] = pd.to_datetime(df.date)\r\n",
        "df_month = df.date.dt.month\r\n",
        "\r\n",
        "# Checking the mean of price per month\r\n",
        "date_mean_price = []\r\n",
        "\r\n",
        "\r\n",
        "for n in range(1, 13):\r\n",
        "  date_mean = df.loc[df_month == n].price.mean()\r\n",
        "  date_mean_price.append(date_mean)\r\n",
        "  print(f\"The average price in month {n}: {date_mean:.2f}\")"
      ],
      "execution_count": 5,
      "outputs": [
        {
          "output_type": "stream",
          "text": [
            "The average price in month 1: 525870.89\n",
            "The average price in month 2: 507851.37\n",
            "The average price in month 3: 543977.19\n",
            "The average price in month 4: 561837.77\n",
            "The average price in month 5: 550768.79\n",
            "The average price in month 6: 558002.20\n",
            "The average price in month 7: 544788.76\n",
            "The average price in month 8: 536445.28\n",
            "The average price in month 9: 529253.82\n",
            "The average price in month 10: 539026.97\n",
            "The average price in month 11: 521961.01\n",
            "The average price in month 12: 524461.87\n"
          ],
          "name": "stdout"
        }
      ]
    },
    {
      "cell_type": "code",
      "metadata": {
        "colab": {
          "base_uri": "https://localhost:8080/"
        },
        "id": "E1LcHOx77UOi",
        "outputId": "3c2aaace-e003-44ec-d971-41fb13f02e3c"
      },
      "source": [
        "# Checking the maximum and minimum average price\r\n",
        "max(date_mean_price), min(date_mean_price)"
      ],
      "execution_count": 6,
      "outputs": [
        {
          "output_type": "execute_result",
          "data": {
            "text/plain": [
              "(561837.7749887942, 507851.3712)"
            ]
          },
          "metadata": {
            "tags": []
          },
          "execution_count": 6
        }
      ]
    },
    {
      "cell_type": "code",
      "metadata": {
        "colab": {
          "base_uri": "https://localhost:8080/"
        },
        "id": "knmVmL-19Uue",
        "outputId": "7e61676e-71e3-4360-df52-33744fe0a13c"
      },
      "source": [
        "# Checking the frequency of sales per month\r\n",
        "for n in range(1, 13):\r\n",
        "  date_frequency = df.loc[df_month == n].date.count()\r\n",
        "  print(f\"Frequency of sales in month {n}: {date_frequency}\")"
      ],
      "execution_count": 7,
      "outputs": [
        {
          "output_type": "stream",
          "text": [
            "Frequency of sales in month 1: 978\n",
            "Frequency of sales in month 2: 1250\n",
            "Frequency of sales in month 3: 1875\n",
            "Frequency of sales in month 4: 2231\n",
            "Frequency of sales in month 5: 2414\n",
            "Frequency of sales in month 6: 2180\n",
            "Frequency of sales in month 7: 2211\n",
            "Frequency of sales in month 8: 1940\n",
            "Frequency of sales in month 9: 1774\n",
            "Frequency of sales in month 10: 1878\n",
            "Frequency of sales in month 11: 1411\n",
            "Frequency of sales in month 12: 1471\n"
          ],
          "name": "stdout"
        }
      ]
    },
    {
      "cell_type": "markdown",
      "metadata": {
        "id": "iDLQet0O8aKX"
      },
      "source": [
        "The cheapest month to buy a home is **February**, while the most expensive month to buy is **April** and in addition, it has a high frequency of sales. Despite this, **there isn't a very significant change** in the purchase and sale value over the months."
      ]
    },
    {
      "cell_type": "markdown",
      "metadata": {
        "id": "XGMa5uMb__jJ"
      },
      "source": [
        "## **Creating our ideal house's profile.**"
      ]
    },
    {
      "cell_type": "markdown",
      "metadata": {
        "id": "39f8xlilO5Wc"
      },
      "source": [
        "### **Checking correlation between price and the others attributes**"
      ]
    },
    {
      "cell_type": "code",
      "metadata": {
        "colab": {
          "base_uri": "https://localhost:8080/",
          "height": 317
        },
        "id": "mDdlpGPmEhFK",
        "outputId": "83e4ea21-cf0f-497d-ab9e-af00c5c03d8b"
      },
      "source": [
        "df.describe()"
      ],
      "execution_count": null,
      "outputs": [
        {
          "output_type": "execute_result",
          "data": {
            "text/html": [
              "<div>\n",
              "<style scoped>\n",
              "    .dataframe tbody tr th:only-of-type {\n",
              "        vertical-align: middle;\n",
              "    }\n",
              "\n",
              "    .dataframe tbody tr th {\n",
              "        vertical-align: top;\n",
              "    }\n",
              "\n",
              "    .dataframe thead th {\n",
              "        text-align: right;\n",
              "    }\n",
              "</style>\n",
              "<table border=\"1\" class=\"dataframe\">\n",
              "  <thead>\n",
              "    <tr style=\"text-align: right;\">\n",
              "      <th></th>\n",
              "      <th>id</th>\n",
              "      <th>price</th>\n",
              "      <th>bedrooms</th>\n",
              "      <th>bathrooms</th>\n",
              "      <th>sqft_living</th>\n",
              "      <th>sqft_lot</th>\n",
              "      <th>floors</th>\n",
              "      <th>waterfront</th>\n",
              "      <th>view</th>\n",
              "      <th>condition</th>\n",
              "      <th>grade</th>\n",
              "      <th>sqft_above</th>\n",
              "      <th>sqft_basement</th>\n",
              "      <th>yr_built</th>\n",
              "      <th>yr_renovated</th>\n",
              "      <th>zipcode</th>\n",
              "      <th>lat</th>\n",
              "      <th>long</th>\n",
              "      <th>sqft_living15</th>\n",
              "      <th>sqft_lot15</th>\n",
              "    </tr>\n",
              "  </thead>\n",
              "  <tbody>\n",
              "    <tr>\n",
              "      <th>count</th>\n",
              "      <td>2.161300e+04</td>\n",
              "      <td>2.161300e+04</td>\n",
              "      <td>21613.000000</td>\n",
              "      <td>21613.000000</td>\n",
              "      <td>21613.000000</td>\n",
              "      <td>2.161300e+04</td>\n",
              "      <td>21613.000000</td>\n",
              "      <td>21613.000000</td>\n",
              "      <td>21613.000000</td>\n",
              "      <td>21613.000000</td>\n",
              "      <td>21613.000000</td>\n",
              "      <td>21613.000000</td>\n",
              "      <td>21613.000000</td>\n",
              "      <td>21613.000000</td>\n",
              "      <td>21613.000000</td>\n",
              "      <td>21613.000000</td>\n",
              "      <td>21613.000000</td>\n",
              "      <td>21613.000000</td>\n",
              "      <td>21613.000000</td>\n",
              "      <td>21613.000000</td>\n",
              "    </tr>\n",
              "    <tr>\n",
              "      <th>mean</th>\n",
              "      <td>4.580302e+09</td>\n",
              "      <td>5.400881e+05</td>\n",
              "      <td>3.370842</td>\n",
              "      <td>2.114757</td>\n",
              "      <td>2079.899736</td>\n",
              "      <td>1.510697e+04</td>\n",
              "      <td>1.494309</td>\n",
              "      <td>0.007542</td>\n",
              "      <td>0.234303</td>\n",
              "      <td>3.409430</td>\n",
              "      <td>7.656873</td>\n",
              "      <td>1788.390691</td>\n",
              "      <td>291.509045</td>\n",
              "      <td>1971.005136</td>\n",
              "      <td>84.402258</td>\n",
              "      <td>98077.939805</td>\n",
              "      <td>47.560053</td>\n",
              "      <td>-122.213896</td>\n",
              "      <td>1986.552492</td>\n",
              "      <td>12768.455652</td>\n",
              "    </tr>\n",
              "    <tr>\n",
              "      <th>std</th>\n",
              "      <td>2.876566e+09</td>\n",
              "      <td>3.671272e+05</td>\n",
              "      <td>0.930062</td>\n",
              "      <td>0.770163</td>\n",
              "      <td>918.440897</td>\n",
              "      <td>4.142051e+04</td>\n",
              "      <td>0.539989</td>\n",
              "      <td>0.086517</td>\n",
              "      <td>0.766318</td>\n",
              "      <td>0.650743</td>\n",
              "      <td>1.175459</td>\n",
              "      <td>828.090978</td>\n",
              "      <td>442.575043</td>\n",
              "      <td>29.373411</td>\n",
              "      <td>401.679240</td>\n",
              "      <td>53.505026</td>\n",
              "      <td>0.138564</td>\n",
              "      <td>0.140828</td>\n",
              "      <td>685.391304</td>\n",
              "      <td>27304.179631</td>\n",
              "    </tr>\n",
              "    <tr>\n",
              "      <th>min</th>\n",
              "      <td>1.000102e+06</td>\n",
              "      <td>7.500000e+04</td>\n",
              "      <td>0.000000</td>\n",
              "      <td>0.000000</td>\n",
              "      <td>290.000000</td>\n",
              "      <td>5.200000e+02</td>\n",
              "      <td>1.000000</td>\n",
              "      <td>0.000000</td>\n",
              "      <td>0.000000</td>\n",
              "      <td>1.000000</td>\n",
              "      <td>1.000000</td>\n",
              "      <td>290.000000</td>\n",
              "      <td>0.000000</td>\n",
              "      <td>1900.000000</td>\n",
              "      <td>0.000000</td>\n",
              "      <td>98001.000000</td>\n",
              "      <td>47.155900</td>\n",
              "      <td>-122.519000</td>\n",
              "      <td>399.000000</td>\n",
              "      <td>651.000000</td>\n",
              "    </tr>\n",
              "    <tr>\n",
              "      <th>25%</th>\n",
              "      <td>2.123049e+09</td>\n",
              "      <td>3.219500e+05</td>\n",
              "      <td>3.000000</td>\n",
              "      <td>1.750000</td>\n",
              "      <td>1427.000000</td>\n",
              "      <td>5.040000e+03</td>\n",
              "      <td>1.000000</td>\n",
              "      <td>0.000000</td>\n",
              "      <td>0.000000</td>\n",
              "      <td>3.000000</td>\n",
              "      <td>7.000000</td>\n",
              "      <td>1190.000000</td>\n",
              "      <td>0.000000</td>\n",
              "      <td>1951.000000</td>\n",
              "      <td>0.000000</td>\n",
              "      <td>98033.000000</td>\n",
              "      <td>47.471000</td>\n",
              "      <td>-122.328000</td>\n",
              "      <td>1490.000000</td>\n",
              "      <td>5100.000000</td>\n",
              "    </tr>\n",
              "    <tr>\n",
              "      <th>50%</th>\n",
              "      <td>3.904930e+09</td>\n",
              "      <td>4.500000e+05</td>\n",
              "      <td>3.000000</td>\n",
              "      <td>2.250000</td>\n",
              "      <td>1910.000000</td>\n",
              "      <td>7.618000e+03</td>\n",
              "      <td>1.500000</td>\n",
              "      <td>0.000000</td>\n",
              "      <td>0.000000</td>\n",
              "      <td>3.000000</td>\n",
              "      <td>7.000000</td>\n",
              "      <td>1560.000000</td>\n",
              "      <td>0.000000</td>\n",
              "      <td>1975.000000</td>\n",
              "      <td>0.000000</td>\n",
              "      <td>98065.000000</td>\n",
              "      <td>47.571800</td>\n",
              "      <td>-122.230000</td>\n",
              "      <td>1840.000000</td>\n",
              "      <td>7620.000000</td>\n",
              "    </tr>\n",
              "    <tr>\n",
              "      <th>75%</th>\n",
              "      <td>7.308900e+09</td>\n",
              "      <td>6.450000e+05</td>\n",
              "      <td>4.000000</td>\n",
              "      <td>2.500000</td>\n",
              "      <td>2550.000000</td>\n",
              "      <td>1.068800e+04</td>\n",
              "      <td>2.000000</td>\n",
              "      <td>0.000000</td>\n",
              "      <td>0.000000</td>\n",
              "      <td>4.000000</td>\n",
              "      <td>8.000000</td>\n",
              "      <td>2210.000000</td>\n",
              "      <td>560.000000</td>\n",
              "      <td>1997.000000</td>\n",
              "      <td>0.000000</td>\n",
              "      <td>98118.000000</td>\n",
              "      <td>47.678000</td>\n",
              "      <td>-122.125000</td>\n",
              "      <td>2360.000000</td>\n",
              "      <td>10083.000000</td>\n",
              "    </tr>\n",
              "    <tr>\n",
              "      <th>max</th>\n",
              "      <td>9.900000e+09</td>\n",
              "      <td>7.700000e+06</td>\n",
              "      <td>33.000000</td>\n",
              "      <td>8.000000</td>\n",
              "      <td>13540.000000</td>\n",
              "      <td>1.651359e+06</td>\n",
              "      <td>3.500000</td>\n",
              "      <td>1.000000</td>\n",
              "      <td>4.000000</td>\n",
              "      <td>5.000000</td>\n",
              "      <td>13.000000</td>\n",
              "      <td>9410.000000</td>\n",
              "      <td>4820.000000</td>\n",
              "      <td>2015.000000</td>\n",
              "      <td>2015.000000</td>\n",
              "      <td>98199.000000</td>\n",
              "      <td>47.777600</td>\n",
              "      <td>-121.315000</td>\n",
              "      <td>6210.000000</td>\n",
              "      <td>871200.000000</td>\n",
              "    </tr>\n",
              "  </tbody>\n",
              "</table>\n",
              "</div>"
            ],
            "text/plain": [
              "                 id         price  ...  sqft_living15     sqft_lot15\n",
              "count  2.161300e+04  2.161300e+04  ...   21613.000000   21613.000000\n",
              "mean   4.580302e+09  5.400881e+05  ...    1986.552492   12768.455652\n",
              "std    2.876566e+09  3.671272e+05  ...     685.391304   27304.179631\n",
              "min    1.000102e+06  7.500000e+04  ...     399.000000     651.000000\n",
              "25%    2.123049e+09  3.219500e+05  ...    1490.000000    5100.000000\n",
              "50%    3.904930e+09  4.500000e+05  ...    1840.000000    7620.000000\n",
              "75%    7.308900e+09  6.450000e+05  ...    2360.000000   10083.000000\n",
              "max    9.900000e+09  7.700000e+06  ...    6210.000000  871200.000000\n",
              "\n",
              "[8 rows x 20 columns]"
            ]
          },
          "metadata": {
            "tags": []
          },
          "execution_count": 119
        }
      ]
    },
    {
      "cell_type": "code",
      "metadata": {
        "id": "5GtcviIfr-C_",
        "colab": {
          "base_uri": "https://localhost:8080/",
          "height": 480
        },
        "outputId": "72a268b9-5d49-44b2-f1da-d8e644b86a62"
      },
      "source": [
        "corr = df.corr()\r\n",
        "corr.style.background_gradient(cmap=\"coolwarm\")\r\n"
      ],
      "execution_count": null,
      "outputs": [
        {
          "output_type": "execute_result",
          "data": {
            "text/html": [
              "<style  type=\"text/css\" >\n",
              "#T_f730aa3e_754b_11eb_a85c_0242ac1c0002row0_col0,#T_f730aa3e_754b_11eb_a85c_0242ac1c0002row1_col1,#T_f730aa3e_754b_11eb_a85c_0242ac1c0002row2_col2,#T_f730aa3e_754b_11eb_a85c_0242ac1c0002row3_col3,#T_f730aa3e_754b_11eb_a85c_0242ac1c0002row4_col4,#T_f730aa3e_754b_11eb_a85c_0242ac1c0002row5_col5,#T_f730aa3e_754b_11eb_a85c_0242ac1c0002row6_col6,#T_f730aa3e_754b_11eb_a85c_0242ac1c0002row7_col7,#T_f730aa3e_754b_11eb_a85c_0242ac1c0002row8_col8,#T_f730aa3e_754b_11eb_a85c_0242ac1c0002row9_col9,#T_f730aa3e_754b_11eb_a85c_0242ac1c0002row10_col10,#T_f730aa3e_754b_11eb_a85c_0242ac1c0002row11_col11,#T_f730aa3e_754b_11eb_a85c_0242ac1c0002row12_col12,#T_f730aa3e_754b_11eb_a85c_0242ac1c0002row13_col13,#T_f730aa3e_754b_11eb_a85c_0242ac1c0002row14_col14,#T_f730aa3e_754b_11eb_a85c_0242ac1c0002row15_col15,#T_f730aa3e_754b_11eb_a85c_0242ac1c0002row16_col16,#T_f730aa3e_754b_11eb_a85c_0242ac1c0002row17_col17,#T_f730aa3e_754b_11eb_a85c_0242ac1c0002row18_col18,#T_f730aa3e_754b_11eb_a85c_0242ac1c0002row19_col19{\n",
              "            background-color:  #b40426;\n",
              "            color:  #f1f1f1;\n",
              "        }#T_f730aa3e_754b_11eb_a85c_0242ac1c0002row0_col1,#T_f730aa3e_754b_11eb_a85c_0242ac1c0002row2_col7,#T_f730aa3e_754b_11eb_a85c_0242ac1c0002row9_col10{\n",
              "            background-color:  #445acc;\n",
              "            color:  #f1f1f1;\n",
              "        }#T_f730aa3e_754b_11eb_a85c_0242ac1c0002row0_col2,#T_f730aa3e_754b_11eb_a85c_0242ac1c0002row5_col1,#T_f730aa3e_754b_11eb_a85c_0242ac1c0002row7_col5,#T_f730aa3e_754b_11eb_a85c_0242ac1c0002row8_col16,#T_f730aa3e_754b_11eb_a85c_0242ac1c0002row9_col14,#T_f730aa3e_754b_11eb_a85c_0242ac1c0002row14_col19{\n",
              "            background-color:  #6485ec;\n",
              "            color:  #000000;\n",
              "        }#T_f730aa3e_754b_11eb_a85c_0242ac1c0002row0_col3,#T_f730aa3e_754b_11eb_a85c_0242ac1c0002row3_col9,#T_f730aa3e_754b_11eb_a85c_0242ac1c0002row4_col16,#T_f730aa3e_754b_11eb_a85c_0242ac1c0002row6_col16{\n",
              "            background-color:  #7295f4;\n",
              "            color:  #000000;\n",
              "        }#T_f730aa3e_754b_11eb_a85c_0242ac1c0002row0_col4,#T_f730aa3e_754b_11eb_a85c_0242ac1c0002row2_col19,#T_f730aa3e_754b_11eb_a85c_0242ac1c0002row7_col19,#T_f730aa3e_754b_11eb_a85c_0242ac1c0002row11_col12,#T_f730aa3e_754b_11eb_a85c_0242ac1c0002row14_col16{\n",
              "            background-color:  #6b8df0;\n",
              "            color:  #000000;\n",
              "        }#T_f730aa3e_754b_11eb_a85c_0242ac1c0002row0_col5,#T_f730aa3e_754b_11eb_a85c_0242ac1c0002row6_col12,#T_f730aa3e_754b_11eb_a85c_0242ac1c0002row9_col6,#T_f730aa3e_754b_11eb_a85c_0242ac1c0002row9_col13,#T_f730aa3e_754b_11eb_a85c_0242ac1c0002row13_col9,#T_f730aa3e_754b_11eb_a85c_0242ac1c0002row13_col14,#T_f730aa3e_754b_11eb_a85c_0242ac1c0002row13_col16,#T_f730aa3e_754b_11eb_a85c_0242ac1c0002row15_col1,#T_f730aa3e_754b_11eb_a85c_0242ac1c0002row15_col2,#T_f730aa3e_754b_11eb_a85c_0242ac1c0002row15_col3,#T_f730aa3e_754b_11eb_a85c_0242ac1c0002row15_col4,#T_f730aa3e_754b_11eb_a85c_0242ac1c0002row15_col5,#T_f730aa3e_754b_11eb_a85c_0242ac1c0002row15_col10,#T_f730aa3e_754b_11eb_a85c_0242ac1c0002row15_col11,#T_f730aa3e_754b_11eb_a85c_0242ac1c0002row15_col17,#T_f730aa3e_754b_11eb_a85c_0242ac1c0002row15_col18,#T_f730aa3e_754b_11eb_a85c_0242ac1c0002row15_col19,#T_f730aa3e_754b_11eb_a85c_0242ac1c0002row17_col7,#T_f730aa3e_754b_11eb_a85c_0242ac1c0002row17_col8,#T_f730aa3e_754b_11eb_a85c_0242ac1c0002row17_col15,#T_f730aa3e_754b_11eb_a85c_0242ac1c0002row19_col0{\n",
              "            background-color:  #3b4cc0;\n",
              "            color:  #f1f1f1;\n",
              "        }#T_f730aa3e_754b_11eb_a85c_0242ac1c0002row0_col6,#T_f730aa3e_754b_11eb_a85c_0242ac1c0002row3_col14,#T_f730aa3e_754b_11eb_a85c_0242ac1c0002row7_col10,#T_f730aa3e_754b_11eb_a85c_0242ac1c0002row8_col13,#T_f730aa3e_754b_11eb_a85c_0242ac1c0002row12_col16,#T_f730aa3e_754b_11eb_a85c_0242ac1c0002row14_col11{\n",
              "            background-color:  #84a7fc;\n",
              "            color:  #000000;\n",
              "        }#T_f730aa3e_754b_11eb_a85c_0242ac1c0002row0_col7{\n",
              "            background-color:  #455cce;\n",
              "            color:  #f1f1f1;\n",
              "        }#T_f730aa3e_754b_11eb_a85c_0242ac1c0002row0_col8,#T_f730aa3e_754b_11eb_a85c_0242ac1c0002row9_col1{\n",
              "            background-color:  #5470de;\n",
              "            color:  #000000;\n",
              "        }#T_f730aa3e_754b_11eb_a85c_0242ac1c0002row0_col9,#T_f730aa3e_754b_11eb_a85c_0242ac1c0002row3_col8,#T_f730aa3e_754b_11eb_a85c_0242ac1c0002row7_col13,#T_f730aa3e_754b_11eb_a85c_0242ac1c0002row16_col6{\n",
              "            background-color:  #8caffe;\n",
              "            color:  #000000;\n",
              "        }#T_f730aa3e_754b_11eb_a85c_0242ac1c0002row0_col10,#T_f730aa3e_754b_11eb_a85c_0242ac1c0002row13_col5,#T_f730aa3e_754b_11eb_a85c_0242ac1c0002row15_col6{\n",
              "            background-color:  #6e90f2;\n",
              "            color:  #000000;\n",
              "        }#T_f730aa3e_754b_11eb_a85c_0242ac1c0002row0_col11,#T_f730aa3e_754b_11eb_a85c_0242ac1c0002row1_col5,#T_f730aa3e_754b_11eb_a85c_0242ac1c0002row2_col14,#T_f730aa3e_754b_11eb_a85c_0242ac1c0002row10_col14,#T_f730aa3e_754b_11eb_a85c_0242ac1c0002row18_col9{\n",
              "            background-color:  #7a9df8;\n",
              "            color:  #000000;\n",
              "        }#T_f730aa3e_754b_11eb_a85c_0242ac1c0002row0_col12,#T_f730aa3e_754b_11eb_a85c_0242ac1c0002row3_col5,#T_f730aa3e_754b_11eb_a85c_0242ac1c0002row8_col19,#T_f730aa3e_754b_11eb_a85c_0242ac1c0002row11_col15{\n",
              "            background-color:  #799cf8;\n",
              "            color:  #000000;\n",
              "        }#T_f730aa3e_754b_11eb_a85c_0242ac1c0002row0_col13,#T_f730aa3e_754b_11eb_a85c_0242ac1c0002row5_col15,#T_f730aa3e_754b_11eb_a85c_0242ac1c0002row7_col9,#T_f730aa3e_754b_11eb_a85c_0242ac1c0002row11_col5{\n",
              "            background-color:  #97b8ff;\n",
              "            color:  #000000;\n",
              "        }#T_f730aa3e_754b_11eb_a85c_0242ac1c0002row0_col14,#T_f730aa3e_754b_11eb_a85c_0242ac1c0002row14_col1,#T_f730aa3e_754b_11eb_a85c_0242ac1c0002row14_col8,#T_f730aa3e_754b_11eb_a85c_0242ac1c0002row14_col10,#T_f730aa3e_754b_11eb_a85c_0242ac1c0002row18_col16{\n",
              "            background-color:  #7093f3;\n",
              "            color:  #000000;\n",
              "        }#T_f730aa3e_754b_11eb_a85c_0242ac1c0002row0_col15,#T_f730aa3e_754b_11eb_a85c_0242ac1c0002row5_col11,#T_f730aa3e_754b_11eb_a85c_0242ac1c0002row17_col3{\n",
              "            background-color:  #b1cbfc;\n",
              "            color:  #000000;\n",
              "        }#T_f730aa3e_754b_11eb_a85c_0242ac1c0002row0_col16,#T_f730aa3e_754b_11eb_a85c_0242ac1c0002row3_col0,#T_f730aa3e_754b_11eb_a85c_0242ac1c0002row7_col2,#T_f730aa3e_754b_11eb_a85c_0242ac1c0002row9_col19,#T_f730aa3e_754b_11eb_a85c_0242ac1c0002row11_col16,#T_f730aa3e_754b_11eb_a85c_0242ac1c0002row17_col14,#T_f730aa3e_754b_11eb_a85c_0242ac1c0002row19_col1{\n",
              "            background-color:  #6282ea;\n",
              "            color:  #000000;\n",
              "        }#T_f730aa3e_754b_11eb_a85c_0242ac1c0002row0_col17,#T_f730aa3e_754b_11eb_a85c_0242ac1c0002row1_col17,#T_f730aa3e_754b_11eb_a85c_0242ac1c0002row12_col18{\n",
              "            background-color:  #b7cff9;\n",
              "            color:  #000000;\n",
              "        }#T_f730aa3e_754b_11eb_a85c_0242ac1c0002row0_col18,#T_f730aa3e_754b_11eb_a85c_0242ac1c0002row10_col5,#T_f730aa3e_754b_11eb_a85c_0242ac1c0002row14_col18{\n",
              "            background-color:  #81a4fb;\n",
              "            color:  #000000;\n",
              "        }#T_f730aa3e_754b_11eb_a85c_0242ac1c0002row0_col19,#T_f730aa3e_754b_11eb_a85c_0242ac1c0002row5_col0{\n",
              "            background-color:  #3c4ec2;\n",
              "            color:  #f1f1f1;\n",
              "        }#T_f730aa3e_754b_11eb_a85c_0242ac1c0002row1_col0,#T_f730aa3e_754b_11eb_a85c_0242ac1c0002row9_col5,#T_f730aa3e_754b_11eb_a85c_0242ac1c0002row14_col0{\n",
              "            background-color:  #5b7ae5;\n",
              "            color:  #000000;\n",
              "        }#T_f730aa3e_754b_11eb_a85c_0242ac1c0002row1_col2,#T_f730aa3e_754b_11eb_a85c_0242ac1c0002row14_col15{\n",
              "            background-color:  #c0d4f5;\n",
              "            color:  #000000;\n",
              "        }#T_f730aa3e_754b_11eb_a85c_0242ac1c0002row1_col3,#T_f730aa3e_754b_11eb_a85c_0242ac1c0002row18_col1{\n",
              "            background-color:  #f2c9b4;\n",
              "            color:  #000000;\n",
              "        }#T_f730aa3e_754b_11eb_a85c_0242ac1c0002row1_col4,#T_f730aa3e_754b_11eb_a85c_0242ac1c0002row3_col11,#T_f730aa3e_754b_11eb_a85c_0242ac1c0002row19_col5{\n",
              "            background-color:  #f4987a;\n",
              "            color:  #000000;\n",
              "        }#T_f730aa3e_754b_11eb_a85c_0242ac1c0002row1_col6{\n",
              "            background-color:  #c4d5f3;\n",
              "            color:  #000000;\n",
              "        }#T_f730aa3e_754b_11eb_a85c_0242ac1c0002row1_col7,#T_f730aa3e_754b_11eb_a85c_0242ac1c0002row6_col1{\n",
              "            background-color:  #9dbdff;\n",
              "            color:  #000000;\n",
              "        }#T_f730aa3e_754b_11eb_a85c_0242ac1c0002row1_col8,#T_f730aa3e_754b_11eb_a85c_0242ac1c0002row2_col12,#T_f730aa3e_754b_11eb_a85c_0242ac1c0002row6_col17{\n",
              "            background-color:  #ccd9ed;\n",
              "            color:  #000000;\n",
              "        }#T_f730aa3e_754b_11eb_a85c_0242ac1c0002row1_col9,#T_f730aa3e_754b_11eb_a85c_0242ac1c0002row9_col17{\n",
              "            background-color:  #9bbcff;\n",
              "            color:  #000000;\n",
              "        }#T_f730aa3e_754b_11eb_a85c_0242ac1c0002row1_col10,#T_f730aa3e_754b_11eb_a85c_0242ac1c0002row10_col3{\n",
              "            background-color:  #f6a586;\n",
              "            color:  #000000;\n",
              "        }#T_f730aa3e_754b_11eb_a85c_0242ac1c0002row1_col11,#T_f730aa3e_754b_11eb_a85c_0242ac1c0002row10_col1{\n",
              "            background-color:  #f7b194;\n",
              "            color:  #000000;\n",
              "        }#T_f730aa3e_754b_11eb_a85c_0242ac1c0002row1_col12,#T_f730aa3e_754b_11eb_a85c_0242ac1c0002row2_col10{\n",
              "            background-color:  #d2dbe8;\n",
              "            color:  #000000;\n",
              "        }#T_f730aa3e_754b_11eb_a85c_0242ac1c0002row1_col13,#T_f730aa3e_754b_11eb_a85c_0242ac1c0002row10_col8,#T_f730aa3e_754b_11eb_a85c_0242ac1c0002row17_col6{\n",
              "            background-color:  #a1c0ff;\n",
              "            color:  #000000;\n",
              "        }#T_f730aa3e_754b_11eb_a85c_0242ac1c0002row1_col14,#T_f730aa3e_754b_11eb_a85c_0242ac1c0002row2_col9,#T_f730aa3e_754b_11eb_a85c_0242ac1c0002row4_col19,#T_f730aa3e_754b_11eb_a85c_0242ac1c0002row7_col18,#T_f730aa3e_754b_11eb_a85c_0242ac1c0002row16_col12,#T_f730aa3e_754b_11eb_a85c_0242ac1c0002row18_col19{\n",
              "            background-color:  #9abbff;\n",
              "            color:  #000000;\n",
              "        }#T_f730aa3e_754b_11eb_a85c_0242ac1c0002row1_col15,#T_f730aa3e_754b_11eb_a85c_0242ac1c0002row8_col3{\n",
              "            background-color:  #a7c5fe;\n",
              "            color:  #000000;\n",
              "        }#T_f730aa3e_754b_11eb_a85c_0242ac1c0002row1_col16,#T_f730aa3e_754b_11eb_a85c_0242ac1c0002row12_col2{\n",
              "            background-color:  #bfd3f6;\n",
              "            color:  #000000;\n",
              "        }#T_f730aa3e_754b_11eb_a85c_0242ac1c0002row1_col18{\n",
              "            background-color:  #f7b497;\n",
              "            color:  #000000;\n",
              "        }#T_f730aa3e_754b_11eb_a85c_0242ac1c0002row1_col19,#T_f730aa3e_754b_11eb_a85c_0242ac1c0002row8_col2,#T_f730aa3e_754b_11eb_a85c_0242ac1c0002row11_col14,#T_f730aa3e_754b_11eb_a85c_0242ac1c0002row19_col6{\n",
              "            background-color:  #7b9ff9;\n",
              "            color:  #000000;\n",
              "        }#T_f730aa3e_754b_11eb_a85c_0242ac1c0002row2_col0,#T_f730aa3e_754b_11eb_a85c_0242ac1c0002row2_col16,#T_f730aa3e_754b_11eb_a85c_0242ac1c0002row14_col5,#T_f730aa3e_754b_11eb_a85c_0242ac1c0002row16_col2,#T_f730aa3e_754b_11eb_a85c_0242ac1c0002row18_col7{\n",
              "            background-color:  #6180e9;\n",
              "            color:  #000000;\n",
              "        }#T_f730aa3e_754b_11eb_a85c_0242ac1c0002row2_col1,#T_f730aa3e_754b_11eb_a85c_0242ac1c0002row8_col11,#T_f730aa3e_754b_11eb_a85c_0242ac1c0002row16_col1{\n",
              "            background-color:  #adc9fd;\n",
              "            color:  #000000;\n",
              "        }#T_f730aa3e_754b_11eb_a85c_0242ac1c0002row2_col3{\n",
              "            background-color:  #f2cbb7;\n",
              "            color:  #000000;\n",
              "        }#T_f730aa3e_754b_11eb_a85c_0242ac1c0002row2_col4{\n",
              "            background-color:  #f6bea4;\n",
              "            color:  #000000;\n",
              "        }#T_f730aa3e_754b_11eb_a85c_0242ac1c0002row2_col5,#T_f730aa3e_754b_11eb_a85c_0242ac1c0002row2_col8,#T_f730aa3e_754b_11eb_a85c_0242ac1c0002row9_col18{\n",
              "            background-color:  #688aef;\n",
              "            color:  #000000;\n",
              "        }#T_f730aa3e_754b_11eb_a85c_0242ac1c0002row2_col6{\n",
              "            background-color:  #aec9fc;\n",
              "            color:  #000000;\n",
              "        }#T_f730aa3e_754b_11eb_a85c_0242ac1c0002row2_col11,#T_f730aa3e_754b_11eb_a85c_0242ac1c0002row6_col3{\n",
              "            background-color:  #efcebd;\n",
              "            color:  #000000;\n",
              "        }#T_f730aa3e_754b_11eb_a85c_0242ac1c0002row2_col13{\n",
              "            background-color:  #b9d0f9;\n",
              "            color:  #000000;\n",
              "        }#T_f730aa3e_754b_11eb_a85c_0242ac1c0002row2_col15,#T_f730aa3e_754b_11eb_a85c_0242ac1c0002row7_col11,#T_f730aa3e_754b_11eb_a85c_0242ac1c0002row7_col12,#T_f730aa3e_754b_11eb_a85c_0242ac1c0002row19_col9{\n",
              "            background-color:  #92b4fe;\n",
              "            color:  #000000;\n",
              "        }#T_f730aa3e_754b_11eb_a85c_0242ac1c0002row2_col17,#T_f730aa3e_754b_11eb_a85c_0242ac1c0002row10_col2{\n",
              "            background-color:  #cdd9ec;\n",
              "            color:  #000000;\n",
              "        }#T_f730aa3e_754b_11eb_a85c_0242ac1c0002row2_col18{\n",
              "            background-color:  #e3d9d3;\n",
              "            color:  #000000;\n",
              "        }#T_f730aa3e_754b_11eb_a85c_0242ac1c0002row3_col1{\n",
              "            background-color:  #e9d5cb;\n",
              "            color:  #000000;\n",
              "        }#T_f730aa3e_754b_11eb_a85c_0242ac1c0002row3_col2,#T_f730aa3e_754b_11eb_a85c_0242ac1c0002row11_col17{\n",
              "            background-color:  #efcfbf;\n",
              "            color:  #000000;\n",
              "        }#T_f730aa3e_754b_11eb_a85c_0242ac1c0002row3_col4,#T_f730aa3e_754b_11eb_a85c_0242ac1c0002row4_col3,#T_f730aa3e_754b_11eb_a85c_0242ac1c0002row11_col10{\n",
              "            background-color:  #ee8669;\n",
              "            color:  #000000;\n",
              "        }#T_f730aa3e_754b_11eb_a85c_0242ac1c0002row3_col6{\n",
              "            background-color:  #f2cab5;\n",
              "            color:  #000000;\n",
              "        }#T_f730aa3e_754b_11eb_a85c_0242ac1c0002row3_col7,#T_f730aa3e_754b_11eb_a85c_0242ac1c0002row6_col8,#T_f730aa3e_754b_11eb_a85c_0242ac1c0002row9_col0,#T_f730aa3e_754b_11eb_a85c_0242ac1c0002row14_col13{\n",
              "            background-color:  #5977e3;\n",
              "            color:  #000000;\n",
              "        }#T_f730aa3e_754b_11eb_a85c_0242ac1c0002row3_col10,#T_f730aa3e_754b_11eb_a85c_0242ac1c0002row4_col1{\n",
              "            background-color:  #f7a688;\n",
              "            color:  #000000;\n",
              "        }#T_f730aa3e_754b_11eb_a85c_0242ac1c0002row3_col12{\n",
              "            background-color:  #c7d7f0;\n",
              "            color:  #000000;\n",
              "        }#T_f730aa3e_754b_11eb_a85c_0242ac1c0002row3_col13{\n",
              "            background-color:  #f5c0a7;\n",
              "            color:  #000000;\n",
              "        }#T_f730aa3e_754b_11eb_a85c_0242ac1c0002row3_col15,#T_f730aa3e_754b_11eb_a85c_0242ac1c0002row4_col14,#T_f730aa3e_754b_11eb_a85c_0242ac1c0002row7_col6,#T_f730aa3e_754b_11eb_a85c_0242ac1c0002row10_col16,#T_f730aa3e_754b_11eb_a85c_0242ac1c0002row11_col8{\n",
              "            background-color:  #85a8fc;\n",
              "            color:  #000000;\n",
              "        }#T_f730aa3e_754b_11eb_a85c_0242ac1c0002row3_col16,#T_f730aa3e_754b_11eb_a85c_0242ac1c0002row11_col9,#T_f730aa3e_754b_11eb_a85c_0242ac1c0002row14_col2,#T_f730aa3e_754b_11eb_a85c_0242ac1c0002row15_col8{\n",
              "            background-color:  #6a8bef;\n",
              "            color:  #000000;\n",
              "        }#T_f730aa3e_754b_11eb_a85c_0242ac1c0002row3_col17{\n",
              "            background-color:  #dddcdc;\n",
              "            color:  #000000;\n",
              "        }#T_f730aa3e_754b_11eb_a85c_0242ac1c0002row3_col18{\n",
              "            background-color:  #f7b99e;\n",
              "            color:  #000000;\n",
              "        }#T_f730aa3e_754b_11eb_a85c_0242ac1c0002row3_col19,#T_f730aa3e_754b_11eb_a85c_0242ac1c0002row5_col6,#T_f730aa3e_754b_11eb_a85c_0242ac1c0002row16_col11{\n",
              "            background-color:  #7da0f9;\n",
              "            color:  #000000;\n",
              "        }#T_f730aa3e_754b_11eb_a85c_0242ac1c0002row4_col0,#T_f730aa3e_754b_11eb_a85c_0242ac1c0002row6_col5,#T_f730aa3e_754b_11eb_a85c_0242ac1c0002row11_col0,#T_f730aa3e_754b_11eb_a85c_0242ac1c0002row11_col7{\n",
              "            background-color:  #5d7ce6;\n",
              "            color:  #000000;\n",
              "        }#T_f730aa3e_754b_11eb_a85c_0242ac1c0002row4_col2{\n",
              "            background-color:  #f5c2aa;\n",
              "            color:  #000000;\n",
              "        }#T_f730aa3e_754b_11eb_a85c_0242ac1c0002row4_col5,#T_f730aa3e_754b_11eb_a85c_0242ac1c0002row8_col14,#T_f730aa3e_754b_11eb_a85c_0242ac1c0002row12_col17,#T_f730aa3e_754b_11eb_a85c_0242ac1c0002row13_col2,#T_f730aa3e_754b_11eb_a85c_0242ac1c0002row15_col9,#T_f730aa3e_754b_11eb_a85c_0242ac1c0002row19_col15{\n",
              "            background-color:  #93b5fe;\n",
              "            color:  #000000;\n",
              "        }#T_f730aa3e_754b_11eb_a85c_0242ac1c0002row4_col6{\n",
              "            background-color:  #dadce0;\n",
              "            color:  #000000;\n",
              "        }#T_f730aa3e_754b_11eb_a85c_0242ac1c0002row4_col7,#T_f730aa3e_754b_11eb_a85c_0242ac1c0002row6_col0,#T_f730aa3e_754b_11eb_a85c_0242ac1c0002row13_col15,#T_f730aa3e_754b_11eb_a85c_0242ac1c0002row17_col0,#T_f730aa3e_754b_11eb_a85c_0242ac1c0002row19_col8{\n",
              "            background-color:  #6687ed;\n",
              "            color:  #000000;\n",
              "        }#T_f730aa3e_754b_11eb_a85c_0242ac1c0002row4_col8,#T_f730aa3e_754b_11eb_a85c_0242ac1c0002row9_col12{\n",
              "            background-color:  #abc8fd;\n",
              "            color:  #000000;\n",
              "        }#T_f730aa3e_754b_11eb_a85c_0242ac1c0002row4_col9,#T_f730aa3e_754b_11eb_a85c_0242ac1c0002row7_col3,#T_f730aa3e_754b_11eb_a85c_0242ac1c0002row14_col9{\n",
              "            background-color:  #82a6fb;\n",
              "            color:  #000000;\n",
              "        }#T_f730aa3e_754b_11eb_a85c_0242ac1c0002row4_col10,#T_f730aa3e_754b_11eb_a85c_0242ac1c0002row18_col4{\n",
              "            background-color:  #ee8468;\n",
              "            color:  #000000;\n",
              "        }#T_f730aa3e_754b_11eb_a85c_0242ac1c0002row4_col11{\n",
              "            background-color:  #d65244;\n",
              "            color:  #000000;\n",
              "        }#T_f730aa3e_754b_11eb_a85c_0242ac1c0002row4_col12,#T_f730aa3e_754b_11eb_a85c_0242ac1c0002row11_col2,#T_f730aa3e_754b_11eb_a85c_0242ac1c0002row13_col11{\n",
              "            background-color:  #e8d6cc;\n",
              "            color:  #000000;\n",
              "        }#T_f730aa3e_754b_11eb_a85c_0242ac1c0002row4_col13{\n",
              "            background-color:  #dcdddd;\n",
              "            color:  #000000;\n",
              "        }#T_f730aa3e_754b_11eb_a85c_0242ac1c0002row4_col15,#T_f730aa3e_754b_11eb_a85c_0242ac1c0002row8_col6,#T_f730aa3e_754b_11eb_a85c_0242ac1c0002row10_col19{\n",
              "            background-color:  #86a9fc;\n",
              "            color:  #000000;\n",
              "        }#T_f730aa3e_754b_11eb_a85c_0242ac1c0002row4_col17{\n",
              "            background-color:  #e0dbd8;\n",
              "            color:  #000000;\n",
              "        }#T_f730aa3e_754b_11eb_a85c_0242ac1c0002row4_col18{\n",
              "            background-color:  #ec7f63;\n",
              "            color:  #000000;\n",
              "        }#T_f730aa3e_754b_11eb_a85c_0242ac1c0002row5_col2,#T_f730aa3e_754b_11eb_a85c_0242ac1c0002row9_col2,#T_f730aa3e_754b_11eb_a85c_0242ac1c0002row10_col9,#T_f730aa3e_754b_11eb_a85c_0242ac1c0002row16_col13,#T_f730aa3e_754b_11eb_a85c_0242ac1c0002row19_col2{\n",
              "            background-color:  #6c8ff1;\n",
              "            color:  #000000;\n",
              "        }#T_f730aa3e_754b_11eb_a85c_0242ac1c0002row5_col3,#T_f730aa3e_754b_11eb_a85c_0242ac1c0002row10_col15,#T_f730aa3e_754b_11eb_a85c_0242ac1c0002row17_col2,#T_f730aa3e_754b_11eb_a85c_0242ac1c0002row18_col5{\n",
              "            background-color:  #8badfd;\n",
              "            color:  #000000;\n",
              "        }#T_f730aa3e_754b_11eb_a85c_0242ac1c0002row5_col4,#T_f730aa3e_754b_11eb_a85c_0242ac1c0002row8_col17{\n",
              "            background-color:  #a2c1ff;\n",
              "            color:  #000000;\n",
              "        }#T_f730aa3e_754b_11eb_a85c_0242ac1c0002row5_col7{\n",
              "            background-color:  #4c66d6;\n",
              "            color:  #000000;\n",
              "        }#T_f730aa3e_754b_11eb_a85c_0242ac1c0002row5_col8,#T_f730aa3e_754b_11eb_a85c_0242ac1c0002row12_col19,#T_f730aa3e_754b_11eb_a85c_0242ac1c0002row13_col0{\n",
              "            background-color:  #6788ee;\n",
              "            color:  #000000;\n",
              "        }#T_f730aa3e_754b_11eb_a85c_0242ac1c0002row5_col9,#T_f730aa3e_754b_11eb_a85c_0242ac1c0002row7_col14{\n",
              "            background-color:  #90b2fe;\n",
              "            color:  #000000;\n",
              "        }#T_f730aa3e_754b_11eb_a85c_0242ac1c0002row5_col10,#T_f730aa3e_754b_11eb_a85c_0242ac1c0002row7_col4,#T_f730aa3e_754b_11eb_a85c_0242ac1c0002row16_col10{\n",
              "            background-color:  #8db0fe;\n",
              "            color:  #000000;\n",
              "        }#T_f730aa3e_754b_11eb_a85c_0242ac1c0002row5_col12,#T_f730aa3e_754b_11eb_a85c_0242ac1c0002row16_col4,#T_f730aa3e_754b_11eb_a85c_0242ac1c0002row16_col14{\n",
              "            background-color:  #7ea1fa;\n",
              "            color:  #000000;\n",
              "        }#T_f730aa3e_754b_11eb_a85c_0242ac1c0002row5_col13,#T_f730aa3e_754b_11eb_a85c_0242ac1c0002row7_col1{\n",
              "            background-color:  #9fbfff;\n",
              "            color:  #000000;\n",
              "        }#T_f730aa3e_754b_11eb_a85c_0242ac1c0002row5_col14,#T_f730aa3e_754b_11eb_a85c_0242ac1c0002row6_col14,#T_f730aa3e_754b_11eb_a85c_0242ac1c0002row13_col19,#T_f730aa3e_754b_11eb_a85c_0242ac1c0002row16_col3,#T_f730aa3e_754b_11eb_a85c_0242ac1c0002row19_col14{\n",
              "            background-color:  #779af7;\n",
              "            color:  #000000;\n",
              "        }#T_f730aa3e_754b_11eb_a85c_0242ac1c0002row5_col16,#T_f730aa3e_754b_11eb_a85c_0242ac1c0002row16_col19,#T_f730aa3e_754b_11eb_a85c_0242ac1c0002row19_col16{\n",
              "            background-color:  #4a63d3;\n",
              "            color:  #f1f1f1;\n",
              "        }#T_f730aa3e_754b_11eb_a85c_0242ac1c0002row5_col17,#T_f730aa3e_754b_11eb_a85c_0242ac1c0002row18_col13{\n",
              "            background-color:  #dedcdb;\n",
              "            color:  #000000;\n",
              "        }#T_f730aa3e_754b_11eb_a85c_0242ac1c0002row5_col18,#T_f730aa3e_754b_11eb_a85c_0242ac1c0002row12_col8{\n",
              "            background-color:  #a9c6fd;\n",
              "            color:  #000000;\n",
              "        }#T_f730aa3e_754b_11eb_a85c_0242ac1c0002row5_col19{\n",
              "            background-color:  #f39778;\n",
              "            color:  #000000;\n",
              "        }#T_f730aa3e_754b_11eb_a85c_0242ac1c0002row6_col2{\n",
              "            background-color:  #98b9ff;\n",
              "            color:  #000000;\n",
              "        }#T_f730aa3e_754b_11eb_a85c_0242ac1c0002row6_col4{\n",
              "            background-color:  #d3dbe7;\n",
              "            color:  #000000;\n",
              "        }#T_f730aa3e_754b_11eb_a85c_0242ac1c0002row6_col7,#T_f730aa3e_754b_11eb_a85c_0242ac1c0002row9_col3{\n",
              "            background-color:  #4e68d8;\n",
              "            color:  #000000;\n",
              "        }#T_f730aa3e_754b_11eb_a85c_0242ac1c0002row6_col9,#T_f730aa3e_754b_11eb_a85c_0242ac1c0002row17_col1{\n",
              "            background-color:  #506bda;\n",
              "            color:  #000000;\n",
              "        }#T_f730aa3e_754b_11eb_a85c_0242ac1c0002row6_col10{\n",
              "            background-color:  #e7d7ce;\n",
              "            color:  #000000;\n",
              "        }#T_f730aa3e_754b_11eb_a85c_0242ac1c0002row6_col11,#T_f730aa3e_754b_11eb_a85c_0242ac1c0002row6_col13,#T_f730aa3e_754b_11eb_a85c_0242ac1c0002row11_col6,#T_f730aa3e_754b_11eb_a85c_0242ac1c0002row13_col17{\n",
              "            background-color:  #f4c5ad;\n",
              "            color:  #000000;\n",
              "        }#T_f730aa3e_754b_11eb_a85c_0242ac1c0002row6_col15,#T_f730aa3e_754b_11eb_a85c_0242ac1c0002row17_col10{\n",
              "            background-color:  #a6c4fe;\n",
              "            color:  #000000;\n",
              "        }#T_f730aa3e_754b_11eb_a85c_0242ac1c0002row6_col18,#T_f730aa3e_754b_11eb_a85c_0242ac1c0002row8_col18{\n",
              "            background-color:  #cbd8ee;\n",
              "            color:  #000000;\n",
              "        }#T_f730aa3e_754b_11eb_a85c_0242ac1c0002row6_col19,#T_f730aa3e_754b_11eb_a85c_0242ac1c0002row7_col0,#T_f730aa3e_754b_11eb_a85c_0242ac1c0002row9_col4,#T_f730aa3e_754b_11eb_a85c_0242ac1c0002row10_col7,#T_f730aa3e_754b_11eb_a85c_0242ac1c0002row12_col0,#T_f730aa3e_754b_11eb_a85c_0242ac1c0002row12_col7,#T_f730aa3e_754b_11eb_a85c_0242ac1c0002row16_col0,#T_f730aa3e_754b_11eb_a85c_0242ac1c0002row18_col0{\n",
              "            background-color:  #5f7fe8;\n",
              "            color:  #000000;\n",
              "        }#T_f730aa3e_754b_11eb_a85c_0242ac1c0002row7_col8{\n",
              "            background-color:  #cedaeb;\n",
              "            color:  #000000;\n",
              "        }#T_f730aa3e_754b_11eb_a85c_0242ac1c0002row7_col15{\n",
              "            background-color:  #bad0f8;\n",
              "            color:  #000000;\n",
              "        }#T_f730aa3e_754b_11eb_a85c_0242ac1c0002row7_col16,#T_f730aa3e_754b_11eb_a85c_0242ac1c0002row9_col8,#T_f730aa3e_754b_11eb_a85c_0242ac1c0002row9_col16,#T_f730aa3e_754b_11eb_a85c_0242ac1c0002row15_col0{\n",
              "            background-color:  #5e7de7;\n",
              "            color:  #000000;\n",
              "        }#T_f730aa3e_754b_11eb_a85c_0242ac1c0002row7_col17,#T_f730aa3e_754b_11eb_a85c_0242ac1c0002row10_col12,#T_f730aa3e_754b_11eb_a85c_0242ac1c0002row18_col8{\n",
              "            background-color:  #aac7fd;\n",
              "            color:  #000000;\n",
              "        }#T_f730aa3e_754b_11eb_a85c_0242ac1c0002row8_col0,#T_f730aa3e_754b_11eb_a85c_0242ac1c0002row10_col0,#T_f730aa3e_754b_11eb_a85c_0242ac1c0002row12_col5,#T_f730aa3e_754b_11eb_a85c_0242ac1c0002row14_col7{\n",
              "            background-color:  #6384eb;\n",
              "            color:  #000000;\n",
              "        }#T_f730aa3e_754b_11eb_a85c_0242ac1c0002row8_col1,#T_f730aa3e_754b_11eb_a85c_0242ac1c0002row8_col7{\n",
              "            background-color:  #c9d7f0;\n",
              "            color:  #000000;\n",
              "        }#T_f730aa3e_754b_11eb_a85c_0242ac1c0002row8_col4,#T_f730aa3e_754b_11eb_a85c_0242ac1c0002row12_col3{\n",
              "            background-color:  #c1d4f4;\n",
              "            color:  #000000;\n",
              "        }#T_f730aa3e_754b_11eb_a85c_0242ac1c0002row8_col5,#T_f730aa3e_754b_11eb_a85c_0242ac1c0002row18_col14,#T_f730aa3e_754b_11eb_a85c_0242ac1c0002row18_col15{\n",
              "            background-color:  #7597f6;\n",
              "            color:  #000000;\n",
              "        }#T_f730aa3e_754b_11eb_a85c_0242ac1c0002row8_col9,#T_f730aa3e_754b_11eb_a85c_0242ac1c0002row11_col19,#T_f730aa3e_754b_11eb_a85c_0242ac1c0002row12_col10{\n",
              "            background-color:  #9ebeff;\n",
              "            color:  #000000;\n",
              "        }#T_f730aa3e_754b_11eb_a85c_0242ac1c0002row8_col10{\n",
              "            background-color:  #b6cefa;\n",
              "            color:  #000000;\n",
              "        }#T_f730aa3e_754b_11eb_a85c_0242ac1c0002row8_col12{\n",
              "            background-color:  #c6d6f1;\n",
              "            color:  #000000;\n",
              "        }#T_f730aa3e_754b_11eb_a85c_0242ac1c0002row8_col15{\n",
              "            background-color:  #c5d6f2;\n",
              "            color:  #000000;\n",
              "        }#T_f730aa3e_754b_11eb_a85c_0242ac1c0002row9_col7{\n",
              "            background-color:  #4b64d5;\n",
              "            color:  #f1f1f1;\n",
              "        }#T_f730aa3e_754b_11eb_a85c_0242ac1c0002row9_col11,#T_f730aa3e_754b_11eb_a85c_0242ac1c0002row16_col8,#T_f730aa3e_754b_11eb_a85c_0242ac1c0002row17_col12{\n",
              "            background-color:  #536edd;\n",
              "            color:  #000000;\n",
              "        }#T_f730aa3e_754b_11eb_a85c_0242ac1c0002row9_col15,#T_f730aa3e_754b_11eb_a85c_0242ac1c0002row15_col16,#T_f730aa3e_754b_11eb_a85c_0242ac1c0002row19_col11,#T_f730aa3e_754b_11eb_a85c_0242ac1c0002row19_col18{\n",
              "            background-color:  #b3cdfb;\n",
              "            color:  #000000;\n",
              "        }#T_f730aa3e_754b_11eb_a85c_0242ac1c0002row10_col4{\n",
              "            background-color:  #ed8366;\n",
              "            color:  #000000;\n",
              "        }#T_f730aa3e_754b_11eb_a85c_0242ac1c0002row10_col6{\n",
              "            background-color:  #edd1c2;\n",
              "            color:  #000000;\n",
              "        }#T_f730aa3e_754b_11eb_a85c_0242ac1c0002row10_col11{\n",
              "            background-color:  #ec8165;\n",
              "            color:  #000000;\n",
              "        }#T_f730aa3e_754b_11eb_a85c_0242ac1c0002row10_col13,#T_f730aa3e_754b_11eb_a85c_0242ac1c0002row13_col6{\n",
              "            background-color:  #f1ccb8;\n",
              "            color:  #000000;\n",
              "        }#T_f730aa3e_754b_11eb_a85c_0242ac1c0002row10_col17{\n",
              "            background-color:  #d9dce1;\n",
              "            color:  #000000;\n",
              "        }#T_f730aa3e_754b_11eb_a85c_0242ac1c0002row10_col18{\n",
              "            background-color:  #f18f71;\n",
              "            color:  #000000;\n",
              "        }#T_f730aa3e_754b_11eb_a85c_0242ac1c0002row11_col1{\n",
              "            background-color:  #f5c4ac;\n",
              "            color:  #000000;\n",
              "        }#T_f730aa3e_754b_11eb_a85c_0242ac1c0002row11_col3{\n",
              "            background-color:  #f59d7e;\n",
              "            color:  #000000;\n",
              "        }#T_f730aa3e_754b_11eb_a85c_0242ac1c0002row11_col4{\n",
              "            background-color:  #d75445;\n",
              "            color:  #000000;\n",
              "        }#T_f730aa3e_754b_11eb_a85c_0242ac1c0002row11_col13,#T_f730aa3e_754b_11eb_a85c_0242ac1c0002row18_col17{\n",
              "            background-color:  #eed0c0;\n",
              "            color:  #000000;\n",
              "        }#T_f730aa3e_754b_11eb_a85c_0242ac1c0002row11_col18{\n",
              "            background-color:  #ef886b;\n",
              "            color:  #000000;\n",
              "        }#T_f730aa3e_754b_11eb_a85c_0242ac1c0002row12_col1,#T_f730aa3e_754b_11eb_a85c_0242ac1c0002row18_col12{\n",
              "            background-color:  #b2ccfb;\n",
              "            color:  #000000;\n",
              "        }#T_f730aa3e_754b_11eb_a85c_0242ac1c0002row12_col4{\n",
              "            background-color:  #e4d9d2;\n",
              "            color:  #000000;\n",
              "        }#T_f730aa3e_754b_11eb_a85c_0242ac1c0002row12_col6,#T_f730aa3e_754b_11eb_a85c_0242ac1c0002row13_col7{\n",
              "            background-color:  #3e51c5;\n",
              "            color:  #f1f1f1;\n",
              "        }#T_f730aa3e_754b_11eb_a85c_0242ac1c0002row12_col9{\n",
              "            background-color:  #bed2f6;\n",
              "            color:  #000000;\n",
              "        }#T_f730aa3e_754b_11eb_a85c_0242ac1c0002row12_col11,#T_f730aa3e_754b_11eb_a85c_0242ac1c0002row12_col13{\n",
              "            background-color:  #6f92f3;\n",
              "            color:  #000000;\n",
              "        }#T_f730aa3e_754b_11eb_a85c_0242ac1c0002row12_col14,#T_f730aa3e_754b_11eb_a85c_0242ac1c0002row19_col3{\n",
              "            background-color:  #89acfd;\n",
              "            color:  #000000;\n",
              "        }#T_f730aa3e_754b_11eb_a85c_0242ac1c0002row12_col15{\n",
              "            background-color:  #c3d5f4;\n",
              "            color:  #000000;\n",
              "        }#T_f730aa3e_754b_11eb_a85c_0242ac1c0002row13_col1{\n",
              "            background-color:  #5a78e4;\n",
              "            color:  #000000;\n",
              "        }#T_f730aa3e_754b_11eb_a85c_0242ac1c0002row13_col3{\n",
              "            background-color:  #f0cdbb;\n",
              "            color:  #000000;\n",
              "        }#T_f730aa3e_754b_11eb_a85c_0242ac1c0002row13_col4,#T_f730aa3e_754b_11eb_a85c_0242ac1c0002row18_col6{\n",
              "            background-color:  #cad8ef;\n",
              "            color:  #000000;\n",
              "        }#T_f730aa3e_754b_11eb_a85c_0242ac1c0002row13_col8{\n",
              "            background-color:  #4055c8;\n",
              "            color:  #f1f1f1;\n",
              "        }#T_f730aa3e_754b_11eb_a85c_0242ac1c0002row13_col10,#T_f730aa3e_754b_11eb_a85c_0242ac1c0002row16_col15{\n",
              "            background-color:  #e5d8d1;\n",
              "            color:  #000000;\n",
              "        }#T_f730aa3e_754b_11eb_a85c_0242ac1c0002row13_col12{\n",
              "            background-color:  #5673e0;\n",
              "            color:  #000000;\n",
              "        }#T_f730aa3e_754b_11eb_a85c_0242ac1c0002row13_col18{\n",
              "            background-color:  #d6dce4;\n",
              "            color:  #000000;\n",
              "        }#T_f730aa3e_754b_11eb_a85c_0242ac1c0002row14_col3,#T_f730aa3e_754b_11eb_a85c_0242ac1c0002row14_col4,#T_f730aa3e_754b_11eb_a85c_0242ac1c0002row14_col6,#T_f730aa3e_754b_11eb_a85c_0242ac1c0002row19_col12{\n",
              "            background-color:  #80a3fa;\n",
              "            color:  #000000;\n",
              "        }#T_f730aa3e_754b_11eb_a85c_0242ac1c0002row14_col12,#T_f730aa3e_754b_11eb_a85c_0242ac1c0002row15_col12,#T_f730aa3e_754b_11eb_a85c_0242ac1c0002row16_col9,#T_f730aa3e_754b_11eb_a85c_0242ac1c0002row16_col18,#T_f730aa3e_754b_11eb_a85c_0242ac1c0002row19_col10{\n",
              "            background-color:  #8fb1fe;\n",
              "            color:  #000000;\n",
              "        }#T_f730aa3e_754b_11eb_a85c_0242ac1c0002row14_col17,#T_f730aa3e_754b_11eb_a85c_0242ac1c0002row17_col5,#T_f730aa3e_754b_11eb_a85c_0242ac1c0002row19_col4,#T_f730aa3e_754b_11eb_a85c_0242ac1c0002row19_col13{\n",
              "            background-color:  #a5c3fe;\n",
              "            color:  #000000;\n",
              "        }#T_f730aa3e_754b_11eb_a85c_0242ac1c0002row15_col7,#T_f730aa3e_754b_11eb_a85c_0242ac1c0002row19_col7{\n",
              "            background-color:  #4f69d9;\n",
              "            color:  #000000;\n",
              "        }#T_f730aa3e_754b_11eb_a85c_0242ac1c0002row15_col13,#T_f730aa3e_754b_11eb_a85c_0242ac1c0002row17_col16{\n",
              "            background-color:  #3d50c3;\n",
              "            color:  #f1f1f1;\n",
              "        }#T_f730aa3e_754b_11eb_a85c_0242ac1c0002row15_col14{\n",
              "            background-color:  #88abfd;\n",
              "            color:  #000000;\n",
              "        }#T_f730aa3e_754b_11eb_a85c_0242ac1c0002row16_col5{\n",
              "            background-color:  #465ecf;\n",
              "            color:  #f1f1f1;\n",
              "        }#T_f730aa3e_754b_11eb_a85c_0242ac1c0002row16_col7{\n",
              "            background-color:  #4257c9;\n",
              "            color:  #f1f1f1;\n",
              "        }#T_f730aa3e_754b_11eb_a85c_0242ac1c0002row16_col17{\n",
              "            background-color:  #96b7ff;\n",
              "            color:  #000000;\n",
              "        }#T_f730aa3e_754b_11eb_a85c_0242ac1c0002row17_col4{\n",
              "            background-color:  #b5cdfa;\n",
              "            color:  #000000;\n",
              "        }#T_f730aa3e_754b_11eb_a85c_0242ac1c0002row17_col9{\n",
              "            background-color:  #7699f6;\n",
              "            color:  #000000;\n",
              "        }#T_f730aa3e_754b_11eb_a85c_0242ac1c0002row17_col11,#T_f730aa3e_754b_11eb_a85c_0242ac1c0002row17_col18{\n",
              "            background-color:  #d7dce3;\n",
              "            color:  #000000;\n",
              "        }#T_f730aa3e_754b_11eb_a85c_0242ac1c0002row17_col13{\n",
              "            background-color:  #ecd3c5;\n",
              "            color:  #000000;\n",
              "        }#T_f730aa3e_754b_11eb_a85c_0242ac1c0002row17_col19{\n",
              "            background-color:  #afcafc;\n",
              "            color:  #000000;\n",
              "        }#T_f730aa3e_754b_11eb_a85c_0242ac1c0002row18_col2{\n",
              "            background-color:  #d5dbe5;\n",
              "            color:  #000000;\n",
              "        }#T_f730aa3e_754b_11eb_a85c_0242ac1c0002row18_col3{\n",
              "            background-color:  #f6bfa6;\n",
              "            color:  #000000;\n",
              "        }#T_f730aa3e_754b_11eb_a85c_0242ac1c0002row18_col10{\n",
              "            background-color:  #f39577;\n",
              "            color:  #000000;\n",
              "        }#T_f730aa3e_754b_11eb_a85c_0242ac1c0002row18_col11{\n",
              "            background-color:  #f08a6c;\n",
              "            color:  #000000;\n",
              "        }#T_f730aa3e_754b_11eb_a85c_0242ac1c0002row19_col17{\n",
              "            background-color:  #e2dad5;\n",
              "            color:  #000000;\n",
              "        }</style><table id=\"T_f730aa3e_754b_11eb_a85c_0242ac1c0002\" ><thead>    <tr>        <th class=\"blank level0\" ></th>        <th class=\"col_heading level0 col0\" >id</th>        <th class=\"col_heading level0 col1\" >price</th>        <th class=\"col_heading level0 col2\" >bedrooms</th>        <th class=\"col_heading level0 col3\" >bathrooms</th>        <th class=\"col_heading level0 col4\" >sqft_living</th>        <th class=\"col_heading level0 col5\" >sqft_lot</th>        <th class=\"col_heading level0 col6\" >floors</th>        <th class=\"col_heading level0 col7\" >waterfront</th>        <th class=\"col_heading level0 col8\" >view</th>        <th class=\"col_heading level0 col9\" >condition</th>        <th class=\"col_heading level0 col10\" >grade</th>        <th class=\"col_heading level0 col11\" >sqft_above</th>        <th class=\"col_heading level0 col12\" >sqft_basement</th>        <th class=\"col_heading level0 col13\" >yr_built</th>        <th class=\"col_heading level0 col14\" >yr_renovated</th>        <th class=\"col_heading level0 col15\" >zipcode</th>        <th class=\"col_heading level0 col16\" >lat</th>        <th class=\"col_heading level0 col17\" >long</th>        <th class=\"col_heading level0 col18\" >sqft_living15</th>        <th class=\"col_heading level0 col19\" >sqft_lot15</th>    </tr></thead><tbody>\n",
              "                <tr>\n",
              "                        <th id=\"T_f730aa3e_754b_11eb_a85c_0242ac1c0002level0_row0\" class=\"row_heading level0 row0\" >id</th>\n",
              "                        <td id=\"T_f730aa3e_754b_11eb_a85c_0242ac1c0002row0_col0\" class=\"data row0 col0\" >1.000000</td>\n",
              "                        <td id=\"T_f730aa3e_754b_11eb_a85c_0242ac1c0002row0_col1\" class=\"data row0 col1\" >-0.016762</td>\n",
              "                        <td id=\"T_f730aa3e_754b_11eb_a85c_0242ac1c0002row0_col2\" class=\"data row0 col2\" >0.001286</td>\n",
              "                        <td id=\"T_f730aa3e_754b_11eb_a85c_0242ac1c0002row0_col3\" class=\"data row0 col3\" >0.005160</td>\n",
              "                        <td id=\"T_f730aa3e_754b_11eb_a85c_0242ac1c0002row0_col4\" class=\"data row0 col4\" >-0.012258</td>\n",
              "                        <td id=\"T_f730aa3e_754b_11eb_a85c_0242ac1c0002row0_col5\" class=\"data row0 col5\" >-0.132109</td>\n",
              "                        <td id=\"T_f730aa3e_754b_11eb_a85c_0242ac1c0002row0_col6\" class=\"data row0 col6\" >0.018525</td>\n",
              "                        <td id=\"T_f730aa3e_754b_11eb_a85c_0242ac1c0002row0_col7\" class=\"data row0 col7\" >-0.002721</td>\n",
              "                        <td id=\"T_f730aa3e_754b_11eb_a85c_0242ac1c0002row0_col8\" class=\"data row0 col8\" >0.011592</td>\n",
              "                        <td id=\"T_f730aa3e_754b_11eb_a85c_0242ac1c0002row0_col9\" class=\"data row0 col9\" >-0.023783</td>\n",
              "                        <td id=\"T_f730aa3e_754b_11eb_a85c_0242ac1c0002row0_col10\" class=\"data row0 col10\" >0.008130</td>\n",
              "                        <td id=\"T_f730aa3e_754b_11eb_a85c_0242ac1c0002row0_col11\" class=\"data row0 col11\" >-0.010842</td>\n",
              "                        <td id=\"T_f730aa3e_754b_11eb_a85c_0242ac1c0002row0_col12\" class=\"data row0 col12\" >-0.005151</td>\n",
              "                        <td id=\"T_f730aa3e_754b_11eb_a85c_0242ac1c0002row0_col13\" class=\"data row0 col13\" >0.021380</td>\n",
              "                        <td id=\"T_f730aa3e_754b_11eb_a85c_0242ac1c0002row0_col14\" class=\"data row0 col14\" >-0.016907</td>\n",
              "                        <td id=\"T_f730aa3e_754b_11eb_a85c_0242ac1c0002row0_col15\" class=\"data row0 col15\" >-0.008224</td>\n",
              "                        <td id=\"T_f730aa3e_754b_11eb_a85c_0242ac1c0002row0_col16\" class=\"data row0 col16\" >-0.001891</td>\n",
              "                        <td id=\"T_f730aa3e_754b_11eb_a85c_0242ac1c0002row0_col17\" class=\"data row0 col17\" >0.020799</td>\n",
              "                        <td id=\"T_f730aa3e_754b_11eb_a85c_0242ac1c0002row0_col18\" class=\"data row0 col18\" >-0.002901</td>\n",
              "                        <td id=\"T_f730aa3e_754b_11eb_a85c_0242ac1c0002row0_col19\" class=\"data row0 col19\" >-0.138798</td>\n",
              "            </tr>\n",
              "            <tr>\n",
              "                        <th id=\"T_f730aa3e_754b_11eb_a85c_0242ac1c0002level0_row1\" class=\"row_heading level0 row1\" >price</th>\n",
              "                        <td id=\"T_f730aa3e_754b_11eb_a85c_0242ac1c0002row1_col0\" class=\"data row1 col0\" >-0.016762</td>\n",
              "                        <td id=\"T_f730aa3e_754b_11eb_a85c_0242ac1c0002row1_col1\" class=\"data row1 col1\" >1.000000</td>\n",
              "                        <td id=\"T_f730aa3e_754b_11eb_a85c_0242ac1c0002row1_col2\" class=\"data row1 col2\" >0.308350</td>\n",
              "                        <td id=\"T_f730aa3e_754b_11eb_a85c_0242ac1c0002row1_col3\" class=\"data row1 col3\" >0.525138</td>\n",
              "                        <td id=\"T_f730aa3e_754b_11eb_a85c_0242ac1c0002row1_col4\" class=\"data row1 col4\" >0.702035</td>\n",
              "                        <td id=\"T_f730aa3e_754b_11eb_a85c_0242ac1c0002row1_col5\" class=\"data row1 col5\" >0.089661</td>\n",
              "                        <td id=\"T_f730aa3e_754b_11eb_a85c_0242ac1c0002row1_col6\" class=\"data row1 col6\" >0.256794</td>\n",
              "                        <td id=\"T_f730aa3e_754b_11eb_a85c_0242ac1c0002row1_col7\" class=\"data row1 col7\" >0.266369</td>\n",
              "                        <td id=\"T_f730aa3e_754b_11eb_a85c_0242ac1c0002row1_col8\" class=\"data row1 col8\" >0.397293</td>\n",
              "                        <td id=\"T_f730aa3e_754b_11eb_a85c_0242ac1c0002row1_col9\" class=\"data row1 col9\" >0.036362</td>\n",
              "                        <td id=\"T_f730aa3e_754b_11eb_a85c_0242ac1c0002row1_col10\" class=\"data row1 col10\" >0.667434</td>\n",
              "                        <td id=\"T_f730aa3e_754b_11eb_a85c_0242ac1c0002row1_col11\" class=\"data row1 col11\" >0.605567</td>\n",
              "                        <td id=\"T_f730aa3e_754b_11eb_a85c_0242ac1c0002row1_col12\" class=\"data row1 col12\" >0.323816</td>\n",
              "                        <td id=\"T_f730aa3e_754b_11eb_a85c_0242ac1c0002row1_col13\" class=\"data row1 col13\" >0.054012</td>\n",
              "                        <td id=\"T_f730aa3e_754b_11eb_a85c_0242ac1c0002row1_col14\" class=\"data row1 col14\" >0.126434</td>\n",
              "                        <td id=\"T_f730aa3e_754b_11eb_a85c_0242ac1c0002row1_col15\" class=\"data row1 col15\" >-0.053203</td>\n",
              "                        <td id=\"T_f730aa3e_754b_11eb_a85c_0242ac1c0002row1_col16\" class=\"data row1 col16\" >0.307003</td>\n",
              "                        <td id=\"T_f730aa3e_754b_11eb_a85c_0242ac1c0002row1_col17\" class=\"data row1 col17\" >0.021626</td>\n",
              "                        <td id=\"T_f730aa3e_754b_11eb_a85c_0242ac1c0002row1_col18\" class=\"data row1 col18\" >0.585379</td>\n",
              "                        <td id=\"T_f730aa3e_754b_11eb_a85c_0242ac1c0002row1_col19\" class=\"data row1 col19\" >0.082447</td>\n",
              "            </tr>\n",
              "            <tr>\n",
              "                        <th id=\"T_f730aa3e_754b_11eb_a85c_0242ac1c0002level0_row2\" class=\"row_heading level0 row2\" >bedrooms</th>\n",
              "                        <td id=\"T_f730aa3e_754b_11eb_a85c_0242ac1c0002row2_col0\" class=\"data row2 col0\" >0.001286</td>\n",
              "                        <td id=\"T_f730aa3e_754b_11eb_a85c_0242ac1c0002row2_col1\" class=\"data row2 col1\" >0.308350</td>\n",
              "                        <td id=\"T_f730aa3e_754b_11eb_a85c_0242ac1c0002row2_col2\" class=\"data row2 col2\" >1.000000</td>\n",
              "                        <td id=\"T_f730aa3e_754b_11eb_a85c_0242ac1c0002row2_col3\" class=\"data row2 col3\" >0.515884</td>\n",
              "                        <td id=\"T_f730aa3e_754b_11eb_a85c_0242ac1c0002row2_col4\" class=\"data row2 col4\" >0.576671</td>\n",
              "                        <td id=\"T_f730aa3e_754b_11eb_a85c_0242ac1c0002row2_col5\" class=\"data row2 col5\" >0.031703</td>\n",
              "                        <td id=\"T_f730aa3e_754b_11eb_a85c_0242ac1c0002row2_col6\" class=\"data row2 col6\" >0.175429</td>\n",
              "                        <td id=\"T_f730aa3e_754b_11eb_a85c_0242ac1c0002row2_col7\" class=\"data row2 col7\" >-0.006582</td>\n",
              "                        <td id=\"T_f730aa3e_754b_11eb_a85c_0242ac1c0002row2_col8\" class=\"data row2 col8\" >0.079532</td>\n",
              "                        <td id=\"T_f730aa3e_754b_11eb_a85c_0242ac1c0002row2_col9\" class=\"data row2 col9\" >0.028472</td>\n",
              "                        <td id=\"T_f730aa3e_754b_11eb_a85c_0242ac1c0002row2_col10\" class=\"data row2 col10\" >0.356967</td>\n",
              "                        <td id=\"T_f730aa3e_754b_11eb_a85c_0242ac1c0002row2_col11\" class=\"data row2 col11\" >0.477600</td>\n",
              "                        <td id=\"T_f730aa3e_754b_11eb_a85c_0242ac1c0002row2_col12\" class=\"data row2 col12\" >0.303093</td>\n",
              "                        <td id=\"T_f730aa3e_754b_11eb_a85c_0242ac1c0002row2_col13\" class=\"data row2 col13\" >0.154178</td>\n",
              "                        <td id=\"T_f730aa3e_754b_11eb_a85c_0242ac1c0002row2_col14\" class=\"data row2 col14\" >0.018841</td>\n",
              "                        <td id=\"T_f730aa3e_754b_11eb_a85c_0242ac1c0002row2_col15\" class=\"data row2 col15\" >-0.152668</td>\n",
              "                        <td id=\"T_f730aa3e_754b_11eb_a85c_0242ac1c0002row2_col16\" class=\"data row2 col16\" >-0.008931</td>\n",
              "                        <td id=\"T_f730aa3e_754b_11eb_a85c_0242ac1c0002row2_col17\" class=\"data row2 col17\" >0.129473</td>\n",
              "                        <td id=\"T_f730aa3e_754b_11eb_a85c_0242ac1c0002row2_col18\" class=\"data row2 col18\" >0.391638</td>\n",
              "                        <td id=\"T_f730aa3e_754b_11eb_a85c_0242ac1c0002row2_col19\" class=\"data row2 col19\" >0.029244</td>\n",
              "            </tr>\n",
              "            <tr>\n",
              "                        <th id=\"T_f730aa3e_754b_11eb_a85c_0242ac1c0002level0_row3\" class=\"row_heading level0 row3\" >bathrooms</th>\n",
              "                        <td id=\"T_f730aa3e_754b_11eb_a85c_0242ac1c0002row3_col0\" class=\"data row3 col0\" >0.005160</td>\n",
              "                        <td id=\"T_f730aa3e_754b_11eb_a85c_0242ac1c0002row3_col1\" class=\"data row3 col1\" >0.525138</td>\n",
              "                        <td id=\"T_f730aa3e_754b_11eb_a85c_0242ac1c0002row3_col2\" class=\"data row3 col2\" >0.515884</td>\n",
              "                        <td id=\"T_f730aa3e_754b_11eb_a85c_0242ac1c0002row3_col3\" class=\"data row3 col3\" >1.000000</td>\n",
              "                        <td id=\"T_f730aa3e_754b_11eb_a85c_0242ac1c0002row3_col4\" class=\"data row3 col4\" >0.754665</td>\n",
              "                        <td id=\"T_f730aa3e_754b_11eb_a85c_0242ac1c0002row3_col5\" class=\"data row3 col5\" >0.087740</td>\n",
              "                        <td id=\"T_f730aa3e_754b_11eb_a85c_0242ac1c0002row3_col6\" class=\"data row3 col6\" >0.500653</td>\n",
              "                        <td id=\"T_f730aa3e_754b_11eb_a85c_0242ac1c0002row3_col7\" class=\"data row3 col7\" >0.063744</td>\n",
              "                        <td id=\"T_f730aa3e_754b_11eb_a85c_0242ac1c0002row3_col8\" class=\"data row3 col8\" >0.187737</td>\n",
              "                        <td id=\"T_f730aa3e_754b_11eb_a85c_0242ac1c0002row3_col9\" class=\"data row3 col9\" >-0.124982</td>\n",
              "                        <td id=\"T_f730aa3e_754b_11eb_a85c_0242ac1c0002row3_col10\" class=\"data row3 col10\" >0.664983</td>\n",
              "                        <td id=\"T_f730aa3e_754b_11eb_a85c_0242ac1c0002row3_col11\" class=\"data row3 col11\" >0.685342</td>\n",
              "                        <td id=\"T_f730aa3e_754b_11eb_a85c_0242ac1c0002row3_col12\" class=\"data row3 col12\" >0.283770</td>\n",
              "                        <td id=\"T_f730aa3e_754b_11eb_a85c_0242ac1c0002row3_col13\" class=\"data row3 col13\" >0.506019</td>\n",
              "                        <td id=\"T_f730aa3e_754b_11eb_a85c_0242ac1c0002row3_col14\" class=\"data row3 col14\" >0.050739</td>\n",
              "                        <td id=\"T_f730aa3e_754b_11eb_a85c_0242ac1c0002row3_col15\" class=\"data row3 col15\" >-0.203866</td>\n",
              "                        <td id=\"T_f730aa3e_754b_11eb_a85c_0242ac1c0002row3_col16\" class=\"data row3 col16\" >0.024573</td>\n",
              "                        <td id=\"T_f730aa3e_754b_11eb_a85c_0242ac1c0002row3_col17\" class=\"data row3 col17\" >0.223042</td>\n",
              "                        <td id=\"T_f730aa3e_754b_11eb_a85c_0242ac1c0002row3_col18\" class=\"data row3 col18\" >0.568634</td>\n",
              "                        <td id=\"T_f730aa3e_754b_11eb_a85c_0242ac1c0002row3_col19\" class=\"data row3 col19\" >0.087175</td>\n",
              "            </tr>\n",
              "            <tr>\n",
              "                        <th id=\"T_f730aa3e_754b_11eb_a85c_0242ac1c0002level0_row4\" class=\"row_heading level0 row4\" >sqft_living</th>\n",
              "                        <td id=\"T_f730aa3e_754b_11eb_a85c_0242ac1c0002row4_col0\" class=\"data row4 col0\" >-0.012258</td>\n",
              "                        <td id=\"T_f730aa3e_754b_11eb_a85c_0242ac1c0002row4_col1\" class=\"data row4 col1\" >0.702035</td>\n",
              "                        <td id=\"T_f730aa3e_754b_11eb_a85c_0242ac1c0002row4_col2\" class=\"data row4 col2\" >0.576671</td>\n",
              "                        <td id=\"T_f730aa3e_754b_11eb_a85c_0242ac1c0002row4_col3\" class=\"data row4 col3\" >0.754665</td>\n",
              "                        <td id=\"T_f730aa3e_754b_11eb_a85c_0242ac1c0002row4_col4\" class=\"data row4 col4\" >1.000000</td>\n",
              "                        <td id=\"T_f730aa3e_754b_11eb_a85c_0242ac1c0002row4_col5\" class=\"data row4 col5\" >0.172826</td>\n",
              "                        <td id=\"T_f730aa3e_754b_11eb_a85c_0242ac1c0002row4_col6\" class=\"data row4 col6\" >0.353949</td>\n",
              "                        <td id=\"T_f730aa3e_754b_11eb_a85c_0242ac1c0002row4_col7\" class=\"data row4 col7\" >0.103818</td>\n",
              "                        <td id=\"T_f730aa3e_754b_11eb_a85c_0242ac1c0002row4_col8\" class=\"data row4 col8\" >0.284611</td>\n",
              "                        <td id=\"T_f730aa3e_754b_11eb_a85c_0242ac1c0002row4_col9\" class=\"data row4 col9\" >-0.058753</td>\n",
              "                        <td id=\"T_f730aa3e_754b_11eb_a85c_0242ac1c0002row4_col10\" class=\"data row4 col10\" >0.762704</td>\n",
              "                        <td id=\"T_f730aa3e_754b_11eb_a85c_0242ac1c0002row4_col11\" class=\"data row4 col11\" >0.876597</td>\n",
              "                        <td id=\"T_f730aa3e_754b_11eb_a85c_0242ac1c0002row4_col12\" class=\"data row4 col12\" >0.435043</td>\n",
              "                        <td id=\"T_f730aa3e_754b_11eb_a85c_0242ac1c0002row4_col13\" class=\"data row4 col13\" >0.318049</td>\n",
              "                        <td id=\"T_f730aa3e_754b_11eb_a85c_0242ac1c0002row4_col14\" class=\"data row4 col14\" >0.055363</td>\n",
              "                        <td id=\"T_f730aa3e_754b_11eb_a85c_0242ac1c0002row4_col15\" class=\"data row4 col15\" >-0.199430</td>\n",
              "                        <td id=\"T_f730aa3e_754b_11eb_a85c_0242ac1c0002row4_col16\" class=\"data row4 col16\" >0.052529</td>\n",
              "                        <td id=\"T_f730aa3e_754b_11eb_a85c_0242ac1c0002row4_col17\" class=\"data row4 col17\" >0.240223</td>\n",
              "                        <td id=\"T_f730aa3e_754b_11eb_a85c_0242ac1c0002row4_col18\" class=\"data row4 col18\" >0.756420</td>\n",
              "                        <td id=\"T_f730aa3e_754b_11eb_a85c_0242ac1c0002row4_col19\" class=\"data row4 col19\" >0.183286</td>\n",
              "            </tr>\n",
              "            <tr>\n",
              "                        <th id=\"T_f730aa3e_754b_11eb_a85c_0242ac1c0002level0_row5\" class=\"row_heading level0 row5\" >sqft_lot</th>\n",
              "                        <td id=\"T_f730aa3e_754b_11eb_a85c_0242ac1c0002row5_col0\" class=\"data row5 col0\" >-0.132109</td>\n",
              "                        <td id=\"T_f730aa3e_754b_11eb_a85c_0242ac1c0002row5_col1\" class=\"data row5 col1\" >0.089661</td>\n",
              "                        <td id=\"T_f730aa3e_754b_11eb_a85c_0242ac1c0002row5_col2\" class=\"data row5 col2\" >0.031703</td>\n",
              "                        <td id=\"T_f730aa3e_754b_11eb_a85c_0242ac1c0002row5_col3\" class=\"data row5 col3\" >0.087740</td>\n",
              "                        <td id=\"T_f730aa3e_754b_11eb_a85c_0242ac1c0002row5_col4\" class=\"data row5 col4\" >0.172826</td>\n",
              "                        <td id=\"T_f730aa3e_754b_11eb_a85c_0242ac1c0002row5_col5\" class=\"data row5 col5\" >1.000000</td>\n",
              "                        <td id=\"T_f730aa3e_754b_11eb_a85c_0242ac1c0002row5_col6\" class=\"data row5 col6\" >-0.005201</td>\n",
              "                        <td id=\"T_f730aa3e_754b_11eb_a85c_0242ac1c0002row5_col7\" class=\"data row5 col7\" >0.021604</td>\n",
              "                        <td id=\"T_f730aa3e_754b_11eb_a85c_0242ac1c0002row5_col8\" class=\"data row5 col8\" >0.074710</td>\n",
              "                        <td id=\"T_f730aa3e_754b_11eb_a85c_0242ac1c0002row5_col9\" class=\"data row5 col9\" >-0.008958</td>\n",
              "                        <td id=\"T_f730aa3e_754b_11eb_a85c_0242ac1c0002row5_col10\" class=\"data row5 col10\" >0.113621</td>\n",
              "                        <td id=\"T_f730aa3e_754b_11eb_a85c_0242ac1c0002row5_col11\" class=\"data row5 col11\" >0.183512</td>\n",
              "                        <td id=\"T_f730aa3e_754b_11eb_a85c_0242ac1c0002row5_col12\" class=\"data row5 col12\" >0.015286</td>\n",
              "                        <td id=\"T_f730aa3e_754b_11eb_a85c_0242ac1c0002row5_col13\" class=\"data row5 col13\" >0.053080</td>\n",
              "                        <td id=\"T_f730aa3e_754b_11eb_a85c_0242ac1c0002row5_col14\" class=\"data row5 col14\" >0.007644</td>\n",
              "                        <td id=\"T_f730aa3e_754b_11eb_a85c_0242ac1c0002row5_col15\" class=\"data row5 col15\" >-0.129574</td>\n",
              "                        <td id=\"T_f730aa3e_754b_11eb_a85c_0242ac1c0002row5_col16\" class=\"data row5 col16\" >-0.085683</td>\n",
              "                        <td id=\"T_f730aa3e_754b_11eb_a85c_0242ac1c0002row5_col17\" class=\"data row5 col17\" >0.229521</td>\n",
              "                        <td id=\"T_f730aa3e_754b_11eb_a85c_0242ac1c0002row5_col18\" class=\"data row5 col18\" >0.144608</td>\n",
              "                        <td id=\"T_f730aa3e_754b_11eb_a85c_0242ac1c0002row5_col19\" class=\"data row5 col19\" >0.718557</td>\n",
              "            </tr>\n",
              "            <tr>\n",
              "                        <th id=\"T_f730aa3e_754b_11eb_a85c_0242ac1c0002level0_row6\" class=\"row_heading level0 row6\" >floors</th>\n",
              "                        <td id=\"T_f730aa3e_754b_11eb_a85c_0242ac1c0002row6_col0\" class=\"data row6 col0\" >0.018525</td>\n",
              "                        <td id=\"T_f730aa3e_754b_11eb_a85c_0242ac1c0002row6_col1\" class=\"data row6 col1\" >0.256794</td>\n",
              "                        <td id=\"T_f730aa3e_754b_11eb_a85c_0242ac1c0002row6_col2\" class=\"data row6 col2\" >0.175429</td>\n",
              "                        <td id=\"T_f730aa3e_754b_11eb_a85c_0242ac1c0002row6_col3\" class=\"data row6 col3\" >0.500653</td>\n",
              "                        <td id=\"T_f730aa3e_754b_11eb_a85c_0242ac1c0002row6_col4\" class=\"data row6 col4\" >0.353949</td>\n",
              "                        <td id=\"T_f730aa3e_754b_11eb_a85c_0242ac1c0002row6_col5\" class=\"data row6 col5\" >-0.005201</td>\n",
              "                        <td id=\"T_f730aa3e_754b_11eb_a85c_0242ac1c0002row6_col6\" class=\"data row6 col6\" >1.000000</td>\n",
              "                        <td id=\"T_f730aa3e_754b_11eb_a85c_0242ac1c0002row6_col7\" class=\"data row6 col7\" >0.023698</td>\n",
              "                        <td id=\"T_f730aa3e_754b_11eb_a85c_0242ac1c0002row6_col8\" class=\"data row6 col8\" >0.029444</td>\n",
              "                        <td id=\"T_f730aa3e_754b_11eb_a85c_0242ac1c0002row6_col9\" class=\"data row6 col9\" >-0.263768</td>\n",
              "                        <td id=\"T_f730aa3e_754b_11eb_a85c_0242ac1c0002row6_col10\" class=\"data row6 col10\" >0.458183</td>\n",
              "                        <td id=\"T_f730aa3e_754b_11eb_a85c_0242ac1c0002row6_col11\" class=\"data row6 col11\" >0.523885</td>\n",
              "                        <td id=\"T_f730aa3e_754b_11eb_a85c_0242ac1c0002row6_col12\" class=\"data row6 col12\" >-0.245705</td>\n",
              "                        <td id=\"T_f730aa3e_754b_11eb_a85c_0242ac1c0002row6_col13\" class=\"data row6 col13\" >0.489319</td>\n",
              "                        <td id=\"T_f730aa3e_754b_11eb_a85c_0242ac1c0002row6_col14\" class=\"data row6 col14\" >0.006338</td>\n",
              "                        <td id=\"T_f730aa3e_754b_11eb_a85c_0242ac1c0002row6_col15\" class=\"data row6 col15\" >-0.059121</td>\n",
              "                        <td id=\"T_f730aa3e_754b_11eb_a85c_0242ac1c0002row6_col16\" class=\"data row6 col16\" >0.049614</td>\n",
              "                        <td id=\"T_f730aa3e_754b_11eb_a85c_0242ac1c0002row6_col17\" class=\"data row6 col17\" >0.125419</td>\n",
              "                        <td id=\"T_f730aa3e_754b_11eb_a85c_0242ac1c0002row6_col18\" class=\"data row6 col18\" >0.279885</td>\n",
              "                        <td id=\"T_f730aa3e_754b_11eb_a85c_0242ac1c0002row6_col19\" class=\"data row6 col19\" >-0.011269</td>\n",
              "            </tr>\n",
              "            <tr>\n",
              "                        <th id=\"T_f730aa3e_754b_11eb_a85c_0242ac1c0002level0_row7\" class=\"row_heading level0 row7\" >waterfront</th>\n",
              "                        <td id=\"T_f730aa3e_754b_11eb_a85c_0242ac1c0002row7_col0\" class=\"data row7 col0\" >-0.002721</td>\n",
              "                        <td id=\"T_f730aa3e_754b_11eb_a85c_0242ac1c0002row7_col1\" class=\"data row7 col1\" >0.266369</td>\n",
              "                        <td id=\"T_f730aa3e_754b_11eb_a85c_0242ac1c0002row7_col2\" class=\"data row7 col2\" >-0.006582</td>\n",
              "                        <td id=\"T_f730aa3e_754b_11eb_a85c_0242ac1c0002row7_col3\" class=\"data row7 col3\" >0.063744</td>\n",
              "                        <td id=\"T_f730aa3e_754b_11eb_a85c_0242ac1c0002row7_col4\" class=\"data row7 col4\" >0.103818</td>\n",
              "                        <td id=\"T_f730aa3e_754b_11eb_a85c_0242ac1c0002row7_col5\" class=\"data row7 col5\" >0.021604</td>\n",
              "                        <td id=\"T_f730aa3e_754b_11eb_a85c_0242ac1c0002row7_col6\" class=\"data row7 col6\" >0.023698</td>\n",
              "                        <td id=\"T_f730aa3e_754b_11eb_a85c_0242ac1c0002row7_col7\" class=\"data row7 col7\" >1.000000</td>\n",
              "                        <td id=\"T_f730aa3e_754b_11eb_a85c_0242ac1c0002row7_col8\" class=\"data row7 col8\" >0.401857</td>\n",
              "                        <td id=\"T_f730aa3e_754b_11eb_a85c_0242ac1c0002row7_col9\" class=\"data row7 col9\" >0.016653</td>\n",
              "                        <td id=\"T_f730aa3e_754b_11eb_a85c_0242ac1c0002row7_col10\" class=\"data row7 col10\" >0.082775</td>\n",
              "                        <td id=\"T_f730aa3e_754b_11eb_a85c_0242ac1c0002row7_col11\" class=\"data row7 col11\" >0.072075</td>\n",
              "                        <td id=\"T_f730aa3e_754b_11eb_a85c_0242ac1c0002row7_col12\" class=\"data row7 col12\" >0.080588</td>\n",
              "                        <td id=\"T_f730aa3e_754b_11eb_a85c_0242ac1c0002row7_col13\" class=\"data row7 col13\" >-0.026161</td>\n",
              "                        <td id=\"T_f730aa3e_754b_11eb_a85c_0242ac1c0002row7_col14\" class=\"data row7 col14\" >0.092885</td>\n",
              "                        <td id=\"T_f730aa3e_754b_11eb_a85c_0242ac1c0002row7_col15\" class=\"data row7 col15\" >0.030285</td>\n",
              "                        <td id=\"T_f730aa3e_754b_11eb_a85c_0242ac1c0002row7_col16\" class=\"data row7 col16\" >-0.014274</td>\n",
              "                        <td id=\"T_f730aa3e_754b_11eb_a85c_0242ac1c0002row7_col17\" class=\"data row7 col17\" >-0.041910</td>\n",
              "                        <td id=\"T_f730aa3e_754b_11eb_a85c_0242ac1c0002row7_col18\" class=\"data row7 col18\" >0.086463</td>\n",
              "                        <td id=\"T_f730aa3e_754b_11eb_a85c_0242ac1c0002row7_col19\" class=\"data row7 col19\" >0.030703</td>\n",
              "            </tr>\n",
              "            <tr>\n",
              "                        <th id=\"T_f730aa3e_754b_11eb_a85c_0242ac1c0002level0_row8\" class=\"row_heading level0 row8\" >view</th>\n",
              "                        <td id=\"T_f730aa3e_754b_11eb_a85c_0242ac1c0002row8_col0\" class=\"data row8 col0\" >0.011592</td>\n",
              "                        <td id=\"T_f730aa3e_754b_11eb_a85c_0242ac1c0002row8_col1\" class=\"data row8 col1\" >0.397293</td>\n",
              "                        <td id=\"T_f730aa3e_754b_11eb_a85c_0242ac1c0002row8_col2\" class=\"data row8 col2\" >0.079532</td>\n",
              "                        <td id=\"T_f730aa3e_754b_11eb_a85c_0242ac1c0002row8_col3\" class=\"data row8 col3\" >0.187737</td>\n",
              "                        <td id=\"T_f730aa3e_754b_11eb_a85c_0242ac1c0002row8_col4\" class=\"data row8 col4\" >0.284611</td>\n",
              "                        <td id=\"T_f730aa3e_754b_11eb_a85c_0242ac1c0002row8_col5\" class=\"data row8 col5\" >0.074710</td>\n",
              "                        <td id=\"T_f730aa3e_754b_11eb_a85c_0242ac1c0002row8_col6\" class=\"data row8 col6\" >0.029444</td>\n",
              "                        <td id=\"T_f730aa3e_754b_11eb_a85c_0242ac1c0002row8_col7\" class=\"data row8 col7\" >0.401857</td>\n",
              "                        <td id=\"T_f730aa3e_754b_11eb_a85c_0242ac1c0002row8_col8\" class=\"data row8 col8\" >1.000000</td>\n",
              "                        <td id=\"T_f730aa3e_754b_11eb_a85c_0242ac1c0002row8_col9\" class=\"data row8 col9\" >0.045990</td>\n",
              "                        <td id=\"T_f730aa3e_754b_11eb_a85c_0242ac1c0002row8_col10\" class=\"data row8 col10\" >0.251321</td>\n",
              "                        <td id=\"T_f730aa3e_754b_11eb_a85c_0242ac1c0002row8_col11\" class=\"data row8 col11\" >0.167649</td>\n",
              "                        <td id=\"T_f730aa3e_754b_11eb_a85c_0242ac1c0002row8_col12\" class=\"data row8 col12\" >0.276947</td>\n",
              "                        <td id=\"T_f730aa3e_754b_11eb_a85c_0242ac1c0002row8_col13\" class=\"data row8 col13\" >-0.053440</td>\n",
              "                        <td id=\"T_f730aa3e_754b_11eb_a85c_0242ac1c0002row8_col14\" class=\"data row8 col14\" >0.103917</td>\n",
              "                        <td id=\"T_f730aa3e_754b_11eb_a85c_0242ac1c0002row8_col15\" class=\"data row8 col15\" >0.084827</td>\n",
              "                        <td id=\"T_f730aa3e_754b_11eb_a85c_0242ac1c0002row8_col16\" class=\"data row8 col16\" >0.006157</td>\n",
              "                        <td id=\"T_f730aa3e_754b_11eb_a85c_0242ac1c0002row8_col17\" class=\"data row8 col17\" >-0.078400</td>\n",
              "                        <td id=\"T_f730aa3e_754b_11eb_a85c_0242ac1c0002row8_col18\" class=\"data row8 col18\" >0.280439</td>\n",
              "                        <td id=\"T_f730aa3e_754b_11eb_a85c_0242ac1c0002row8_col19\" class=\"data row8 col19\" >0.072575</td>\n",
              "            </tr>\n",
              "            <tr>\n",
              "                        <th id=\"T_f730aa3e_754b_11eb_a85c_0242ac1c0002level0_row9\" class=\"row_heading level0 row9\" >condition</th>\n",
              "                        <td id=\"T_f730aa3e_754b_11eb_a85c_0242ac1c0002row9_col0\" class=\"data row9 col0\" >-0.023783</td>\n",
              "                        <td id=\"T_f730aa3e_754b_11eb_a85c_0242ac1c0002row9_col1\" class=\"data row9 col1\" >0.036362</td>\n",
              "                        <td id=\"T_f730aa3e_754b_11eb_a85c_0242ac1c0002row9_col2\" class=\"data row9 col2\" >0.028472</td>\n",
              "                        <td id=\"T_f730aa3e_754b_11eb_a85c_0242ac1c0002row9_col3\" class=\"data row9 col3\" >-0.124982</td>\n",
              "                        <td id=\"T_f730aa3e_754b_11eb_a85c_0242ac1c0002row9_col4\" class=\"data row9 col4\" >-0.058753</td>\n",
              "                        <td id=\"T_f730aa3e_754b_11eb_a85c_0242ac1c0002row9_col5\" class=\"data row9 col5\" >-0.008958</td>\n",
              "                        <td id=\"T_f730aa3e_754b_11eb_a85c_0242ac1c0002row9_col6\" class=\"data row9 col6\" >-0.263768</td>\n",
              "                        <td id=\"T_f730aa3e_754b_11eb_a85c_0242ac1c0002row9_col7\" class=\"data row9 col7\" >0.016653</td>\n",
              "                        <td id=\"T_f730aa3e_754b_11eb_a85c_0242ac1c0002row9_col8\" class=\"data row9 col8\" >0.045990</td>\n",
              "                        <td id=\"T_f730aa3e_754b_11eb_a85c_0242ac1c0002row9_col9\" class=\"data row9 col9\" >1.000000</td>\n",
              "                        <td id=\"T_f730aa3e_754b_11eb_a85c_0242ac1c0002row9_col10\" class=\"data row9 col10\" >-0.144674</td>\n",
              "                        <td id=\"T_f730aa3e_754b_11eb_a85c_0242ac1c0002row9_col11\" class=\"data row9 col11\" >-0.158214</td>\n",
              "                        <td id=\"T_f730aa3e_754b_11eb_a85c_0242ac1c0002row9_col12\" class=\"data row9 col12\" >0.174105</td>\n",
              "                        <td id=\"T_f730aa3e_754b_11eb_a85c_0242ac1c0002row9_col13\" class=\"data row9 col13\" >-0.361417</td>\n",
              "                        <td id=\"T_f730aa3e_754b_11eb_a85c_0242ac1c0002row9_col14\" class=\"data row9 col14\" >-0.060618</td>\n",
              "                        <td id=\"T_f730aa3e_754b_11eb_a85c_0242ac1c0002row9_col15\" class=\"data row9 col15\" >0.003026</td>\n",
              "                        <td id=\"T_f730aa3e_754b_11eb_a85c_0242ac1c0002row9_col16\" class=\"data row9 col16\" >-0.014941</td>\n",
              "                        <td id=\"T_f730aa3e_754b_11eb_a85c_0242ac1c0002row9_col17\" class=\"data row9 col17\" >-0.106500</td>\n",
              "                        <td id=\"T_f730aa3e_754b_11eb_a85c_0242ac1c0002row9_col18\" class=\"data row9 col18\" >-0.092824</td>\n",
              "                        <td id=\"T_f730aa3e_754b_11eb_a85c_0242ac1c0002row9_col19\" class=\"data row9 col19\" >-0.003406</td>\n",
              "            </tr>\n",
              "            <tr>\n",
              "                        <th id=\"T_f730aa3e_754b_11eb_a85c_0242ac1c0002level0_row10\" class=\"row_heading level0 row10\" >grade</th>\n",
              "                        <td id=\"T_f730aa3e_754b_11eb_a85c_0242ac1c0002row10_col0\" class=\"data row10 col0\" >0.008130</td>\n",
              "                        <td id=\"T_f730aa3e_754b_11eb_a85c_0242ac1c0002row10_col1\" class=\"data row10 col1\" >0.667434</td>\n",
              "                        <td id=\"T_f730aa3e_754b_11eb_a85c_0242ac1c0002row10_col2\" class=\"data row10 col2\" >0.356967</td>\n",
              "                        <td id=\"T_f730aa3e_754b_11eb_a85c_0242ac1c0002row10_col3\" class=\"data row10 col3\" >0.664983</td>\n",
              "                        <td id=\"T_f730aa3e_754b_11eb_a85c_0242ac1c0002row10_col4\" class=\"data row10 col4\" >0.762704</td>\n",
              "                        <td id=\"T_f730aa3e_754b_11eb_a85c_0242ac1c0002row10_col5\" class=\"data row10 col5\" >0.113621</td>\n",
              "                        <td id=\"T_f730aa3e_754b_11eb_a85c_0242ac1c0002row10_col6\" class=\"data row10 col6\" >0.458183</td>\n",
              "                        <td id=\"T_f730aa3e_754b_11eb_a85c_0242ac1c0002row10_col7\" class=\"data row10 col7\" >0.082775</td>\n",
              "                        <td id=\"T_f730aa3e_754b_11eb_a85c_0242ac1c0002row10_col8\" class=\"data row10 col8\" >0.251321</td>\n",
              "                        <td id=\"T_f730aa3e_754b_11eb_a85c_0242ac1c0002row10_col9\" class=\"data row10 col9\" >-0.144674</td>\n",
              "                        <td id=\"T_f730aa3e_754b_11eb_a85c_0242ac1c0002row10_col10\" class=\"data row10 col10\" >1.000000</td>\n",
              "                        <td id=\"T_f730aa3e_754b_11eb_a85c_0242ac1c0002row10_col11\" class=\"data row10 col11\" >0.755923</td>\n",
              "                        <td id=\"T_f730aa3e_754b_11eb_a85c_0242ac1c0002row10_col12\" class=\"data row10 col12\" >0.168392</td>\n",
              "                        <td id=\"T_f730aa3e_754b_11eb_a85c_0242ac1c0002row10_col13\" class=\"data row10 col13\" >0.446963</td>\n",
              "                        <td id=\"T_f730aa3e_754b_11eb_a85c_0242ac1c0002row10_col14\" class=\"data row10 col14\" >0.014414</td>\n",
              "                        <td id=\"T_f730aa3e_754b_11eb_a85c_0242ac1c0002row10_col15\" class=\"data row10 col15\" >-0.184862</td>\n",
              "                        <td id=\"T_f730aa3e_754b_11eb_a85c_0242ac1c0002row10_col16\" class=\"data row10 col16\" >0.114084</td>\n",
              "                        <td id=\"T_f730aa3e_754b_11eb_a85c_0242ac1c0002row10_col17\" class=\"data row10 col17\" >0.198372</td>\n",
              "                        <td id=\"T_f730aa3e_754b_11eb_a85c_0242ac1c0002row10_col18\" class=\"data row10 col18\" >0.713202</td>\n",
              "                        <td id=\"T_f730aa3e_754b_11eb_a85c_0242ac1c0002row10_col19\" class=\"data row10 col19\" >0.119248</td>\n",
              "            </tr>\n",
              "            <tr>\n",
              "                        <th id=\"T_f730aa3e_754b_11eb_a85c_0242ac1c0002level0_row11\" class=\"row_heading level0 row11\" >sqft_above</th>\n",
              "                        <td id=\"T_f730aa3e_754b_11eb_a85c_0242ac1c0002row11_col0\" class=\"data row11 col0\" >-0.010842</td>\n",
              "                        <td id=\"T_f730aa3e_754b_11eb_a85c_0242ac1c0002row11_col1\" class=\"data row11 col1\" >0.605567</td>\n",
              "                        <td id=\"T_f730aa3e_754b_11eb_a85c_0242ac1c0002row11_col2\" class=\"data row11 col2\" >0.477600</td>\n",
              "                        <td id=\"T_f730aa3e_754b_11eb_a85c_0242ac1c0002row11_col3\" class=\"data row11 col3\" >0.685342</td>\n",
              "                        <td id=\"T_f730aa3e_754b_11eb_a85c_0242ac1c0002row11_col4\" class=\"data row11 col4\" >0.876597</td>\n",
              "                        <td id=\"T_f730aa3e_754b_11eb_a85c_0242ac1c0002row11_col5\" class=\"data row11 col5\" >0.183512</td>\n",
              "                        <td id=\"T_f730aa3e_754b_11eb_a85c_0242ac1c0002row11_col6\" class=\"data row11 col6\" >0.523885</td>\n",
              "                        <td id=\"T_f730aa3e_754b_11eb_a85c_0242ac1c0002row11_col7\" class=\"data row11 col7\" >0.072075</td>\n",
              "                        <td id=\"T_f730aa3e_754b_11eb_a85c_0242ac1c0002row11_col8\" class=\"data row11 col8\" >0.167649</td>\n",
              "                        <td id=\"T_f730aa3e_754b_11eb_a85c_0242ac1c0002row11_col9\" class=\"data row11 col9\" >-0.158214</td>\n",
              "                        <td id=\"T_f730aa3e_754b_11eb_a85c_0242ac1c0002row11_col10\" class=\"data row11 col10\" >0.755923</td>\n",
              "                        <td id=\"T_f730aa3e_754b_11eb_a85c_0242ac1c0002row11_col11\" class=\"data row11 col11\" >1.000000</td>\n",
              "                        <td id=\"T_f730aa3e_754b_11eb_a85c_0242ac1c0002row11_col12\" class=\"data row11 col12\" >-0.051943</td>\n",
              "                        <td id=\"T_f730aa3e_754b_11eb_a85c_0242ac1c0002row11_col13\" class=\"data row11 col13\" >0.423898</td>\n",
              "                        <td id=\"T_f730aa3e_754b_11eb_a85c_0242ac1c0002row11_col14\" class=\"data row11 col14\" >0.023285</td>\n",
              "                        <td id=\"T_f730aa3e_754b_11eb_a85c_0242ac1c0002row11_col15\" class=\"data row11 col15\" >-0.261190</td>\n",
              "                        <td id=\"T_f730aa3e_754b_11eb_a85c_0242ac1c0002row11_col16\" class=\"data row11 col16\" >-0.000816</td>\n",
              "                        <td id=\"T_f730aa3e_754b_11eb_a85c_0242ac1c0002row11_col17\" class=\"data row11 col17\" >0.343803</td>\n",
              "                        <td id=\"T_f730aa3e_754b_11eb_a85c_0242ac1c0002row11_col18\" class=\"data row11 col18\" >0.731870</td>\n",
              "                        <td id=\"T_f730aa3e_754b_11eb_a85c_0242ac1c0002row11_col19\" class=\"data row11 col19\" >0.194050</td>\n",
              "            </tr>\n",
              "            <tr>\n",
              "                        <th id=\"T_f730aa3e_754b_11eb_a85c_0242ac1c0002level0_row12\" class=\"row_heading level0 row12\" >sqft_basement</th>\n",
              "                        <td id=\"T_f730aa3e_754b_11eb_a85c_0242ac1c0002row12_col0\" class=\"data row12 col0\" >-0.005151</td>\n",
              "                        <td id=\"T_f730aa3e_754b_11eb_a85c_0242ac1c0002row12_col1\" class=\"data row12 col1\" >0.323816</td>\n",
              "                        <td id=\"T_f730aa3e_754b_11eb_a85c_0242ac1c0002row12_col2\" class=\"data row12 col2\" >0.303093</td>\n",
              "                        <td id=\"T_f730aa3e_754b_11eb_a85c_0242ac1c0002row12_col3\" class=\"data row12 col3\" >0.283770</td>\n",
              "                        <td id=\"T_f730aa3e_754b_11eb_a85c_0242ac1c0002row12_col4\" class=\"data row12 col4\" >0.435043</td>\n",
              "                        <td id=\"T_f730aa3e_754b_11eb_a85c_0242ac1c0002row12_col5\" class=\"data row12 col5\" >0.015286</td>\n",
              "                        <td id=\"T_f730aa3e_754b_11eb_a85c_0242ac1c0002row12_col6\" class=\"data row12 col6\" >-0.245705</td>\n",
              "                        <td id=\"T_f730aa3e_754b_11eb_a85c_0242ac1c0002row12_col7\" class=\"data row12 col7\" >0.080588</td>\n",
              "                        <td id=\"T_f730aa3e_754b_11eb_a85c_0242ac1c0002row12_col8\" class=\"data row12 col8\" >0.276947</td>\n",
              "                        <td id=\"T_f730aa3e_754b_11eb_a85c_0242ac1c0002row12_col9\" class=\"data row12 col9\" >0.174105</td>\n",
              "                        <td id=\"T_f730aa3e_754b_11eb_a85c_0242ac1c0002row12_col10\" class=\"data row12 col10\" >0.168392</td>\n",
              "                        <td id=\"T_f730aa3e_754b_11eb_a85c_0242ac1c0002row12_col11\" class=\"data row12 col11\" >-0.051943</td>\n",
              "                        <td id=\"T_f730aa3e_754b_11eb_a85c_0242ac1c0002row12_col12\" class=\"data row12 col12\" >1.000000</td>\n",
              "                        <td id=\"T_f730aa3e_754b_11eb_a85c_0242ac1c0002row12_col13\" class=\"data row12 col13\" >-0.133124</td>\n",
              "                        <td id=\"T_f730aa3e_754b_11eb_a85c_0242ac1c0002row12_col14\" class=\"data row12 col14\" >0.071323</td>\n",
              "                        <td id=\"T_f730aa3e_754b_11eb_a85c_0242ac1c0002row12_col15\" class=\"data row12 col15\" >0.074845</td>\n",
              "                        <td id=\"T_f730aa3e_754b_11eb_a85c_0242ac1c0002row12_col16\" class=\"data row12 col16\" >0.110538</td>\n",
              "                        <td id=\"T_f730aa3e_754b_11eb_a85c_0242ac1c0002row12_col17\" class=\"data row12 col17\" >-0.144765</td>\n",
              "                        <td id=\"T_f730aa3e_754b_11eb_a85c_0242ac1c0002row12_col18\" class=\"data row12 col18\" >0.200355</td>\n",
              "                        <td id=\"T_f730aa3e_754b_11eb_a85c_0242ac1c0002row12_col19\" class=\"data row12 col19\" >0.017276</td>\n",
              "            </tr>\n",
              "            <tr>\n",
              "                        <th id=\"T_f730aa3e_754b_11eb_a85c_0242ac1c0002level0_row13\" class=\"row_heading level0 row13\" >yr_built</th>\n",
              "                        <td id=\"T_f730aa3e_754b_11eb_a85c_0242ac1c0002row13_col0\" class=\"data row13 col0\" >0.021380</td>\n",
              "                        <td id=\"T_f730aa3e_754b_11eb_a85c_0242ac1c0002row13_col1\" class=\"data row13 col1\" >0.054012</td>\n",
              "                        <td id=\"T_f730aa3e_754b_11eb_a85c_0242ac1c0002row13_col2\" class=\"data row13 col2\" >0.154178</td>\n",
              "                        <td id=\"T_f730aa3e_754b_11eb_a85c_0242ac1c0002row13_col3\" class=\"data row13 col3\" >0.506019</td>\n",
              "                        <td id=\"T_f730aa3e_754b_11eb_a85c_0242ac1c0002row13_col4\" class=\"data row13 col4\" >0.318049</td>\n",
              "                        <td id=\"T_f730aa3e_754b_11eb_a85c_0242ac1c0002row13_col5\" class=\"data row13 col5\" >0.053080</td>\n",
              "                        <td id=\"T_f730aa3e_754b_11eb_a85c_0242ac1c0002row13_col6\" class=\"data row13 col6\" >0.489319</td>\n",
              "                        <td id=\"T_f730aa3e_754b_11eb_a85c_0242ac1c0002row13_col7\" class=\"data row13 col7\" >-0.026161</td>\n",
              "                        <td id=\"T_f730aa3e_754b_11eb_a85c_0242ac1c0002row13_col8\" class=\"data row13 col8\" >-0.053440</td>\n",
              "                        <td id=\"T_f730aa3e_754b_11eb_a85c_0242ac1c0002row13_col9\" class=\"data row13 col9\" >-0.361417</td>\n",
              "                        <td id=\"T_f730aa3e_754b_11eb_a85c_0242ac1c0002row13_col10\" class=\"data row13 col10\" >0.446963</td>\n",
              "                        <td id=\"T_f730aa3e_754b_11eb_a85c_0242ac1c0002row13_col11\" class=\"data row13 col11\" >0.423898</td>\n",
              "                        <td id=\"T_f730aa3e_754b_11eb_a85c_0242ac1c0002row13_col12\" class=\"data row13 col12\" >-0.133124</td>\n",
              "                        <td id=\"T_f730aa3e_754b_11eb_a85c_0242ac1c0002row13_col13\" class=\"data row13 col13\" >1.000000</td>\n",
              "                        <td id=\"T_f730aa3e_754b_11eb_a85c_0242ac1c0002row13_col14\" class=\"data row13 col14\" >-0.224874</td>\n",
              "                        <td id=\"T_f730aa3e_754b_11eb_a85c_0242ac1c0002row13_col15\" class=\"data row13 col15\" >-0.346869</td>\n",
              "                        <td id=\"T_f730aa3e_754b_11eb_a85c_0242ac1c0002row13_col16\" class=\"data row13 col16\" >-0.148122</td>\n",
              "                        <td id=\"T_f730aa3e_754b_11eb_a85c_0242ac1c0002row13_col17\" class=\"data row13 col17\" >0.409356</td>\n",
              "                        <td id=\"T_f730aa3e_754b_11eb_a85c_0242ac1c0002row13_col18\" class=\"data row13 col18\" >0.326229</td>\n",
              "                        <td id=\"T_f730aa3e_754b_11eb_a85c_0242ac1c0002row13_col19\" class=\"data row13 col19\" >0.070958</td>\n",
              "            </tr>\n",
              "            <tr>\n",
              "                        <th id=\"T_f730aa3e_754b_11eb_a85c_0242ac1c0002level0_row14\" class=\"row_heading level0 row14\" >yr_renovated</th>\n",
              "                        <td id=\"T_f730aa3e_754b_11eb_a85c_0242ac1c0002row14_col0\" class=\"data row14 col0\" >-0.016907</td>\n",
              "                        <td id=\"T_f730aa3e_754b_11eb_a85c_0242ac1c0002row14_col1\" class=\"data row14 col1\" >0.126434</td>\n",
              "                        <td id=\"T_f730aa3e_754b_11eb_a85c_0242ac1c0002row14_col2\" class=\"data row14 col2\" >0.018841</td>\n",
              "                        <td id=\"T_f730aa3e_754b_11eb_a85c_0242ac1c0002row14_col3\" class=\"data row14 col3\" >0.050739</td>\n",
              "                        <td id=\"T_f730aa3e_754b_11eb_a85c_0242ac1c0002row14_col4\" class=\"data row14 col4\" >0.055363</td>\n",
              "                        <td id=\"T_f730aa3e_754b_11eb_a85c_0242ac1c0002row14_col5\" class=\"data row14 col5\" >0.007644</td>\n",
              "                        <td id=\"T_f730aa3e_754b_11eb_a85c_0242ac1c0002row14_col6\" class=\"data row14 col6\" >0.006338</td>\n",
              "                        <td id=\"T_f730aa3e_754b_11eb_a85c_0242ac1c0002row14_col7\" class=\"data row14 col7\" >0.092885</td>\n",
              "                        <td id=\"T_f730aa3e_754b_11eb_a85c_0242ac1c0002row14_col8\" class=\"data row14 col8\" >0.103917</td>\n",
              "                        <td id=\"T_f730aa3e_754b_11eb_a85c_0242ac1c0002row14_col9\" class=\"data row14 col9\" >-0.060618</td>\n",
              "                        <td id=\"T_f730aa3e_754b_11eb_a85c_0242ac1c0002row14_col10\" class=\"data row14 col10\" >0.014414</td>\n",
              "                        <td id=\"T_f730aa3e_754b_11eb_a85c_0242ac1c0002row14_col11\" class=\"data row14 col11\" >0.023285</td>\n",
              "                        <td id=\"T_f730aa3e_754b_11eb_a85c_0242ac1c0002row14_col12\" class=\"data row14 col12\" >0.071323</td>\n",
              "                        <td id=\"T_f730aa3e_754b_11eb_a85c_0242ac1c0002row14_col13\" class=\"data row14 col13\" >-0.224874</td>\n",
              "                        <td id=\"T_f730aa3e_754b_11eb_a85c_0242ac1c0002row14_col14\" class=\"data row14 col14\" >1.000000</td>\n",
              "                        <td id=\"T_f730aa3e_754b_11eb_a85c_0242ac1c0002row14_col15\" class=\"data row14 col15\" >0.064357</td>\n",
              "                        <td id=\"T_f730aa3e_754b_11eb_a85c_0242ac1c0002row14_col16\" class=\"data row14 col16\" >0.029398</td>\n",
              "                        <td id=\"T_f730aa3e_754b_11eb_a85c_0242ac1c0002row14_col17\" class=\"data row14 col17\" >-0.068372</td>\n",
              "                        <td id=\"T_f730aa3e_754b_11eb_a85c_0242ac1c0002row14_col18\" class=\"data row14 col18\" >-0.002673</td>\n",
              "                        <td id=\"T_f730aa3e_754b_11eb_a85c_0242ac1c0002row14_col19\" class=\"data row14 col19\" >0.007854</td>\n",
              "            </tr>\n",
              "            <tr>\n",
              "                        <th id=\"T_f730aa3e_754b_11eb_a85c_0242ac1c0002level0_row15\" class=\"row_heading level0 row15\" >zipcode</th>\n",
              "                        <td id=\"T_f730aa3e_754b_11eb_a85c_0242ac1c0002row15_col0\" class=\"data row15 col0\" >-0.008224</td>\n",
              "                        <td id=\"T_f730aa3e_754b_11eb_a85c_0242ac1c0002row15_col1\" class=\"data row15 col1\" >-0.053203</td>\n",
              "                        <td id=\"T_f730aa3e_754b_11eb_a85c_0242ac1c0002row15_col2\" class=\"data row15 col2\" >-0.152668</td>\n",
              "                        <td id=\"T_f730aa3e_754b_11eb_a85c_0242ac1c0002row15_col3\" class=\"data row15 col3\" >-0.203866</td>\n",
              "                        <td id=\"T_f730aa3e_754b_11eb_a85c_0242ac1c0002row15_col4\" class=\"data row15 col4\" >-0.199430</td>\n",
              "                        <td id=\"T_f730aa3e_754b_11eb_a85c_0242ac1c0002row15_col5\" class=\"data row15 col5\" >-0.129574</td>\n",
              "                        <td id=\"T_f730aa3e_754b_11eb_a85c_0242ac1c0002row15_col6\" class=\"data row15 col6\" >-0.059121</td>\n",
              "                        <td id=\"T_f730aa3e_754b_11eb_a85c_0242ac1c0002row15_col7\" class=\"data row15 col7\" >0.030285</td>\n",
              "                        <td id=\"T_f730aa3e_754b_11eb_a85c_0242ac1c0002row15_col8\" class=\"data row15 col8\" >0.084827</td>\n",
              "                        <td id=\"T_f730aa3e_754b_11eb_a85c_0242ac1c0002row15_col9\" class=\"data row15 col9\" >0.003026</td>\n",
              "                        <td id=\"T_f730aa3e_754b_11eb_a85c_0242ac1c0002row15_col10\" class=\"data row15 col10\" >-0.184862</td>\n",
              "                        <td id=\"T_f730aa3e_754b_11eb_a85c_0242ac1c0002row15_col11\" class=\"data row15 col11\" >-0.261190</td>\n",
              "                        <td id=\"T_f730aa3e_754b_11eb_a85c_0242ac1c0002row15_col12\" class=\"data row15 col12\" >0.074845</td>\n",
              "                        <td id=\"T_f730aa3e_754b_11eb_a85c_0242ac1c0002row15_col13\" class=\"data row15 col13\" >-0.346869</td>\n",
              "                        <td id=\"T_f730aa3e_754b_11eb_a85c_0242ac1c0002row15_col14\" class=\"data row15 col14\" >0.064357</td>\n",
              "                        <td id=\"T_f730aa3e_754b_11eb_a85c_0242ac1c0002row15_col15\" class=\"data row15 col15\" >1.000000</td>\n",
              "                        <td id=\"T_f730aa3e_754b_11eb_a85c_0242ac1c0002row15_col16\" class=\"data row15 col16\" >0.267048</td>\n",
              "                        <td id=\"T_f730aa3e_754b_11eb_a85c_0242ac1c0002row15_col17\" class=\"data row15 col17\" >-0.564072</td>\n",
              "                        <td id=\"T_f730aa3e_754b_11eb_a85c_0242ac1c0002row15_col18\" class=\"data row15 col18\" >-0.279033</td>\n",
              "                        <td id=\"T_f730aa3e_754b_11eb_a85c_0242ac1c0002row15_col19\" class=\"data row15 col19\" >-0.147221</td>\n",
              "            </tr>\n",
              "            <tr>\n",
              "                        <th id=\"T_f730aa3e_754b_11eb_a85c_0242ac1c0002level0_row16\" class=\"row_heading level0 row16\" >lat</th>\n",
              "                        <td id=\"T_f730aa3e_754b_11eb_a85c_0242ac1c0002row16_col0\" class=\"data row16 col0\" >-0.001891</td>\n",
              "                        <td id=\"T_f730aa3e_754b_11eb_a85c_0242ac1c0002row16_col1\" class=\"data row16 col1\" >0.307003</td>\n",
              "                        <td id=\"T_f730aa3e_754b_11eb_a85c_0242ac1c0002row16_col2\" class=\"data row16 col2\" >-0.008931</td>\n",
              "                        <td id=\"T_f730aa3e_754b_11eb_a85c_0242ac1c0002row16_col3\" class=\"data row16 col3\" >0.024573</td>\n",
              "                        <td id=\"T_f730aa3e_754b_11eb_a85c_0242ac1c0002row16_col4\" class=\"data row16 col4\" >0.052529</td>\n",
              "                        <td id=\"T_f730aa3e_754b_11eb_a85c_0242ac1c0002row16_col5\" class=\"data row16 col5\" >-0.085683</td>\n",
              "                        <td id=\"T_f730aa3e_754b_11eb_a85c_0242ac1c0002row16_col6\" class=\"data row16 col6\" >0.049614</td>\n",
              "                        <td id=\"T_f730aa3e_754b_11eb_a85c_0242ac1c0002row16_col7\" class=\"data row16 col7\" >-0.014274</td>\n",
              "                        <td id=\"T_f730aa3e_754b_11eb_a85c_0242ac1c0002row16_col8\" class=\"data row16 col8\" >0.006157</td>\n",
              "                        <td id=\"T_f730aa3e_754b_11eb_a85c_0242ac1c0002row16_col9\" class=\"data row16 col9\" >-0.014941</td>\n",
              "                        <td id=\"T_f730aa3e_754b_11eb_a85c_0242ac1c0002row16_col10\" class=\"data row16 col10\" >0.114084</td>\n",
              "                        <td id=\"T_f730aa3e_754b_11eb_a85c_0242ac1c0002row16_col11\" class=\"data row16 col11\" >-0.000816</td>\n",
              "                        <td id=\"T_f730aa3e_754b_11eb_a85c_0242ac1c0002row16_col12\" class=\"data row16 col12\" >0.110538</td>\n",
              "                        <td id=\"T_f730aa3e_754b_11eb_a85c_0242ac1c0002row16_col13\" class=\"data row16 col13\" >-0.148122</td>\n",
              "                        <td id=\"T_f730aa3e_754b_11eb_a85c_0242ac1c0002row16_col14\" class=\"data row16 col14\" >0.029398</td>\n",
              "                        <td id=\"T_f730aa3e_754b_11eb_a85c_0242ac1c0002row16_col15\" class=\"data row16 col15\" >0.267048</td>\n",
              "                        <td id=\"T_f730aa3e_754b_11eb_a85c_0242ac1c0002row16_col16\" class=\"data row16 col16\" >1.000000</td>\n",
              "                        <td id=\"T_f730aa3e_754b_11eb_a85c_0242ac1c0002row16_col17\" class=\"data row16 col17\" >-0.135512</td>\n",
              "                        <td id=\"T_f730aa3e_754b_11eb_a85c_0242ac1c0002row16_col18\" class=\"data row16 col18\" >0.048858</td>\n",
              "                        <td id=\"T_f730aa3e_754b_11eb_a85c_0242ac1c0002row16_col19\" class=\"data row16 col19\" >-0.086419</td>\n",
              "            </tr>\n",
              "            <tr>\n",
              "                        <th id=\"T_f730aa3e_754b_11eb_a85c_0242ac1c0002level0_row17\" class=\"row_heading level0 row17\" >long</th>\n",
              "                        <td id=\"T_f730aa3e_754b_11eb_a85c_0242ac1c0002row17_col0\" class=\"data row17 col0\" >0.020799</td>\n",
              "                        <td id=\"T_f730aa3e_754b_11eb_a85c_0242ac1c0002row17_col1\" class=\"data row17 col1\" >0.021626</td>\n",
              "                        <td id=\"T_f730aa3e_754b_11eb_a85c_0242ac1c0002row17_col2\" class=\"data row17 col2\" >0.129473</td>\n",
              "                        <td id=\"T_f730aa3e_754b_11eb_a85c_0242ac1c0002row17_col3\" class=\"data row17 col3\" >0.223042</td>\n",
              "                        <td id=\"T_f730aa3e_754b_11eb_a85c_0242ac1c0002row17_col4\" class=\"data row17 col4\" >0.240223</td>\n",
              "                        <td id=\"T_f730aa3e_754b_11eb_a85c_0242ac1c0002row17_col5\" class=\"data row17 col5\" >0.229521</td>\n",
              "                        <td id=\"T_f730aa3e_754b_11eb_a85c_0242ac1c0002row17_col6\" class=\"data row17 col6\" >0.125419</td>\n",
              "                        <td id=\"T_f730aa3e_754b_11eb_a85c_0242ac1c0002row17_col7\" class=\"data row17 col7\" >-0.041910</td>\n",
              "                        <td id=\"T_f730aa3e_754b_11eb_a85c_0242ac1c0002row17_col8\" class=\"data row17 col8\" >-0.078400</td>\n",
              "                        <td id=\"T_f730aa3e_754b_11eb_a85c_0242ac1c0002row17_col9\" class=\"data row17 col9\" >-0.106500</td>\n",
              "                        <td id=\"T_f730aa3e_754b_11eb_a85c_0242ac1c0002row17_col10\" class=\"data row17 col10\" >0.198372</td>\n",
              "                        <td id=\"T_f730aa3e_754b_11eb_a85c_0242ac1c0002row17_col11\" class=\"data row17 col11\" >0.343803</td>\n",
              "                        <td id=\"T_f730aa3e_754b_11eb_a85c_0242ac1c0002row17_col12\" class=\"data row17 col12\" >-0.144765</td>\n",
              "                        <td id=\"T_f730aa3e_754b_11eb_a85c_0242ac1c0002row17_col13\" class=\"data row17 col13\" >0.409356</td>\n",
              "                        <td id=\"T_f730aa3e_754b_11eb_a85c_0242ac1c0002row17_col14\" class=\"data row17 col14\" >-0.068372</td>\n",
              "                        <td id=\"T_f730aa3e_754b_11eb_a85c_0242ac1c0002row17_col15\" class=\"data row17 col15\" >-0.564072</td>\n",
              "                        <td id=\"T_f730aa3e_754b_11eb_a85c_0242ac1c0002row17_col16\" class=\"data row17 col16\" >-0.135512</td>\n",
              "                        <td id=\"T_f730aa3e_754b_11eb_a85c_0242ac1c0002row17_col17\" class=\"data row17 col17\" >1.000000</td>\n",
              "                        <td id=\"T_f730aa3e_754b_11eb_a85c_0242ac1c0002row17_col18\" class=\"data row17 col18\" >0.334605</td>\n",
              "                        <td id=\"T_f730aa3e_754b_11eb_a85c_0242ac1c0002row17_col19\" class=\"data row17 col19\" >0.254451</td>\n",
              "            </tr>\n",
              "            <tr>\n",
              "                        <th id=\"T_f730aa3e_754b_11eb_a85c_0242ac1c0002level0_row18\" class=\"row_heading level0 row18\" >sqft_living15</th>\n",
              "                        <td id=\"T_f730aa3e_754b_11eb_a85c_0242ac1c0002row18_col0\" class=\"data row18 col0\" >-0.002901</td>\n",
              "                        <td id=\"T_f730aa3e_754b_11eb_a85c_0242ac1c0002row18_col1\" class=\"data row18 col1\" >0.585379</td>\n",
              "                        <td id=\"T_f730aa3e_754b_11eb_a85c_0242ac1c0002row18_col2\" class=\"data row18 col2\" >0.391638</td>\n",
              "                        <td id=\"T_f730aa3e_754b_11eb_a85c_0242ac1c0002row18_col3\" class=\"data row18 col3\" >0.568634</td>\n",
              "                        <td id=\"T_f730aa3e_754b_11eb_a85c_0242ac1c0002row18_col4\" class=\"data row18 col4\" >0.756420</td>\n",
              "                        <td id=\"T_f730aa3e_754b_11eb_a85c_0242ac1c0002row18_col5\" class=\"data row18 col5\" >0.144608</td>\n",
              "                        <td id=\"T_f730aa3e_754b_11eb_a85c_0242ac1c0002row18_col6\" class=\"data row18 col6\" >0.279885</td>\n",
              "                        <td id=\"T_f730aa3e_754b_11eb_a85c_0242ac1c0002row18_col7\" class=\"data row18 col7\" >0.086463</td>\n",
              "                        <td id=\"T_f730aa3e_754b_11eb_a85c_0242ac1c0002row18_col8\" class=\"data row18 col8\" >0.280439</td>\n",
              "                        <td id=\"T_f730aa3e_754b_11eb_a85c_0242ac1c0002row18_col9\" class=\"data row18 col9\" >-0.092824</td>\n",
              "                        <td id=\"T_f730aa3e_754b_11eb_a85c_0242ac1c0002row18_col10\" class=\"data row18 col10\" >0.713202</td>\n",
              "                        <td id=\"T_f730aa3e_754b_11eb_a85c_0242ac1c0002row18_col11\" class=\"data row18 col11\" >0.731870</td>\n",
              "                        <td id=\"T_f730aa3e_754b_11eb_a85c_0242ac1c0002row18_col12\" class=\"data row18 col12\" >0.200355</td>\n",
              "                        <td id=\"T_f730aa3e_754b_11eb_a85c_0242ac1c0002row18_col13\" class=\"data row18 col13\" >0.326229</td>\n",
              "                        <td id=\"T_f730aa3e_754b_11eb_a85c_0242ac1c0002row18_col14\" class=\"data row18 col14\" >-0.002673</td>\n",
              "                        <td id=\"T_f730aa3e_754b_11eb_a85c_0242ac1c0002row18_col15\" class=\"data row18 col15\" >-0.279033</td>\n",
              "                        <td id=\"T_f730aa3e_754b_11eb_a85c_0242ac1c0002row18_col16\" class=\"data row18 col16\" >0.048858</td>\n",
              "                        <td id=\"T_f730aa3e_754b_11eb_a85c_0242ac1c0002row18_col17\" class=\"data row18 col17\" >0.334605</td>\n",
              "                        <td id=\"T_f730aa3e_754b_11eb_a85c_0242ac1c0002row18_col18\" class=\"data row18 col18\" >1.000000</td>\n",
              "                        <td id=\"T_f730aa3e_754b_11eb_a85c_0242ac1c0002row18_col19\" class=\"data row18 col19\" >0.183192</td>\n",
              "            </tr>\n",
              "            <tr>\n",
              "                        <th id=\"T_f730aa3e_754b_11eb_a85c_0242ac1c0002level0_row19\" class=\"row_heading level0 row19\" >sqft_lot15</th>\n",
              "                        <td id=\"T_f730aa3e_754b_11eb_a85c_0242ac1c0002row19_col0\" class=\"data row19 col0\" >-0.138798</td>\n",
              "                        <td id=\"T_f730aa3e_754b_11eb_a85c_0242ac1c0002row19_col1\" class=\"data row19 col1\" >0.082447</td>\n",
              "                        <td id=\"T_f730aa3e_754b_11eb_a85c_0242ac1c0002row19_col2\" class=\"data row19 col2\" >0.029244</td>\n",
              "                        <td id=\"T_f730aa3e_754b_11eb_a85c_0242ac1c0002row19_col3\" class=\"data row19 col3\" >0.087175</td>\n",
              "                        <td id=\"T_f730aa3e_754b_11eb_a85c_0242ac1c0002row19_col4\" class=\"data row19 col4\" >0.183286</td>\n",
              "                        <td id=\"T_f730aa3e_754b_11eb_a85c_0242ac1c0002row19_col5\" class=\"data row19 col5\" >0.718557</td>\n",
              "                        <td id=\"T_f730aa3e_754b_11eb_a85c_0242ac1c0002row19_col6\" class=\"data row19 col6\" >-0.011269</td>\n",
              "                        <td id=\"T_f730aa3e_754b_11eb_a85c_0242ac1c0002row19_col7\" class=\"data row19 col7\" >0.030703</td>\n",
              "                        <td id=\"T_f730aa3e_754b_11eb_a85c_0242ac1c0002row19_col8\" class=\"data row19 col8\" >0.072575</td>\n",
              "                        <td id=\"T_f730aa3e_754b_11eb_a85c_0242ac1c0002row19_col9\" class=\"data row19 col9\" >-0.003406</td>\n",
              "                        <td id=\"T_f730aa3e_754b_11eb_a85c_0242ac1c0002row19_col10\" class=\"data row19 col10\" >0.119248</td>\n",
              "                        <td id=\"T_f730aa3e_754b_11eb_a85c_0242ac1c0002row19_col11\" class=\"data row19 col11\" >0.194050</td>\n",
              "                        <td id=\"T_f730aa3e_754b_11eb_a85c_0242ac1c0002row19_col12\" class=\"data row19 col12\" >0.017276</td>\n",
              "                        <td id=\"T_f730aa3e_754b_11eb_a85c_0242ac1c0002row19_col13\" class=\"data row19 col13\" >0.070958</td>\n",
              "                        <td id=\"T_f730aa3e_754b_11eb_a85c_0242ac1c0002row19_col14\" class=\"data row19 col14\" >0.007854</td>\n",
              "                        <td id=\"T_f730aa3e_754b_11eb_a85c_0242ac1c0002row19_col15\" class=\"data row19 col15\" >-0.147221</td>\n",
              "                        <td id=\"T_f730aa3e_754b_11eb_a85c_0242ac1c0002row19_col16\" class=\"data row19 col16\" >-0.086419</td>\n",
              "                        <td id=\"T_f730aa3e_754b_11eb_a85c_0242ac1c0002row19_col17\" class=\"data row19 col17\" >0.254451</td>\n",
              "                        <td id=\"T_f730aa3e_754b_11eb_a85c_0242ac1c0002row19_col18\" class=\"data row19 col18\" >0.183192</td>\n",
              "                        <td id=\"T_f730aa3e_754b_11eb_a85c_0242ac1c0002row19_col19\" class=\"data row19 col19\" >1.000000</td>\n",
              "            </tr>\n",
              "    </tbody></table>"
            ],
            "text/plain": [
              "<pandas.io.formats.style.Styler at 0x7fc3bf1c29e8>"
            ]
          },
          "metadata": {
            "tags": []
          },
          "execution_count": 6
        }
      ]
    },
    {
      "cell_type": "markdown",
      "metadata": {
        "id": "9nHC5HbcT3Cb"
      },
      "source": [
        "I'll take the following attributes for my exploratory data analysis, since they have higher correlations without dupplicates: **sqft_living, grade, bathrooms, view, condition and bedrooms.**\r\n",
        "\r\n",
        "Inicially I'll find the best house profile considering mean price and frequency of each attribute.\r\n",
        "\r\n"
      ]
    },
    {
      "cell_type": "markdown",
      "metadata": {
        "id": "XsdzFuufv9ek"
      },
      "source": [
        "### **Square feet**"
      ]
    },
    {
      "cell_type": "code",
      "metadata": {
        "colab": {
          "base_uri": "https://localhost:8080/"
        },
        "id": "qu9kPgShWStA",
        "outputId": "0181b0bb-6af2-4fb8-9c23-a43ecb0444b7"
      },
      "source": [
        "# Checking the smallest and largest house's square feet\r\n",
        "df.sqft_living.describe()"
      ],
      "execution_count": null,
      "outputs": [
        {
          "output_type": "execute_result",
          "data": {
            "text/plain": [
              "count    21613.000000\n",
              "mean      2079.899736\n",
              "std        918.440897\n",
              "min        290.000000\n",
              "25%       1427.000000\n",
              "50%       1910.000000\n",
              "75%       2550.000000\n",
              "max      13540.000000\n",
              "Name: sqft_living, dtype: float64"
            ]
          },
          "metadata": {
            "tags": []
          },
          "execution_count": 7
        }
      ]
    },
    {
      "cell_type": "code",
      "metadata": {
        "colab": {
          "base_uri": "https://localhost:8080/"
        },
        "id": "7HcUIPYEg0LK",
        "outputId": "fdd5f205-27ba-488e-d87c-75c15e9a6484"
      },
      "source": [
        "# Checking the mean of price per 1000 square feet\r\n",
        "sqft_mean_price = []\r\n",
        "\r\n",
        "for n in range(0, 14): \r\n",
        "  sqft_1 = df.query(f\"sqft_living > {n * 1000} & sqft_living <= {(n + 1) * 1000}\")\r\n",
        "  sqft_2 =sqft_1.price.mean() \r\n",
        "  sqft_mean_price.append(sqft_2)\r\n",
        "  print(f\"Mean price increased between {n * 1000}-{(n + 1) * 1000}ft²: ${sqft_2:.2f}\")"
      ],
      "execution_count": null,
      "outputs": [
        {
          "output_type": "stream",
          "text": [
            "Mean price increased between 0-1000ft²: $298301.01\n",
            "Mean price increased between 1000-2000ft²: $398802.97\n",
            "Mean price increased between 2000-3000ft²: $579311.20\n",
            "Mean price increased between 3000-4000ft²: $872755.07\n",
            "Mean price increased between 4000-5000ft²: $1326124.71\n",
            "Mean price increased between 5000-6000ft²: $1783964.55\n",
            "Mean price increased between 6000-7000ft²: $2136571.25\n",
            "Mean price increased between 7000-8000ft²: $2680533.68\n",
            "Mean price increased between 8000-9000ft²: $3766266.67\n",
            "Mean price increased between 9000-10000ft²: $5707666.67\n",
            "Mean price increased between 10000-11000ft²: $7062500.00\n",
            "Mean price increased between 11000-12000ft²: $nan\n",
            "Mean price increased between 12000-13000ft²: $7700000.00\n",
            "Mean price increased between 13000-14000ft²: $2280000.00\n"
          ],
          "name": "stdout"
        }
      ]
    },
    {
      "cell_type": "code",
      "metadata": {
        "id": "Au8es-uQ5hv6",
        "colab": {
          "base_uri": "https://localhost:8080/"
        },
        "outputId": "8365966b-cc65-4d4c-d42a-dc90fe553355"
      },
      "source": [
        "# Checking the additional value on average per 1000 square feet\r\n",
        "local1 = -1\r\n",
        "local2 = 0\r\n",
        "\r\n",
        "# The difference starts at the second element of the list\r\n",
        "print(\"percentage increased in mean price: \")\r\n",
        "\r\n",
        "for n in range(0, 13):\r\n",
        "  local1 = local1 + 1\r\n",
        "  local2 = local2 + 1\r\n",
        "  add_percentage = (sqft_mean_price[local2] - sqft_mean_price[local1]) / (sqft_mean_price[local1])\r\n",
        "  print(f\"{add_percentage}\")\r\n",
        "  "
      ],
      "execution_count": null,
      "outputs": [
        {
          "output_type": "stream",
          "text": [
            "percentage increased in mean price: \n",
            "0.33691459297703896\n",
            "0.45262509206113755\n",
            "0.5065392620808106\n",
            "0.5194694943743942\n",
            "0.34524644400934495\n",
            "0.19765342615349574\n",
            "0.2545959720325387\n",
            "0.4050435884658213\n",
            "0.5154706694516233\n",
            "0.23737078782923546\n",
            "nan\n",
            "nan\n",
            "-0.7038961038961039\n"
          ],
          "name": "stdout"
        }
      ]
    },
    {
      "cell_type": "code",
      "metadata": {
        "colab": {
          "base_uri": "https://localhost:8080/"
        },
        "id": "L5ynXZINvM0o",
        "outputId": "b6492bd6-a9da-4fc1-d250-fdef11b4e838"
      },
      "source": [
        "# Checking the frequency of sales per 1000 square feet\r\n",
        "for n in range(0, 14): \r\n",
        "  sqft_1 = df.query(f\"sqft_living > {n * 1000} & sqft_living <= {(n + 1) * 1000}\")\r\n",
        "  print(f\"Frequency between {n * 1000}-{(n + 1) * 1000}: {sqft_1.size/21}\")"
      ],
      "execution_count": null,
      "outputs": [
        {
          "output_type": "stream",
          "text": [
            "Frequency between 0-1000: 1494.0\n",
            "Frequency between 1000-2000: 10218.0\n",
            "Frequency between 2000-3000: 6819.0\n",
            "Frequency between 3000-4000: 2299.0\n",
            "Frequency between 4000-5000: 572.0\n",
            "Frequency between 5000-6000: 143.0\n",
            "Frequency between 6000-7000: 40.0\n",
            "Frequency between 7000-8000: 19.0\n",
            "Frequency between 8000-9000: 3.0\n",
            "Frequency between 9000-10000: 3.0\n",
            "Frequency between 10000-11000: 1.0\n",
            "Frequency between 11000-12000: 0.0\n",
            "Frequency between 12000-13000: 1.0\n",
            "Frequency between 13000-14000: 1.0\n"
          ],
          "name": "stdout"
        }
      ]
    },
    {
      "cell_type": "markdown",
      "metadata": {
        "id": "_A8zAt4XBiCr"
      },
      "source": [
        "The highest percentages of increase in average prices occur between 3000-4000ft² and 4000-5000ft², but considering the frequency of sales where the second one has 1/4 of the number of sales, I choose **3000-4000ft²** as the ideal size for resale houses"
      ]
    },
    {
      "cell_type": "markdown",
      "metadata": {
        "id": "GL5ah-QAGvdo"
      },
      "source": [
        "### **Grade**"
      ]
    },
    {
      "cell_type": "code",
      "metadata": {
        "colab": {
          "base_uri": "https://localhost:8080/"
        },
        "id": "5XBPh6c-G0tQ",
        "outputId": "c7fd643d-11cf-4b6e-fd97-9466a9796ce9"
      },
      "source": [
        "# Checking minimum and maximum of grade in the df\r\n",
        "df.grade.describe()"
      ],
      "execution_count": null,
      "outputs": [
        {
          "output_type": "execute_result",
          "data": {
            "text/plain": [
              "count    21613.000000\n",
              "mean         7.656873\n",
              "std          1.175459\n",
              "min          1.000000\n",
              "25%          7.000000\n",
              "50%          7.000000\n",
              "75%          8.000000\n",
              "max         13.000000\n",
              "Name: grade, dtype: float64"
            ]
          },
          "metadata": {
            "tags": []
          },
          "execution_count": 11
        }
      ]
    },
    {
      "cell_type": "code",
      "metadata": {
        "colab": {
          "base_uri": "https://localhost:8080/"
        },
        "id": "ONdkBv4kHPZw",
        "outputId": "6296cb1e-87ce-4afe-b2c2-5fb1541a6f56"
      },
      "source": [
        "# Checking the mean of price per grade\r\n",
        "grade_mean_price = []\r\n",
        "\r\n",
        "for n in range(1, 14):\r\n",
        "    grade_mean = df.loc[df.grade == n].price.mean()\r\n",
        "    grade_mean_price.append(grade_mean)\r\n",
        "    print(f\"Mean price for {n} grade: {grade_mean:.2f}\")"
      ],
      "execution_count": null,
      "outputs": [
        {
          "output_type": "stream",
          "text": [
            "Mean price for 1 grade: 142000.00\n",
            "Mean price for 2 grade: nan\n",
            "Mean price for 3 grade: 205666.67\n",
            "Mean price for 4 grade: 214381.03\n",
            "Mean price for 5 grade: 248523.97\n",
            "Mean price for 6 grade: 301919.64\n",
            "Mean price for 7 grade: 402590.26\n",
            "Mean price for 8 grade: 542852.77\n",
            "Mean price for 9 grade: 773513.19\n",
            "Mean price for 10 grade: 1071771.07\n",
            "Mean price for 11 grade: 1496841.73\n",
            "Mean price for 12 grade: 2191222.00\n",
            "Mean price for 13 grade: 3709615.38\n"
          ],
          "name": "stdout"
        }
      ]
    },
    {
      "cell_type": "code",
      "metadata": {
        "colab": {
          "base_uri": "https://localhost:8080/"
        },
        "id": "g19DuOH6I8J9",
        "outputId": "5f34b654-34a5-4194-ecc2-a77f5631148f"
      },
      "source": [
        "# Checking the additional value on average per grade\r\n",
        "local1 = -1\r\n",
        "local2 = 0\r\n",
        "\r\n",
        "# The difference starts at the second element of the list\r\n",
        "print(\"percentage increased in mean price: \")\r\n",
        "\r\n",
        "for n in range(0, 12):\r\n",
        "  local1 = local1 + 1\r\n",
        "  local2 = local2 + 1\r\n",
        "  add_percentage = (grade_mean_price[local2] - grade_mean_price[local1]) / (grade_mean_price[local1])\r\n",
        "  print(f\"{add_percentage}\")"
      ],
      "execution_count": null,
      "outputs": [
        {
          "output_type": "stream",
          "text": [
            "percentage increased in mean price: \n",
            "nan\n",
            "nan\n",
            "0.042371318392667515\n",
            "0.15926285958083414\n",
            "0.21485117143584045\n",
            "0.3334351677565301\n",
            "0.3484001389203628\n",
            "0.42490420015870434\n",
            "0.3855886281953056\n",
            "0.3966058265849319\n",
            "0.46389692426568147\n",
            "0.6929436563777583\n"
          ],
          "name": "stdout"
        }
      ]
    },
    {
      "cell_type": "code",
      "metadata": {
        "colab": {
          "base_uri": "https://localhost:8080/"
        },
        "id": "kh3scXqALJDY",
        "outputId": "b535dee4-f6d8-487b-d325-2a82b4a61248"
      },
      "source": [
        "# Checking the frequency of sales per grade\r\n",
        "df.groupby(\"grade\").size()"
      ],
      "execution_count": null,
      "outputs": [
        {
          "output_type": "execute_result",
          "data": {
            "text/plain": [
              "grade\n",
              "1        1\n",
              "3        3\n",
              "4       29\n",
              "5      242\n",
              "6     2038\n",
              "7     8981\n",
              "8     6068\n",
              "9     2615\n",
              "10    1134\n",
              "11     399\n",
              "12      90\n",
              "13      13\n",
              "dtype: int64"
            ]
          },
          "metadata": {
            "tags": []
          },
          "execution_count": 14
        }
      ]
    },
    {
      "cell_type": "code",
      "metadata": {
        "colab": {
          "base_uri": "https://localhost:8080/",
          "height": 285
        },
        "id": "6m3yEkZ-Z8tg",
        "outputId": "ce30ef3a-61f6-40d2-f1cf-f344377fb3e9"
      },
      "source": [
        "df[\"grade\"].value_counts().plot.bar()"
      ],
      "execution_count": null,
      "outputs": [
        {
          "output_type": "execute_result",
          "data": {
            "text/plain": [
              "<matplotlib.axes._subplots.AxesSubplot at 0x7fb21c517c10>"
            ]
          },
          "metadata": {
            "tags": []
          },
          "execution_count": 9
        },
        {
          "output_type": "display_data",
          "data": {
            "image/png": "[encoded data removed]",
            "text/plain": [
              "<Figure size 432x288 with 1 Axes>"
            ]
          },
          "metadata": {
            "tags": [],
            "needs_background": "light"
          }
        }
      ]
    },
    {
      "cell_type": "markdown",
      "metadata": {
        "id": "mgHG2199Lvzf"
      },
      "source": [
        "The three biggest average price increases occur in 9, 12 and 13 grades. \r\n",
        "Considering that the frequency of **9 grades** is much higher than the others, I choose it as the ideal house grade to resell."
      ]
    },
    {
      "cell_type": "markdown",
      "metadata": {
        "id": "9OMBq_BZPzFu"
      },
      "source": [
        "### **Bathrooms**\r\n"
      ]
    },
    {
      "cell_type": "code",
      "metadata": {
        "colab": {
          "base_uri": "https://localhost:8080/"
        },
        "id": "s2OsOwk9QmnF",
        "outputId": "f83cf78e-84f3-4f45-f9dd-35508465be42"
      },
      "source": [
        "# Checking minimum and maximum of bathrooms in the df\r\n",
        "df.bathrooms.describe()"
      ],
      "execution_count": null,
      "outputs": [
        {
          "output_type": "execute_result",
          "data": {
            "text/plain": [
              "count    21613.000000\n",
              "mean         2.114757\n",
              "std          0.770163\n",
              "min          0.000000\n",
              "25%          1.750000\n",
              "50%          2.250000\n",
              "75%          2.500000\n",
              "max          8.000000\n",
              "Name: bathrooms, dtype: float64"
            ]
          },
          "metadata": {
            "tags": []
          },
          "execution_count": 15
        }
      ]
    },
    {
      "cell_type": "code",
      "metadata": {
        "colab": {
          "base_uri": "https://localhost:8080/"
        },
        "id": "KB5e7I6dRleE",
        "outputId": "54d65dd7-ad2c-4167-f354-1e3f967f5394"
      },
      "source": [
        "# Checking the mean of price per bathroom\r\n",
        "bathrooms_mean_price = []\r\n",
        "\r\n",
        "for n in range(0, 9):\r\n",
        "    bathrooms_mean = df.query(f\"bathrooms >= {n} & bathrooms < {n + 1}\").price.mean()\r\n",
        "    bathrooms_mean_price.append(bathrooms_mean)\r\n",
        "    print(f\"Mean price for {n}-{n + 1} bathrooms: {bathrooms_mean:.2f}\")"
      ],
      "execution_count": null,
      "outputs": [
        {
          "output_type": "stream",
          "text": [
            "Mean price for 0-1 bathrooms: 309727.93\n",
            "Mean price for 1-2 bathrooms: 397462.24\n",
            "Mean price for 2-3 bathrooms: 544193.29\n",
            "Mean price for 3-4 bathrooms: 884999.35\n",
            "Mean price for 4-5 bathrooms: 1398806.68\n",
            "Mean price for 5-6 bathrooms: 1957492.29\n",
            "Mean price for 6-7 bathrooms: 2729657.50\n",
            "Mean price for 7-8 bathrooms: 3667500.00\n",
            "Mean price for 8-9 bathrooms: 4990000.00\n"
          ],
          "name": "stdout"
        }
      ]
    },
    {
      "cell_type": "code",
      "metadata": {
        "colab": {
          "base_uri": "https://localhost:8080/"
        },
        "id": "sQjw_ebTRmCz",
        "outputId": "770fc92a-8f76-4931-aecb-1cc42b2176b8"
      },
      "source": [
        "# Checking the additional value on average per bathroom\r\n",
        "local1 = -1\r\n",
        "local2 = 0\r\n",
        "\r\n",
        "# The difference starts at the second element of the list\r\n",
        "print(\"percentage increased in mean price: \")\r\n",
        "\r\n",
        "for n in range(0, 8):\r\n",
        "  local1 = local1 + 1\r\n",
        "  local2 = local2 + 1\r\n",
        "  add_percentage = (bathrooms_mean_price[local2] - bathrooms_mean_price[local1]) / (bathrooms_mean_price[local1])\r\n",
        "  print(f\"{add_percentage}\")"
      ],
      "execution_count": null,
      "outputs": [
        {
          "output_type": "stream",
          "text": [
            "percentage increased in mean price: \n",
            "0.2832625011301839\n",
            "0.3691697942909717\n",
            "0.6262592050968255\n",
            "0.5805736826250972\n",
            "0.39940158922048336\n",
            "0.39446653844848045\n",
            "0.34357515549111933\n",
            "0.3605998636673483\n"
          ],
          "name": "stdout"
        }
      ]
    },
    {
      "cell_type": "code",
      "metadata": {
        "colab": {
          "base_uri": "https://localhost:8080/"
        },
        "id": "9-r-KvGmUOve",
        "outputId": "b3dad383-4adc-4812-c7c0-fb6bcbda9058"
      },
      "source": [
        "# Checking the mean price increased per bathroom\r\n",
        "local1 = -1\r\n",
        "local2 = 0\r\n",
        "\r\n",
        "# The difference starts at the second element of the list\r\n",
        "print(\"mean price increases: \")\r\n",
        "\r\n",
        "for n in range(0, 8):\r\n",
        "  local1 = local1 + 1\r\n",
        "  local2 = local2 + 1\r\n",
        "  add_price = (bathrooms_mean_price[local2] - bathrooms_mean_price[local1])\r\n",
        "  print(f\"${add_price:.2f}\")"
      ],
      "execution_count": null,
      "outputs": [
        {
          "output_type": "stream",
          "text": [
            "Mean price increases: \n",
            "$87734.31\n",
            "$146731.05\n",
            "$340806.06\n",
            "$513807.33\n",
            "$558685.61\n",
            "$772165.21\n",
            "$937842.50\n",
            "$1322500.00\n"
          ],
          "name": "stdout"
        }
      ]
    },
    {
      "cell_type": "code",
      "metadata": {
        "colab": {
          "base_uri": "https://localhost:8080/"
        },
        "id": "929lanAvRl4D",
        "outputId": "602c70fe-9493-4475-8da3-6fd872514ff6"
      },
      "source": [
        "# Checking the frequency of sales per bathroom\r\n",
        "for n in range(0, 9):\r\n",
        "    bathrooms_mean = df.query(f\"bathrooms >= {n} & bathrooms < {n + 1}\")\r\n",
        "    print(f\"Frequency for {n}-{n +1} bathrooms: {bathrooms_mean.size/21}\")"
      ],
      "execution_count": null,
      "outputs": [
        {
          "output_type": "stream",
          "text": [
            "Frequency for 0-1 bathrooms: 86.0\n",
            "Frequency for 1-2 bathrooms: 8355.0\n",
            "Frequency for 2-3 bathrooms: 10542.0\n",
            "Frequency for 3-4 bathrooms: 2228.0\n",
            "Frequency for 4-5 bathrooms: 338.0\n",
            "Frequency for 5-6 bathrooms: 48.0\n",
            "Frequency for 6-7 bathrooms: 12.0\n",
            "Frequency for 7-8 bathrooms: 2.0\n",
            "Frequency for 8-9 bathrooms: 2.0\n"
          ],
          "name": "stdout"
        }
      ]
    },
    {
      "cell_type": "markdown",
      "metadata": {
        "id": "wiLgr7WrTo4Y"
      },
      "source": [
        "Considering the frequency first and the price percentage increased, the ideal number of **bathrooms is 3-4**, it's not so difficulty to sell and the price's percentage increased is bigger than 60% of price increases."
      ]
    },
    {
      "cell_type": "markdown",
      "metadata": {
        "id": "EQ6SHS9uPvDH"
      },
      "source": [
        "### **View**"
      ]
    },
    {
      "cell_type": "code",
      "metadata": {
        "colab": {
          "base_uri": "https://localhost:8080/"
        },
        "id": "NhsvPvmAQape",
        "outputId": "59209135-c843-497b-bc3b-010497f2d0b9"
      },
      "source": [
        "# Checking minimum and maximum of views in the df\r\n",
        "df.view.describe()"
      ],
      "execution_count": null,
      "outputs": [
        {
          "output_type": "execute_result",
          "data": {
            "text/plain": [
              "count    21613.000000\n",
              "mean         0.234303\n",
              "std          0.766318\n",
              "min          0.000000\n",
              "25%          0.000000\n",
              "50%          0.000000\n",
              "75%          0.000000\n",
              "max          4.000000\n",
              "Name: view, dtype: float64"
            ]
          },
          "metadata": {
            "tags": []
          },
          "execution_count": 65
        }
      ]
    },
    {
      "cell_type": "code",
      "metadata": {
        "colab": {
          "base_uri": "https://localhost:8080/"
        },
        "id": "H7H4c8C4YnCh",
        "outputId": "cb28baaa-3fb4-4616-fb0d-fd4a5eafa4fd"
      },
      "source": [
        "# Checking the mean of price per view\r\n",
        "view_mean_price = []\r\n",
        "\r\n",
        "for n in range(0, 5):\r\n",
        "    view_mean = df.loc[df.view == n].price.mean()\r\n",
        "    view_mean_price.append(view_mean)\r\n",
        "    print(f\"Price mean for {n} views: {view_mean:.2f}\")"
      ],
      "execution_count": null,
      "outputs": [
        {
          "output_type": "stream",
          "text": [
            "Price mean for 0 views: 496556.83\n",
            "Price mean for 1 views: 812280.84\n",
            "Price mean for 2 views: 792400.89\n",
            "Price mean for 3 views: 971965.27\n",
            "Price mean for 4 views: 1463711.24\n"
          ],
          "name": "stdout"
        }
      ]
    },
    {
      "cell_type": "code",
      "metadata": {
        "colab": {
          "base_uri": "https://localhost:8080/"
        },
        "id": "u_m44Fy7Ymx0",
        "outputId": "b2059f28-eaf7-4a52-9464-c91fc5d21ffd"
      },
      "source": [
        "# Checking the additional value on average per view\r\n",
        "local1 = -1\r\n",
        "local2 = 0\r\n",
        "\r\n",
        "# The difference starts at the second element of the list\r\n",
        "print(\"percentage increased in mean price: \")\r\n",
        "\r\n",
        "for n in range(0, 4):\r\n",
        "  local1 = local1 + 1\r\n",
        "  local2 = local2 + 1\r\n",
        "  add_percentage = (view_mean_price[local2] - view_mean_price[local1]) / (view_mean_price[local1])\r\n",
        "  print(f\"{add_percentage}\")"
      ],
      "execution_count": null,
      "outputs": [
        {
          "output_type": "stream",
          "text": [
            "percentage increased in mean price: \n",
            "0.635826526133913\n",
            "-0.02447423179869886\n",
            "0.22660800790675295\n",
            "0.5059295600686093\n"
          ],
          "name": "stdout"
        }
      ]
    },
    {
      "cell_type": "code",
      "metadata": {
        "colab": {
          "base_uri": "https://localhost:8080/"
        },
        "id": "2U5HyrYTYmhN",
        "outputId": "fe4beef5-fdb2-4700-a195-d84f5b1950b7"
      },
      "source": [
        "# Checking the frequency of sales per view\r\n",
        "df.groupby(\"view\").size()"
      ],
      "execution_count": null,
      "outputs": [
        {
          "output_type": "execute_result",
          "data": {
            "text/plain": [
              "view\n",
              "0    19488\n",
              "1      332\n",
              "2      963\n",
              "3      510\n",
              "4      319\n",
              "dtype: int64"
            ]
          },
          "metadata": {
            "tags": []
          },
          "execution_count": 163
        }
      ]
    },
    {
      "cell_type": "code",
      "metadata": {
        "colab": {
          "base_uri": "https://localhost:8080/",
          "height": 279
        },
        "id": "T6t-66l4ZV9i",
        "outputId": "2c3edc05-3684-4348-a2e9-88d028ec5659"
      },
      "source": [
        "df[\"view\"].value_counts().plot.bar()"
      ],
      "execution_count": null,
      "outputs": [
        {
          "output_type": "execute_result",
          "data": {
            "text/plain": [
              "<matplotlib.axes._subplots.AxesSubplot at 0x7fb22482f4d0>"
            ]
          },
          "metadata": {
            "tags": []
          },
          "execution_count": 7
        },
        {
          "output_type": "display_data",
          "data": {
            "image/png": "[encoded data removed]",
            "text/plain": [
              "<Figure size 432x288 with 1 Axes>"
            ]
          },
          "metadata": {
            "tags": [],
            "needs_background": "light"
          }
        }
      ]
    },
    {
      "cell_type": "markdown",
      "metadata": {
        "id": "gd01S3TTZxhi"
      },
      "source": [
        "Although 0 views have the best overwhelming frequency, it has a very low average sales price and the highest mean price and percentage increased has a considerable frequency in comparisons the others. So I'm choosing **4 views** as the ideal number for a house to resell."
      ]
    },
    {
      "cell_type": "markdown",
      "metadata": {
        "id": "mkGe3KXvPlqD"
      },
      "source": [
        "### **Condition**"
      ]
    },
    {
      "cell_type": "code",
      "metadata": {
        "colab": {
          "base_uri": "https://localhost:8080/"
        },
        "id": "_vX3AOjFPqDJ",
        "outputId": "4251e96a-da66-401d-97a2-5459a3621e79"
      },
      "source": [
        "# Checking minimum and maximum of condition in the df\r\n",
        "df.condition.describe()"
      ],
      "execution_count": null,
      "outputs": [
        {
          "output_type": "execute_result",
          "data": {
            "text/plain": [
              "count    21613.000000\n",
              "mean         3.409430\n",
              "std          0.650743\n",
              "min          1.000000\n",
              "25%          3.000000\n",
              "50%          3.000000\n",
              "75%          4.000000\n",
              "max          5.000000\n",
              "Name: condition, dtype: float64"
            ]
          },
          "metadata": {
            "tags": []
          },
          "execution_count": 66
        }
      ]
    },
    {
      "cell_type": "code",
      "metadata": {
        "colab": {
          "base_uri": "https://localhost:8080/"
        },
        "id": "_Bd0zNfsaYeQ",
        "outputId": "90f66856-1f6c-433d-998c-db876d8e69c9"
      },
      "source": [
        "# Checking the mean of price per condition\r\n",
        "condition_mean_price = []\r\n",
        "\r\n",
        "for n in range(1, 6):\r\n",
        "    condition_mean = df.loc[df.condition == n].price.mean()\r\n",
        "    condition_mean_price.append(condition_mean)\r\n",
        "    print(f\"Price mean for {n} conditions: {condition_mean:.2f}\")"
      ],
      "execution_count": null,
      "outputs": [
        {
          "output_type": "stream",
          "text": [
            "Price mean for 1 conditions: 334431.67\n",
            "Price mean for 2 conditions: 327287.15\n",
            "Price mean for 3 conditions: 542012.58\n",
            "Price mean for 4 conditions: 521200.39\n",
            "Price mean for 5 conditions: 612418.09\n"
          ],
          "name": "stdout"
        }
      ]
    },
    {
      "cell_type": "code",
      "metadata": {
        "colab": {
          "base_uri": "https://localhost:8080/"
        },
        "id": "EBX2bjflaYbC",
        "outputId": "5f6c1c96-bd4e-4b81-825f-736671449a0a"
      },
      "source": [
        "# Checking the additional value on average per condition\r\n",
        "local1 = -1\r\n",
        "local2 = 0\r\n",
        "\r\n",
        "# The difference starts at the second element of the list\r\n",
        "print(\"percentage increased in mean price: \")\r\n",
        "\r\n",
        "for n in range(0, 4):\r\n",
        "  local1 = local1 + 1\r\n",
        "  local2 = local2 + 1\r\n",
        "  add_percentage = (condition_mean_price[local2] - condition_mean_price[local1]) / (condition_mean_price[local1])\r\n",
        "  print(f\"{add_percentage}\")"
      ],
      "execution_count": null,
      "outputs": [
        {
          "output_type": "stream",
          "text": [
            "percentage increased in mean price: \n",
            "-0.021363172300757485\n",
            "0.6560765855031814\n",
            "-0.03839797996206541\n",
            "0.175014641335722\n"
          ],
          "name": "stdout"
        }
      ]
    },
    {
      "cell_type": "code",
      "metadata": {
        "colab": {
          "base_uri": "https://localhost:8080/"
        },
        "id": "xUWBUkXgaYQJ",
        "outputId": "02c31edc-06c3-40a6-f049-d6082d4beeef"
      },
      "source": [
        "# Checking the frequency of sales per condition\r\n",
        "df.groupby(\"condition\").size()"
      ],
      "execution_count": null,
      "outputs": [
        {
          "output_type": "execute_result",
          "data": {
            "text/plain": [
              "condition\n",
              "1       30\n",
              "2      172\n",
              "3    14031\n",
              "4     5679\n",
              "5     1700\n",
              "dtype: int64"
            ]
          },
          "metadata": {
            "tags": []
          },
          "execution_count": 157
        }
      ]
    },
    {
      "cell_type": "code",
      "metadata": {
        "colab": {
          "base_uri": "https://localhost:8080/",
          "height": 279
        },
        "id": "LxSZLQzFXzgP",
        "outputId": "354e630e-7a48-4f96-dca2-f6a2c40b8ac6"
      },
      "source": [
        "df[\"condition\"].value_counts().plot.bar()"
      ],
      "execution_count": null,
      "outputs": [
        {
          "output_type": "execute_result",
          "data": {
            "text/plain": [
              "<matplotlib.axes._subplots.AxesSubplot at 0x7fb224d3e290>"
            ]
          },
          "metadata": {
            "tags": []
          },
          "execution_count": 6
        },
        {
          "output_type": "display_data",
          "data": {
            "image/png": "[encoded data removed]",
            "text/plain": [
              "<Figure size 432x288 with 1 Axes>"
            ]
          },
          "metadata": {
            "tags": [],
            "needs_background": "light"
          }
        }
      ]
    },
    {
      "cell_type": "markdown",
      "metadata": {
        "id": "bWRe0EhhcLnm"
      },
      "source": [
        "The number of condition with a great average price and higher frequencies is 3 \r\n",
        "and 4. Because of that, I'm choosing **3 or 4** conditions as the ideal for a house to resell."
      ]
    },
    {
      "cell_type": "markdown",
      "metadata": {
        "id": "GhznwVQoLE8Z"
      },
      "source": [
        "### **Bedrooms**"
      ]
    },
    {
      "cell_type": "code",
      "metadata": {
        "colab": {
          "base_uri": "https://localhost:8080/"
        },
        "id": "AD-HGfdZ8afw",
        "outputId": "4357af9b-a693-4e06-b54f-833147cd9187"
      },
      "source": [
        "# Checking minimum and maximum of bedrooms in the df\r\n",
        "df.bedrooms.describe()"
      ],
      "execution_count": null,
      "outputs": [
        {
          "output_type": "execute_result",
          "data": {
            "text/plain": [
              "count    21613.000000\n",
              "mean         3.370842\n",
              "std          0.930062\n",
              "min          0.000000\n",
              "25%          3.000000\n",
              "50%          3.000000\n",
              "75%          4.000000\n",
              "max         33.000000\n",
              "Name: bedrooms, dtype: float64"
            ]
          },
          "metadata": {
            "tags": []
          },
          "execution_count": 92
        }
      ]
    },
    {
      "cell_type": "code",
      "metadata": {
        "colab": {
          "base_uri": "https://localhost:8080/"
        },
        "id": "O7OhU65Tdhz7",
        "outputId": "e58d3d9a-7ee9-43bf-9a78-d346cc383a08"
      },
      "source": [
        "df.groupby(\"bedrooms\").size()"
      ],
      "execution_count": null,
      "outputs": [
        {
          "output_type": "execute_result",
          "data": {
            "text/plain": [
              "bedrooms\n",
              "0       13\n",
              "1      199\n",
              "2     2760\n",
              "3     9824\n",
              "4     6882\n",
              "5     1601\n",
              "6      272\n",
              "7       38\n",
              "8       13\n",
              "9        6\n",
              "10       3\n",
              "11       1\n",
              "33       1\n",
              "dtype: int64"
            ]
          },
          "metadata": {
            "tags": []
          },
          "execution_count": 93
        }
      ]
    },
    {
      "cell_type": "code",
      "metadata": {
        "colab": {
          "base_uri": "https://localhost:8080/"
        },
        "id": "x2IpnE9edyoK",
        "outputId": "201e4f58-193a-425f-e991-cc17e7b2e0e1"
      },
      "source": [
        "df.drop(df[df.bedrooms > 15].index, inplace=True)\r\n",
        "\r\n",
        "df.groupby(\"bedrooms\").size()"
      ],
      "execution_count": null,
      "outputs": [
        {
          "output_type": "execute_result",
          "data": {
            "text/plain": [
              "bedrooms\n",
              "0       13\n",
              "1      199\n",
              "2     2760\n",
              "3     9824\n",
              "4     6882\n",
              "5     1601\n",
              "6      272\n",
              "7       38\n",
              "8       13\n",
              "9        6\n",
              "10       3\n",
              "11       1\n",
              "dtype: int64"
            ]
          },
          "metadata": {
            "tags": []
          },
          "execution_count": 105
        }
      ]
    },
    {
      "cell_type": "code",
      "metadata": {
        "colab": {
          "base_uri": "https://localhost:8080/",
          "height": 285
        },
        "id": "Fp69fB1eqndT",
        "outputId": "4ae90367-accd-49c4-8f4c-03f9f8942e62"
      },
      "source": [
        "df[\"bedrooms\"].value_counts().plot.bar()"
      ],
      "execution_count": null,
      "outputs": [
        {
          "output_type": "execute_result",
          "data": {
            "text/plain": [
              "<matplotlib.axes._subplots.AxesSubplot at 0x7f7945c3a160>"
            ]
          },
          "metadata": {
            "tags": []
          },
          "execution_count": 145
        },
        {
          "output_type": "display_data",
          "data": {
            "image/png": "[encoded data removed]",
            "text/plain": [
              "<Figure size 432x288 with 1 Axes>"
            ]
          },
          "metadata": {
            "tags": [],
            "needs_background": "light"
          }
        }
      ]
    },
    {
      "cell_type": "code",
      "metadata": {
        "colab": {
          "base_uri": "https://localhost:8080/"
        },
        "id": "fEKbkKc6f_-v",
        "outputId": "0070f924-47a4-4388-c3b9-b8bc82662098"
      },
      "source": [
        "# Checking the mean of price per bedroom\r\n",
        "bedrooms_mean_price = []\r\n",
        "\r\n",
        "for n in range(0, 12):\r\n",
        "    bedrooms_mean = df.loc[df.bedrooms == n].price.mean()\r\n",
        "    bedrooms_mean_price.append(bedrooms_mean)\r\n",
        "    print(f\"Price mean for {n} bedrooms: {bedrooms_mean:.2f}\")"
      ],
      "execution_count": null,
      "outputs": [
        {
          "output_type": "stream",
          "text": [
            "Price mean for 0 bedrooms: 409503.85\n",
            "Price mean for 1 bedrooms: 317642.88\n",
            "Price mean for 2 bedrooms: 401372.68\n",
            "Price mean for 3 bedrooms: 466232.08\n",
            "Price mean for 4 bedrooms: 635419.50\n",
            "Price mean for 5 bedrooms: 786599.83\n",
            "Price mean for 6 bedrooms: 825520.64\n",
            "Price mean for 7 bedrooms: 951184.66\n",
            "Price mean for 8 bedrooms: 1105076.92\n",
            "Price mean for 9 bedrooms: 893999.83\n",
            "Price mean for 10 bedrooms: 819333.33\n",
            "Price mean for 11 bedrooms: 520000.00\n"
          ],
          "name": "stdout"
        }
      ]
    },
    {
      "cell_type": "code",
      "metadata": {
        "colab": {
          "base_uri": "https://localhost:8080/"
        },
        "id": "d-c2p8sZgLf1",
        "outputId": "77e6766c-9275-46fd-96c7-293721f62825"
      },
      "source": [
        "# Checking the additional value on average per bedroom\r\n",
        "local1 = -1\r\n",
        "local2 = 0\r\n",
        "\r\n",
        "# The difference starts at the second element of the list\r\n",
        "print(\"percentage increased in mean price: \")\r\n",
        "\r\n",
        "for n in range(0, 11):\r\n",
        "  local1 = local1 + 1\r\n",
        "  local2 = local2 + 1\r\n",
        "  add_percentage = (bedrooms_mean_price[local2] - bedrooms_mean_price[local1]) / (bedrooms_mean_price[local1])\r\n",
        "  print(f\"{add_percentage}\")"
      ],
      "execution_count": null,
      "outputs": [
        {
          "output_type": "stream",
          "text": [
            "percentage increased in mean price: \n",
            "-0.2243225859647345\n",
            "0.2635972709235326\n",
            "0.16159394877787892\n",
            "0.36288242174099494\n",
            "0.23792207138826438\n",
            "0.049479806306345915\n",
            "0.15222396192267673\n",
            "0.16179010448170694\n",
            "-0.19100669404612736\n",
            "-0.08351959051446504\n",
            "-0.3653376729048007\n"
          ],
          "name": "stdout"
        }
      ]
    },
    {
      "cell_type": "code",
      "metadata": {
        "colab": {
          "base_uri": "https://localhost:8080/"
        },
        "id": "3b-YrKuZgLVd",
        "outputId": "343a7a5e-5cec-4e71-ae48-89a7095f7b71"
      },
      "source": [
        "# Checking the mean price increased per bedroom\r\n",
        "local1 = -1\r\n",
        "local2 = 0\r\n",
        "\r\n",
        "# The difference starts at the second element of the list\r\n",
        "print(\"Mean price increases: \")\r\n",
        "\r\n",
        "for n in range(0, 11):\r\n",
        "  local1 = local1 + 1\r\n",
        "  local2 = local2 + 1\r\n",
        "  add_price = (bedrooms_mean_price[local2] - bedrooms_mean_price[local1])\r\n",
        "  print(f\"${add_price:.2f}\")"
      ],
      "execution_count": null,
      "outputs": [
        {
          "output_type": "stream",
          "text": [
            "Mean price increases: \n",
            "$-91860.96\n",
            "$83729.80\n",
            "$64859.40\n",
            "$169187.43\n",
            "$151180.32\n",
            "$38920.81\n",
            "$125664.02\n",
            "$153892.27\n",
            "$-211077.09\n",
            "$-74666.50\n",
            "$-299333.33\n"
          ],
          "name": "stdout"
        }
      ]
    },
    {
      "cell_type": "markdown",
      "metadata": {
        "id": "d36KBQ04BCvP"
      },
      "source": [
        "I'm choosing **4 rooms** as the ideal number of bedrooms. Four bedrooms have the second highest frequency of sales and the largest percentage increase in average price"
      ]
    },
    {
      "cell_type": "markdown",
      "metadata": {
        "id": "IkjlFEfZ-xZu"
      },
      "source": [
        "## **Looking for the perfect fit**"
      ]
    },
    {
      "cell_type": "code",
      "metadata": {
        "colab": {
          "base_uri": "https://localhost:8080/",
          "height": 213
        },
        "id": "zuYLXexK_k2Z",
        "outputId": "56714262-e353-41fa-8b86-2ae0f9bbf677"
      },
      "source": [
        "# Looking for houses with all ideal attributes based on correlation\r\n",
        "df.query(\"sqft_living > 3000 & sqft_living <= 4000 & grade == 9 & bathrooms >= 3 & bathrooms < 4 & view == 4 & condition >= 3 & condition < 5 & bedrooms == 4\")"
      ],
      "execution_count": null,
      "outputs": [
        {
          "output_type": "execute_result",
          "data": {
            "text/html": [
              "<div>\n",
              "<style scoped>\n",
              "    .dataframe tbody tr th:only-of-type {\n",
              "        vertical-align: middle;\n",
              "    }\n",
              "\n",
              "    .dataframe tbody tr th {\n",
              "        vertical-align: top;\n",
              "    }\n",
              "\n",
              "    .dataframe thead th {\n",
              "        text-align: right;\n",
              "    }\n",
              "</style>\n",
              "<table border=\"1\" class=\"dataframe\">\n",
              "  <thead>\n",
              "    <tr style=\"text-align: right;\">\n",
              "      <th></th>\n",
              "      <th>id</th>\n",
              "      <th>date</th>\n",
              "      <th>price</th>\n",
              "      <th>bedrooms</th>\n",
              "      <th>bathrooms</th>\n",
              "      <th>sqft_living</th>\n",
              "      <th>sqft_lot</th>\n",
              "      <th>floors</th>\n",
              "      <th>waterfront</th>\n",
              "      <th>view</th>\n",
              "      <th>condition</th>\n",
              "      <th>grade</th>\n",
              "      <th>sqft_above</th>\n",
              "      <th>sqft_basement</th>\n",
              "      <th>yr_built</th>\n",
              "      <th>yr_renovated</th>\n",
              "      <th>zipcode</th>\n",
              "      <th>lat</th>\n",
              "      <th>long</th>\n",
              "      <th>sqft_living15</th>\n",
              "      <th>sqft_lot15</th>\n",
              "    </tr>\n",
              "  </thead>\n",
              "  <tbody>\n",
              "    <tr>\n",
              "      <th>11599</th>\n",
              "      <td>7284900030</td>\n",
              "      <td>2014-05-22</td>\n",
              "      <td>850000.0</td>\n",
              "      <td>4</td>\n",
              "      <td>3.25</td>\n",
              "      <td>3090</td>\n",
              "      <td>6744</td>\n",
              "      <td>2.0</td>\n",
              "      <td>0</td>\n",
              "      <td>4</td>\n",
              "      <td>3</td>\n",
              "      <td>9</td>\n",
              "      <td>3090</td>\n",
              "      <td>0</td>\n",
              "      <td>1923</td>\n",
              "      <td>2015</td>\n",
              "      <td>98177</td>\n",
              "      <td>47.7680</td>\n",
              "      <td>-122.388</td>\n",
              "      <td>2020</td>\n",
              "      <td>6656</td>\n",
              "    </tr>\n",
              "    <tr>\n",
              "      <th>12591</th>\n",
              "      <td>7922900040</td>\n",
              "      <td>2014-05-22</td>\n",
              "      <td>1075000.0</td>\n",
              "      <td>4</td>\n",
              "      <td>3.00</td>\n",
              "      <td>3600</td>\n",
              "      <td>9200</td>\n",
              "      <td>1.0</td>\n",
              "      <td>0</td>\n",
              "      <td>4</td>\n",
              "      <td>4</td>\n",
              "      <td>9</td>\n",
              "      <td>2100</td>\n",
              "      <td>1500</td>\n",
              "      <td>1976</td>\n",
              "      <td>0</td>\n",
              "      <td>98008</td>\n",
              "      <td>47.5866</td>\n",
              "      <td>-122.116</td>\n",
              "      <td>2700</td>\n",
              "      <td>9775</td>\n",
              "    </tr>\n",
              "    <tr>\n",
              "      <th>17151</th>\n",
              "      <td>4107100190</td>\n",
              "      <td>2015-03-24</td>\n",
              "      <td>2500000.0</td>\n",
              "      <td>4</td>\n",
              "      <td>3.75</td>\n",
              "      <td>3480</td>\n",
              "      <td>14850</td>\n",
              "      <td>1.0</td>\n",
              "      <td>0</td>\n",
              "      <td>4</td>\n",
              "      <td>3</td>\n",
              "      <td>9</td>\n",
              "      <td>1870</td>\n",
              "      <td>1610</td>\n",
              "      <td>1951</td>\n",
              "      <td>2013</td>\n",
              "      <td>98004</td>\n",
              "      <td>47.6227</td>\n",
              "      <td>-122.216</td>\n",
              "      <td>4780</td>\n",
              "      <td>18480</td>\n",
              "    </tr>\n",
              "  </tbody>\n",
              "</table>\n",
              "</div>"
            ],
            "text/plain": [
              "               id       date      price  ...     long  sqft_living15  sqft_lot15\n",
              "11599  7284900030 2014-05-22   850000.0  ... -122.388           2020        6656\n",
              "12591  7922900040 2014-05-22  1075000.0  ... -122.116           2700        9775\n",
              "17151  4107100190 2015-03-24  2500000.0  ... -122.216           4780       18480\n",
              "\n",
              "[3 rows x 21 columns]"
            ]
          },
          "metadata": {
            "tags": []
          },
          "execution_count": 129
        }
      ]
    },
    {
      "cell_type": "code",
      "metadata": {
        "colab": {
          "base_uri": "https://localhost:8080/"
        },
        "id": "7Qg-y9ecIgn4",
        "outputId": "d1f25ba2-f286-403c-f1d7-837941594ec5"
      },
      "source": [
        "# Checking the average price of houses with all the ideal attributes\r\n",
        "df.query(\"sqft_living > 3000 & sqft_living <= 4000 & grade == 9 & bathrooms >= 3 & bathrooms < 4 & view == 4 & condition >= 3 & condition < 5 & bedrooms == 4\").price.mean()"
      ],
      "execution_count": null,
      "outputs": [
        {
          "output_type": "execute_result",
          "data": {
            "text/plain": [
              "1475000.0"
            ]
          },
          "metadata": {
            "tags": []
          },
          "execution_count": 130
        }
      ]
    },
    {
      "cell_type": "code",
      "metadata": {
        "colab": {
          "base_uri": "https://localhost:8080/"
        },
        "id": "DU_493vlJ0v-",
        "outputId": "03d20f8a-3c37-4a71-e07d-3acdc93311e2"
      },
      "source": [
        "# Creating a new mean between the average neighbordhood price and the attribute of the house with the highest correlation (square feet)\r\n",
        "zipcode_mean_98177 = df.loc[df.zipcode == 98177].price.mean()\r\n",
        "sqft_mean_3000_4000 = df.query(\"sqft_living > 3000 & sqft_living <= 4000\").price.mean()\r\n",
        "\r\n",
        "buy_value = (zipcode_mean_98177 + sqft_mean_3000_4000) / 2\r\n",
        "buy_value"
      ],
      "execution_count": null,
      "outputs": [
        {
          "output_type": "execute_result",
          "data": {
            "text/plain": [
              "774470.2315286271"
            ]
          },
          "metadata": {
            "tags": []
          },
          "execution_count": 136
        }
      ]
    },
    {
      "cell_type": "markdown",
      "metadata": {
        "id": "ekujcVphMoIr"
      },
      "source": [
        "Should buy the house with **id number 7284900030** for maximum of **$774,470.00** taking into account the average value of the neighborhood and the attribute with the highest correlation. And sell it for **1,475,000.00** considerating the average price of houses with all the ideal attributes."
      ]
    },
    {
      "cell_type": "markdown",
      "metadata": {
        "id": "0GHuxgIUNl8q"
      },
      "source": [
        "## **Looking for low prices with great locations**"
      ]
    },
    {
      "cell_type": "markdown",
      "metadata": {
        "id": "t1INjAJhfmXm"
      },
      "source": [
        "### **Checking the best localizations**"
      ]
    },
    {
      "cell_type": "code",
      "metadata": {
        "colab": {
          "base_uri": "https://localhost:8080/"
        },
        "id": "SLhdQmoyikX5",
        "outputId": "02589872-a93d-4c9c-f0b7-20fdf2fa7fb8"
      },
      "source": [
        "# Checking minimum and maximum of zipcodes in the df\r\n",
        "df.zipcode.describe()"
      ],
      "execution_count": null,
      "outputs": [
        {
          "output_type": "execute_result",
          "data": {
            "text/plain": [
              "count    21613.000000\n",
              "mean     98077.939805\n",
              "std         53.505026\n",
              "min      98001.000000\n",
              "25%      98033.000000\n",
              "50%      98065.000000\n",
              "75%      98118.000000\n",
              "max      98199.000000\n",
              "Name: zipcode, dtype: float64"
            ]
          },
          "metadata": {
            "tags": []
          },
          "execution_count": 28
        }
      ]
    },
    {
      "cell_type": "code",
      "metadata": {
        "colab": {
          "base_uri": "https://localhost:8080/",
          "height": 307
        },
        "id": "fTabFhGin1yA",
        "outputId": "66f786c3-9c4d-41b3-9085-61364836339e"
      },
      "source": [
        "# Checking the mean of price per zipcode with a grafic\r\n",
        "zipcode_mean_price = df.groupby(\"zipcode\")[\"price\"].mean()\r\n",
        "\r\n",
        "zipcode_mean_price.plot()"
      ],
      "execution_count": null,
      "outputs": [
        {
          "output_type": "execute_result",
          "data": {
            "text/plain": [
              "<matplotlib.axes._subplots.AxesSubplot at 0x7fc3b41ff198>"
            ]
          },
          "metadata": {
            "tags": []
          },
          "execution_count": 68
        },
        {
          "output_type": "display_data",
          "data": {
            "image/png": "[encoded data removed]",
            "text/plain": [
              "<Figure size 432x288 with 1 Axes>"
            ]
          },
          "metadata": {
            "tags": [],
            "needs_background": "light"
          }
        }
      ]
    },
    {
      "cell_type": "code",
      "metadata": {
        "colab": {
          "base_uri": "https://localhost:8080/"
        },
        "id": "BkDP9qGQrtPZ",
        "outputId": "d993dc80-2e78-4bb2-e8e6-056384b6817f"
      },
      "source": [
        "# Selecting the top 5 zipcodes price averages\r\n",
        "zipcode_mean_price.sort_values(ascending=False)[:5]"
      ],
      "execution_count": null,
      "outputs": [
        {
          "output_type": "execute_result",
          "data": {
            "text/plain": [
              "zipcode\n",
              "98039    2.160607e+06\n",
              "98004    1.355927e+06\n",
              "98040    1.194230e+06\n",
              "98112    1.095499e+06\n",
              "98102    9.012583e+05\n",
              "Name: price, dtype: float64"
            ]
          },
          "metadata": {
            "tags": []
          },
          "execution_count": 70
        }
      ]
    },
    {
      "cell_type": "code",
      "metadata": {
        "id": "6LbVW7FHsEnH"
      },
      "source": [
        "# Creating a list with the previous top 5 zipcodes\r\n",
        "zipcode_ideals = [98039, 98004, 98040, 98112, 98102]\r\n",
        "\r\n"
      ],
      "execution_count": null,
      "outputs": []
    },
    {
      "cell_type": "code",
      "metadata": {
        "colab": {
          "base_uri": "https://localhost:8080/"
        },
        "id": "LdqxMNAgin_D",
        "outputId": "c503dec2-cb36-4f94-97eb-036c83f639a7"
      },
      "source": [
        "# Finding the frequency of sales for each zipcode in the previous list\r\n",
        "zipcode_unique = df.zipcode.unique()\r\n",
        "\r\n",
        "for n in zipcode_unique:\r\n",
        "  if n in zipcode_ideals:\r\n",
        "    zipcode_counts = df.loc[df.zipcode == n].zipcode.count()\r\n",
        "    print(f\"frequency of sales in zipcode {n}: {zipcode_counts}\")"
      ],
      "execution_count": null,
      "outputs": [
        {
          "output_type": "stream",
          "text": [
            "frequency of sales in zipcode 98040: 282\n",
            "frequency of sales in zipcode 98112: 269\n",
            "frequency of sales in zipcode 98004: 317\n",
            "frequency of sales in zipcode 98102: 105\n",
            "frequency of sales in zipcode 98039: 50\n"
          ],
          "name": "stdout"
        }
      ]
    },
    {
      "cell_type": "markdown",
      "metadata": {
        "id": "mrfGbfWz0ynW"
      },
      "source": [
        "The ideal zipcode is the **98004**, because it has the second highest average price and the highest frequency of sales on the list. But all locations are great and have an average price higher than the general mean."
      ]
    },
    {
      "cell_type": "markdown",
      "metadata": {
        "id": "HRWF_tZiOZLl"
      },
      "source": [
        "### **Finding low prices**"
      ]
    },
    {
      "cell_type": "code",
      "metadata": {
        "colab": {
          "base_uri": "https://localhost:8080/"
        },
        "id": "OJhdwi2bOlYk",
        "outputId": "656fd0e1-d3be-4706-faa3-3b764df7d087"
      },
      "source": [
        "# Retrieving the list of zip codes and average prices\r\n",
        "zipcode_mean_price.sort_values(ascending=False)[:5]"
      ],
      "execution_count": null,
      "outputs": [
        {
          "output_type": "execute_result",
          "data": {
            "text/plain": [
              "zipcode\n",
              "98039    2.160607e+06\n",
              "98004    1.355927e+06\n",
              "98040    1.194230e+06\n",
              "98112    1.095499e+06\n",
              "98102    9.012583e+05\n",
              "Name: price, dtype: float64"
            ]
          },
          "metadata": {
            "tags": []
          },
          "execution_count": 138
        }
      ]
    },
    {
      "cell_type": "code",
      "metadata": {
        "colab": {
          "base_uri": "https://localhost:8080/",
          "height": 1000
        },
        "id": "P4Vl4kYuR4im",
        "outputId": "304f8f94-455e-406d-db02-517a358e8fda"
      },
      "source": [
        "# Checking houses in zipcode 98004 that have a ideal square feet size\r\n",
        "df.query(\"sqft_living > 3000 & sqft_living <= 4000 & zipcode == 98004\")"
      ],
      "execution_count": null,
      "outputs": [
        {
          "output_type": "execute_result",
          "data": {
            "text/html": [
              "<div>\n",
              "<style scoped>\n",
              "    .dataframe tbody tr th:only-of-type {\n",
              "        vertical-align: middle;\n",
              "    }\n",
              "\n",
              "    .dataframe tbody tr th {\n",
              "        vertical-align: top;\n",
              "    }\n",
              "\n",
              "    .dataframe thead th {\n",
              "        text-align: right;\n",
              "    }\n",
              "</style>\n",
              "<table border=\"1\" class=\"dataframe\">\n",
              "  <thead>\n",
              "    <tr style=\"text-align: right;\">\n",
              "      <th></th>\n",
              "      <th>id</th>\n",
              "      <th>date</th>\n",
              "      <th>price</th>\n",
              "      <th>bedrooms</th>\n",
              "      <th>bathrooms</th>\n",
              "      <th>sqft_living</th>\n",
              "      <th>sqft_lot</th>\n",
              "      <th>floors</th>\n",
              "      <th>waterfront</th>\n",
              "      <th>view</th>\n",
              "      <th>condition</th>\n",
              "      <th>grade</th>\n",
              "      <th>sqft_above</th>\n",
              "      <th>sqft_basement</th>\n",
              "      <th>yr_built</th>\n",
              "      <th>yr_renovated</th>\n",
              "      <th>zipcode</th>\n",
              "      <th>lat</th>\n",
              "      <th>long</th>\n",
              "      <th>sqft_living15</th>\n",
              "      <th>sqft_lot15</th>\n",
              "    </tr>\n",
              "  </thead>\n",
              "  <tbody>\n",
              "    <tr>\n",
              "      <th>69</th>\n",
              "      <td>1802000060</td>\n",
              "      <td>2014-06-12</td>\n",
              "      <td>1325000.0</td>\n",
              "      <td>5</td>\n",
              "      <td>2.25</td>\n",
              "      <td>3200</td>\n",
              "      <td>20158</td>\n",
              "      <td>1.0</td>\n",
              "      <td>0</td>\n",
              "      <td>0</td>\n",
              "      <td>3</td>\n",
              "      <td>8</td>\n",
              "      <td>1600</td>\n",
              "      <td>1600</td>\n",
              "      <td>1965</td>\n",
              "      <td>0</td>\n",
              "      <td>98004</td>\n",
              "      <td>47.6303</td>\n",
              "      <td>-122.215</td>\n",
              "      <td>3390</td>\n",
              "      <td>20158</td>\n",
              "    </tr>\n",
              "    <tr>\n",
              "      <th>393</th>\n",
              "      <td>1653500070</td>\n",
              "      <td>2014-05-12</td>\n",
              "      <td>927000.0</td>\n",
              "      <td>4</td>\n",
              "      <td>2.75</td>\n",
              "      <td>3300</td>\n",
              "      <td>12090</td>\n",
              "      <td>2.0</td>\n",
              "      <td>0</td>\n",
              "      <td>0</td>\n",
              "      <td>3</td>\n",
              "      <td>8</td>\n",
              "      <td>3300</td>\n",
              "      <td>0</td>\n",
              "      <td>1953</td>\n",
              "      <td>0</td>\n",
              "      <td>98004</td>\n",
              "      <td>47.6294</td>\n",
              "      <td>-122.218</td>\n",
              "      <td>3180</td>\n",
              "      <td>12239</td>\n",
              "    </tr>\n",
              "    <tr>\n",
              "      <th>885</th>\n",
              "      <td>3323500030</td>\n",
              "      <td>2014-06-04</td>\n",
              "      <td>1270000.0</td>\n",
              "      <td>5</td>\n",
              "      <td>2.50</td>\n",
              "      <td>3200</td>\n",
              "      <td>17204</td>\n",
              "      <td>1.0</td>\n",
              "      <td>0</td>\n",
              "      <td>0</td>\n",
              "      <td>3</td>\n",
              "      <td>7</td>\n",
              "      <td>2160</td>\n",
              "      <td>1040</td>\n",
              "      <td>1952</td>\n",
              "      <td>0</td>\n",
              "      <td>98004</td>\n",
              "      <td>47.6209</td>\n",
              "      <td>-122.222</td>\n",
              "      <td>4090</td>\n",
              "      <td>15732</td>\n",
              "    </tr>\n",
              "    <tr>\n",
              "      <th>1282</th>\n",
              "      <td>8964800445</td>\n",
              "      <td>2015-02-09</td>\n",
              "      <td>2260000.0</td>\n",
              "      <td>3</td>\n",
              "      <td>3.50</td>\n",
              "      <td>3110</td>\n",
              "      <td>14872</td>\n",
              "      <td>1.0</td>\n",
              "      <td>0</td>\n",
              "      <td>0</td>\n",
              "      <td>3</td>\n",
              "      <td>10</td>\n",
              "      <td>3110</td>\n",
              "      <td>0</td>\n",
              "      <td>2003</td>\n",
              "      <td>0</td>\n",
              "      <td>98004</td>\n",
              "      <td>47.6178</td>\n",
              "      <td>-122.209</td>\n",
              "      <td>3110</td>\n",
              "      <td>12433</td>\n",
              "    </tr>\n",
              "    <tr>\n",
              "      <th>1818</th>\n",
              "      <td>9290900160</td>\n",
              "      <td>2014-09-11</td>\n",
              "      <td>1430000.0</td>\n",
              "      <td>4</td>\n",
              "      <td>2.50</td>\n",
              "      <td>3380</td>\n",
              "      <td>27589</td>\n",
              "      <td>2.0</td>\n",
              "      <td>0</td>\n",
              "      <td>0</td>\n",
              "      <td>3</td>\n",
              "      <td>10</td>\n",
              "      <td>3380</td>\n",
              "      <td>0</td>\n",
              "      <td>1966</td>\n",
              "      <td>0</td>\n",
              "      <td>98004</td>\n",
              "      <td>47.6292</td>\n",
              "      <td>-122.225</td>\n",
              "      <td>3390</td>\n",
              "      <td>20075</td>\n",
              "    </tr>\n",
              "    <tr>\n",
              "      <th>2449</th>\n",
              "      <td>4389200796</td>\n",
              "      <td>2014-05-22</td>\n",
              "      <td>1600000.0</td>\n",
              "      <td>3</td>\n",
              "      <td>2.50</td>\n",
              "      <td>3160</td>\n",
              "      <td>12824</td>\n",
              "      <td>1.0</td>\n",
              "      <td>0</td>\n",
              "      <td>2</td>\n",
              "      <td>4</td>\n",
              "      <td>9</td>\n",
              "      <td>1820</td>\n",
              "      <td>1340</td>\n",
              "      <td>1966</td>\n",
              "      <td>0</td>\n",
              "      <td>98004</td>\n",
              "      <td>47.6151</td>\n",
              "      <td>-122.216</td>\n",
              "      <td>3390</td>\n",
              "      <td>11985</td>\n",
              "    </tr>\n",
              "    <tr>\n",
              "      <th>2717</th>\n",
              "      <td>9808590310</td>\n",
              "      <td>2015-04-08</td>\n",
              "      <td>1000750.0</td>\n",
              "      <td>3</td>\n",
              "      <td>2.75</td>\n",
              "      <td>3070</td>\n",
              "      <td>10739</td>\n",
              "      <td>2.0</td>\n",
              "      <td>0</td>\n",
              "      <td>0</td>\n",
              "      <td>3</td>\n",
              "      <td>10</td>\n",
              "      <td>2440</td>\n",
              "      <td>630</td>\n",
              "      <td>1987</td>\n",
              "      <td>0</td>\n",
              "      <td>98004</td>\n",
              "      <td>47.6444</td>\n",
              "      <td>-122.191</td>\n",
              "      <td>3490</td>\n",
              "      <td>11913</td>\n",
              "    </tr>\n",
              "    <tr>\n",
              "      <th>3256</th>\n",
              "      <td>540100057</td>\n",
              "      <td>2015-04-28</td>\n",
              "      <td>1208000.0</td>\n",
              "      <td>4</td>\n",
              "      <td>3.75</td>\n",
              "      <td>3250</td>\n",
              "      <td>10949</td>\n",
              "      <td>2.0</td>\n",
              "      <td>0</td>\n",
              "      <td>0</td>\n",
              "      <td>4</td>\n",
              "      <td>9</td>\n",
              "      <td>2940</td>\n",
              "      <td>310</td>\n",
              "      <td>1930</td>\n",
              "      <td>1989</td>\n",
              "      <td>98004</td>\n",
              "      <td>47.6390</td>\n",
              "      <td>-122.219</td>\n",
              "      <td>2340</td>\n",
              "      <td>15234</td>\n",
              "    </tr>\n",
              "    <tr>\n",
              "      <th>3281</th>\n",
              "      <td>8964800025</td>\n",
              "      <td>2015-02-26</td>\n",
              "      <td>1965000.0</td>\n",
              "      <td>5</td>\n",
              "      <td>3.75</td>\n",
              "      <td>3940</td>\n",
              "      <td>13738</td>\n",
              "      <td>1.5</td>\n",
              "      <td>0</td>\n",
              "      <td>3</td>\n",
              "      <td>4</td>\n",
              "      <td>9</td>\n",
              "      <td>3940</td>\n",
              "      <td>0</td>\n",
              "      <td>1951</td>\n",
              "      <td>0</td>\n",
              "      <td>98004</td>\n",
              "      <td>47.6203</td>\n",
              "      <td>-122.212</td>\n",
              "      <td>2370</td>\n",
              "      <td>13320</td>\n",
              "    </tr>\n",
              "    <tr>\n",
              "      <th>3526</th>\n",
              "      <td>6448000090</td>\n",
              "      <td>2014-05-12</td>\n",
              "      <td>1575000.0</td>\n",
              "      <td>5</td>\n",
              "      <td>2.75</td>\n",
              "      <td>3650</td>\n",
              "      <td>20150</td>\n",
              "      <td>1.0</td>\n",
              "      <td>0</td>\n",
              "      <td>0</td>\n",
              "      <td>4</td>\n",
              "      <td>10</td>\n",
              "      <td>2360</td>\n",
              "      <td>1290</td>\n",
              "      <td>1975</td>\n",
              "      <td>0</td>\n",
              "      <td>98004</td>\n",
              "      <td>47.6215</td>\n",
              "      <td>-122.224</td>\n",
              "      <td>3220</td>\n",
              "      <td>19800</td>\n",
              "    </tr>\n",
              "    <tr>\n",
              "      <th>3989</th>\n",
              "      <td>629000615</td>\n",
              "      <td>2014-10-22</td>\n",
              "      <td>1495000.0</td>\n",
              "      <td>4</td>\n",
              "      <td>3.25</td>\n",
              "      <td>3070</td>\n",
              "      <td>10375</td>\n",
              "      <td>2.0</td>\n",
              "      <td>0</td>\n",
              "      <td>0</td>\n",
              "      <td>3</td>\n",
              "      <td>10</td>\n",
              "      <td>2180</td>\n",
              "      <td>890</td>\n",
              "      <td>1962</td>\n",
              "      <td>2005</td>\n",
              "      <td>98004</td>\n",
              "      <td>47.5862</td>\n",
              "      <td>-122.198</td>\n",
              "      <td>2500</td>\n",
              "      <td>11194</td>\n",
              "    </tr>\n",
              "    <tr>\n",
              "      <th>4627</th>\n",
              "      <td>3225059223</td>\n",
              "      <td>2014-05-19</td>\n",
              "      <td>1405000.0</td>\n",
              "      <td>4</td>\n",
              "      <td>3.50</td>\n",
              "      <td>3410</td>\n",
              "      <td>10769</td>\n",
              "      <td>2.0</td>\n",
              "      <td>0</td>\n",
              "      <td>0</td>\n",
              "      <td>3</td>\n",
              "      <td>10</td>\n",
              "      <td>3410</td>\n",
              "      <td>0</td>\n",
              "      <td>2008</td>\n",
              "      <td>0</td>\n",
              "      <td>98004</td>\n",
              "      <td>47.6081</td>\n",
              "      <td>-122.198</td>\n",
              "      <td>2650</td>\n",
              "      <td>10058</td>\n",
              "    </tr>\n",
              "    <tr>\n",
              "      <th>4922</th>\n",
              "      <td>9809000020</td>\n",
              "      <td>2014-05-13</td>\n",
              "      <td>1895000.0</td>\n",
              "      <td>5</td>\n",
              "      <td>2.25</td>\n",
              "      <td>3120</td>\n",
              "      <td>16672</td>\n",
              "      <td>2.0</td>\n",
              "      <td>0</td>\n",
              "      <td>0</td>\n",
              "      <td>4</td>\n",
              "      <td>9</td>\n",
              "      <td>3120</td>\n",
              "      <td>0</td>\n",
              "      <td>1969</td>\n",
              "      <td>0</td>\n",
              "      <td>98004</td>\n",
              "      <td>47.6458</td>\n",
              "      <td>-122.219</td>\n",
              "      <td>3740</td>\n",
              "      <td>17853</td>\n",
              "    </tr>\n",
              "    <tr>\n",
              "      <th>4923</th>\n",
              "      <td>9809000020</td>\n",
              "      <td>2015-03-13</td>\n",
              "      <td>1940000.0</td>\n",
              "      <td>5</td>\n",
              "      <td>2.25</td>\n",
              "      <td>3120</td>\n",
              "      <td>16672</td>\n",
              "      <td>2.0</td>\n",
              "      <td>0</td>\n",
              "      <td>0</td>\n",
              "      <td>4</td>\n",
              "      <td>9</td>\n",
              "      <td>3120</td>\n",
              "      <td>0</td>\n",
              "      <td>1969</td>\n",
              "      <td>0</td>\n",
              "      <td>98004</td>\n",
              "      <td>47.6458</td>\n",
              "      <td>-122.219</td>\n",
              "      <td>3740</td>\n",
              "      <td>17853</td>\n",
              "    </tr>\n",
              "    <tr>\n",
              "      <th>5680</th>\n",
              "      <td>6645900010</td>\n",
              "      <td>2014-11-20</td>\n",
              "      <td>1470000.0</td>\n",
              "      <td>4</td>\n",
              "      <td>2.50</td>\n",
              "      <td>3030</td>\n",
              "      <td>10189</td>\n",
              "      <td>1.0</td>\n",
              "      <td>0</td>\n",
              "      <td>0</td>\n",
              "      <td>3</td>\n",
              "      <td>9</td>\n",
              "      <td>2380</td>\n",
              "      <td>650</td>\n",
              "      <td>2003</td>\n",
              "      <td>0</td>\n",
              "      <td>98004</td>\n",
              "      <td>47.6367</td>\n",
              "      <td>-122.206</td>\n",
              "      <td>1940</td>\n",
              "      <td>10189</td>\n",
              "    </tr>\n",
              "    <tr>\n",
              "      <th>6740</th>\n",
              "      <td>3391500050</td>\n",
              "      <td>2014-07-03</td>\n",
              "      <td>1875000.0</td>\n",
              "      <td>4</td>\n",
              "      <td>3.25</td>\n",
              "      <td>3930</td>\n",
              "      <td>10929</td>\n",
              "      <td>2.0</td>\n",
              "      <td>0</td>\n",
              "      <td>0</td>\n",
              "      <td>3</td>\n",
              "      <td>10</td>\n",
              "      <td>3930</td>\n",
              "      <td>0</td>\n",
              "      <td>2006</td>\n",
              "      <td>0</td>\n",
              "      <td>98004</td>\n",
              "      <td>47.6259</td>\n",
              "      <td>-122.194</td>\n",
              "      <td>1780</td>\n",
              "      <td>9999</td>\n",
              "    </tr>\n",
              "    <tr>\n",
              "      <th>7330</th>\n",
              "      <td>2450000290</td>\n",
              "      <td>2014-12-15</td>\n",
              "      <td>1245000.0</td>\n",
              "      <td>5</td>\n",
              "      <td>2.50</td>\n",
              "      <td>3370</td>\n",
              "      <td>8113</td>\n",
              "      <td>2.0</td>\n",
              "      <td>0</td>\n",
              "      <td>0</td>\n",
              "      <td>3</td>\n",
              "      <td>9</td>\n",
              "      <td>3370</td>\n",
              "      <td>0</td>\n",
              "      <td>2005</td>\n",
              "      <td>0</td>\n",
              "      <td>98004</td>\n",
              "      <td>47.5812</td>\n",
              "      <td>-122.196</td>\n",
              "      <td>2470</td>\n",
              "      <td>8113</td>\n",
              "    </tr>\n",
              "    <tr>\n",
              "      <th>7663</th>\n",
              "      <td>8085400355</td>\n",
              "      <td>2014-12-04</td>\n",
              "      <td>1270000.0</td>\n",
              "      <td>5</td>\n",
              "      <td>3.00</td>\n",
              "      <td>3950</td>\n",
              "      <td>9520</td>\n",
              "      <td>1.0</td>\n",
              "      <td>0</td>\n",
              "      <td>0</td>\n",
              "      <td>3</td>\n",
              "      <td>9</td>\n",
              "      <td>2250</td>\n",
              "      <td>1700</td>\n",
              "      <td>1953</td>\n",
              "      <td>2002</td>\n",
              "      <td>98004</td>\n",
              "      <td>47.6363</td>\n",
              "      <td>-122.207</td>\n",
              "      <td>1890</td>\n",
              "      <td>9520</td>\n",
              "    </tr>\n",
              "    <tr>\n",
              "      <th>7710</th>\n",
              "      <td>644200040</td>\n",
              "      <td>2014-05-15</td>\n",
              "      <td>1000000.0</td>\n",
              "      <td>5</td>\n",
              "      <td>4.25</td>\n",
              "      <td>3920</td>\n",
              "      <td>16258</td>\n",
              "      <td>2.0</td>\n",
              "      <td>0</td>\n",
              "      <td>0</td>\n",
              "      <td>3</td>\n",
              "      <td>9</td>\n",
              "      <td>2900</td>\n",
              "      <td>1020</td>\n",
              "      <td>1990</td>\n",
              "      <td>0</td>\n",
              "      <td>98004</td>\n",
              "      <td>47.5871</td>\n",
              "      <td>-122.192</td>\n",
              "      <td>2540</td>\n",
              "      <td>12131</td>\n",
              "    </tr>\n",
              "    <tr>\n",
              "      <th>7911</th>\n",
              "      <td>1051000040</td>\n",
              "      <td>2015-04-24</td>\n",
              "      <td>1824100.0</td>\n",
              "      <td>3</td>\n",
              "      <td>2.25</td>\n",
              "      <td>3330</td>\n",
              "      <td>20053</td>\n",
              "      <td>2.0</td>\n",
              "      <td>0</td>\n",
              "      <td>0</td>\n",
              "      <td>3</td>\n",
              "      <td>9</td>\n",
              "      <td>3330</td>\n",
              "      <td>0</td>\n",
              "      <td>1968</td>\n",
              "      <td>1998</td>\n",
              "      <td>98004</td>\n",
              "      <td>47.6395</td>\n",
              "      <td>-122.214</td>\n",
              "      <td>2870</td>\n",
              "      <td>20053</td>\n",
              "    </tr>\n",
              "    <tr>\n",
              "      <th>8540</th>\n",
              "      <td>8964800755</td>\n",
              "      <td>2015-01-16</td>\n",
              "      <td>1590000.0</td>\n",
              "      <td>4</td>\n",
              "      <td>2.25</td>\n",
              "      <td>3240</td>\n",
              "      <td>11131</td>\n",
              "      <td>1.0</td>\n",
              "      <td>0</td>\n",
              "      <td>0</td>\n",
              "      <td>4</td>\n",
              "      <td>9</td>\n",
              "      <td>2080</td>\n",
              "      <td>1160</td>\n",
              "      <td>1953</td>\n",
              "      <td>0</td>\n",
              "      <td>98004</td>\n",
              "      <td>47.6182</td>\n",
              "      <td>-122.215</td>\n",
              "      <td>2300</td>\n",
              "      <td>12150</td>\n",
              "    </tr>\n",
              "    <tr>\n",
              "      <th>9449</th>\n",
              "      <td>3472800065</td>\n",
              "      <td>2014-08-26</td>\n",
              "      <td>1698000.0</td>\n",
              "      <td>4</td>\n",
              "      <td>3.00</td>\n",
              "      <td>3600</td>\n",
              "      <td>9687</td>\n",
              "      <td>2.0</td>\n",
              "      <td>0</td>\n",
              "      <td>0</td>\n",
              "      <td>4</td>\n",
              "      <td>9</td>\n",
              "      <td>3600</td>\n",
              "      <td>0</td>\n",
              "      <td>1959</td>\n",
              "      <td>1995</td>\n",
              "      <td>98004</td>\n",
              "      <td>47.6257</td>\n",
              "      <td>-122.208</td>\n",
              "      <td>2620</td>\n",
              "      <td>10400</td>\n",
              "    </tr>\n",
              "    <tr>\n",
              "      <th>9573</th>\n",
              "      <td>644000040</td>\n",
              "      <td>2015-04-29</td>\n",
              "      <td>1780000.0</td>\n",
              "      <td>4</td>\n",
              "      <td>3.25</td>\n",
              "      <td>3950</td>\n",
              "      <td>10912</td>\n",
              "      <td>2.0</td>\n",
              "      <td>0</td>\n",
              "      <td>0</td>\n",
              "      <td>3</td>\n",
              "      <td>10</td>\n",
              "      <td>3950</td>\n",
              "      <td>0</td>\n",
              "      <td>2003</td>\n",
              "      <td>0</td>\n",
              "      <td>98004</td>\n",
              "      <td>47.5877</td>\n",
              "      <td>-122.196</td>\n",
              "      <td>3000</td>\n",
              "      <td>10998</td>\n",
              "    </tr>\n",
              "    <tr>\n",
              "      <th>9695</th>\n",
              "      <td>524059250</td>\n",
              "      <td>2014-09-22</td>\n",
              "      <td>1388000.0</td>\n",
              "      <td>4</td>\n",
              "      <td>2.50</td>\n",
              "      <td>3450</td>\n",
              "      <td>17400</td>\n",
              "      <td>1.5</td>\n",
              "      <td>0</td>\n",
              "      <td>0</td>\n",
              "      <td>4</td>\n",
              "      <td>9</td>\n",
              "      <td>2180</td>\n",
              "      <td>1270</td>\n",
              "      <td>1964</td>\n",
              "      <td>0</td>\n",
              "      <td>98004</td>\n",
              "      <td>47.5969</td>\n",
              "      <td>-122.206</td>\n",
              "      <td>3770</td>\n",
              "      <td>19530</td>\n",
              "    </tr>\n",
              "    <tr>\n",
              "      <th>9742</th>\n",
              "      <td>686900030</td>\n",
              "      <td>2015-03-23</td>\n",
              "      <td>999950.0</td>\n",
              "      <td>3</td>\n",
              "      <td>2.25</td>\n",
              "      <td>3740</td>\n",
              "      <td>22464</td>\n",
              "      <td>2.0</td>\n",
              "      <td>0</td>\n",
              "      <td>0</td>\n",
              "      <td>5</td>\n",
              "      <td>8</td>\n",
              "      <td>2330</td>\n",
              "      <td>1410</td>\n",
              "      <td>1966</td>\n",
              "      <td>0</td>\n",
              "      <td>98004</td>\n",
              "      <td>47.6354</td>\n",
              "      <td>-122.196</td>\n",
              "      <td>2680</td>\n",
              "      <td>19564</td>\n",
              "    </tr>\n",
              "    <tr>\n",
              "      <th>10525</th>\n",
              "      <td>8146200070</td>\n",
              "      <td>2015-03-10</td>\n",
              "      <td>1700000.0</td>\n",
              "      <td>5</td>\n",
              "      <td>2.75</td>\n",
              "      <td>3810</td>\n",
              "      <td>9360</td>\n",
              "      <td>2.0</td>\n",
              "      <td>0</td>\n",
              "      <td>0</td>\n",
              "      <td>3</td>\n",
              "      <td>10</td>\n",
              "      <td>3810</td>\n",
              "      <td>0</td>\n",
              "      <td>2014</td>\n",
              "      <td>0</td>\n",
              "      <td>98004</td>\n",
              "      <td>47.6039</td>\n",
              "      <td>-122.194</td>\n",
              "      <td>2110</td>\n",
              "      <td>9870</td>\n",
              "    </tr>\n",
              "    <tr>\n",
              "      <th>10949</th>\n",
              "      <td>8085400055</td>\n",
              "      <td>2015-04-28</td>\n",
              "      <td>1582500.0</td>\n",
              "      <td>4</td>\n",
              "      <td>2.50</td>\n",
              "      <td>3980</td>\n",
              "      <td>16304</td>\n",
              "      <td>1.0</td>\n",
              "      <td>0</td>\n",
              "      <td>1</td>\n",
              "      <td>3</td>\n",
              "      <td>10</td>\n",
              "      <td>2480</td>\n",
              "      <td>1500</td>\n",
              "      <td>1968</td>\n",
              "      <td>0</td>\n",
              "      <td>98004</td>\n",
              "      <td>47.6390</td>\n",
              "      <td>-122.210</td>\n",
              "      <td>3980</td>\n",
              "      <td>16304</td>\n",
              "    </tr>\n",
              "    <tr>\n",
              "      <th>11267</th>\n",
              "      <td>3536900030</td>\n",
              "      <td>2015-02-09</td>\n",
              "      <td>1600000.0</td>\n",
              "      <td>3</td>\n",
              "      <td>2.75</td>\n",
              "      <td>3040</td>\n",
              "      <td>21052</td>\n",
              "      <td>2.0</td>\n",
              "      <td>0</td>\n",
              "      <td>0</td>\n",
              "      <td>4</td>\n",
              "      <td>10</td>\n",
              "      <td>3040</td>\n",
              "      <td>0</td>\n",
              "      <td>1980</td>\n",
              "      <td>0</td>\n",
              "      <td>98004</td>\n",
              "      <td>47.6380</td>\n",
              "      <td>-122.225</td>\n",
              "      <td>2950</td>\n",
              "      <td>21052</td>\n",
              "    </tr>\n",
              "    <tr>\n",
              "      <th>11591</th>\n",
              "      <td>629000510</td>\n",
              "      <td>2014-07-30</td>\n",
              "      <td>1185000.0</td>\n",
              "      <td>4</td>\n",
              "      <td>2.75</td>\n",
              "      <td>3020</td>\n",
              "      <td>8622</td>\n",
              "      <td>2.0</td>\n",
              "      <td>0</td>\n",
              "      <td>0</td>\n",
              "      <td>3</td>\n",
              "      <td>9</td>\n",
              "      <td>3020</td>\n",
              "      <td>0</td>\n",
              "      <td>1976</td>\n",
              "      <td>2003</td>\n",
              "      <td>98004</td>\n",
              "      <td>47.5866</td>\n",
              "      <td>-122.201</td>\n",
              "      <td>3060</td>\n",
              "      <td>14303</td>\n",
              "    </tr>\n",
              "    <tr>\n",
              "      <th>11843</th>\n",
              "      <td>2450500060</td>\n",
              "      <td>2014-08-26</td>\n",
              "      <td>1620000.0</td>\n",
              "      <td>4</td>\n",
              "      <td>3.25</td>\n",
              "      <td>3820</td>\n",
              "      <td>8114</td>\n",
              "      <td>2.0</td>\n",
              "      <td>0</td>\n",
              "      <td>0</td>\n",
              "      <td>3</td>\n",
              "      <td>10</td>\n",
              "      <td>3820</td>\n",
              "      <td>0</td>\n",
              "      <td>2005</td>\n",
              "      <td>0</td>\n",
              "      <td>98004</td>\n",
              "      <td>47.5837</td>\n",
              "      <td>-122.194</td>\n",
              "      <td>2440</td>\n",
              "      <td>9195</td>\n",
              "    </tr>\n",
              "    <tr>\n",
              "      <th>11998</th>\n",
              "      <td>2068000270</td>\n",
              "      <td>2014-08-05</td>\n",
              "      <td>1400000.0</td>\n",
              "      <td>5</td>\n",
              "      <td>3.00</td>\n",
              "      <td>3850</td>\n",
              "      <td>14990</td>\n",
              "      <td>1.0</td>\n",
              "      <td>0</td>\n",
              "      <td>0</td>\n",
              "      <td>4</td>\n",
              "      <td>9</td>\n",
              "      <td>2290</td>\n",
              "      <td>1560</td>\n",
              "      <td>1964</td>\n",
              "      <td>0</td>\n",
              "      <td>98004</td>\n",
              "      <td>47.6425</td>\n",
              "      <td>-122.218</td>\n",
              "      <td>3010</td>\n",
              "      <td>15001</td>\n",
              "    </tr>\n",
              "    <tr>\n",
              "      <th>12186</th>\n",
              "      <td>4107100204</td>\n",
              "      <td>2014-08-21</td>\n",
              "      <td>2135000.0</td>\n",
              "      <td>4</td>\n",
              "      <td>3.25</td>\n",
              "      <td>3860</td>\n",
              "      <td>17820</td>\n",
              "      <td>1.0</td>\n",
              "      <td>0</td>\n",
              "      <td>4</td>\n",
              "      <td>4</td>\n",
              "      <td>10</td>\n",
              "      <td>2630</td>\n",
              "      <td>1230</td>\n",
              "      <td>1975</td>\n",
              "      <td>0</td>\n",
              "      <td>98004</td>\n",
              "      <td>47.6224</td>\n",
              "      <td>-122.215</td>\n",
              "      <td>4590</td>\n",
              "      <td>23760</td>\n",
              "    </tr>\n",
              "    <tr>\n",
              "      <th>12217</th>\n",
              "      <td>824059324</td>\n",
              "      <td>2015-03-25</td>\n",
              "      <td>1450000.0</td>\n",
              "      <td>4</td>\n",
              "      <td>3.50</td>\n",
              "      <td>3720</td>\n",
              "      <td>8301</td>\n",
              "      <td>2.0</td>\n",
              "      <td>0</td>\n",
              "      <td>0</td>\n",
              "      <td>3</td>\n",
              "      <td>10</td>\n",
              "      <td>2880</td>\n",
              "      <td>840</td>\n",
              "      <td>2008</td>\n",
              "      <td>0</td>\n",
              "      <td>98004</td>\n",
              "      <td>47.5885</td>\n",
              "      <td>-122.199</td>\n",
              "      <td>2080</td>\n",
              "      <td>9676</td>\n",
              "    </tr>\n",
              "    <tr>\n",
              "      <th>12648</th>\n",
              "      <td>7490000040</td>\n",
              "      <td>2014-07-18</td>\n",
              "      <td>2535000.0</td>\n",
              "      <td>5</td>\n",
              "      <td>3.25</td>\n",
              "      <td>3730</td>\n",
              "      <td>10626</td>\n",
              "      <td>1.0</td>\n",
              "      <td>0</td>\n",
              "      <td>4</td>\n",
              "      <td>4</td>\n",
              "      <td>10</td>\n",
              "      <td>3730</td>\n",
              "      <td>0</td>\n",
              "      <td>1963</td>\n",
              "      <td>0</td>\n",
              "      <td>98004</td>\n",
              "      <td>47.6240</td>\n",
              "      <td>-122.221</td>\n",
              "      <td>4180</td>\n",
              "      <td>19110</td>\n",
              "    </tr>\n",
              "    <tr>\n",
              "      <th>12826</th>\n",
              "      <td>3025059072</td>\n",
              "      <td>2014-07-25</td>\n",
              "      <td>1749000.0</td>\n",
              "      <td>4</td>\n",
              "      <td>2.50</td>\n",
              "      <td>3910</td>\n",
              "      <td>22710</td>\n",
              "      <td>1.5</td>\n",
              "      <td>0</td>\n",
              "      <td>0</td>\n",
              "      <td>3</td>\n",
              "      <td>8</td>\n",
              "      <td>3910</td>\n",
              "      <td>0</td>\n",
              "      <td>1908</td>\n",
              "      <td>2003</td>\n",
              "      <td>98004</td>\n",
              "      <td>47.6295</td>\n",
              "      <td>-122.217</td>\n",
              "      <td>2920</td>\n",
              "      <td>16544</td>\n",
              "    </tr>\n",
              "    <tr>\n",
              "      <th>13357</th>\n",
              "      <td>9808590210</td>\n",
              "      <td>2014-05-13</td>\n",
              "      <td>860000.0</td>\n",
              "      <td>4</td>\n",
              "      <td>2.50</td>\n",
              "      <td>3560</td>\n",
              "      <td>11119</td>\n",
              "      <td>1.0</td>\n",
              "      <td>0</td>\n",
              "      <td>2</td>\n",
              "      <td>3</td>\n",
              "      <td>10</td>\n",
              "      <td>2290</td>\n",
              "      <td>1270</td>\n",
              "      <td>1986</td>\n",
              "      <td>0</td>\n",
              "      <td>98004</td>\n",
              "      <td>47.6456</td>\n",
              "      <td>-122.190</td>\n",
              "      <td>3290</td>\n",
              "      <td>11385</td>\n",
              "    </tr>\n",
              "    <tr>\n",
              "      <th>13591</th>\n",
              "      <td>686550040</td>\n",
              "      <td>2014-06-19</td>\n",
              "      <td>1240000.0</td>\n",
              "      <td>4</td>\n",
              "      <td>3.50</td>\n",
              "      <td>3820</td>\n",
              "      <td>13224</td>\n",
              "      <td>2.0</td>\n",
              "      <td>0</td>\n",
              "      <td>0</td>\n",
              "      <td>3</td>\n",
              "      <td>10</td>\n",
              "      <td>3280</td>\n",
              "      <td>540</td>\n",
              "      <td>1990</td>\n",
              "      <td>0</td>\n",
              "      <td>98004</td>\n",
              "      <td>47.6005</td>\n",
              "      <td>-122.199</td>\n",
              "      <td>3340</td>\n",
              "      <td>9700</td>\n",
              "    </tr>\n",
              "    <tr>\n",
              "      <th>13675</th>\n",
              "      <td>4389201075</td>\n",
              "      <td>2014-07-31</td>\n",
              "      <td>1900000.0</td>\n",
              "      <td>4</td>\n",
              "      <td>2.50</td>\n",
              "      <td>3680</td>\n",
              "      <td>13351</td>\n",
              "      <td>2.0</td>\n",
              "      <td>0</td>\n",
              "      <td>2</td>\n",
              "      <td>5</td>\n",
              "      <td>9</td>\n",
              "      <td>3680</td>\n",
              "      <td>0</td>\n",
              "      <td>1946</td>\n",
              "      <td>1982</td>\n",
              "      <td>98004</td>\n",
              "      <td>47.6154</td>\n",
              "      <td>-122.214</td>\n",
              "      <td>3410</td>\n",
              "      <td>11700</td>\n",
              "    </tr>\n",
              "    <tr>\n",
              "      <th>15072</th>\n",
              "      <td>251610020</td>\n",
              "      <td>2015-05-08</td>\n",
              "      <td>1580000.0</td>\n",
              "      <td>4</td>\n",
              "      <td>2.75</td>\n",
              "      <td>3480</td>\n",
              "      <td>19991</td>\n",
              "      <td>2.0</td>\n",
              "      <td>0</td>\n",
              "      <td>2</td>\n",
              "      <td>4</td>\n",
              "      <td>10</td>\n",
              "      <td>2630</td>\n",
              "      <td>850</td>\n",
              "      <td>1979</td>\n",
              "      <td>0</td>\n",
              "      <td>98004</td>\n",
              "      <td>47.6354</td>\n",
              "      <td>-122.214</td>\n",
              "      <td>3770</td>\n",
              "      <td>20271</td>\n",
              "    </tr>\n",
              "    <tr>\n",
              "      <th>15353</th>\n",
              "      <td>644210020</td>\n",
              "      <td>2015-01-05</td>\n",
              "      <td>780000.0</td>\n",
              "      <td>4</td>\n",
              "      <td>2.50</td>\n",
              "      <td>3020</td>\n",
              "      <td>15164</td>\n",
              "      <td>1.0</td>\n",
              "      <td>0</td>\n",
              "      <td>0</td>\n",
              "      <td>4</td>\n",
              "      <td>8</td>\n",
              "      <td>1730</td>\n",
              "      <td>1290</td>\n",
              "      <td>1976</td>\n",
              "      <td>0</td>\n",
              "      <td>98004</td>\n",
              "      <td>47.5882</td>\n",
              "      <td>-122.192</td>\n",
              "      <td>2600</td>\n",
              "      <td>11556</td>\n",
              "    </tr>\n",
              "    <tr>\n",
              "      <th>15405</th>\n",
              "      <td>3394100020</td>\n",
              "      <td>2014-11-20</td>\n",
              "      <td>990000.0</td>\n",
              "      <td>4</td>\n",
              "      <td>2.50</td>\n",
              "      <td>3140</td>\n",
              "      <td>11049</td>\n",
              "      <td>2.0</td>\n",
              "      <td>0</td>\n",
              "      <td>0</td>\n",
              "      <td>3</td>\n",
              "      <td>10</td>\n",
              "      <td>3140</td>\n",
              "      <td>0</td>\n",
              "      <td>1988</td>\n",
              "      <td>0</td>\n",
              "      <td>98004</td>\n",
              "      <td>47.5817</td>\n",
              "      <td>-122.192</td>\n",
              "      <td>2750</td>\n",
              "      <td>11049</td>\n",
              "    </tr>\n",
              "    <tr>\n",
              "      <th>16004</th>\n",
              "      <td>4122900190</td>\n",
              "      <td>2014-05-12</td>\n",
              "      <td>1346400.0</td>\n",
              "      <td>5</td>\n",
              "      <td>1.75</td>\n",
              "      <td>3380</td>\n",
              "      <td>20021</td>\n",
              "      <td>1.0</td>\n",
              "      <td>0</td>\n",
              "      <td>0</td>\n",
              "      <td>4</td>\n",
              "      <td>8</td>\n",
              "      <td>1690</td>\n",
              "      <td>1690</td>\n",
              "      <td>1963</td>\n",
              "      <td>0</td>\n",
              "      <td>98004</td>\n",
              "      <td>47.6395</td>\n",
              "      <td>-122.211</td>\n",
              "      <td>3260</td>\n",
              "      <td>19809</td>\n",
              "    </tr>\n",
              "    <tr>\n",
              "      <th>17151</th>\n",
              "      <td>4107100190</td>\n",
              "      <td>2015-03-24</td>\n",
              "      <td>2500000.0</td>\n",
              "      <td>4</td>\n",
              "      <td>3.75</td>\n",
              "      <td>3480</td>\n",
              "      <td>14850</td>\n",
              "      <td>1.0</td>\n",
              "      <td>0</td>\n",
              "      <td>4</td>\n",
              "      <td>3</td>\n",
              "      <td>9</td>\n",
              "      <td>1870</td>\n",
              "      <td>1610</td>\n",
              "      <td>1951</td>\n",
              "      <td>2013</td>\n",
              "      <td>98004</td>\n",
              "      <td>47.6227</td>\n",
              "      <td>-122.216</td>\n",
              "      <td>4780</td>\n",
              "      <td>18480</td>\n",
              "    </tr>\n",
              "    <tr>\n",
              "      <th>17324</th>\n",
              "      <td>9809000010</td>\n",
              "      <td>2015-01-06</td>\n",
              "      <td>1629000.0</td>\n",
              "      <td>5</td>\n",
              "      <td>2.50</td>\n",
              "      <td>3090</td>\n",
              "      <td>16583</td>\n",
              "      <td>2.0</td>\n",
              "      <td>0</td>\n",
              "      <td>0</td>\n",
              "      <td>4</td>\n",
              "      <td>9</td>\n",
              "      <td>3090</td>\n",
              "      <td>0</td>\n",
              "      <td>1964</td>\n",
              "      <td>0</td>\n",
              "      <td>98004</td>\n",
              "      <td>47.6458</td>\n",
              "      <td>-122.218</td>\n",
              "      <td>3740</td>\n",
              "      <td>17853</td>\n",
              "    </tr>\n",
              "    <tr>\n",
              "      <th>17407</th>\n",
              "      <td>9286730020</td>\n",
              "      <td>2015-03-31</td>\n",
              "      <td>1802750.0</td>\n",
              "      <td>5</td>\n",
              "      <td>3.25</td>\n",
              "      <td>3890</td>\n",
              "      <td>20005</td>\n",
              "      <td>1.0</td>\n",
              "      <td>0</td>\n",
              "      <td>0</td>\n",
              "      <td>3</td>\n",
              "      <td>10</td>\n",
              "      <td>2260</td>\n",
              "      <td>1630</td>\n",
              "      <td>1977</td>\n",
              "      <td>0</td>\n",
              "      <td>98004</td>\n",
              "      <td>47.6312</td>\n",
              "      <td>-122.224</td>\n",
              "      <td>3450</td>\n",
              "      <td>20176</td>\n",
              "    </tr>\n",
              "    <tr>\n",
              "      <th>17470</th>\n",
              "      <td>8084900170</td>\n",
              "      <td>2014-10-23</td>\n",
              "      <td>1562000.0</td>\n",
              "      <td>5</td>\n",
              "      <td>3.00</td>\n",
              "      <td>3910</td>\n",
              "      <td>16200</td>\n",
              "      <td>1.0</td>\n",
              "      <td>0</td>\n",
              "      <td>0</td>\n",
              "      <td>4</td>\n",
              "      <td>9</td>\n",
              "      <td>2890</td>\n",
              "      <td>1020</td>\n",
              "      <td>1960</td>\n",
              "      <td>0</td>\n",
              "      <td>98004</td>\n",
              "      <td>47.6326</td>\n",
              "      <td>-122.217</td>\n",
              "      <td>3620</td>\n",
              "      <td>16200</td>\n",
              "    </tr>\n",
              "    <tr>\n",
              "      <th>18432</th>\n",
              "      <td>6448000100</td>\n",
              "      <td>2014-06-17</td>\n",
              "      <td>1728000.0</td>\n",
              "      <td>4</td>\n",
              "      <td>3.00</td>\n",
              "      <td>3700</td>\n",
              "      <td>20570</td>\n",
              "      <td>1.0</td>\n",
              "      <td>0</td>\n",
              "      <td>0</td>\n",
              "      <td>4</td>\n",
              "      <td>10</td>\n",
              "      <td>1850</td>\n",
              "      <td>1850</td>\n",
              "      <td>1976</td>\n",
              "      <td>0</td>\n",
              "      <td>98004</td>\n",
              "      <td>47.6212</td>\n",
              "      <td>-122.224</td>\n",
              "      <td>3080</td>\n",
              "      <td>17595</td>\n",
              "    </tr>\n",
              "    <tr>\n",
              "      <th>18511</th>\n",
              "      <td>8964800975</td>\n",
              "      <td>2014-07-31</td>\n",
              "      <td>1650000.0</td>\n",
              "      <td>4</td>\n",
              "      <td>2.75</td>\n",
              "      <td>3190</td>\n",
              "      <td>14904</td>\n",
              "      <td>1.0</td>\n",
              "      <td>0</td>\n",
              "      <td>3</td>\n",
              "      <td>4</td>\n",
              "      <td>9</td>\n",
              "      <td>1940</td>\n",
              "      <td>1250</td>\n",
              "      <td>1949</td>\n",
              "      <td>1992</td>\n",
              "      <td>98004</td>\n",
              "      <td>47.6178</td>\n",
              "      <td>-122.214</td>\n",
              "      <td>2600</td>\n",
              "      <td>11195</td>\n",
              "    </tr>\n",
              "    <tr>\n",
              "      <th>18890</th>\n",
              "      <td>3394100230</td>\n",
              "      <td>2014-05-22</td>\n",
              "      <td>1050000.0</td>\n",
              "      <td>4</td>\n",
              "      <td>2.50</td>\n",
              "      <td>3030</td>\n",
              "      <td>12590</td>\n",
              "      <td>1.5</td>\n",
              "      <td>0</td>\n",
              "      <td>0</td>\n",
              "      <td>4</td>\n",
              "      <td>10</td>\n",
              "      <td>3030</td>\n",
              "      <td>0</td>\n",
              "      <td>1988</td>\n",
              "      <td>0</td>\n",
              "      <td>98004</td>\n",
              "      <td>47.5806</td>\n",
              "      <td>-122.193</td>\n",
              "      <td>2980</td>\n",
              "      <td>11635</td>\n",
              "    </tr>\n",
              "    <tr>\n",
              "      <th>19108</th>\n",
              "      <td>2025059131</td>\n",
              "      <td>2014-09-04</td>\n",
              "      <td>980000.0</td>\n",
              "      <td>4</td>\n",
              "      <td>4.25</td>\n",
              "      <td>3250</td>\n",
              "      <td>11780</td>\n",
              "      <td>2.0</td>\n",
              "      <td>0</td>\n",
              "      <td>0</td>\n",
              "      <td>3</td>\n",
              "      <td>8</td>\n",
              "      <td>2360</td>\n",
              "      <td>890</td>\n",
              "      <td>1944</td>\n",
              "      <td>2001</td>\n",
              "      <td>98004</td>\n",
              "      <td>47.6322</td>\n",
              "      <td>-122.203</td>\n",
              "      <td>1800</td>\n",
              "      <td>9000</td>\n",
              "    </tr>\n",
              "    <tr>\n",
              "      <th>19649</th>\n",
              "      <td>2213000030</td>\n",
              "      <td>2014-05-12</td>\n",
              "      <td>1264000.0</td>\n",
              "      <td>4</td>\n",
              "      <td>3.75</td>\n",
              "      <td>3490</td>\n",
              "      <td>9170</td>\n",
              "      <td>2.0</td>\n",
              "      <td>0</td>\n",
              "      <td>0</td>\n",
              "      <td>3</td>\n",
              "      <td>9</td>\n",
              "      <td>3490</td>\n",
              "      <td>0</td>\n",
              "      <td>2012</td>\n",
              "      <td>0</td>\n",
              "      <td>98004</td>\n",
              "      <td>47.5991</td>\n",
              "      <td>-122.200</td>\n",
              "      <td>1810</td>\n",
              "      <td>8470</td>\n",
              "    </tr>\n",
              "    <tr>\n",
              "      <th>19956</th>\n",
              "      <td>2311400195</td>\n",
              "      <td>2015-03-03</td>\n",
              "      <td>1563100.0</td>\n",
              "      <td>5</td>\n",
              "      <td>3.50</td>\n",
              "      <td>3630</td>\n",
              "      <td>8100</td>\n",
              "      <td>2.0</td>\n",
              "      <td>0</td>\n",
              "      <td>0</td>\n",
              "      <td>3</td>\n",
              "      <td>10</td>\n",
              "      <td>3630</td>\n",
              "      <td>0</td>\n",
              "      <td>2008</td>\n",
              "      <td>0</td>\n",
              "      <td>98004</td>\n",
              "      <td>47.5951</td>\n",
              "      <td>-122.200</td>\n",
              "      <td>1730</td>\n",
              "      <td>8246</td>\n",
              "    </tr>\n",
              "    <tr>\n",
              "      <th>19961</th>\n",
              "      <td>5078400215</td>\n",
              "      <td>2014-07-30</td>\n",
              "      <td>1695000.0</td>\n",
              "      <td>5</td>\n",
              "      <td>4.75</td>\n",
              "      <td>3940</td>\n",
              "      <td>7067</td>\n",
              "      <td>2.0</td>\n",
              "      <td>0</td>\n",
              "      <td>0</td>\n",
              "      <td>3</td>\n",
              "      <td>10</td>\n",
              "      <td>3230</td>\n",
              "      <td>710</td>\n",
              "      <td>2008</td>\n",
              "      <td>0</td>\n",
              "      <td>98004</td>\n",
              "      <td>47.6232</td>\n",
              "      <td>-122.205</td>\n",
              "      <td>1910</td>\n",
              "      <td>7735</td>\n",
              "    </tr>\n",
              "    <tr>\n",
              "      <th>19973</th>\n",
              "      <td>711000110</td>\n",
              "      <td>2014-09-15</td>\n",
              "      <td>1266520.0</td>\n",
              "      <td>3</td>\n",
              "      <td>2.50</td>\n",
              "      <td>3060</td>\n",
              "      <td>9576</td>\n",
              "      <td>2.0</td>\n",
              "      <td>0</td>\n",
              "      <td>0</td>\n",
              "      <td>3</td>\n",
              "      <td>10</td>\n",
              "      <td>3060</td>\n",
              "      <td>0</td>\n",
              "      <td>2005</td>\n",
              "      <td>0</td>\n",
              "      <td>98004</td>\n",
              "      <td>47.5928</td>\n",
              "      <td>-122.199</td>\n",
              "      <td>3060</td>\n",
              "      <td>9579</td>\n",
              "    </tr>\n",
              "    <tr>\n",
              "      <th>20168</th>\n",
              "      <td>250000010</td>\n",
              "      <td>2014-09-24</td>\n",
              "      <td>1750000.0</td>\n",
              "      <td>4</td>\n",
              "      <td>3.50</td>\n",
              "      <td>3845</td>\n",
              "      <td>8400</td>\n",
              "      <td>2.0</td>\n",
              "      <td>0</td>\n",
              "      <td>0</td>\n",
              "      <td>3</td>\n",
              "      <td>10</td>\n",
              "      <td>3845</td>\n",
              "      <td>0</td>\n",
              "      <td>2013</td>\n",
              "      <td>0</td>\n",
              "      <td>98004</td>\n",
              "      <td>47.6354</td>\n",
              "      <td>-122.198</td>\n",
              "      <td>1710</td>\n",
              "      <td>8400</td>\n",
              "    </tr>\n",
              "    <tr>\n",
              "      <th>20500</th>\n",
              "      <td>2311400145</td>\n",
              "      <td>2014-10-29</td>\n",
              "      <td>1699990.0</td>\n",
              "      <td>4</td>\n",
              "      <td>3.75</td>\n",
              "      <td>3320</td>\n",
              "      <td>8234</td>\n",
              "      <td>2.0</td>\n",
              "      <td>0</td>\n",
              "      <td>0</td>\n",
              "      <td>3</td>\n",
              "      <td>10</td>\n",
              "      <td>3320</td>\n",
              "      <td>0</td>\n",
              "      <td>2014</td>\n",
              "      <td>0</td>\n",
              "      <td>98004</td>\n",
              "      <td>47.5963</td>\n",
              "      <td>-122.200</td>\n",
              "      <td>1560</td>\n",
              "      <td>8240</td>\n",
              "    </tr>\n",
              "    <tr>\n",
              "      <th>21383</th>\n",
              "      <td>644000115</td>\n",
              "      <td>2014-09-23</td>\n",
              "      <td>1765000.0</td>\n",
              "      <td>4</td>\n",
              "      <td>3.25</td>\n",
              "      <td>3980</td>\n",
              "      <td>10249</td>\n",
              "      <td>2.0</td>\n",
              "      <td>0</td>\n",
              "      <td>0</td>\n",
              "      <td>3</td>\n",
              "      <td>10</td>\n",
              "      <td>3980</td>\n",
              "      <td>0</td>\n",
              "      <td>2011</td>\n",
              "      <td>0</td>\n",
              "      <td>98004</td>\n",
              "      <td>47.5873</td>\n",
              "      <td>-122.196</td>\n",
              "      <td>2450</td>\n",
              "      <td>10912</td>\n",
              "    </tr>\n",
              "    <tr>\n",
              "      <th>21473</th>\n",
              "      <td>8085400586</td>\n",
              "      <td>2014-11-01</td>\n",
              "      <td>1750000.0</td>\n",
              "      <td>4</td>\n",
              "      <td>2.75</td>\n",
              "      <td>3560</td>\n",
              "      <td>8975</td>\n",
              "      <td>2.0</td>\n",
              "      <td>0</td>\n",
              "      <td>0</td>\n",
              "      <td>3</td>\n",
              "      <td>10</td>\n",
              "      <td>3560</td>\n",
              "      <td>0</td>\n",
              "      <td>2014</td>\n",
              "      <td>0</td>\n",
              "      <td>98004</td>\n",
              "      <td>47.6322</td>\n",
              "      <td>-122.209</td>\n",
              "      <td>3440</td>\n",
              "      <td>12825</td>\n",
              "    </tr>\n",
              "    <tr>\n",
              "      <th>21568</th>\n",
              "      <td>524059330</td>\n",
              "      <td>2015-01-30</td>\n",
              "      <td>1700000.0</td>\n",
              "      <td>4</td>\n",
              "      <td>3.50</td>\n",
              "      <td>3830</td>\n",
              "      <td>8963</td>\n",
              "      <td>2.0</td>\n",
              "      <td>0</td>\n",
              "      <td>0</td>\n",
              "      <td>3</td>\n",
              "      <td>10</td>\n",
              "      <td>3120</td>\n",
              "      <td>710</td>\n",
              "      <td>2014</td>\n",
              "      <td>0</td>\n",
              "      <td>98004</td>\n",
              "      <td>47.5990</td>\n",
              "      <td>-122.197</td>\n",
              "      <td>2190</td>\n",
              "      <td>10777</td>\n",
              "    </tr>\n",
              "  </tbody>\n",
              "</table>\n",
              "</div>"
            ],
            "text/plain": [
              "               id       date      price  ...     long  sqft_living15  sqft_lot15\n",
              "69     1802000060 2014-06-12  1325000.0  ... -122.215           3390       20158\n",
              "393    1653500070 2014-05-12   927000.0  ... -122.218           3180       12239\n",
              "885    3323500030 2014-06-04  1270000.0  ... -122.222           4090       15732\n",
              "1282   8964800445 2015-02-09  2260000.0  ... -122.209           3110       12433\n",
              "1818   9290900160 2014-09-11  1430000.0  ... -122.225           3390       20075\n",
              "2449   4389200796 2014-05-22  1600000.0  ... -122.216           3390       11985\n",
              "2717   9808590310 2015-04-08  1000750.0  ... -122.191           3490       11913\n",
              "3256    540100057 2015-04-28  1208000.0  ... -122.219           2340       15234\n",
              "3281   8964800025 2015-02-26  1965000.0  ... -122.212           2370       13320\n",
              "3526   6448000090 2014-05-12  1575000.0  ... -122.224           3220       19800\n",
              "3989    629000615 2014-10-22  1495000.0  ... -122.198           2500       11194\n",
              "4627   3225059223 2014-05-19  1405000.0  ... -122.198           2650       10058\n",
              "4922   9809000020 2014-05-13  1895000.0  ... -122.219           3740       17853\n",
              "4923   9809000020 2015-03-13  1940000.0  ... -122.219           3740       17853\n",
              "5680   6645900010 2014-11-20  1470000.0  ... -122.206           1940       10189\n",
              "6740   3391500050 2014-07-03  1875000.0  ... -122.194           1780        9999\n",
              "7330   2450000290 2014-12-15  1245000.0  ... -122.196           2470        8113\n",
              "7663   8085400355 2014-12-04  1270000.0  ... -122.207           1890        9520\n",
              "7710    644200040 2014-05-15  1000000.0  ... -122.192           2540       12131\n",
              "7911   1051000040 2015-04-24  1824100.0  ... -122.214           2870       20053\n",
              "8540   8964800755 2015-01-16  1590000.0  ... -122.215           2300       12150\n",
              "9449   3472800065 2014-08-26  1698000.0  ... -122.208           2620       10400\n",
              "9573    644000040 2015-04-29  1780000.0  ... -122.196           3000       10998\n",
              "9695    524059250 2014-09-22  1388000.0  ... -122.206           3770       19530\n",
              "9742    686900030 2015-03-23   999950.0  ... -122.196           2680       19564\n",
              "10525  8146200070 2015-03-10  1700000.0  ... -122.194           2110        9870\n",
              "10949  8085400055 2015-04-28  1582500.0  ... -122.210           3980       16304\n",
              "11267  3536900030 2015-02-09  1600000.0  ... -122.225           2950       21052\n",
              "11591   629000510 2014-07-30  1185000.0  ... -122.201           3060       14303\n",
              "11843  2450500060 2014-08-26  1620000.0  ... -122.194           2440        9195\n",
              "11998  2068000270 2014-08-05  1400000.0  ... -122.218           3010       15001\n",
              "12186  4107100204 2014-08-21  2135000.0  ... -122.215           4590       23760\n",
              "12217   824059324 2015-03-25  1450000.0  ... -122.199           2080        9676\n",
              "12648  7490000040 2014-07-18  2535000.0  ... -122.221           4180       19110\n",
              "12826  3025059072 2014-07-25  1749000.0  ... -122.217           2920       16544\n",
              "13357  9808590210 2014-05-13   860000.0  ... -122.190           3290       11385\n",
              "13591   686550040 2014-06-19  1240000.0  ... -122.199           3340        9700\n",
              "13675  4389201075 2014-07-31  1900000.0  ... -122.214           3410       11700\n",
              "15072   251610020 2015-05-08  1580000.0  ... -122.214           3770       20271\n",
              "15353   644210020 2015-01-05   780000.0  ... -122.192           2600       11556\n",
              "15405  3394100020 2014-11-20   990000.0  ... -122.192           2750       11049\n",
              "16004  4122900190 2014-05-12  1346400.0  ... -122.211           3260       19809\n",
              "17151  4107100190 2015-03-24  2500000.0  ... -122.216           4780       18480\n",
              "17324  9809000010 2015-01-06  1629000.0  ... -122.218           3740       17853\n",
              "17407  9286730020 2015-03-31  1802750.0  ... -122.224           3450       20176\n",
              "17470  8084900170 2014-10-23  1562000.0  ... -122.217           3620       16200\n",
              "18432  6448000100 2014-06-17  1728000.0  ... -122.224           3080       17595\n",
              "18511  8964800975 2014-07-31  1650000.0  ... -122.214           2600       11195\n",
              "18890  3394100230 2014-05-22  1050000.0  ... -122.193           2980       11635\n",
              "19108  2025059131 2014-09-04   980000.0  ... -122.203           1800        9000\n",
              "19649  2213000030 2014-05-12  1264000.0  ... -122.200           1810        8470\n",
              "19956  2311400195 2015-03-03  1563100.0  ... -122.200           1730        8246\n",
              "19961  5078400215 2014-07-30  1695000.0  ... -122.205           1910        7735\n",
              "19973   711000110 2014-09-15  1266520.0  ... -122.199           3060        9579\n",
              "20168   250000010 2014-09-24  1750000.0  ... -122.198           1710        8400\n",
              "20500  2311400145 2014-10-29  1699990.0  ... -122.200           1560        8240\n",
              "21383   644000115 2014-09-23  1765000.0  ... -122.196           2450       10912\n",
              "21473  8085400586 2014-11-01  1750000.0  ... -122.209           3440       12825\n",
              "21568   524059330 2015-01-30  1700000.0  ... -122.197           2190       10777\n",
              "\n",
              "[59 rows x 21 columns]"
            ]
          },
          "metadata": {
            "tags": []
          },
          "execution_count": 149
        }
      ]
    },
    {
      "cell_type": "code",
      "metadata": {
        "colab": {
          "base_uri": "https://localhost:8080/"
        },
        "id": "1vyQQW45UXlD",
        "outputId": "32a8672b-ed2d-42ad-d0fd-ec83e0fc910b"
      },
      "source": [
        "# Checking the average price of houses in zipcode 98004 that have a ideal square feet size\r\n",
        "house_mean = df.query(\"sqft_living > 3000 & sqft_living <= 4000 & zipcode == 98004\").price.mean()\r\n",
        "house_mean"
      ],
      "execution_count": null,
      "outputs": [
        {
          "output_type": "execute_result",
          "data": {
            "text/plain": [
              "1532950.1694915255"
            ]
          },
          "metadata": {
            "tags": []
          },
          "execution_count": 167
        }
      ]
    },
    {
      "cell_type": "code",
      "metadata": {
        "colab": {
          "base_uri": "https://localhost:8080/"
        },
        "id": "HDOeviqIaipP",
        "outputId": "c126556c-1e72-40aa-832b-58608d240edb"
      },
      "source": [
        "# Creating a lower search price to find the chapest houses\r\n",
        "house_mean * 0.6"
      ],
      "execution_count": null,
      "outputs": [
        {
          "output_type": "execute_result",
          "data": {
            "text/plain": [
              "919770.1016949153"
            ]
          },
          "metadata": {
            "tags": []
          },
          "execution_count": 165
        }
      ]
    },
    {
      "cell_type": "code",
      "metadata": {
        "colab": {
          "base_uri": "https://localhost:8080/",
          "height": 165
        },
        "id": "CbiQ2psnUmmy",
        "outputId": "41e542df-c37e-4642-f1f5-9f7b34e3b613"
      },
      "source": [
        "# Reducing options when looking for cheaper houses than average.\r\n",
        "df.query(\"sqft_living > 3000 & sqft_living <= 4000 & zipcode == 98004 & price < 919770.10\")"
      ],
      "execution_count": null,
      "outputs": [
        {
          "output_type": "execute_result",
          "data": {
            "text/html": [
              "<div>\n",
              "<style scoped>\n",
              "    .dataframe tbody tr th:only-of-type {\n",
              "        vertical-align: middle;\n",
              "    }\n",
              "\n",
              "    .dataframe tbody tr th {\n",
              "        vertical-align: top;\n",
              "    }\n",
              "\n",
              "    .dataframe thead th {\n",
              "        text-align: right;\n",
              "    }\n",
              "</style>\n",
              "<table border=\"1\" class=\"dataframe\">\n",
              "  <thead>\n",
              "    <tr style=\"text-align: right;\">\n",
              "      <th></th>\n",
              "      <th>id</th>\n",
              "      <th>date</th>\n",
              "      <th>price</th>\n",
              "      <th>bedrooms</th>\n",
              "      <th>bathrooms</th>\n",
              "      <th>sqft_living</th>\n",
              "      <th>sqft_lot</th>\n",
              "      <th>floors</th>\n",
              "      <th>waterfront</th>\n",
              "      <th>view</th>\n",
              "      <th>condition</th>\n",
              "      <th>grade</th>\n",
              "      <th>sqft_above</th>\n",
              "      <th>sqft_basement</th>\n",
              "      <th>yr_built</th>\n",
              "      <th>yr_renovated</th>\n",
              "      <th>zipcode</th>\n",
              "      <th>lat</th>\n",
              "      <th>long</th>\n",
              "      <th>sqft_living15</th>\n",
              "      <th>sqft_lot15</th>\n",
              "    </tr>\n",
              "  </thead>\n",
              "  <tbody>\n",
              "    <tr>\n",
              "      <th>13357</th>\n",
              "      <td>9808590210</td>\n",
              "      <td>2014-05-13</td>\n",
              "      <td>860000.0</td>\n",
              "      <td>4</td>\n",
              "      <td>2.5</td>\n",
              "      <td>3560</td>\n",
              "      <td>11119</td>\n",
              "      <td>1.0</td>\n",
              "      <td>0</td>\n",
              "      <td>2</td>\n",
              "      <td>3</td>\n",
              "      <td>10</td>\n",
              "      <td>2290</td>\n",
              "      <td>1270</td>\n",
              "      <td>1986</td>\n",
              "      <td>0</td>\n",
              "      <td>98004</td>\n",
              "      <td>47.6456</td>\n",
              "      <td>-122.190</td>\n",
              "      <td>3290</td>\n",
              "      <td>11385</td>\n",
              "    </tr>\n",
              "    <tr>\n",
              "      <th>15353</th>\n",
              "      <td>644210020</td>\n",
              "      <td>2015-01-05</td>\n",
              "      <td>780000.0</td>\n",
              "      <td>4</td>\n",
              "      <td>2.5</td>\n",
              "      <td>3020</td>\n",
              "      <td>15164</td>\n",
              "      <td>1.0</td>\n",
              "      <td>0</td>\n",
              "      <td>0</td>\n",
              "      <td>4</td>\n",
              "      <td>8</td>\n",
              "      <td>1730</td>\n",
              "      <td>1290</td>\n",
              "      <td>1976</td>\n",
              "      <td>0</td>\n",
              "      <td>98004</td>\n",
              "      <td>47.5882</td>\n",
              "      <td>-122.192</td>\n",
              "      <td>2600</td>\n",
              "      <td>11556</td>\n",
              "    </tr>\n",
              "  </tbody>\n",
              "</table>\n",
              "</div>"
            ],
            "text/plain": [
              "               id       date     price  ...     long  sqft_living15  sqft_lot15\n",
              "13357  9808590210 2014-05-13  860000.0  ... -122.190           3290       11385\n",
              "15353   644210020 2015-01-05  780000.0  ... -122.192           2600       11556\n",
              "\n",
              "[2 rows x 21 columns]"
            ]
          },
          "metadata": {
            "tags": []
          },
          "execution_count": 163
        }
      ]
    },
    {
      "cell_type": "markdown",
      "metadata": {
        "id": "vg7fvGzjaF53"
      },
      "source": [
        "Should buy the house with **id number 9808590210 and 644210020** for maximum of **$919,770.00** taking into account the average value of the neighborhood and the attribute with the highest correlation. And sell it for **1,532,950.00** considerating the average price of houses with those attributes."
      ]
    },
    {
      "cell_type": "markdown",
      "metadata": {
        "id": "MQnl2CV8dS7E"
      },
      "source": [
        "## **Challenge answer**"
      ]
    },
    {
      "cell_type": "markdown",
      "metadata": {
        "id": "Oe3_h54udhHv"
      },
      "source": [
        "Which houses should de CEO of House Rocket buy and a what purchase price? \r\n",
        "**The homes that the CEO must buy are divided into two groups, the first one consists of a house with all the ideal attributes and that is priced well below the average for that profile (id number: 7284900030), so the recommended purchase price is around   $774,470.00 to sell after for 1,475,000 dollars. The second one consists of two houses with a great location and a much lower price than the average for that location with an ideal square feet (id number 9808590210 / 644210020) and the recommended purchase price is around 919,770.00 to sell after for 1,532,950**\r\n",
        "\r\n",
        "---\r\n",
        "Once the house is owned by the company, what's the best moment to sell it and what would be the sale price? **The best moment to sell the house is from April to June, more precisely in April, since these months have the highest average price and also a good frequency of sales**\r\n",
        "\r\n",
        "---\r\n",
        "The House Rocket should do some renovation to increase the sale price? What would be the suggestions for changes? What is the increase in the price given for each renovation option? **Yes, the house rocket should do some renovation to the houses of the second group, increase the number of bathroom to 3 will allow to increase the price of the houses in approximately 340 thousand dollars without needing to sacrifice much of the frequency of sales.**\r\n",
        "\r\n",
        " ---\r\n",
        "What's the ideal house's profile based on average price and frequency? \r\n",
        "**The ideal house's profile is one that has a combination of attributes that increase the value of the house and that are sold with good frequency. So the ideal home should have between 3000 to 4000ft², 9 grades, 3 to 3.75 bathrooms, 4 views, 3 or 4 conditions and 4 bedrooms. It is not surprising that the average price of houses with these attributes is 1.475 million dollars, well above the general average.**\r\n",
        "\r\n",
        "\r\n",
        "\r\n",
        "\r\n",
        "\r\n"
      ]
    }
  ]
}