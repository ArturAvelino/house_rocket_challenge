{
  "nbformat": 4,
  "nbformat_minor": 0,
  "metadata": {
    "colab": {
      "name": "house_rocket_challenge.ipynb",
      "provenance": [],
      "collapsed_sections": [],
      "toc_visible": true
    },
    "kernelspec": {
      "name": "python3",
      "display_name": "Python 3"
    }
  },
  "cells": [
    {
      "cell_type": "markdown",
      "metadata": {
        "id": "JIsYzgGukZPf"
      },
      "source": [
        "# **House Rocket Challenge**\r\n",
        "\r\n",
        "The challenge is a simulation of a digital platform whose business model is the purchase and sale of real estate.\r\n",
        "I'm taking the role of a data scientist hired to help find the best opportunities in the real estate market.\r\n",
        "\r\n",
        "My main strategy is to buy good houses with great locations and low price and then resell them later with higher prices. So my job as a data scientist is answer the following questions:\r\n",
        "\r\n",
        "Which houses should de CEO of House Rocket buy and a what purchase price?\r\n",
        "\r\n",
        "Once the house is owned by the company, what's the best moment to sell it and what would be the sale price?\r\n",
        "\r\n",
        "The House Rocket should do some renovation to increase the sale price? What would be the suggestions for changes? What is the increase in the price given for each renovation option?\r\n",
        "\r\n",
        "What's the ideal house's profile based on average price and frequency?"
      ]
    },
    {
      "cell_type": "markdown",
      "metadata": {
        "id": "afJOEJmMPg46"
      },
      "source": [
        "## **Importing libraries and dataframe**"
      ]
    },
    {
      "cell_type": "code",
      "metadata": {
        "id": "xHhAT6mMuMxz"
      },
      "source": [
        "import pandas as pd\r\n",
        "import numpy as np\r\n",
        "import matplotlib.pyplot as plt\r\n",
        "import missingno as msno\r\n",
        "import seaborn as sns"
      ],
      "execution_count": null,
      "outputs": []
    },
    {
      "cell_type": "code",
      "metadata": {
        "id": "yciNawO0uCuD",
        "colab": {
          "resources": {
            "http://localhost:8080/nbextensions/google.colab/files.js": {
              "data": "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",
              "ok": true,
              "headers": [
                [
                  "content-type",
                  "application/javascript"
                ]
              ],
              "status": 200,
              "status_text": ""
            }
          },
          "base_uri": "https://localhost:8080/",
          "height": 72
        },
        "outputId": "c4ec729e-0b98-4bbc-e0e8-de1a229f8a88"
      },
      "source": [
        "from google.colab import files\r\n",
        "uploaded = files.upload()"
      ],
      "execution_count": null,
      "outputs": [
        {
          "output_type": "display_data",
          "data": {
            "text/html": [
              "\n",
              "     <input type=\"file\" id=\"files-17d0ef16-4a11-424c-b303-9515a861f67d\" name=\"files[]\" multiple disabled\n",
              "        style=\"border:none\" />\n",
              "     <output id=\"result-17d0ef16-4a11-424c-b303-9515a861f67d\">\n",
              "      Upload widget is only available when the cell has been executed in the\n",
              "      current browser session. Please rerun this cell to enable.\n",
              "      </output>\n",
              "      <script src=\"/nbextensions/google.colab/files.js\"></script> "
            ],
            "text/plain": [
              "<IPython.core.display.HTML object>"
            ]
          },
          "metadata": {
            "tags": []
          }
        },
        {
          "output_type": "stream",
          "text": [
            "Saving kc_house_data.csv to kc_house_data (1).csv\n"
          ],
          "name": "stdout"
        }
      ]
    },
    {
      "cell_type": "code",
      "metadata": {
        "id": "sIOD0pY2q6fR"
      },
      "source": [
        "df = pd.read_csv(\"kc_house_data.csv\")"
      ],
      "execution_count": null,
      "outputs": []
    },
    {
      "cell_type": "code",
      "metadata": {
        "colab": {
          "base_uri": "https://localhost:8080/"
        },
        "id": "A34puif9TbOp",
        "outputId": "3a0bb9b5-8054-4003-b0d1-3bdb515ca5d9"
      },
      "source": [
        "df.info()"
      ],
      "execution_count": null,
      "outputs": [
        {
          "output_type": "stream",
          "text": [
            "<class 'pandas.core.frame.DataFrame'>\n",
            "RangeIndex: 21613 entries, 0 to 21612\n",
            "Data columns (total 21 columns):\n",
            " #   Column         Non-Null Count  Dtype  \n",
            "---  ------         --------------  -----  \n",
            " 0   id             21613 non-null  int64  \n",
            " 1   date           21613 non-null  object \n",
            " 2   price          21613 non-null  float64\n",
            " 3   bedrooms       21613 non-null  int64  \n",
            " 4   bathrooms      21613 non-null  float64\n",
            " 5   sqft_living    21613 non-null  int64  \n",
            " 6   sqft_lot       21613 non-null  int64  \n",
            " 7   floors         21613 non-null  float64\n",
            " 8   waterfront     21613 non-null  int64  \n",
            " 9   view           21613 non-null  int64  \n",
            " 10  condition      21613 non-null  int64  \n",
            " 11  grade          21613 non-null  int64  \n",
            " 12  sqft_above     21613 non-null  int64  \n",
            " 13  sqft_basement  21613 non-null  int64  \n",
            " 14  yr_built       21613 non-null  int64  \n",
            " 15  yr_renovated   21613 non-null  int64  \n",
            " 16  zipcode        21613 non-null  int64  \n",
            " 17  lat            21613 non-null  float64\n",
            " 18  long           21613 non-null  float64\n",
            " 19  sqft_living15  21613 non-null  int64  \n",
            " 20  sqft_lot15     21613 non-null  int64  \n",
            "dtypes: float64(5), int64(15), object(1)\n",
            "memory usage: 3.5+ MB\n"
          ],
          "name": "stdout"
        }
      ]
    },
    {
      "cell_type": "code",
      "metadata": {
        "colab": {
          "base_uri": "https://localhost:8080/",
          "height": 317
        },
        "id": "3eciQGLXYBeX",
        "outputId": "9c39348b-d077-4c57-f023-4b67c6562bf1"
      },
      "source": [
        "df.describe()"
      ],
      "execution_count": null,
      "outputs": [
        {
          "output_type": "execute_result",
          "data": {
            "text/html": [
              "<div>\n",
              "<style scoped>\n",
              "    .dataframe tbody tr th:only-of-type {\n",
              "        vertical-align: middle;\n",
              "    }\n",
              "\n",
              "    .dataframe tbody tr th {\n",
              "        vertical-align: top;\n",
              "    }\n",
              "\n",
              "    .dataframe thead th {\n",
              "        text-align: right;\n",
              "    }\n",
              "</style>\n",
              "<table border=\"1\" class=\"dataframe\">\n",
              "  <thead>\n",
              "    <tr style=\"text-align: right;\">\n",
              "      <th></th>\n",
              "      <th>id</th>\n",
              "      <th>price</th>\n",
              "      <th>bedrooms</th>\n",
              "      <th>bathrooms</th>\n",
              "      <th>sqft_living</th>\n",
              "      <th>sqft_lot</th>\n",
              "      <th>floors</th>\n",
              "      <th>waterfront</th>\n",
              "      <th>view</th>\n",
              "      <th>condition</th>\n",
              "      <th>grade</th>\n",
              "      <th>sqft_above</th>\n",
              "      <th>sqft_basement</th>\n",
              "      <th>yr_built</th>\n",
              "      <th>yr_renovated</th>\n",
              "      <th>zipcode</th>\n",
              "      <th>lat</th>\n",
              "      <th>long</th>\n",
              "      <th>sqft_living15</th>\n",
              "      <th>sqft_lot15</th>\n",
              "    </tr>\n",
              "  </thead>\n",
              "  <tbody>\n",
              "    <tr>\n",
              "      <th>count</th>\n",
              "      <td>2.161200e+04</td>\n",
              "      <td>2.161200e+04</td>\n",
              "      <td>21612.000000</td>\n",
              "      <td>21612.000000</td>\n",
              "      <td>21612.000000</td>\n",
              "      <td>2.161200e+04</td>\n",
              "      <td>21612.000000</td>\n",
              "      <td>21612.000000</td>\n",
              "      <td>21612.000000</td>\n",
              "      <td>21612.000000</td>\n",
              "      <td>21612.000000</td>\n",
              "      <td>21612.000000</td>\n",
              "      <td>21612.000000</td>\n",
              "      <td>21612.000000</td>\n",
              "      <td>21612.000000</td>\n",
              "      <td>21612.000000</td>\n",
              "      <td>21612.000000</td>\n",
              "      <td>21612.000000</td>\n",
              "      <td>21612.000000</td>\n",
              "      <td>21612.000000</td>\n",
              "    </tr>\n",
              "    <tr>\n",
              "      <th>mean</th>\n",
              "      <td>4.580402e+09</td>\n",
              "      <td>5.400835e+05</td>\n",
              "      <td>3.369471</td>\n",
              "      <td>2.114774</td>\n",
              "      <td>2079.921016</td>\n",
              "      <td>1.510739e+04</td>\n",
              "      <td>1.494332</td>\n",
              "      <td>0.007542</td>\n",
              "      <td>0.234314</td>\n",
              "      <td>3.409356</td>\n",
              "      <td>7.656904</td>\n",
              "      <td>1788.425319</td>\n",
              "      <td>291.495697</td>\n",
              "      <td>1971.006247</td>\n",
              "      <td>84.406163</td>\n",
              "      <td>98077.938645</td>\n",
              "      <td>47.560047</td>\n",
              "      <td>-122.213891</td>\n",
              "      <td>1986.582871</td>\n",
              "      <td>12768.828984</td>\n",
              "    </tr>\n",
              "    <tr>\n",
              "      <th>std</th>\n",
              "      <td>2.876594e+09</td>\n",
              "      <td>3.671351e+05</td>\n",
              "      <td>0.907982</td>\n",
              "      <td>0.770177</td>\n",
              "      <td>918.456818</td>\n",
              "      <td>4.142142e+04</td>\n",
              "      <td>0.539991</td>\n",
              "      <td>0.086519</td>\n",
              "      <td>0.766334</td>\n",
              "      <td>0.650668</td>\n",
              "      <td>1.175477</td>\n",
              "      <td>828.094487</td>\n",
              "      <td>442.580931</td>\n",
              "      <td>29.373636</td>\n",
              "      <td>401.688123</td>\n",
              "      <td>53.505993</td>\n",
              "      <td>0.138564</td>\n",
              "      <td>0.140829</td>\n",
              "      <td>685.392610</td>\n",
              "      <td>27304.756179</td>\n",
              "    </tr>\n",
              "    <tr>\n",
              "      <th>min</th>\n",
              "      <td>1.000102e+06</td>\n",
              "      <td>7.500000e+04</td>\n",
              "      <td>0.000000</td>\n",
              "      <td>0.000000</td>\n",
              "      <td>290.000000</td>\n",
              "      <td>5.200000e+02</td>\n",
              "      <td>1.000000</td>\n",
              "      <td>0.000000</td>\n",
              "      <td>0.000000</td>\n",
              "      <td>1.000000</td>\n",
              "      <td>1.000000</td>\n",
              "      <td>290.000000</td>\n",
              "      <td>0.000000</td>\n",
              "      <td>1900.000000</td>\n",
              "      <td>0.000000</td>\n",
              "      <td>98001.000000</td>\n",
              "      <td>47.155900</td>\n",
              "      <td>-122.519000</td>\n",
              "      <td>399.000000</td>\n",
              "      <td>651.000000</td>\n",
              "    </tr>\n",
              "    <tr>\n",
              "      <th>25%</th>\n",
              "      <td>2.123049e+09</td>\n",
              "      <td>3.218375e+05</td>\n",
              "      <td>3.000000</td>\n",
              "      <td>1.750000</td>\n",
              "      <td>1426.500000</td>\n",
              "      <td>5.040000e+03</td>\n",
              "      <td>1.000000</td>\n",
              "      <td>0.000000</td>\n",
              "      <td>0.000000</td>\n",
              "      <td>3.000000</td>\n",
              "      <td>7.000000</td>\n",
              "      <td>1190.000000</td>\n",
              "      <td>0.000000</td>\n",
              "      <td>1951.000000</td>\n",
              "      <td>0.000000</td>\n",
              "      <td>98033.000000</td>\n",
              "      <td>47.470975</td>\n",
              "      <td>-122.328000</td>\n",
              "      <td>1490.000000</td>\n",
              "      <td>5100.000000</td>\n",
              "    </tr>\n",
              "    <tr>\n",
              "      <th>50%</th>\n",
              "      <td>3.904930e+09</td>\n",
              "      <td>4.500000e+05</td>\n",
              "      <td>3.000000</td>\n",
              "      <td>2.250000</td>\n",
              "      <td>1910.000000</td>\n",
              "      <td>7.619000e+03</td>\n",
              "      <td>1.500000</td>\n",
              "      <td>0.000000</td>\n",
              "      <td>0.000000</td>\n",
              "      <td>3.000000</td>\n",
              "      <td>7.000000</td>\n",
              "      <td>1560.000000</td>\n",
              "      <td>0.000000</td>\n",
              "      <td>1975.000000</td>\n",
              "      <td>0.000000</td>\n",
              "      <td>98065.000000</td>\n",
              "      <td>47.571800</td>\n",
              "      <td>-122.230000</td>\n",
              "      <td>1840.000000</td>\n",
              "      <td>7620.000000</td>\n",
              "    </tr>\n",
              "    <tr>\n",
              "      <th>75%</th>\n",
              "      <td>7.308900e+09</td>\n",
              "      <td>6.450000e+05</td>\n",
              "      <td>4.000000</td>\n",
              "      <td>2.500000</td>\n",
              "      <td>2550.000000</td>\n",
              "      <td>1.068825e+04</td>\n",
              "      <td>2.000000</td>\n",
              "      <td>0.000000</td>\n",
              "      <td>0.000000</td>\n",
              "      <td>4.000000</td>\n",
              "      <td>8.000000</td>\n",
              "      <td>2210.000000</td>\n",
              "      <td>560.000000</td>\n",
              "      <td>1997.000000</td>\n",
              "      <td>0.000000</td>\n",
              "      <td>98118.000000</td>\n",
              "      <td>47.678000</td>\n",
              "      <td>-122.125000</td>\n",
              "      <td>2360.000000</td>\n",
              "      <td>10083.250000</td>\n",
              "    </tr>\n",
              "    <tr>\n",
              "      <th>max</th>\n",
              "      <td>9.900000e+09</td>\n",
              "      <td>7.700000e+06</td>\n",
              "      <td>11.000000</td>\n",
              "      <td>8.000000</td>\n",
              "      <td>13540.000000</td>\n",
              "      <td>1.651359e+06</td>\n",
              "      <td>3.500000</td>\n",
              "      <td>1.000000</td>\n",
              "      <td>4.000000</td>\n",
              "      <td>5.000000</td>\n",
              "      <td>13.000000</td>\n",
              "      <td>9410.000000</td>\n",
              "      <td>4820.000000</td>\n",
              "      <td>2015.000000</td>\n",
              "      <td>2015.000000</td>\n",
              "      <td>98199.000000</td>\n",
              "      <td>47.777600</td>\n",
              "      <td>-121.315000</td>\n",
              "      <td>6210.000000</td>\n",
              "      <td>871200.000000</td>\n",
              "    </tr>\n",
              "  </tbody>\n",
              "</table>\n",
              "</div>"
            ],
            "text/plain": [
              "                 id         price  ...  sqft_living15     sqft_lot15\n",
              "count  2.161200e+04  2.161200e+04  ...   21612.000000   21612.000000\n",
              "mean   4.580402e+09  5.400835e+05  ...    1986.582871   12768.828984\n",
              "std    2.876594e+09  3.671351e+05  ...     685.392610   27304.756179\n",
              "min    1.000102e+06  7.500000e+04  ...     399.000000     651.000000\n",
              "25%    2.123049e+09  3.218375e+05  ...    1490.000000    5100.000000\n",
              "50%    3.904930e+09  4.500000e+05  ...    1840.000000    7620.000000\n",
              "75%    7.308900e+09  6.450000e+05  ...    2360.000000   10083.250000\n",
              "max    9.900000e+09  7.700000e+06  ...    6210.000000  871200.000000\n",
              "\n",
              "[8 rows x 20 columns]"
            ]
          },
          "metadata": {
            "tags": []
          },
          "execution_count": 56
        }
      ]
    },
    {
      "cell_type": "code",
      "metadata": {
        "colab": {
          "base_uri": "https://localhost:8080/",
          "height": 705
        },
        "id": "WPd8QB-MTg4K",
        "outputId": "26b84d92-a5f2-4d3b-ece2-791edd896893"
      },
      "source": [
        "%matplotlib inline\r\n",
        "msno.matrix(df)\r\n"
      ],
      "execution_count": null,
      "outputs": [
        {
          "output_type": "execute_result",
          "data": {
            "text/plain": [
              "<matplotlib.axes._subplots.AxesSubplot at 0x7fe1ed2ee950>"
            ]
          },
          "metadata": {
            "tags": []
          },
          "execution_count": 13
        },
        {
          "output_type": "display_data",
          "data": {
            "image/png": "[encoded data removed]",
            "text/plain": [
              "<Figure size 1800x720 with 2 Axes>"
            ]
          },
          "metadata": {
            "tags": [],
            "needs_background": "light"
          }
        }
      ]
    },
    {
      "cell_type": "markdown",
      "metadata": {
        "id": "V38GhFrWOzTc"
      },
      "source": [
        "## **Sales throughout the year**"
      ]
    },
    {
      "cell_type": "markdown",
      "metadata": {
        "id": "Pw73i1xg2SFt"
      },
      "source": [
        "### **Date**"
      ]
    },
    {
      "cell_type": "code",
      "metadata": {
        "colab": {
          "base_uri": "https://localhost:8080/"
        },
        "id": "RgcJvmlu1x3P",
        "outputId": "21a78edb-7f4c-4d1a-a1ab-e482ea4e53e3"
      },
      "source": [
        "df.date.describe()"
      ],
      "execution_count": null,
      "outputs": [
        {
          "output_type": "execute_result",
          "data": {
            "text/plain": [
              "count               21613\n",
              "unique                372\n",
              "top       20140623T000000\n",
              "freq                  142\n",
              "Name: date, dtype: object"
            ]
          },
          "metadata": {
            "tags": []
          },
          "execution_count": 4
        }
      ]
    },
    {
      "cell_type": "code",
      "metadata": {
        "colab": {
          "base_uri": "https://localhost:8080/"
        },
        "id": "t1MSVvsxYf1h",
        "outputId": "3d92742a-aab3-4d3d-b5c1-ab0acf3f2716"
      },
      "source": [
        "# Turning the column date into datetime by month\r\n",
        "df[\"date\"] = pd.to_datetime(df.date)\r\n",
        "df[\"month\"] = df.date.dt.month\r\n",
        "\r\n",
        "# Checking the mean of price per month\r\n",
        "df.groupby(\"month\")[\"price\"].mean()"
      ],
      "execution_count": null,
      "outputs": [
        {
          "output_type": "execute_result",
          "data": {
            "text/plain": [
              "month\n",
              "1     525870.889571\n",
              "2     507851.371200\n",
              "3     543977.187200\n",
              "4     561837.774989\n",
              "5     550768.785833\n",
              "6     558002.199541\n",
              "7     544788.764360\n",
              "8     536445.276804\n",
              "9     529253.821871\n",
              "10    539026.971778\n",
              "11    521961.009213\n",
              "12    524461.866757\n",
              "Name: price, dtype: float64"
            ]
          },
          "metadata": {
            "tags": []
          },
          "execution_count": 7
        }
      ]
    },
    {
      "cell_type": "code",
      "metadata": {
        "colab": {
          "base_uri": "https://localhost:8080/",
          "height": 306
        },
        "id": "-uKHcjTnZRB9",
        "outputId": "cd2889f8-cccd-4fc6-84a9-ada76d0177b2"
      },
      "source": [
        "# Plotting the mean of price per month\r\n",
        "sns.set()\r\n",
        "\r\n",
        "df_date = df.groupby(\"month\")[\"price\"].mean()\r\n",
        "df_date.plot.bar()"
      ],
      "execution_count": null,
      "outputs": [
        {
          "output_type": "execute_result",
          "data": {
            "text/plain": [
              "<matplotlib.axes._subplots.AxesSubplot at 0x7fb14fc133d0>"
            ]
          },
          "metadata": {
            "tags": []
          },
          "execution_count": 38
        },
        {
          "output_type": "display_data",
          "data": {
            "image/png": "[encoded data removed]",
            "text/plain": [
              "<Figure size 432x288 with 1 Axes>"
            ]
          },
          "metadata": {
            "tags": []
          }
        }
      ]
    },
    {
      "cell_type": "code",
      "metadata": {
        "colab": {
          "base_uri": "https://localhost:8080/"
        },
        "id": "Y4VISc6zlNUu",
        "outputId": "3068f538-1600-421d-a16d-dd0c6e403c41"
      },
      "source": [
        "# Checking the maximum and minimum average price\r\n",
        "df.groupby(\"month\")[\"price\"].mean().agg([\"min\", \"max\"])"
      ],
      "execution_count": null,
      "outputs": [
        {
          "output_type": "execute_result",
          "data": {
            "text/plain": [
              "min    507851.371200\n",
              "max    561837.774989\n",
              "Name: price, dtype: float64"
            ]
          },
          "metadata": {
            "tags": []
          },
          "execution_count": 34
        }
      ]
    },
    {
      "cell_type": "code",
      "metadata": {
        "colab": {
          "base_uri": "https://localhost:8080/"
        },
        "id": "knmVmL-19Uue",
        "outputId": "2746a0c1-f9c5-4209-f813-cf998fcb17eb"
      },
      "source": [
        "# Checking the frequency of sales per month\r\n",
        "df.groupby(\"month\")[\"price\"].size()"
      ],
      "execution_count": null,
      "outputs": [
        {
          "output_type": "execute_result",
          "data": {
            "text/plain": [
              "month\n",
              "1      978\n",
              "2     1250\n",
              "3     1875\n",
              "4     2231\n",
              "5     2414\n",
              "6     2180\n",
              "7     2211\n",
              "8     1940\n",
              "9     1774\n",
              "10    1878\n",
              "11    1411\n",
              "12    1471\n",
              "Name: price, dtype: int64"
            ]
          },
          "metadata": {
            "tags": []
          },
          "execution_count": 35
        }
      ]
    },
    {
      "cell_type": "code",
      "metadata": {
        "colab": {
          "base_uri": "https://localhost:8080/",
          "height": 300
        },
        "id": "_c2cS-O8oAyg",
        "outputId": "5cf0a2fc-2a3b-4c42-802f-2dd12a75ddf0"
      },
      "source": [
        "# Plotting the frequency of sales per month\r\n",
        "df.groupby(\"month\")[\"price\"].size().plot.bar()"
      ],
      "execution_count": null,
      "outputs": [
        {
          "output_type": "execute_result",
          "data": {
            "text/plain": [
              "<matplotlib.axes._subplots.AxesSubplot at 0x7fb14fbe2e50>"
            ]
          },
          "metadata": {
            "tags": []
          },
          "execution_count": 37
        },
        {
          "output_type": "display_data",
          "data": {
            "image/png": "[encoded data removed]",
            "text/plain": [
              "<Figure size 432x288 with 1 Axes>"
            ]
          },
          "metadata": {
            "tags": [],
            "needs_background": "light"
          }
        }
      ]
    },
    {
      "cell_type": "markdown",
      "metadata": {
        "id": "iDLQet0O8aKX"
      },
      "source": [
        "The cheapest month to buy a home is **February**, while the most expensive month to buy is **April** and in addition, it has a high frequency of sales. Despite this, **there isn't a very significant change** in the purchase and sale value over the months."
      ]
    },
    {
      "cell_type": "markdown",
      "metadata": {
        "id": "XGMa5uMb__jJ"
      },
      "source": [
        "## **Creating our ideal house's profile.**"
      ]
    },
    {
      "cell_type": "markdown",
      "metadata": {
        "id": "39f8xlilO5Wc"
      },
      "source": [
        "### **Checking correlation between price and the others attributes**"
      ]
    },
    {
      "cell_type": "code",
      "metadata": {
        "id": "5GtcviIfr-C_",
        "colab": {
          "base_uri": "https://localhost:8080/",
          "height": 948
        },
        "outputId": "c564858d-54f5-4c70-fa16-d7504ba938c4"
      },
      "source": [
        "# Checking and plotting the correlation between the attributes\r\n",
        "plt.figure(figsize=(25, 15))\r\n",
        "sns.heatmap(df.corr(), annot=True, cmap=\"RdBu\")\r\n"
      ],
      "execution_count": null,
      "outputs": [
        {
          "output_type": "execute_result",
          "data": {
            "text/plain": [
              "<matplotlib.axes._subplots.AxesSubplot at 0x7fe1e93ca750>"
            ]
          },
          "metadata": {
            "tags": []
          },
          "execution_count": 55
        },
        {
          "output_type": "display_data",
          "data": {
            "image/png": "[encoded data removed]",
            "text/plain": [
              "<Figure size 1800x1080 with 2 Axes>"
            ]
          },
          "metadata": {
            "tags": [],
            "needs_background": "light"
          }
        }
      ]
    },
    {
      "cell_type": "markdown",
      "metadata": {
        "id": "9nHC5HbcT3Cb"
      },
      "source": [
        "I'll take the following attributes for my exploratory data analysis, since they have higher correlations without dupplicates: **sqft_living, grade, bathrooms, view, condition and bedrooms.**\r\n",
        "\r\n",
        "Inicially I'll find the best house profile considering mean price and frequency of each attribute.\r\n",
        "\r\n"
      ]
    },
    {
      "cell_type": "markdown",
      "metadata": {
        "id": "XsdzFuufv9ek"
      },
      "source": [
        "### **Square feet**"
      ]
    },
    {
      "cell_type": "code",
      "metadata": {
        "colab": {
          "base_uri": "https://localhost:8080/"
        },
        "id": "qu9kPgShWStA",
        "outputId": "a0b02be8-fd23-4a40-8fda-80c96ae2b254"
      },
      "source": [
        "# Checking the smallest and largest house's square feet\r\n",
        "df.sqft_living.describe()"
      ],
      "execution_count": null,
      "outputs": [
        {
          "output_type": "execute_result",
          "data": {
            "text/plain": [
              "count    21613.000000\n",
              "mean      2079.899736\n",
              "std        918.440897\n",
              "min        290.000000\n",
              "25%       1427.000000\n",
              "50%       1910.000000\n",
              "75%       2550.000000\n",
              "max      13540.000000\n",
              "Name: sqft_living, dtype: float64"
            ]
          },
          "metadata": {
            "tags": []
          },
          "execution_count": 16
        }
      ]
    },
    {
      "cell_type": "code",
      "metadata": {
        "colab": {
          "base_uri": "https://localhost:8080/"
        },
        "id": "TdE7LF5axyiW",
        "outputId": "e1bb5022-d4c4-4a56-dcef-541489025d09"
      },
      "source": [
        "# Creating intervals to cut\r\n",
        "bins = [0, 1000, 2000, 3000, 4000, 5000, 6000, 7000, 8000, 9000, 10000, 11000,\r\n",
        "        12000, 13000, 14000]\r\n",
        "\r\n",
        "# Creating categories to each cut\r\n",
        "groups = [\"0-1000\", \"1000-2000\", \"2000-3000\", \"3000-4000\", \"4000-5000\",\r\n",
        "          \"5000-6000\", \"6000-7000\", \"7000-8000\", \"8000-9000\", \"9000-10000\",\r\n",
        "          \"10000-11000\", \"11000-12000\", \"12000-13000\", \"13000-14000\"]\r\n",
        "\r\n",
        "# Creating a column with the categories to each cut\r\n",
        "df[\"sqft_living_per_1000\"] = pd.cut(df.sqft_living, bins, labels=groups)\r\n",
        "\r\n",
        "# formating the mean results to float\r\n",
        "pd.options.display.float_format = '{:.2f}'.format\r\n",
        "\r\n",
        "# Checking the average price per 1000ft²\r\n",
        "df.groupby(\"sqft_living_per_1000\")[\"price\"].mean()"
      ],
      "execution_count": null,
      "outputs": [
        {
          "output_type": "execute_result",
          "data": {
            "text/plain": [
              "sqft_living_per_1000\n",
              "0-1000         298301.01\n",
              "1000-2000      398802.97\n",
              "2000-3000      579311.20\n",
              "3000-4000      872755.07\n",
              "4000-5000     1326124.71\n",
              "5000-6000     1783964.55\n",
              "6000-7000     2136571.25\n",
              "7000-8000     2680533.68\n",
              "8000-9000     3766266.67\n",
              "9000-10000    5707666.67\n",
              "10000-11000   7062500.00\n",
              "11000-12000          nan\n",
              "12000-13000   7700000.00\n",
              "13000-14000   2280000.00\n",
              "Name: price, dtype: float64"
            ]
          },
          "metadata": {
            "tags": []
          },
          "execution_count": 60
        }
      ]
    },
    {
      "cell_type": "code",
      "metadata": {
        "colab": {
          "base_uri": "https://localhost:8080/",
          "height": 377
        },
        "id": "sXfwLSrU0zLv",
        "outputId": "011dec9d-d636-419c-ef58-5970c875fdb2"
      },
      "source": [
        "# Plotting the average price per 1000ft²\r\n",
        "df.groupby(\"sqft_living_per_1000\")[\"price\"].mean().plot.bar()"
      ],
      "execution_count": null,
      "outputs": [
        {
          "output_type": "execute_result",
          "data": {
            "text/plain": [
              "<matplotlib.axes._subplots.AxesSubplot at 0x7fb14fd2f790>"
            ]
          },
          "metadata": {
            "tags": []
          },
          "execution_count": 54
        },
        {
          "output_type": "display_data",
          "data": {
            "image/png": "[encoded data removed]",
            "text/plain": [
              "<Figure size 432x288 with 1 Axes>"
            ]
          },
          "metadata": {
            "tags": []
          }
        }
      ]
    },
    {
      "cell_type": "code",
      "metadata": {
        "colab": {
          "base_uri": "https://localhost:8080/"
        },
        "id": "A9v6QoKdr7E9",
        "outputId": "fc9adaeb-4d08-46a6-a864-3474821068aa"
      },
      "source": [
        "# Checking the percentual difference between average price of the categories\r\n",
        "df.groupby(\"sqft_living_per_1000\")[\"price\"].mean().pct_change()"
      ],
      "execution_count": null,
      "outputs": [
        {
          "output_type": "execute_result",
          "data": {
            "text/plain": [
              "sqft_living_per_1000\n",
              "0-1000          nan\n",
              "1000-2000      0.34\n",
              "2000-3000      0.45\n",
              "3000-4000      0.51\n",
              "4000-5000      0.52\n",
              "5000-6000      0.35\n",
              "6000-7000      0.20\n",
              "7000-8000      0.25\n",
              "8000-9000      0.41\n",
              "9000-10000     0.52\n",
              "10000-11000    0.24\n",
              "11000-12000    0.00\n",
              "12000-13000    0.09\n",
              "13000-14000   -0.70\n",
              "Name: price, dtype: float64"
            ]
          },
          "metadata": {
            "tags": []
          },
          "execution_count": 61
        }
      ]
    },
    {
      "cell_type": "code",
      "metadata": {
        "colab": {
          "base_uri": "https://localhost:8080/",
          "height": 366
        },
        "id": "uzqTEeQY2vgw",
        "outputId": "fcecd7b7-cca8-4163-9ea1-7c6d65afac6b"
      },
      "source": [
        "# Plotting the percentual difference between the average price of the categories\r\n",
        "df.groupby(\"sqft_living_per_1000\")[\"price\"].mean().pct_change().plot.bar()"
      ],
      "execution_count": null,
      "outputs": [
        {
          "output_type": "execute_result",
          "data": {
            "text/plain": [
              "<matplotlib.axes._subplots.AxesSubplot at 0x7fb14e9c0990>"
            ]
          },
          "metadata": {
            "tags": []
          },
          "execution_count": 62
        },
        {
          "output_type": "display_data",
          "data": {
            "image/png": "[encoded data removed]",
            "text/plain": [
              "<Figure size 432x288 with 1 Axes>"
            ]
          },
          "metadata": {
            "tags": []
          }
        }
      ]
    },
    {
      "cell_type": "code",
      "metadata": {
        "colab": {
          "base_uri": "https://localhost:8080/"
        },
        "id": "L5ynXZINvM0o",
        "outputId": "55dc4f1f-a733-44c2-a7a8-793d9383b99a"
      },
      "source": [
        "# Checking the frequency of sales per 1000 square feet\r\n",
        "df.groupby(\"sqft_living_per_1000\")[\"price\"].size()"
      ],
      "execution_count": null,
      "outputs": [
        {
          "output_type": "execute_result",
          "data": {
            "text/plain": [
              "sqft_living_per_1000\n",
              "0-1000          1494\n",
              "1000-2000      10218\n",
              "2000-3000       6819\n",
              "3000-4000       2299\n",
              "4000-5000        572\n",
              "5000-6000        143\n",
              "6000-7000         40\n",
              "7000-8000         19\n",
              "8000-9000          3\n",
              "9000-10000         3\n",
              "10000-11000        1\n",
              "11000-12000        0\n",
              "12000-13000        1\n",
              "13000-14000        1\n",
              "Name: price, dtype: int64"
            ]
          },
          "metadata": {
            "tags": []
          },
          "execution_count": 64
        }
      ]
    },
    {
      "cell_type": "code",
      "metadata": {
        "colab": {
          "base_uri": "https://localhost:8080/",
          "height": 366
        },
        "id": "L6cdA9qf3T-b",
        "outputId": "2c42c2c4-62fa-4b1e-ca37-45ce7d6f232d"
      },
      "source": [
        "# Plotting the frequency of sales per 1000 square feet\r\n",
        "df.groupby(\"sqft_living_per_1000\").size().plot.bar()"
      ],
      "execution_count": null,
      "outputs": [
        {
          "output_type": "execute_result",
          "data": {
            "text/plain": [
              "<matplotlib.axes._subplots.AxesSubplot at 0x7fb14db0bd50>"
            ]
          },
          "metadata": {
            "tags": []
          },
          "execution_count": 118
        },
        {
          "output_type": "display_data",
          "data": {
            "image/png": "[encoded data removed]",
            "text/plain": [
              "<Figure size 432x288 with 1 Axes>"
            ]
          },
          "metadata": {
            "tags": []
          }
        }
      ]
    },
    {
      "cell_type": "markdown",
      "metadata": {
        "id": "_A8zAt4XBiCr"
      },
      "source": [
        "The highest percentages of increase in average prices occur between 3000-4000ft² and 4000-5000ft², but considering the frequency of sales where the second one has 1/4 of the number of sales, I choose **3000-4000ft²** as the ideal size for resale houses"
      ]
    },
    {
      "cell_type": "markdown",
      "metadata": {
        "id": "GL5ah-QAGvdo"
      },
      "source": [
        "### **Grade**"
      ]
    },
    {
      "cell_type": "code",
      "metadata": {
        "colab": {
          "base_uri": "https://localhost:8080/"
        },
        "id": "5XBPh6c-G0tQ",
        "outputId": "45ed4552-fc54-4e69-fba5-5e3b2320e487"
      },
      "source": [
        "# Checking minimum and maximum of grade in the df\r\n",
        "df.grade.describe()"
      ],
      "execution_count": null,
      "outputs": [
        {
          "output_type": "execute_result",
          "data": {
            "text/plain": [
              "count    21613.000000\n",
              "mean         7.656873\n",
              "std          1.175459\n",
              "min          1.000000\n",
              "25%          7.000000\n",
              "50%          7.000000\n",
              "75%          8.000000\n",
              "max         13.000000\n",
              "Name: grade, dtype: float64"
            ]
          },
          "metadata": {
            "tags": []
          },
          "execution_count": 20
        }
      ]
    },
    {
      "cell_type": "code",
      "metadata": {
        "colab": {
          "base_uri": "https://localhost:8080/"
        },
        "id": "ONdkBv4kHPZw",
        "outputId": "539fb063-f8e6-4f5b-acaa-773926ea344b"
      },
      "source": [
        "# Checking the mean of price per grade\r\n",
        "df.groupby(\"grade\")[\"price\"].mean()"
      ],
      "execution_count": null,
      "outputs": [
        {
          "output_type": "execute_result",
          "data": {
            "text/plain": [
              "grade\n",
              "1     142000.00\n",
              "3     205666.67\n",
              "4     214381.03\n",
              "5     248523.97\n",
              "6     301919.64\n",
              "7     402590.26\n",
              "8     542852.77\n",
              "9     773513.19\n",
              "10   1071771.07\n",
              "11   1496841.73\n",
              "12   2191222.00\n",
              "13   3709615.38\n",
              "Name: price, dtype: float64"
            ]
          },
          "metadata": {
            "tags": []
          },
          "execution_count": 66
        }
      ]
    },
    {
      "cell_type": "code",
      "metadata": {
        "colab": {
          "base_uri": "https://localhost:8080/",
          "height": 317
        },
        "id": "a0eRl_6F4Ay3",
        "outputId": "694b983d-ecc1-417c-d031-2a4752f54229"
      },
      "source": [
        "# Plotting the mean of price per grade\r\n",
        "df.groupby(\"grade\")[\"price\"].mean().plot.bar()"
      ],
      "execution_count": null,
      "outputs": [
        {
          "output_type": "execute_result",
          "data": {
            "text/plain": [
              "<matplotlib.axes._subplots.AxesSubplot at 0x7fb14e7f14d0>"
            ]
          },
          "metadata": {
            "tags": []
          },
          "execution_count": 67
        },
        {
          "output_type": "display_data",
          "data": {
            "image/png": "[encoded data removed]",
            "text/plain": [
              "<Figure size 432x288 with 1 Axes>"
            ]
          },
          "metadata": {
            "tags": []
          }
        }
      ]
    },
    {
      "cell_type": "code",
      "metadata": {
        "colab": {
          "base_uri": "https://localhost:8080/"
        },
        "id": "g19DuOH6I8J9",
        "outputId": "a4fa0411-4c65-44fc-b750-8bb8bee4a239"
      },
      "source": [
        "# Checking the percentual difference of average price per grade\r\n",
        "df.groupby(\"grade\")[\"price\"].mean().pct_change()\r\n"
      ],
      "execution_count": null,
      "outputs": [
        {
          "output_type": "execute_result",
          "data": {
            "text/plain": [
              "grade\n",
              "1     nan\n",
              "3    0.45\n",
              "4    0.04\n",
              "5    0.16\n",
              "6    0.21\n",
              "7    0.33\n",
              "8    0.35\n",
              "9    0.42\n",
              "10   0.39\n",
              "11   0.40\n",
              "12   0.46\n",
              "13   0.69\n",
              "Name: price, dtype: float64"
            ]
          },
          "metadata": {
            "tags": []
          },
          "execution_count": 69
        }
      ]
    },
    {
      "cell_type": "code",
      "metadata": {
        "colab": {
          "base_uri": "https://localhost:8080/",
          "height": 306
        },
        "id": "mG3CEtvz45Fa",
        "outputId": "b2f821bb-6cf2-4506-ce90-609ca58f1bd8"
      },
      "source": [
        "# Plotting the percentual difference of average price per grade\r\n",
        "df.groupby(\"grade\")[\"price\"].mean().pct_change().plot.bar()"
      ],
      "execution_count": null,
      "outputs": [
        {
          "output_type": "execute_result",
          "data": {
            "text/plain": [
              "<matplotlib.axes._subplots.AxesSubplot at 0x7fb14e9aeb10>"
            ]
          },
          "metadata": {
            "tags": []
          },
          "execution_count": 70
        },
        {
          "output_type": "display_data",
          "data": {
            "image/png": "[encoded data removed]",
            "text/plain": [
              "<Figure size 432x288 with 1 Axes>"
            ]
          },
          "metadata": {
            "tags": []
          }
        }
      ]
    },
    {
      "cell_type": "code",
      "metadata": {
        "colab": {
          "base_uri": "https://localhost:8080/"
        },
        "id": "kh3scXqALJDY",
        "outputId": "1082a239-5e7b-4e52-8f54-cf9253da3e84"
      },
      "source": [
        "# Checking the frequency of sales per grade\r\n",
        "df.groupby(\"grade\").size()"
      ],
      "execution_count": null,
      "outputs": [
        {
          "output_type": "execute_result",
          "data": {
            "text/plain": [
              "grade\n",
              "1        1\n",
              "3        3\n",
              "4       29\n",
              "5      242\n",
              "6     2038\n",
              "7     8981\n",
              "8     6068\n",
              "9     2615\n",
              "10    1134\n",
              "11     399\n",
              "12      90\n",
              "13      13\n",
              "dtype: int64"
            ]
          },
          "metadata": {
            "tags": []
          },
          "execution_count": 23
        }
      ]
    },
    {
      "cell_type": "code",
      "metadata": {
        "colab": {
          "base_uri": "https://localhost:8080/",
          "height": 306
        },
        "id": "6m3yEkZ-Z8tg",
        "outputId": "989bb54d-c7ab-44f7-c4af-18f275bc3c90"
      },
      "source": [
        "df.groupby(\"grade\").size().plot.bar()"
      ],
      "execution_count": null,
      "outputs": [
        {
          "output_type": "execute_result",
          "data": {
            "text/plain": [
              "<matplotlib.axes._subplots.AxesSubplot at 0x7fb14ea34090>"
            ]
          },
          "metadata": {
            "tags": []
          },
          "execution_count": 71
        },
        {
          "output_type": "display_data",
          "data": {
            "image/png": "[encoded data removed]",
            "text/plain": [
              "<Figure size 432x288 with 1 Axes>"
            ]
          },
          "metadata": {
            "tags": []
          }
        }
      ]
    },
    {
      "cell_type": "markdown",
      "metadata": {
        "id": "mgHG2199Lvzf"
      },
      "source": [
        "The three biggest average price increases occur in 3, 9, 12 and 13 grades. \r\n",
        "Considering that the frequency of **9 grades** is much higher than the others, I choose it as the ideal house grade to resell."
      ]
    },
    {
      "cell_type": "markdown",
      "metadata": {
        "id": "9OMBq_BZPzFu"
      },
      "source": [
        "### **Bathrooms**\r\n"
      ]
    },
    {
      "cell_type": "code",
      "metadata": {
        "colab": {
          "base_uri": "https://localhost:8080/"
        },
        "id": "s2OsOwk9QmnF",
        "outputId": "c9ad5c10-297d-45af-90ba-c83cebbdbb52"
      },
      "source": [
        "# Checking minimum and maximum of bathrooms in the df\r\n",
        "df.bathrooms.describe()"
      ],
      "execution_count": null,
      "outputs": [
        {
          "output_type": "execute_result",
          "data": {
            "text/plain": [
              "count    21613.000000\n",
              "mean         2.114757\n",
              "std          0.770163\n",
              "min          0.000000\n",
              "25%          1.750000\n",
              "50%          2.250000\n",
              "75%          2.500000\n",
              "max          8.000000\n",
              "Name: bathrooms, dtype: float64"
            ]
          },
          "metadata": {
            "tags": []
          },
          "execution_count": 25
        }
      ]
    },
    {
      "cell_type": "code",
      "metadata": {
        "colab": {
          "base_uri": "https://localhost:8080/"
        },
        "id": "KB5e7I6dRleE",
        "outputId": "92e80eb4-8a1a-4f5a-de12-b52b38dd1de2"
      },
      "source": [
        "# Creating intervals to cut\r\n",
        "bins = [0, 0.99, 1.99, 2.99, 3.99, 4.99, 5.99, 6.99, 7.99, 8.99]\r\n",
        "\r\n",
        "# Creating categories to each cut\r\n",
        "groups = [\"0-1\", \"1-2\", \"2-3\", \"3-4\", \"4-5\",\r\n",
        "          \"5-6\", \"6-7\", \"7-8\", \"8-9\"]\r\n",
        "\r\n",
        "# Creating a column with the categories to each cut\r\n",
        "df[\"bathrooms_per_1\"] = pd.cut(df.bathrooms, bins, labels=groups)\r\n",
        "\r\n",
        "# Checking the mean of price per bathroom\r\n",
        "df.groupby(\"bathrooms_per_1\")[\"price\"].mean()"
      ],
      "execution_count": null,
      "outputs": [
        {
          "output_type": "execute_result",
          "data": {
            "text/plain": [
              "bathrooms_per_1\n",
              "0-1    291513.18\n",
              "1-2    397462.24\n",
              "2-3    544193.29\n",
              "3-4    884999.35\n",
              "4-5   1398806.68\n",
              "5-6   1957492.29\n",
              "6-7   2729657.50\n",
              "7-8   3667500.00\n",
              "8-9   4990000.00\n",
              "Name: price, dtype: float64"
            ]
          },
          "metadata": {
            "tags": []
          },
          "execution_count": 79
        }
      ]
    },
    {
      "cell_type": "code",
      "metadata": {
        "colab": {
          "base_uri": "https://localhost:8080/",
          "height": 321
        },
        "id": "Zx97wr3j5kuq",
        "outputId": "74c5a31b-ec5f-42ca-8530-c1d92c2aeb5c"
      },
      "source": [
        "# Plotting the mean of price per bathroom\r\n",
        "df.groupby(\"bathrooms_per_1\")[\"price\"].mean().plot.bar()"
      ],
      "execution_count": null,
      "outputs": [
        {
          "output_type": "execute_result",
          "data": {
            "text/plain": [
              "<matplotlib.axes._subplots.AxesSubplot at 0x7fb14e4194d0>"
            ]
          },
          "metadata": {
            "tags": []
          },
          "execution_count": 82
        },
        {
          "output_type": "display_data",
          "data": {
            "image/png": "[encoded data removed]",
            "text/plain": [
              "<Figure size 432x288 with 1 Axes>"
            ]
          },
          "metadata": {
            "tags": []
          }
        }
      ]
    },
    {
      "cell_type": "code",
      "metadata": {
        "colab": {
          "base_uri": "https://localhost:8080/"
        },
        "id": "sQjw_ebTRmCz",
        "outputId": "a1e2d530-d20f-4966-af02-3645198679ea"
      },
      "source": [
        "# Checking the percentual difference of average price per bathroom\r\n",
        "df.groupby(\"bathrooms_per_1\")[\"price\"].mean().pct_change()"
      ],
      "execution_count": null,
      "outputs": [
        {
          "output_type": "execute_result",
          "data": {
            "text/plain": [
              "bathrooms_per_1\n",
              "0-1    nan\n",
              "1-2   0.36\n",
              "2-3   0.37\n",
              "3-4   0.63\n",
              "4-5   0.58\n",
              "5-6   0.40\n",
              "6-7   0.39\n",
              "7-8   0.34\n",
              "8-9   0.36\n",
              "Name: price, dtype: float64"
            ]
          },
          "metadata": {
            "tags": []
          },
          "execution_count": 81
        }
      ]
    },
    {
      "cell_type": "code",
      "metadata": {
        "colab": {
          "base_uri": "https://localhost:8080/",
          "height": 310
        },
        "id": "_Xc04B7M71tb",
        "outputId": "b6b710b2-d855-42e0-fd41-d6135b60b4f9"
      },
      "source": [
        "# Plotting the percentual difference of average price per bathroom\r\n",
        "df.groupby(\"bathrooms_per_1\")[\"price\"].mean().pct_change().plot.bar()"
      ],
      "execution_count": null,
      "outputs": [
        {
          "output_type": "execute_result",
          "data": {
            "text/plain": [
              "<matplotlib.axes._subplots.AxesSubplot at 0x7fb14e3a5c10>"
            ]
          },
          "metadata": {
            "tags": []
          },
          "execution_count": 83
        },
        {
          "output_type": "display_data",
          "data": {
            "image/png": "[encoded data removed]",
            "text/plain": [
              "<Figure size 432x288 with 1 Axes>"
            ]
          },
          "metadata": {
            "tags": []
          }
        }
      ]
    },
    {
      "cell_type": "code",
      "metadata": {
        "colab": {
          "base_uri": "https://localhost:8080/"
        },
        "id": "929lanAvRl4D",
        "outputId": "90c3f580-b5c9-48bc-b160-547018d0736b"
      },
      "source": [
        "# Checking the frequency of sales per bathroom\r\n",
        "df.groupby(\"bathrooms_per_1\").size()"
      ],
      "execution_count": null,
      "outputs": [
        {
          "output_type": "execute_result",
          "data": {
            "text/plain": [
              "bathrooms_per_1\n",
              "0-1       76\n",
              "1-2     8355\n",
              "2-3    10542\n",
              "3-4     2228\n",
              "4-5      338\n",
              "5-6       48\n",
              "6-7       12\n",
              "7-8        2\n",
              "8-9        2\n",
              "dtype: int64"
            ]
          },
          "metadata": {
            "tags": []
          },
          "execution_count": 116
        }
      ]
    },
    {
      "cell_type": "code",
      "metadata": {
        "colab": {
          "base_uri": "https://localhost:8080/",
          "height": 310
        },
        "id": "8JvxKfof-saO",
        "outputId": "891cc626-42c7-479f-d785-d1c5e8d4eea9"
      },
      "source": [
        "# Plotting the frequency of sales per bathroom\r\n",
        "df.groupby(\"bathrooms_per_1\").size().plot.bar()"
      ],
      "execution_count": null,
      "outputs": [
        {
          "output_type": "execute_result",
          "data": {
            "text/plain": [
              "<matplotlib.axes._subplots.AxesSubplot at 0x7fb14ef851d0>"
            ]
          },
          "metadata": {
            "tags": []
          },
          "execution_count": 117
        },
        {
          "output_type": "display_data",
          "data": {
            "image/png": "[encoded data removed]",
            "text/plain": [
              "<Figure size 432x288 with 1 Axes>"
            ]
          },
          "metadata": {
            "tags": []
          }
        }
      ]
    },
    {
      "cell_type": "markdown",
      "metadata": {
        "id": "wiLgr7WrTo4Y"
      },
      "source": [
        "Considering the frequency first and the price percentage increased, the ideal number of **bathrooms is 3-4**, it's not so difficulty to sell and the price's percentage increased is bigger than 60%."
      ]
    },
    {
      "cell_type": "markdown",
      "metadata": {
        "id": "EQ6SHS9uPvDH"
      },
      "source": [
        "### **View**"
      ]
    },
    {
      "cell_type": "code",
      "metadata": {
        "colab": {
          "base_uri": "https://localhost:8080/"
        },
        "id": "NhsvPvmAQape",
        "outputId": "dc0a3cce-480c-4cb2-febc-1919d5b36b25"
      },
      "source": [
        "# Checking minimum and maximum of views in the df\r\n",
        "df.view.describe()"
      ],
      "execution_count": null,
      "outputs": [
        {
          "output_type": "execute_result",
          "data": {
            "text/plain": [
              "count    21613.000000\n",
              "mean         0.234303\n",
              "std          0.766318\n",
              "min          0.000000\n",
              "25%          0.000000\n",
              "50%          0.000000\n",
              "75%          0.000000\n",
              "max          4.000000\n",
              "Name: view, dtype: float64"
            ]
          },
          "metadata": {
            "tags": []
          },
          "execution_count": 30
        }
      ]
    },
    {
      "cell_type": "code",
      "metadata": {
        "colab": {
          "base_uri": "https://localhost:8080/"
        },
        "id": "H7H4c8C4YnCh",
        "outputId": "0cc273d9-c3f4-408f-f628-c724ca130262"
      },
      "source": [
        "# Checking the mean of price per view\r\n",
        "df.groupby(\"view\")[\"price\"].mean()"
      ],
      "execution_count": null,
      "outputs": [
        {
          "output_type": "execute_result",
          "data": {
            "text/plain": [
              "view\n",
              "0    496564.19\n",
              "1    812280.84\n",
              "2    792400.89\n",
              "3    971965.27\n",
              "4   1463711.24\n",
              "Name: price, dtype: float64"
            ]
          },
          "metadata": {
            "tags": []
          },
          "execution_count": 92
        }
      ]
    },
    {
      "cell_type": "code",
      "metadata": {
        "colab": {
          "base_uri": "https://localhost:8080/",
          "height": 310
        },
        "id": "-zvq3f5R_LYs",
        "outputId": "715887e9-9041-4a75-ce71-c91108f073a4"
      },
      "source": [
        "# Plotting the mean of price per view\r\n",
        "df.groupby(\"view\")[\"price\"].mean().plot.bar()"
      ],
      "execution_count": null,
      "outputs": [
        {
          "output_type": "execute_result",
          "data": {
            "text/plain": [
              "<matplotlib.axes._subplots.AxesSubplot at 0x7fb14e1b5310>"
            ]
          },
          "metadata": {
            "tags": []
          },
          "execution_count": 95
        },
        {
          "output_type": "display_data",
          "data": {
            "image/png": "[encoded data removed]",
            "text/plain": [
              "<Figure size 432x288 with 1 Axes>"
            ]
          },
          "metadata": {
            "tags": []
          }
        }
      ]
    },
    {
      "cell_type": "code",
      "metadata": {
        "colab": {
          "base_uri": "https://localhost:8080/"
        },
        "id": "u_m44Fy7Ymx0",
        "outputId": "ed98dab3-066a-48a7-a30e-72dd224b6694"
      },
      "source": [
        "# Checking the additional value on average per view\r\n",
        "df.groupby(\"view\")[\"price\"].mean().pct_change()"
      ],
      "execution_count": null,
      "outputs": [
        {
          "output_type": "execute_result",
          "data": {
            "text/plain": [
              "view\n",
              "0     nan\n",
              "1    0.64\n",
              "2   -0.02\n",
              "3    0.23\n",
              "4    0.51\n",
              "Name: price, dtype: float64"
            ]
          },
          "metadata": {
            "tags": []
          },
          "execution_count": 96
        }
      ]
    },
    {
      "cell_type": "code",
      "metadata": {
        "colab": {
          "base_uri": "https://localhost:8080/",
          "height": 299
        },
        "id": "CYLWFZSV_2VF",
        "outputId": "f8b7118e-f625-4f97-f1ae-01b1900c76e1"
      },
      "source": [
        "# Plotting the additional value on average per view\r\n",
        "df.groupby(\"view\")[\"price\"].mean().pct_change().plot.bar()"
      ],
      "execution_count": null,
      "outputs": [
        {
          "output_type": "execute_result",
          "data": {
            "text/plain": [
              "<matplotlib.axes._subplots.AxesSubplot at 0x7fb14fda9d90>"
            ]
          },
          "metadata": {
            "tags": []
          },
          "execution_count": 98
        },
        {
          "output_type": "display_data",
          "data": {
            "image/png": "[encoded data removed]",
            "text/plain": [
              "<Figure size 432x288 with 1 Axes>"
            ]
          },
          "metadata": {
            "tags": []
          }
        }
      ]
    },
    {
      "cell_type": "code",
      "metadata": {
        "colab": {
          "base_uri": "https://localhost:8080/"
        },
        "id": "2U5HyrYTYmhN",
        "outputId": "e97837d9-975e-460f-cc9d-942ac079dc9e"
      },
      "source": [
        "# Checking the frequency of sales per view\r\n",
        "df.groupby(\"view\").size()"
      ],
      "execution_count": null,
      "outputs": [
        {
          "output_type": "execute_result",
          "data": {
            "text/plain": [
              "view\n",
              "0    19489\n",
              "1      332\n",
              "2      963\n",
              "3      510\n",
              "4      319\n",
              "dtype: int64"
            ]
          },
          "metadata": {
            "tags": []
          },
          "execution_count": 33
        }
      ]
    },
    {
      "cell_type": "code",
      "metadata": {
        "colab": {
          "base_uri": "https://localhost:8080/",
          "height": 299
        },
        "id": "m1X-eIq1__L7",
        "outputId": "4b528f58-76f4-4ed0-ad6c-28498bc3803c"
      },
      "source": [
        "# Plotting the frequency of sales per view\r\n",
        "df.groupby(\"view\").size().plot.bar()"
      ],
      "execution_count": null,
      "outputs": [
        {
          "output_type": "execute_result",
          "data": {
            "text/plain": [
              "<matplotlib.axes._subplots.AxesSubplot at 0x7fb14e09e390>"
            ]
          },
          "metadata": {
            "tags": []
          },
          "execution_count": 99
        },
        {
          "output_type": "display_data",
          "data": {
            "image/png": "[encoded data removed]",
            "text/plain": [
              "<Figure size 432x288 with 1 Axes>"
            ]
          },
          "metadata": {
            "tags": []
          }
        }
      ]
    },
    {
      "cell_type": "markdown",
      "metadata": {
        "id": "gd01S3TTZxhi"
      },
      "source": [
        "Although 0 views have the best overwhelming frequency, it has a very low average sales price. On the other hand the highest mean price and the second biggest percentage increased has a considerable frequency compared to the rest. So I'm choosing **4 views** as the ideal number for a house to resell."
      ]
    },
    {
      "cell_type": "markdown",
      "metadata": {
        "id": "mkGe3KXvPlqD"
      },
      "source": [
        "### **Condition**"
      ]
    },
    {
      "cell_type": "code",
      "metadata": {
        "colab": {
          "base_uri": "https://localhost:8080/"
        },
        "id": "_vX3AOjFPqDJ",
        "outputId": "e6be7b8d-e7c9-4008-9132-9b1dc0510e28"
      },
      "source": [
        "# Checking minimum and maximum of condition in the df\r\n",
        "df.condition.describe()"
      ],
      "execution_count": null,
      "outputs": [
        {
          "output_type": "execute_result",
          "data": {
            "text/plain": [
              "count    21613.000000\n",
              "mean         3.409430\n",
              "std          0.650743\n",
              "min          1.000000\n",
              "25%          3.000000\n",
              "50%          3.000000\n",
              "75%          4.000000\n",
              "max          5.000000\n",
              "Name: condition, dtype: float64"
            ]
          },
          "metadata": {
            "tags": []
          },
          "execution_count": 35
        }
      ]
    },
    {
      "cell_type": "code",
      "metadata": {
        "colab": {
          "base_uri": "https://localhost:8080/"
        },
        "id": "_Bd0zNfsaYeQ",
        "outputId": "421226c8-8c14-4197-cc3d-50e838943a6a"
      },
      "source": [
        "# Checking the mean of price per condition\r\n",
        "df.groupby(\"condition\")[\"price\"].mean()"
      ],
      "execution_count": null,
      "outputs": [
        {
          "output_type": "execute_result",
          "data": {
            "text/plain": [
              "condition\n",
              "1   334431.67\n",
              "2   327287.15\n",
              "3   542012.58\n",
              "4   521200.39\n",
              "5   612418.09\n",
              "Name: price, dtype: float64"
            ]
          },
          "metadata": {
            "tags": []
          },
          "execution_count": 101
        }
      ]
    },
    {
      "cell_type": "code",
      "metadata": {
        "colab": {
          "base_uri": "https://localhost:8080/",
          "height": 299
        },
        "id": "PhaVYB2KBX7M",
        "outputId": "4ce97875-925e-466b-d8d0-addc3da2fdb9"
      },
      "source": [
        "# Plotting the mean of price per condition\r\n",
        "df.groupby(\"condition\")[\"price\"].mean().plot.bar()"
      ],
      "execution_count": null,
      "outputs": [
        {
          "output_type": "execute_result",
          "data": {
            "text/plain": [
              "<matplotlib.axes._subplots.AxesSubplot at 0x7fb14e00e690>"
            ]
          },
          "metadata": {
            "tags": []
          },
          "execution_count": 102
        },
        {
          "output_type": "display_data",
          "data": {
            "image/png": "[encoded data removed]",
            "text/plain": [
              "<Figure size 432x288 with 1 Axes>"
            ]
          },
          "metadata": {
            "tags": []
          }
        }
      ]
    },
    {
      "cell_type": "code",
      "metadata": {
        "colab": {
          "base_uri": "https://localhost:8080/"
        },
        "id": "EBX2bjflaYbC",
        "outputId": "addce2f5-4b0e-4bd5-e859-2af15364b816"
      },
      "source": [
        "# Checking the additional value on average per condition\r\n",
        "df.groupby(\"condition\")[\"price\"].mean().pct_change()"
      ],
      "execution_count": null,
      "outputs": [
        {
          "output_type": "execute_result",
          "data": {
            "text/plain": [
              "condition\n",
              "1     nan\n",
              "2   -0.02\n",
              "3    0.66\n",
              "4   -0.04\n",
              "5    0.18\n",
              "Name: price, dtype: float64"
            ]
          },
          "metadata": {
            "tags": []
          },
          "execution_count": 105
        }
      ]
    },
    {
      "cell_type": "code",
      "metadata": {
        "colab": {
          "base_uri": "https://localhost:8080/",
          "height": 299
        },
        "id": "QcUbIPqqBr5X",
        "outputId": "54f2d32a-9636-4730-91af-a6aaa5dba1db"
      },
      "source": [
        "df.groupby(\"condition\")[\"price\"].mean().pct_change().plot.bar()"
      ],
      "execution_count": null,
      "outputs": [
        {
          "output_type": "execute_result",
          "data": {
            "text/plain": [
              "<matplotlib.axes._subplots.AxesSubplot at 0x7fb14df71750>"
            ]
          },
          "metadata": {
            "tags": []
          },
          "execution_count": 106
        },
        {
          "output_type": "display_data",
          "data": {
            "image/png": "[encoded data removed]",
            "text/plain": [
              "<Figure size 432x288 with 1 Axes>"
            ]
          },
          "metadata": {
            "tags": []
          }
        }
      ]
    },
    {
      "cell_type": "code",
      "metadata": {
        "colab": {
          "base_uri": "https://localhost:8080/"
        },
        "id": "xUWBUkXgaYQJ",
        "outputId": "a9639734-93eb-4879-d969-d801c0313ba8"
      },
      "source": [
        "# Checking the frequency of sales per condition\r\n",
        "df.groupby(\"condition\").size()"
      ],
      "execution_count": null,
      "outputs": [
        {
          "output_type": "execute_result",
          "data": {
            "text/plain": [
              "condition\n",
              "1       30\n",
              "2      172\n",
              "3    14031\n",
              "4     5679\n",
              "5     1701\n",
              "dtype: int64"
            ]
          },
          "metadata": {
            "tags": []
          },
          "execution_count": 38
        }
      ]
    },
    {
      "cell_type": "code",
      "metadata": {
        "colab": {
          "base_uri": "https://localhost:8080/",
          "height": 299
        },
        "id": "LxSZLQzFXzgP",
        "outputId": "d20a2e71-8d09-49be-af5f-1ef7af4e33b2"
      },
      "source": [
        "# Plotting the frequency of sales per condition\r\n",
        "df.groupby(\"condition\").size().plot.bar()"
      ],
      "execution_count": null,
      "outputs": [
        {
          "output_type": "execute_result",
          "data": {
            "text/plain": [
              "<matplotlib.axes._subplots.AxesSubplot at 0x7fb14fd03e10>"
            ]
          },
          "metadata": {
            "tags": []
          },
          "execution_count": 108
        },
        {
          "output_type": "display_data",
          "data": {
            "image/png": "[encoded data removed]",
            "text/plain": [
              "<Figure size 432x288 with 1 Axes>"
            ]
          },
          "metadata": {
            "tags": []
          }
        }
      ]
    },
    {
      "cell_type": "markdown",
      "metadata": {
        "id": "bWRe0EhhcLnm"
      },
      "source": [
        "The number of condition with a great average price and higher frequencies is 3 \r\n",
        "and 4. Because of that, I'm choosing **3 or 4** conditions as the ideal for a house to resell."
      ]
    },
    {
      "cell_type": "markdown",
      "metadata": {
        "id": "GhznwVQoLE8Z"
      },
      "source": [
        "### **Bedrooms**"
      ]
    },
    {
      "cell_type": "code",
      "metadata": {
        "colab": {
          "base_uri": "https://localhost:8080/"
        },
        "id": "AD-HGfdZ8afw",
        "outputId": "877da6d7-7079-4305-f1e6-f4e145be8eb2"
      },
      "source": [
        "# Checking minimum and maximum of bedrooms in the df\r\n",
        "df.bedrooms.describe()"
      ],
      "execution_count": null,
      "outputs": [
        {
          "output_type": "execute_result",
          "data": {
            "text/plain": [
              "count    21613.000000\n",
              "mean         3.370842\n",
              "std          0.930062\n",
              "min          0.000000\n",
              "25%          3.000000\n",
              "50%          3.000000\n",
              "75%          4.000000\n",
              "max         33.000000\n",
              "Name: bedrooms, dtype: float64"
            ]
          },
          "metadata": {
            "tags": []
          },
          "execution_count": 40
        }
      ]
    },
    {
      "cell_type": "code",
      "metadata": {
        "colab": {
          "base_uri": "https://localhost:8080/"
        },
        "id": "O7OhU65Tdhz7",
        "outputId": "f775265e-f565-420a-89d5-c0ab51ff0a0c"
      },
      "source": [
        "# # Checking the frequency of sales per bedroom\r\n",
        "df.groupby(\"bedrooms\").size()"
      ],
      "execution_count": null,
      "outputs": [
        {
          "output_type": "execute_result",
          "data": {
            "text/plain": [
              "bedrooms\n",
              "0       13\n",
              "1      199\n",
              "2     2760\n",
              "3     9824\n",
              "4     6882\n",
              "5     1601\n",
              "6      272\n",
              "7       38\n",
              "8       13\n",
              "9        6\n",
              "10       3\n",
              "11       1\n",
              "33       1\n",
              "dtype: int64"
            ]
          },
          "metadata": {
            "tags": []
          },
          "execution_count": 41
        }
      ]
    },
    {
      "cell_type": "code",
      "metadata": {
        "colab": {
          "base_uri": "https://localhost:8080/"
        },
        "id": "x2IpnE9edyoK",
        "outputId": "308a7e82-58d3-462b-b173-07786a09acbe"
      },
      "source": [
        "# Removing the outlier with 33 bedrooms\r\n",
        "df.drop(df[df.bedrooms > 15].index, inplace=True)\r\n",
        "\r\n",
        "df.groupby(\"bedrooms\").size()"
      ],
      "execution_count": null,
      "outputs": [
        {
          "output_type": "execute_result",
          "data": {
            "text/plain": [
              "bedrooms\n",
              "0       13\n",
              "1      199\n",
              "2     2760\n",
              "3     9824\n",
              "4     6882\n",
              "5     1601\n",
              "6      272\n",
              "7       38\n",
              "8       13\n",
              "9        6\n",
              "10       3\n",
              "11       1\n",
              "dtype: int64"
            ]
          },
          "metadata": {
            "tags": []
          },
          "execution_count": 42
        }
      ]
    },
    {
      "cell_type": "code",
      "metadata": {
        "colab": {
          "base_uri": "https://localhost:8080/",
          "height": 360
        },
        "id": "Fp69fB1eqndT",
        "outputId": "f16976f6-c942-4936-b776-3d2d5c9c385d"
      },
      "source": [
        "# Plotting the frequency of sales per bedroom\r\n",
        "plt.figure(figsize=(10, 5))\r\n",
        "df.groupby(\"bedrooms\").size().plot.bar()"
      ],
      "execution_count": null,
      "outputs": [
        {
          "output_type": "execute_result",
          "data": {
            "text/plain": [
              "<matplotlib.axes._subplots.AxesSubplot at 0x7fb14dd493d0>"
            ]
          },
          "metadata": {
            "tags": []
          },
          "execution_count": 111
        },
        {
          "output_type": "display_data",
          "data": {
            "image/png": "[encoded data removed]",
            "text/plain": [
              "<Figure size 720x360 with 1 Axes>"
            ]
          },
          "metadata": {
            "tags": []
          }
        }
      ]
    },
    {
      "cell_type": "code",
      "metadata": {
        "colab": {
          "base_uri": "https://localhost:8080/"
        },
        "id": "fEKbkKc6f_-v",
        "outputId": "c2a704b3-f2e8-44c1-ec8f-366f776eac9d"
      },
      "source": [
        "# Checking the mean of price per bedroom\r\n",
        "df.groupby(\"bedrooms\")[\"price\"].mean()"
      ],
      "execution_count": null,
      "outputs": [
        {
          "output_type": "execute_result",
          "data": {
            "text/plain": [
              "bedrooms\n",
              "0     409503.85\n",
              "1     317642.88\n",
              "2     401372.68\n",
              "3     466232.08\n",
              "4     635419.50\n",
              "5     786599.83\n",
              "6     825520.64\n",
              "7     951184.66\n",
              "8    1105076.92\n",
              "9     893999.83\n",
              "10    819333.33\n",
              "11    520000.00\n",
              "33    640000.00\n",
              "Name: price, dtype: float64"
            ]
          },
          "metadata": {
            "tags": []
          },
          "execution_count": 112
        }
      ]
    },
    {
      "cell_type": "code",
      "metadata": {
        "colab": {
          "base_uri": "https://localhost:8080/",
          "height": 317
        },
        "id": "aMG20jGrD-Zk",
        "outputId": "d6e233e4-1cbf-4e2d-91ba-9de03e777b21"
      },
      "source": [
        "df.groupby(\"bedrooms\")[\"price\"].mean().plot.bar()"
      ],
      "execution_count": null,
      "outputs": [
        {
          "output_type": "execute_result",
          "data": {
            "text/plain": [
              "<matplotlib.axes._subplots.AxesSubplot at 0x7fb14dccc6d0>"
            ]
          },
          "metadata": {
            "tags": []
          },
          "execution_count": 113
        },
        {
          "output_type": "display_data",
          "data": {
            "image/png": "[encoded data removed]",
            "text/plain": [
              "<Figure size 432x288 with 1 Axes>"
            ]
          },
          "metadata": {
            "tags": []
          }
        }
      ]
    },
    {
      "cell_type": "code",
      "metadata": {
        "colab": {
          "base_uri": "https://localhost:8080/"
        },
        "id": "d-c2p8sZgLf1",
        "outputId": "9e14fbf7-0250-458a-f729-ae61c84257c2"
      },
      "source": [
        "# Checking the additional value on average per bedroom\r\n",
        "df.groupby(\"bedrooms\")[\"price\"].mean().pct_change()"
      ],
      "execution_count": null,
      "outputs": [
        {
          "output_type": "execute_result",
          "data": {
            "text/plain": [
              "bedrooms\n",
              "0      nan\n",
              "1    -0.22\n",
              "2     0.26\n",
              "3     0.16\n",
              "4     0.36\n",
              "5     0.24\n",
              "6     0.05\n",
              "7     0.15\n",
              "8     0.16\n",
              "9    -0.19\n",
              "10   -0.08\n",
              "11   -0.37\n",
              "33    0.23\n",
              "Name: price, dtype: float64"
            ]
          },
          "metadata": {
            "tags": []
          },
          "execution_count": 114
        }
      ]
    },
    {
      "cell_type": "code",
      "metadata": {
        "colab": {
          "base_uri": "https://localhost:8080/",
          "height": 306
        },
        "id": "WfNAyOA3EQGy",
        "outputId": "e4c3e9bc-5421-449e-fde4-f478bf2ad01c"
      },
      "source": [
        "# Plotting the additional value on average per bedroom\r\n",
        "df.groupby(\"bedrooms\")[\"price\"].mean().pct_change().plot.bar()"
      ],
      "execution_count": null,
      "outputs": [
        {
          "output_type": "execute_result",
          "data": {
            "text/plain": [
              "<matplotlib.axes._subplots.AxesSubplot at 0x7fb14dc64210>"
            ]
          },
          "metadata": {
            "tags": []
          },
          "execution_count": 115
        },
        {
          "output_type": "display_data",
          "data": {
            "image/png": "[encoded data removed]",
            "text/plain": [
              "<Figure size 432x288 with 1 Axes>"
            ]
          },
          "metadata": {
            "tags": []
          }
        }
      ]
    },
    {
      "cell_type": "code",
      "metadata": {
        "id": "yU1S-nc2EgzB"
      },
      "source": [
        ""
      ],
      "execution_count": null,
      "outputs": []
    },
    {
      "cell_type": "markdown",
      "metadata": {
        "id": "d36KBQ04BCvP"
      },
      "source": [
        "I'm choosing **4 rooms** as the ideal number of bedrooms. Four bedrooms have the second highest frequency of sales and the biggest percentage increase in average price"
      ]
    },
    {
      "cell_type": "markdown",
      "metadata": {
        "id": "IkjlFEfZ-xZu"
      },
      "source": [
        "## **Looking for the perfect fit**"
      ]
    },
    {
      "cell_type": "code",
      "metadata": {
        "colab": {
          "base_uri": "https://localhost:8080/",
          "height": 213
        },
        "id": "zuYLXexK_k2Z",
        "outputId": "56714262-e353-41fa-8b86-2ae0f9bbf677"
      },
      "source": [
        "# Looking for houses with all ideal attributes based on correlation\r\n",
        "df.query(\"sqft_living > 3000 & sqft_living <= 4000 & grade == 9 & bathrooms >= 3 & bathrooms < 4 & view == 4 & condition >= 3 & condition < 5 & bedrooms == 4\")"
      ],
      "execution_count": null,
      "outputs": [
        {
          "output_type": "execute_result",
          "data": {
            "text/html": [
              "<div>\n",
              "<style scoped>\n",
              "    .dataframe tbody tr th:only-of-type {\n",
              "        vertical-align: middle;\n",
              "    }\n",
              "\n",
              "    .dataframe tbody tr th {\n",
              "        vertical-align: top;\n",
              "    }\n",
              "\n",
              "    .dataframe thead th {\n",
              "        text-align: right;\n",
              "    }\n",
              "</style>\n",
              "<table border=\"1\" class=\"dataframe\">\n",
              "  <thead>\n",
              "    <tr style=\"text-align: right;\">\n",
              "      <th></th>\n",
              "      <th>id</th>\n",
              "      <th>date</th>\n",
              "      <th>price</th>\n",
              "      <th>bedrooms</th>\n",
              "      <th>bathrooms</th>\n",
              "      <th>sqft_living</th>\n",
              "      <th>sqft_lot</th>\n",
              "      <th>floors</th>\n",
              "      <th>waterfront</th>\n",
              "      <th>view</th>\n",
              "      <th>condition</th>\n",
              "      <th>grade</th>\n",
              "      <th>sqft_above</th>\n",
              "      <th>sqft_basement</th>\n",
              "      <th>yr_built</th>\n",
              "      <th>yr_renovated</th>\n",
              "      <th>zipcode</th>\n",
              "      <th>lat</th>\n",
              "      <th>long</th>\n",
              "      <th>sqft_living15</th>\n",
              "      <th>sqft_lot15</th>\n",
              "    </tr>\n",
              "  </thead>\n",
              "  <tbody>\n",
              "    <tr>\n",
              "      <th>11599</th>\n",
              "      <td>7284900030</td>\n",
              "      <td>2014-05-22</td>\n",
              "      <td>850000.0</td>\n",
              "      <td>4</td>\n",
              "      <td>3.25</td>\n",
              "      <td>3090</td>\n",
              "      <td>6744</td>\n",
              "      <td>2.0</td>\n",
              "      <td>0</td>\n",
              "      <td>4</td>\n",
              "      <td>3</td>\n",
              "      <td>9</td>\n",
              "      <td>3090</td>\n",
              "      <td>0</td>\n",
              "      <td>1923</td>\n",
              "      <td>2015</td>\n",
              "      <td>98177</td>\n",
              "      <td>47.7680</td>\n",
              "      <td>-122.388</td>\n",
              "      <td>2020</td>\n",
              "      <td>6656</td>\n",
              "    </tr>\n",
              "    <tr>\n",
              "      <th>12591</th>\n",
              "      <td>7922900040</td>\n",
              "      <td>2014-05-22</td>\n",
              "      <td>1075000.0</td>\n",
              "      <td>4</td>\n",
              "      <td>3.00</td>\n",
              "      <td>3600</td>\n",
              "      <td>9200</td>\n",
              "      <td>1.0</td>\n",
              "      <td>0</td>\n",
              "      <td>4</td>\n",
              "      <td>4</td>\n",
              "      <td>9</td>\n",
              "      <td>2100</td>\n",
              "      <td>1500</td>\n",
              "      <td>1976</td>\n",
              "      <td>0</td>\n",
              "      <td>98008</td>\n",
              "      <td>47.5866</td>\n",
              "      <td>-122.116</td>\n",
              "      <td>2700</td>\n",
              "      <td>9775</td>\n",
              "    </tr>\n",
              "    <tr>\n",
              "      <th>17151</th>\n",
              "      <td>4107100190</td>\n",
              "      <td>2015-03-24</td>\n",
              "      <td>2500000.0</td>\n",
              "      <td>4</td>\n",
              "      <td>3.75</td>\n",
              "      <td>3480</td>\n",
              "      <td>14850</td>\n",
              "      <td>1.0</td>\n",
              "      <td>0</td>\n",
              "      <td>4</td>\n",
              "      <td>3</td>\n",
              "      <td>9</td>\n",
              "      <td>1870</td>\n",
              "      <td>1610</td>\n",
              "      <td>1951</td>\n",
              "      <td>2013</td>\n",
              "      <td>98004</td>\n",
              "      <td>47.6227</td>\n",
              "      <td>-122.216</td>\n",
              "      <td>4780</td>\n",
              "      <td>18480</td>\n",
              "    </tr>\n",
              "  </tbody>\n",
              "</table>\n",
              "</div>"
            ],
            "text/plain": [
              "               id       date      price  ...     long  sqft_living15  sqft_lot15\n",
              "11599  7284900030 2014-05-22   850000.0  ... -122.388           2020        6656\n",
              "12591  7922900040 2014-05-22  1075000.0  ... -122.116           2700        9775\n",
              "17151  4107100190 2015-03-24  2500000.0  ... -122.216           4780       18480\n",
              "\n",
              "[3 rows x 21 columns]"
            ]
          },
          "metadata": {
            "tags": []
          },
          "execution_count": 129
        }
      ]
    },
    {
      "cell_type": "code",
      "metadata": {
        "colab": {
          "base_uri": "https://localhost:8080/"
        },
        "id": "7Qg-y9ecIgn4",
        "outputId": "d1f25ba2-f286-403c-f1d7-837941594ec5"
      },
      "source": [
        "# Checking the average price of houses with all the ideal attributes\r\n",
        "df.query(\"sqft_living > 3000 & sqft_living <= 4000 & grade == 9 & bathrooms >= 3 & bathrooms < 4 & view == 4 & condition >= 3 & condition < 5 & bedrooms == 4\").price.mean()"
      ],
      "execution_count": null,
      "outputs": [
        {
          "output_type": "execute_result",
          "data": {
            "text/plain": [
              "1475000.0"
            ]
          },
          "metadata": {
            "tags": []
          },
          "execution_count": 130
        }
      ]
    },
    {
      "cell_type": "code",
      "metadata": {
        "colab": {
          "base_uri": "https://localhost:8080/"
        },
        "id": "DU_493vlJ0v-",
        "outputId": "03d20f8a-3c37-4a71-e07d-3acdc93311e2"
      },
      "source": [
        "# Creating a new mean between the average neighbordhood price and the attribute of the house with the highest correlation (square feet)\r\n",
        "zipcode_mean_98177 = df.loc[df.zipcode == 98177].price.mean()\r\n",
        "sqft_mean_3000_4000 = df.query(\"sqft_living > 3000 & sqft_living <= 4000\").price.mean()\r\n",
        "\r\n",
        "buy_value = (zipcode_mean_98177 + sqft_mean_3000_4000) / 2\r\n",
        "buy_value"
      ],
      "execution_count": null,
      "outputs": [
        {
          "output_type": "execute_result",
          "data": {
            "text/plain": [
              "774470.2315286271"
            ]
          },
          "metadata": {
            "tags": []
          },
          "execution_count": 136
        }
      ]
    },
    {
      "cell_type": "markdown",
      "metadata": {
        "id": "ekujcVphMoIr"
      },
      "source": [
        "Should buy the house with **id number 7284900030** for maximum of **$774,470.00** taking into account the average value of the neighborhood and the attribute with the highest correlation. And sell it for **1,475,000.00** considerating the average price of houses with all the ideal attributes."
      ]
    },
    {
      "cell_type": "markdown",
      "metadata": {
        "id": "0GHuxgIUNl8q"
      },
      "source": [
        "## **Looking for low prices with great locations**"
      ]
    },
    {
      "cell_type": "markdown",
      "metadata": {
        "id": "t1INjAJhfmXm"
      },
      "source": [
        "### **Checking the best localizations**"
      ]
    },
    {
      "cell_type": "code",
      "metadata": {
        "colab": {
          "base_uri": "https://localhost:8080/"
        },
        "id": "SLhdQmoyikX5",
        "outputId": "02589872-a93d-4c9c-f0b7-20fdf2fa7fb8"
      },
      "source": [
        "# Checking minimum and maximum of zipcodes in the df\r\n",
        "df.zipcode.describe()"
      ],
      "execution_count": null,
      "outputs": [
        {
          "output_type": "execute_result",
          "data": {
            "text/plain": [
              "count    21613.000000\n",
              "mean     98077.939805\n",
              "std         53.505026\n",
              "min      98001.000000\n",
              "25%      98033.000000\n",
              "50%      98065.000000\n",
              "75%      98118.000000\n",
              "max      98199.000000\n",
              "Name: zipcode, dtype: float64"
            ]
          },
          "metadata": {
            "tags": []
          },
          "execution_count": 28
        }
      ]
    },
    {
      "cell_type": "code",
      "metadata": {
        "colab": {
          "base_uri": "https://localhost:8080/",
          "height": 664
        },
        "id": "fTabFhGin1yA",
        "outputId": "d5e8aef7-6454-4e4d-f131-01fc8d62f915"
      },
      "source": [
        "# Checking the mean of price per zipcode with a grafic\r\n",
        "zipcode_mean_price = df.groupby(\"zipcode\")[\"price\"].mean()\r\n",
        "plt.figure(figsize=(25, 10))\r\n",
        "zipcode_mean_price.plot.bar()"
      ],
      "execution_count": null,
      "outputs": [
        {
          "output_type": "execute_result",
          "data": {
            "text/plain": [
              "<matplotlib.axes._subplots.AxesSubplot at 0x7fb14d83b4d0>"
            ]
          },
          "metadata": {
            "tags": []
          },
          "execution_count": 122
        },
        {
          "output_type": "display_data",
          "data": {
            "image/png": "[encoded data removed]",
            "text/plain": [
              "<Figure size 1800x720 with 1 Axes>"
            ]
          },
          "metadata": {
            "tags": []
          }
        }
      ]
    },
    {
      "cell_type": "code",
      "metadata": {
        "colab": {
          "base_uri": "https://localhost:8080/"
        },
        "id": "BkDP9qGQrtPZ",
        "outputId": "ffe6208a-b28c-4779-af92-e3e7e1527d89"
      },
      "source": [
        "# Selecting the top 5 zipcodes price averages\r\n",
        "zipcode_mean_price.sort_values(ascending=False)[:5]"
      ],
      "execution_count": null,
      "outputs": [
        {
          "output_type": "execute_result",
          "data": {
            "text/plain": [
              "zipcode\n",
              "98039   2160606.60\n",
              "98004   1355927.08\n",
              "98040   1194230.02\n",
              "98112   1095499.34\n",
              "98102    901258.27\n",
              "Name: price, dtype: float64"
            ]
          },
          "metadata": {
            "tags": []
          },
          "execution_count": 123
        }
      ]
    },
    {
      "cell_type": "code",
      "metadata": {
        "colab": {
          "base_uri": "https://localhost:8080/",
          "height": 338
        },
        "id": "Yt994wPNH5sQ",
        "outputId": "1aae0259-609e-4e0d-b680-ec23e05d0440"
      },
      "source": [
        "# Plotting the top 5 zipcodes price averages\r\n",
        "zipcode_mean_price.sort_values(ascending=False)[:5].plot.bar()"
      ],
      "execution_count": null,
      "outputs": [
        {
          "output_type": "execute_result",
          "data": {
            "text/plain": [
              "<matplotlib.axes._subplots.AxesSubplot at 0x7fb14d66de90>"
            ]
          },
          "metadata": {
            "tags": []
          },
          "execution_count": 135
        },
        {
          "output_type": "display_data",
          "data": {
            "image/png": "[encoded data removed]",
            "text/plain": [
              "<Figure size 432x288 with 1 Axes>"
            ]
          },
          "metadata": {
            "tags": []
          }
        }
      ]
    },
    {
      "cell_type": "code",
      "metadata": {
        "id": "6LbVW7FHsEnH"
      },
      "source": [
        "# Creating a list with the previous top 5 zipcodes\r\n",
        "zipcode_ideals = [98040, 98112, 98004, 98102, 98039]\r\n",
        "\r\n"
      ],
      "execution_count": null,
      "outputs": []
    },
    {
      "cell_type": "code",
      "metadata": {
        "colab": {
          "base_uri": "https://localhost:8080/"
        },
        "id": "LdqxMNAgin_D",
        "outputId": "c503dec2-cb36-4f94-97eb-036c83f639a7"
      },
      "source": [
        "# Finding the frequency of sales for each zipcode in the previous list\r\n",
        "zipcode_unique = df.zipcode.unique()\r\n",
        "\r\n",
        "for n in zipcode_unique:\r\n",
        "  if n in zipcode_ideals:\r\n",
        "    zipcode_counts = df.loc[df.zipcode == n].zipcode.count()\r\n",
        "    print(f\"frequency of sales in zipcode {n}: {zipcode_counts}\")"
      ],
      "execution_count": null,
      "outputs": [
        {
          "output_type": "stream",
          "text": [
            "frequency of sales in zipcode 98040: 282\n",
            "frequency of sales in zipcode 98112: 269\n",
            "frequency of sales in zipcode 98004: 317\n",
            "frequency of sales in zipcode 98102: 105\n",
            "frequency of sales in zipcode 98039: 50\n"
          ],
          "name": "stdout"
        }
      ]
    },
    {
      "cell_type": "code",
      "metadata": {
        "colab": {
          "base_uri": "https://localhost:8080/",
          "height": 285
        },
        "id": "ly7AWwmDIRTi",
        "outputId": "599f2a34-8ad2-4440-aec5-a96e014dc70f"
      },
      "source": [
        "# Creating a list with the frequencies found\r\n",
        "frequencies = [282, 269, 317, 105, 50]\r\n",
        "\r\n",
        "# Plotting the frequency of sales of the top 5 zipcodes\r\n",
        "sns.barplot(x=zipcode_ideals, y=frequencies)"
      ],
      "execution_count": null,
      "outputs": [
        {
          "output_type": "execute_result",
          "data": {
            "text/plain": [
              "<matplotlib.axes._subplots.AxesSubplot at 0x7fb14d574210>"
            ]
          },
          "metadata": {
            "tags": []
          },
          "execution_count": 136
        },
        {
          "output_type": "display_data",
          "data": {
            "image/png": "[encoded data removed]",
            "text/plain": [
              "<Figure size 432x288 with 1 Axes>"
            ]
          },
          "metadata": {
            "tags": []
          }
        }
      ]
    },
    {
      "cell_type": "markdown",
      "metadata": {
        "id": "mrfGbfWz0ynW"
      },
      "source": [
        "The ideal zipcode is the **98004**, because it has the second highest average price and the highest frequency of sales on the list. But all locations are great and have an average price higher than the general mean."
      ]
    },
    {
      "cell_type": "markdown",
      "metadata": {
        "id": "HRWF_tZiOZLl"
      },
      "source": [
        "### **Finding low prices**"
      ]
    },
    {
      "cell_type": "code",
      "metadata": {
        "colab": {
          "base_uri": "https://localhost:8080/"
        },
        "id": "OJhdwi2bOlYk",
        "outputId": "b0eeb6ca-37bc-41e4-e134-28421bb65e5b"
      },
      "source": [
        "# Retrieving the list of zip codes and average prices\r\n",
        "zipcode_mean_price.sort_values(ascending=False)[:5]"
      ],
      "execution_count": null,
      "outputs": [
        {
          "output_type": "execute_result",
          "data": {
            "text/plain": [
              "zipcode\n",
              "98039   2160606.60\n",
              "98004   1355927.08\n",
              "98040   1194230.02\n",
              "98112   1095499.34\n",
              "98102    901258.27\n",
              "Name: price, dtype: float64"
            ]
          },
          "metadata": {
            "tags": []
          },
          "execution_count": 137
        }
      ]
    },
    {
      "cell_type": "code",
      "metadata": {
        "colab": {
          "base_uri": "https://localhost:8080/",
          "height": 1000
        },
        "id": "P4Vl4kYuR4im",
        "outputId": "304f8f94-455e-406d-db02-517a358e8fda"
      },
      "source": [
        "# Checking houses in zipcode 98004 that have a ideal square feet living size\r\n",
        "df.query(\"sqft_living > 3000 & sqft_living <= 4000 & zipcode == 98004\")"
      ],
      "execution_count": null,
      "outputs": [
        {
          "output_type": "execute_result",
          "data": {
            "text/html": [
              "<div>\n",
              "<style scoped>\n",
              "    .dataframe tbody tr th:only-of-type {\n",
              "        vertical-align: middle;\n",
              "    }\n",
              "\n",
              "    .dataframe tbody tr th {\n",
              "        vertical-align: top;\n",
              "    }\n",
              "\n",
              "    .dataframe thead th {\n",
              "        text-align: right;\n",
              "    }\n",
              "</style>\n",
              "<table border=\"1\" class=\"dataframe\">\n",
              "  <thead>\n",
              "    <tr style=\"text-align: right;\">\n",
              "      <th></th>\n",
              "      <th>id</th>\n",
              "      <th>date</th>\n",
              "      <th>price</th>\n",
              "      <th>bedrooms</th>\n",
              "      <th>bathrooms</th>\n",
              "      <th>sqft_living</th>\n",
              "      <th>sqft_lot</th>\n",
              "      <th>floors</th>\n",
              "      <th>waterfront</th>\n",
              "      <th>view</th>\n",
              "      <th>condition</th>\n",
              "      <th>grade</th>\n",
              "      <th>sqft_above</th>\n",
              "      <th>sqft_basement</th>\n",
              "      <th>yr_built</th>\n",
              "      <th>yr_renovated</th>\n",
              "      <th>zipcode</th>\n",
              "      <th>lat</th>\n",
              "      <th>long</th>\n",
              "      <th>sqft_living15</th>\n",
              "      <th>sqft_lot15</th>\n",
              "    </tr>\n",
              "  </thead>\n",
              "  <tbody>\n",
              "    <tr>\n",
              "      <th>69</th>\n",
              "      <td>1802000060</td>\n",
              "      <td>2014-06-12</td>\n",
              "      <td>1325000.0</td>\n",
              "      <td>5</td>\n",
              "      <td>2.25</td>\n",
              "      <td>3200</td>\n",
              "      <td>20158</td>\n",
              "      <td>1.0</td>\n",
              "      <td>0</td>\n",
              "      <td>0</td>\n",
              "      <td>3</td>\n",
              "      <td>8</td>\n",
              "      <td>1600</td>\n",
              "      <td>1600</td>\n",
              "      <td>1965</td>\n",
              "      <td>0</td>\n",
              "      <td>98004</td>\n",
              "      <td>47.6303</td>\n",
              "      <td>-122.215</td>\n",
              "      <td>3390</td>\n",
              "      <td>20158</td>\n",
              "    </tr>\n",
              "    <tr>\n",
              "      <th>393</th>\n",
              "      <td>1653500070</td>\n",
              "      <td>2014-05-12</td>\n",
              "      <td>927000.0</td>\n",
              "      <td>4</td>\n",
              "      <td>2.75</td>\n",
              "      <td>3300</td>\n",
              "      <td>12090</td>\n",
              "      <td>2.0</td>\n",
              "      <td>0</td>\n",
              "      <td>0</td>\n",
              "      <td>3</td>\n",
              "      <td>8</td>\n",
              "      <td>3300</td>\n",
              "      <td>0</td>\n",
              "      <td>1953</td>\n",
              "      <td>0</td>\n",
              "      <td>98004</td>\n",
              "      <td>47.6294</td>\n",
              "      <td>-122.218</td>\n",
              "      <td>3180</td>\n",
              "      <td>12239</td>\n",
              "    </tr>\n",
              "    <tr>\n",
              "      <th>885</th>\n",
              "      <td>3323500030</td>\n",
              "      <td>2014-06-04</td>\n",
              "      <td>1270000.0</td>\n",
              "      <td>5</td>\n",
              "      <td>2.50</td>\n",
              "      <td>3200</td>\n",
              "      <td>17204</td>\n",
              "      <td>1.0</td>\n",
              "      <td>0</td>\n",
              "      <td>0</td>\n",
              "      <td>3</td>\n",
              "      <td>7</td>\n",
              "      <td>2160</td>\n",
              "      <td>1040</td>\n",
              "      <td>1952</td>\n",
              "      <td>0</td>\n",
              "      <td>98004</td>\n",
              "      <td>47.6209</td>\n",
              "      <td>-122.222</td>\n",
              "      <td>4090</td>\n",
              "      <td>15732</td>\n",
              "    </tr>\n",
              "    <tr>\n",
              "      <th>1282</th>\n",
              "      <td>8964800445</td>\n",
              "      <td>2015-02-09</td>\n",
              "      <td>2260000.0</td>\n",
              "      <td>3</td>\n",
              "      <td>3.50</td>\n",
              "      <td>3110</td>\n",
              "      <td>14872</td>\n",
              "      <td>1.0</td>\n",
              "      <td>0</td>\n",
              "      <td>0</td>\n",
              "      <td>3</td>\n",
              "      <td>10</td>\n",
              "      <td>3110</td>\n",
              "      <td>0</td>\n",
              "      <td>2003</td>\n",
              "      <td>0</td>\n",
              "      <td>98004</td>\n",
              "      <td>47.6178</td>\n",
              "      <td>-122.209</td>\n",
              "      <td>3110</td>\n",
              "      <td>12433</td>\n",
              "    </tr>\n",
              "    <tr>\n",
              "      <th>1818</th>\n",
              "      <td>9290900160</td>\n",
              "      <td>2014-09-11</td>\n",
              "      <td>1430000.0</td>\n",
              "      <td>4</td>\n",
              "      <td>2.50</td>\n",
              "      <td>3380</td>\n",
              "      <td>27589</td>\n",
              "      <td>2.0</td>\n",
              "      <td>0</td>\n",
              "      <td>0</td>\n",
              "      <td>3</td>\n",
              "      <td>10</td>\n",
              "      <td>3380</td>\n",
              "      <td>0</td>\n",
              "      <td>1966</td>\n",
              "      <td>0</td>\n",
              "      <td>98004</td>\n",
              "      <td>47.6292</td>\n",
              "      <td>-122.225</td>\n",
              "      <td>3390</td>\n",
              "      <td>20075</td>\n",
              "    </tr>\n",
              "    <tr>\n",
              "      <th>2449</th>\n",
              "      <td>4389200796</td>\n",
              "      <td>2014-05-22</td>\n",
              "      <td>1600000.0</td>\n",
              "      <td>3</td>\n",
              "      <td>2.50</td>\n",
              "      <td>3160</td>\n",
              "      <td>12824</td>\n",
              "      <td>1.0</td>\n",
              "      <td>0</td>\n",
              "      <td>2</td>\n",
              "      <td>4</td>\n",
              "      <td>9</td>\n",
              "      <td>1820</td>\n",
              "      <td>1340</td>\n",
              "      <td>1966</td>\n",
              "      <td>0</td>\n",
              "      <td>98004</td>\n",
              "      <td>47.6151</td>\n",
              "      <td>-122.216</td>\n",
              "      <td>3390</td>\n",
              "      <td>11985</td>\n",
              "    </tr>\n",
              "    <tr>\n",
              "      <th>2717</th>\n",
              "      <td>9808590310</td>\n",
              "      <td>2015-04-08</td>\n",
              "      <td>1000750.0</td>\n",
              "      <td>3</td>\n",
              "      <td>2.75</td>\n",
              "      <td>3070</td>\n",
              "      <td>10739</td>\n",
              "      <td>2.0</td>\n",
              "      <td>0</td>\n",
              "      <td>0</td>\n",
              "      <td>3</td>\n",
              "      <td>10</td>\n",
              "      <td>2440</td>\n",
              "      <td>630</td>\n",
              "      <td>1987</td>\n",
              "      <td>0</td>\n",
              "      <td>98004</td>\n",
              "      <td>47.6444</td>\n",
              "      <td>-122.191</td>\n",
              "      <td>3490</td>\n",
              "      <td>11913</td>\n",
              "    </tr>\n",
              "    <tr>\n",
              "      <th>3256</th>\n",
              "      <td>540100057</td>\n",
              "      <td>2015-04-28</td>\n",
              "      <td>1208000.0</td>\n",
              "      <td>4</td>\n",
              "      <td>3.75</td>\n",
              "      <td>3250</td>\n",
              "      <td>10949</td>\n",
              "      <td>2.0</td>\n",
              "      <td>0</td>\n",
              "      <td>0</td>\n",
              "      <td>4</td>\n",
              "      <td>9</td>\n",
              "      <td>2940</td>\n",
              "      <td>310</td>\n",
              "      <td>1930</td>\n",
              "      <td>1989</td>\n",
              "      <td>98004</td>\n",
              "      <td>47.6390</td>\n",
              "      <td>-122.219</td>\n",
              "      <td>2340</td>\n",
              "      <td>15234</td>\n",
              "    </tr>\n",
              "    <tr>\n",
              "      <th>3281</th>\n",
              "      <td>8964800025</td>\n",
              "      <td>2015-02-26</td>\n",
              "      <td>1965000.0</td>\n",
              "      <td>5</td>\n",
              "      <td>3.75</td>\n",
              "      <td>3940</td>\n",
              "      <td>13738</td>\n",
              "      <td>1.5</td>\n",
              "      <td>0</td>\n",
              "      <td>3</td>\n",
              "      <td>4</td>\n",
              "      <td>9</td>\n",
              "      <td>3940</td>\n",
              "      <td>0</td>\n",
              "      <td>1951</td>\n",
              "      <td>0</td>\n",
              "      <td>98004</td>\n",
              "      <td>47.6203</td>\n",
              "      <td>-122.212</td>\n",
              "      <td>2370</td>\n",
              "      <td>13320</td>\n",
              "    </tr>\n",
              "    <tr>\n",
              "      <th>3526</th>\n",
              "      <td>6448000090</td>\n",
              "      <td>2014-05-12</td>\n",
              "      <td>1575000.0</td>\n",
              "      <td>5</td>\n",
              "      <td>2.75</td>\n",
              "      <td>3650</td>\n",
              "      <td>20150</td>\n",
              "      <td>1.0</td>\n",
              "      <td>0</td>\n",
              "      <td>0</td>\n",
              "      <td>4</td>\n",
              "      <td>10</td>\n",
              "      <td>2360</td>\n",
              "      <td>1290</td>\n",
              "      <td>1975</td>\n",
              "      <td>0</td>\n",
              "      <td>98004</td>\n",
              "      <td>47.6215</td>\n",
              "      <td>-122.224</td>\n",
              "      <td>3220</td>\n",
              "      <td>19800</td>\n",
              "    </tr>\n",
              "    <tr>\n",
              "      <th>3989</th>\n",
              "      <td>629000615</td>\n",
              "      <td>2014-10-22</td>\n",
              "      <td>1495000.0</td>\n",
              "      <td>4</td>\n",
              "      <td>3.25</td>\n",
              "      <td>3070</td>\n",
              "      <td>10375</td>\n",
              "      <td>2.0</td>\n",
              "      <td>0</td>\n",
              "      <td>0</td>\n",
              "      <td>3</td>\n",
              "      <td>10</td>\n",
              "      <td>2180</td>\n",
              "      <td>890</td>\n",
              "      <td>1962</td>\n",
              "      <td>2005</td>\n",
              "      <td>98004</td>\n",
              "      <td>47.5862</td>\n",
              "      <td>-122.198</td>\n",
              "      <td>2500</td>\n",
              "      <td>11194</td>\n",
              "    </tr>\n",
              "    <tr>\n",
              "      <th>4627</th>\n",
              "      <td>3225059223</td>\n",
              "      <td>2014-05-19</td>\n",
              "      <td>1405000.0</td>\n",
              "      <td>4</td>\n",
              "      <td>3.50</td>\n",
              "      <td>3410</td>\n",
              "      <td>10769</td>\n",
              "      <td>2.0</td>\n",
              "      <td>0</td>\n",
              "      <td>0</td>\n",
              "      <td>3</td>\n",
              "      <td>10</td>\n",
              "      <td>3410</td>\n",
              "      <td>0</td>\n",
              "      <td>2008</td>\n",
              "      <td>0</td>\n",
              "      <td>98004</td>\n",
              "      <td>47.6081</td>\n",
              "      <td>-122.198</td>\n",
              "      <td>2650</td>\n",
              "      <td>10058</td>\n",
              "    </tr>\n",
              "    <tr>\n",
              "      <th>4922</th>\n",
              "      <td>9809000020</td>\n",
              "      <td>2014-05-13</td>\n",
              "      <td>1895000.0</td>\n",
              "      <td>5</td>\n",
              "      <td>2.25</td>\n",
              "      <td>3120</td>\n",
              "      <td>16672</td>\n",
              "      <td>2.0</td>\n",
              "      <td>0</td>\n",
              "      <td>0</td>\n",
              "      <td>4</td>\n",
              "      <td>9</td>\n",
              "      <td>3120</td>\n",
              "      <td>0</td>\n",
              "      <td>1969</td>\n",
              "      <td>0</td>\n",
              "      <td>98004</td>\n",
              "      <td>47.6458</td>\n",
              "      <td>-122.219</td>\n",
              "      <td>3740</td>\n",
              "      <td>17853</td>\n",
              "    </tr>\n",
              "    <tr>\n",
              "      <th>4923</th>\n",
              "      <td>9809000020</td>\n",
              "      <td>2015-03-13</td>\n",
              "      <td>1940000.0</td>\n",
              "      <td>5</td>\n",
              "      <td>2.25</td>\n",
              "      <td>3120</td>\n",
              "      <td>16672</td>\n",
              "      <td>2.0</td>\n",
              "      <td>0</td>\n",
              "      <td>0</td>\n",
              "      <td>4</td>\n",
              "      <td>9</td>\n",
              "      <td>3120</td>\n",
              "      <td>0</td>\n",
              "      <td>1969</td>\n",
              "      <td>0</td>\n",
              "      <td>98004</td>\n",
              "      <td>47.6458</td>\n",
              "      <td>-122.219</td>\n",
              "      <td>3740</td>\n",
              "      <td>17853</td>\n",
              "    </tr>\n",
              "    <tr>\n",
              "      <th>5680</th>\n",
              "      <td>6645900010</td>\n",
              "      <td>2014-11-20</td>\n",
              "      <td>1470000.0</td>\n",
              "      <td>4</td>\n",
              "      <td>2.50</td>\n",
              "      <td>3030</td>\n",
              "      <td>10189</td>\n",
              "      <td>1.0</td>\n",
              "      <td>0</td>\n",
              "      <td>0</td>\n",
              "      <td>3</td>\n",
              "      <td>9</td>\n",
              "      <td>2380</td>\n",
              "      <td>650</td>\n",
              "      <td>2003</td>\n",
              "      <td>0</td>\n",
              "      <td>98004</td>\n",
              "      <td>47.6367</td>\n",
              "      <td>-122.206</td>\n",
              "      <td>1940</td>\n",
              "      <td>10189</td>\n",
              "    </tr>\n",
              "    <tr>\n",
              "      <th>6740</th>\n",
              "      <td>3391500050</td>\n",
              "      <td>2014-07-03</td>\n",
              "      <td>1875000.0</td>\n",
              "      <td>4</td>\n",
              "      <td>3.25</td>\n",
              "      <td>3930</td>\n",
              "      <td>10929</td>\n",
              "      <td>2.0</td>\n",
              "      <td>0</td>\n",
              "      <td>0</td>\n",
              "      <td>3</td>\n",
              "      <td>10</td>\n",
              "      <td>3930</td>\n",
              "      <td>0</td>\n",
              "      <td>2006</td>\n",
              "      <td>0</td>\n",
              "      <td>98004</td>\n",
              "      <td>47.6259</td>\n",
              "      <td>-122.194</td>\n",
              "      <td>1780</td>\n",
              "      <td>9999</td>\n",
              "    </tr>\n",
              "    <tr>\n",
              "      <th>7330</th>\n",
              "      <td>2450000290</td>\n",
              "      <td>2014-12-15</td>\n",
              "      <td>1245000.0</td>\n",
              "      <td>5</td>\n",
              "      <td>2.50</td>\n",
              "      <td>3370</td>\n",
              "      <td>8113</td>\n",
              "      <td>2.0</td>\n",
              "      <td>0</td>\n",
              "      <td>0</td>\n",
              "      <td>3</td>\n",
              "      <td>9</td>\n",
              "      <td>3370</td>\n",
              "      <td>0</td>\n",
              "      <td>2005</td>\n",
              "      <td>0</td>\n",
              "      <td>98004</td>\n",
              "      <td>47.5812</td>\n",
              "      <td>-122.196</td>\n",
              "      <td>2470</td>\n",
              "      <td>8113</td>\n",
              "    </tr>\n",
              "    <tr>\n",
              "      <th>7663</th>\n",
              "      <td>8085400355</td>\n",
              "      <td>2014-12-04</td>\n",
              "      <td>1270000.0</td>\n",
              "      <td>5</td>\n",
              "      <td>3.00</td>\n",
              "      <td>3950</td>\n",
              "      <td>9520</td>\n",
              "      <td>1.0</td>\n",
              "      <td>0</td>\n",
              "      <td>0</td>\n",
              "      <td>3</td>\n",
              "      <td>9</td>\n",
              "      <td>2250</td>\n",
              "      <td>1700</td>\n",
              "      <td>1953</td>\n",
              "      <td>2002</td>\n",
              "      <td>98004</td>\n",
              "      <td>47.6363</td>\n",
              "      <td>-122.207</td>\n",
              "      <td>1890</td>\n",
              "      <td>9520</td>\n",
              "    </tr>\n",
              "    <tr>\n",
              "      <th>7710</th>\n",
              "      <td>644200040</td>\n",
              "      <td>2014-05-15</td>\n",
              "      <td>1000000.0</td>\n",
              "      <td>5</td>\n",
              "      <td>4.25</td>\n",
              "      <td>3920</td>\n",
              "      <td>16258</td>\n",
              "      <td>2.0</td>\n",
              "      <td>0</td>\n",
              "      <td>0</td>\n",
              "      <td>3</td>\n",
              "      <td>9</td>\n",
              "      <td>2900</td>\n",
              "      <td>1020</td>\n",
              "      <td>1990</td>\n",
              "      <td>0</td>\n",
              "      <td>98004</td>\n",
              "      <td>47.5871</td>\n",
              "      <td>-122.192</td>\n",
              "      <td>2540</td>\n",
              "      <td>12131</td>\n",
              "    </tr>\n",
              "    <tr>\n",
              "      <th>7911</th>\n",
              "      <td>1051000040</td>\n",
              "      <td>2015-04-24</td>\n",
              "      <td>1824100.0</td>\n",
              "      <td>3</td>\n",
              "      <td>2.25</td>\n",
              "      <td>3330</td>\n",
              "      <td>20053</td>\n",
              "      <td>2.0</td>\n",
              "      <td>0</td>\n",
              "      <td>0</td>\n",
              "      <td>3</td>\n",
              "      <td>9</td>\n",
              "      <td>3330</td>\n",
              "      <td>0</td>\n",
              "      <td>1968</td>\n",
              "      <td>1998</td>\n",
              "      <td>98004</td>\n",
              "      <td>47.6395</td>\n",
              "      <td>-122.214</td>\n",
              "      <td>2870</td>\n",
              "      <td>20053</td>\n",
              "    </tr>\n",
              "    <tr>\n",
              "      <th>8540</th>\n",
              "      <td>8964800755</td>\n",
              "      <td>2015-01-16</td>\n",
              "      <td>1590000.0</td>\n",
              "      <td>4</td>\n",
              "      <td>2.25</td>\n",
              "      <td>3240</td>\n",
              "      <td>11131</td>\n",
              "      <td>1.0</td>\n",
              "      <td>0</td>\n",
              "      <td>0</td>\n",
              "      <td>4</td>\n",
              "      <td>9</td>\n",
              "      <td>2080</td>\n",
              "      <td>1160</td>\n",
              "      <td>1953</td>\n",
              "      <td>0</td>\n",
              "      <td>98004</td>\n",
              "      <td>47.6182</td>\n",
              "      <td>-122.215</td>\n",
              "      <td>2300</td>\n",
              "      <td>12150</td>\n",
              "    </tr>\n",
              "    <tr>\n",
              "      <th>9449</th>\n",
              "      <td>3472800065</td>\n",
              "      <td>2014-08-26</td>\n",
              "      <td>1698000.0</td>\n",
              "      <td>4</td>\n",
              "      <td>3.00</td>\n",
              "      <td>3600</td>\n",
              "      <td>9687</td>\n",
              "      <td>2.0</td>\n",
              "      <td>0</td>\n",
              "      <td>0</td>\n",
              "      <td>4</td>\n",
              "      <td>9</td>\n",
              "      <td>3600</td>\n",
              "      <td>0</td>\n",
              "      <td>1959</td>\n",
              "      <td>1995</td>\n",
              "      <td>98004</td>\n",
              "      <td>47.6257</td>\n",
              "      <td>-122.208</td>\n",
              "      <td>2620</td>\n",
              "      <td>10400</td>\n",
              "    </tr>\n",
              "    <tr>\n",
              "      <th>9573</th>\n",
              "      <td>644000040</td>\n",
              "      <td>2015-04-29</td>\n",
              "      <td>1780000.0</td>\n",
              "      <td>4</td>\n",
              "      <td>3.25</td>\n",
              "      <td>3950</td>\n",
              "      <td>10912</td>\n",
              "      <td>2.0</td>\n",
              "      <td>0</td>\n",
              "      <td>0</td>\n",
              "      <td>3</td>\n",
              "      <td>10</td>\n",
              "      <td>3950</td>\n",
              "      <td>0</td>\n",
              "      <td>2003</td>\n",
              "      <td>0</td>\n",
              "      <td>98004</td>\n",
              "      <td>47.5877</td>\n",
              "      <td>-122.196</td>\n",
              "      <td>3000</td>\n",
              "      <td>10998</td>\n",
              "    </tr>\n",
              "    <tr>\n",
              "      <th>9695</th>\n",
              "      <td>524059250</td>\n",
              "      <td>2014-09-22</td>\n",
              "      <td>1388000.0</td>\n",
              "      <td>4</td>\n",
              "      <td>2.50</td>\n",
              "      <td>3450</td>\n",
              "      <td>17400</td>\n",
              "      <td>1.5</td>\n",
              "      <td>0</td>\n",
              "      <td>0</td>\n",
              "      <td>4</td>\n",
              "      <td>9</td>\n",
              "      <td>2180</td>\n",
              "      <td>1270</td>\n",
              "      <td>1964</td>\n",
              "      <td>0</td>\n",
              "      <td>98004</td>\n",
              "      <td>47.5969</td>\n",
              "      <td>-122.206</td>\n",
              "      <td>3770</td>\n",
              "      <td>19530</td>\n",
              "    </tr>\n",
              "    <tr>\n",
              "      <th>9742</th>\n",
              "      <td>686900030</td>\n",
              "      <td>2015-03-23</td>\n",
              "      <td>999950.0</td>\n",
              "      <td>3</td>\n",
              "      <td>2.25</td>\n",
              "      <td>3740</td>\n",
              "      <td>22464</td>\n",
              "      <td>2.0</td>\n",
              "      <td>0</td>\n",
              "      <td>0</td>\n",
              "      <td>5</td>\n",
              "      <td>8</td>\n",
              "      <td>2330</td>\n",
              "      <td>1410</td>\n",
              "      <td>1966</td>\n",
              "      <td>0</td>\n",
              "      <td>98004</td>\n",
              "      <td>47.6354</td>\n",
              "      <td>-122.196</td>\n",
              "      <td>2680</td>\n",
              "      <td>19564</td>\n",
              "    </tr>\n",
              "    <tr>\n",
              "      <th>10525</th>\n",
              "      <td>8146200070</td>\n",
              "      <td>2015-03-10</td>\n",
              "      <td>1700000.0</td>\n",
              "      <td>5</td>\n",
              "      <td>2.75</td>\n",
              "      <td>3810</td>\n",
              "      <td>9360</td>\n",
              "      <td>2.0</td>\n",
              "      <td>0</td>\n",
              "      <td>0</td>\n",
              "      <td>3</td>\n",
              "      <td>10</td>\n",
              "      <td>3810</td>\n",
              "      <td>0</td>\n",
              "      <td>2014</td>\n",
              "      <td>0</td>\n",
              "      <td>98004</td>\n",
              "      <td>47.6039</td>\n",
              "      <td>-122.194</td>\n",
              "      <td>2110</td>\n",
              "      <td>9870</td>\n",
              "    </tr>\n",
              "    <tr>\n",
              "      <th>10949</th>\n",
              "      <td>8085400055</td>\n",
              "      <td>2015-04-28</td>\n",
              "      <td>1582500.0</td>\n",
              "      <td>4</td>\n",
              "      <td>2.50</td>\n",
              "      <td>3980</td>\n",
              "      <td>16304</td>\n",
              "      <td>1.0</td>\n",
              "      <td>0</td>\n",
              "      <td>1</td>\n",
              "      <td>3</td>\n",
              "      <td>10</td>\n",
              "      <td>2480</td>\n",
              "      <td>1500</td>\n",
              "      <td>1968</td>\n",
              "      <td>0</td>\n",
              "      <td>98004</td>\n",
              "      <td>47.6390</td>\n",
              "      <td>-122.210</td>\n",
              "      <td>3980</td>\n",
              "      <td>16304</td>\n",
              "    </tr>\n",
              "    <tr>\n",
              "      <th>11267</th>\n",
              "      <td>3536900030</td>\n",
              "      <td>2015-02-09</td>\n",
              "      <td>1600000.0</td>\n",
              "      <td>3</td>\n",
              "      <td>2.75</td>\n",
              "      <td>3040</td>\n",
              "      <td>21052</td>\n",
              "      <td>2.0</td>\n",
              "      <td>0</td>\n",
              "      <td>0</td>\n",
              "      <td>4</td>\n",
              "      <td>10</td>\n",
              "      <td>3040</td>\n",
              "      <td>0</td>\n",
              "      <td>1980</td>\n",
              "      <td>0</td>\n",
              "      <td>98004</td>\n",
              "      <td>47.6380</td>\n",
              "      <td>-122.225</td>\n",
              "      <td>2950</td>\n",
              "      <td>21052</td>\n",
              "    </tr>\n",
              "    <tr>\n",
              "      <th>11591</th>\n",
              "      <td>629000510</td>\n",
              "      <td>2014-07-30</td>\n",
              "      <td>1185000.0</td>\n",
              "      <td>4</td>\n",
              "      <td>2.75</td>\n",
              "      <td>3020</td>\n",
              "      <td>8622</td>\n",
              "      <td>2.0</td>\n",
              "      <td>0</td>\n",
              "      <td>0</td>\n",
              "      <td>3</td>\n",
              "      <td>9</td>\n",
              "      <td>3020</td>\n",
              "      <td>0</td>\n",
              "      <td>1976</td>\n",
              "      <td>2003</td>\n",
              "      <td>98004</td>\n",
              "      <td>47.5866</td>\n",
              "      <td>-122.201</td>\n",
              "      <td>3060</td>\n",
              "      <td>14303</td>\n",
              "    </tr>\n",
              "    <tr>\n",
              "      <th>11843</th>\n",
              "      <td>2450500060</td>\n",
              "      <td>2014-08-26</td>\n",
              "      <td>1620000.0</td>\n",
              "      <td>4</td>\n",
              "      <td>3.25</td>\n",
              "      <td>3820</td>\n",
              "      <td>8114</td>\n",
              "      <td>2.0</td>\n",
              "      <td>0</td>\n",
              "      <td>0</td>\n",
              "      <td>3</td>\n",
              "      <td>10</td>\n",
              "      <td>3820</td>\n",
              "      <td>0</td>\n",
              "      <td>2005</td>\n",
              "      <td>0</td>\n",
              "      <td>98004</td>\n",
              "      <td>47.5837</td>\n",
              "      <td>-122.194</td>\n",
              "      <td>2440</td>\n",
              "      <td>9195</td>\n",
              "    </tr>\n",
              "    <tr>\n",
              "      <th>11998</th>\n",
              "      <td>2068000270</td>\n",
              "      <td>2014-08-05</td>\n",
              "      <td>1400000.0</td>\n",
              "      <td>5</td>\n",
              "      <td>3.00</td>\n",
              "      <td>3850</td>\n",
              "      <td>14990</td>\n",
              "      <td>1.0</td>\n",
              "      <td>0</td>\n",
              "      <td>0</td>\n",
              "      <td>4</td>\n",
              "      <td>9</td>\n",
              "      <td>2290</td>\n",
              "      <td>1560</td>\n",
              "      <td>1964</td>\n",
              "      <td>0</td>\n",
              "      <td>98004</td>\n",
              "      <td>47.6425</td>\n",
              "      <td>-122.218</td>\n",
              "      <td>3010</td>\n",
              "      <td>15001</td>\n",
              "    </tr>\n",
              "    <tr>\n",
              "      <th>12186</th>\n",
              "      <td>4107100204</td>\n",
              "      <td>2014-08-21</td>\n",
              "      <td>2135000.0</td>\n",
              "      <td>4</td>\n",
              "      <td>3.25</td>\n",
              "      <td>3860</td>\n",
              "      <td>17820</td>\n",
              "      <td>1.0</td>\n",
              "      <td>0</td>\n",
              "      <td>4</td>\n",
              "      <td>4</td>\n",
              "      <td>10</td>\n",
              "      <td>2630</td>\n",
              "      <td>1230</td>\n",
              "      <td>1975</td>\n",
              "      <td>0</td>\n",
              "      <td>98004</td>\n",
              "      <td>47.6224</td>\n",
              "      <td>-122.215</td>\n",
              "      <td>4590</td>\n",
              "      <td>23760</td>\n",
              "    </tr>\n",
              "    <tr>\n",
              "      <th>12217</th>\n",
              "      <td>824059324</td>\n",
              "      <td>2015-03-25</td>\n",
              "      <td>1450000.0</td>\n",
              "      <td>4</td>\n",
              "      <td>3.50</td>\n",
              "      <td>3720</td>\n",
              "      <td>8301</td>\n",
              "      <td>2.0</td>\n",
              "      <td>0</td>\n",
              "      <td>0</td>\n",
              "      <td>3</td>\n",
              "      <td>10</td>\n",
              "      <td>2880</td>\n",
              "      <td>840</td>\n",
              "      <td>2008</td>\n",
              "      <td>0</td>\n",
              "      <td>98004</td>\n",
              "      <td>47.5885</td>\n",
              "      <td>-122.199</td>\n",
              "      <td>2080</td>\n",
              "      <td>9676</td>\n",
              "    </tr>\n",
              "    <tr>\n",
              "      <th>12648</th>\n",
              "      <td>7490000040</td>\n",
              "      <td>2014-07-18</td>\n",
              "      <td>2535000.0</td>\n",
              "      <td>5</td>\n",
              "      <td>3.25</td>\n",
              "      <td>3730</td>\n",
              "      <td>10626</td>\n",
              "      <td>1.0</td>\n",
              "      <td>0</td>\n",
              "      <td>4</td>\n",
              "      <td>4</td>\n",
              "      <td>10</td>\n",
              "      <td>3730</td>\n",
              "      <td>0</td>\n",
              "      <td>1963</td>\n",
              "      <td>0</td>\n",
              "      <td>98004</td>\n",
              "      <td>47.6240</td>\n",
              "      <td>-122.221</td>\n",
              "      <td>4180</td>\n",
              "      <td>19110</td>\n",
              "    </tr>\n",
              "    <tr>\n",
              "      <th>12826</th>\n",
              "      <td>3025059072</td>\n",
              "      <td>2014-07-25</td>\n",
              "      <td>1749000.0</td>\n",
              "      <td>4</td>\n",
              "      <td>2.50</td>\n",
              "      <td>3910</td>\n",
              "      <td>22710</td>\n",
              "      <td>1.5</td>\n",
              "      <td>0</td>\n",
              "      <td>0</td>\n",
              "      <td>3</td>\n",
              "      <td>8</td>\n",
              "      <td>3910</td>\n",
              "      <td>0</td>\n",
              "      <td>1908</td>\n",
              "      <td>2003</td>\n",
              "      <td>98004</td>\n",
              "      <td>47.6295</td>\n",
              "      <td>-122.217</td>\n",
              "      <td>2920</td>\n",
              "      <td>16544</td>\n",
              "    </tr>\n",
              "    <tr>\n",
              "      <th>13357</th>\n",
              "      <td>9808590210</td>\n",
              "      <td>2014-05-13</td>\n",
              "      <td>860000.0</td>\n",
              "      <td>4</td>\n",
              "      <td>2.50</td>\n",
              "      <td>3560</td>\n",
              "      <td>11119</td>\n",
              "      <td>1.0</td>\n",
              "      <td>0</td>\n",
              "      <td>2</td>\n",
              "      <td>3</td>\n",
              "      <td>10</td>\n",
              "      <td>2290</td>\n",
              "      <td>1270</td>\n",
              "      <td>1986</td>\n",
              "      <td>0</td>\n",
              "      <td>98004</td>\n",
              "      <td>47.6456</td>\n",
              "      <td>-122.190</td>\n",
              "      <td>3290</td>\n",
              "      <td>11385</td>\n",
              "    </tr>\n",
              "    <tr>\n",
              "      <th>13591</th>\n",
              "      <td>686550040</td>\n",
              "      <td>2014-06-19</td>\n",
              "      <td>1240000.0</td>\n",
              "      <td>4</td>\n",
              "      <td>3.50</td>\n",
              "      <td>3820</td>\n",
              "      <td>13224</td>\n",
              "      <td>2.0</td>\n",
              "      <td>0</td>\n",
              "      <td>0</td>\n",
              "      <td>3</td>\n",
              "      <td>10</td>\n",
              "      <td>3280</td>\n",
              "      <td>540</td>\n",
              "      <td>1990</td>\n",
              "      <td>0</td>\n",
              "      <td>98004</td>\n",
              "      <td>47.6005</td>\n",
              "      <td>-122.199</td>\n",
              "      <td>3340</td>\n",
              "      <td>9700</td>\n",
              "    </tr>\n",
              "    <tr>\n",
              "      <th>13675</th>\n",
              "      <td>4389201075</td>\n",
              "      <td>2014-07-31</td>\n",
              "      <td>1900000.0</td>\n",
              "      <td>4</td>\n",
              "      <td>2.50</td>\n",
              "      <td>3680</td>\n",
              "      <td>13351</td>\n",
              "      <td>2.0</td>\n",
              "      <td>0</td>\n",
              "      <td>2</td>\n",
              "      <td>5</td>\n",
              "      <td>9</td>\n",
              "      <td>3680</td>\n",
              "      <td>0</td>\n",
              "      <td>1946</td>\n",
              "      <td>1982</td>\n",
              "      <td>98004</td>\n",
              "      <td>47.6154</td>\n",
              "      <td>-122.214</td>\n",
              "      <td>3410</td>\n",
              "      <td>11700</td>\n",
              "    </tr>\n",
              "    <tr>\n",
              "      <th>15072</th>\n",
              "      <td>251610020</td>\n",
              "      <td>2015-05-08</td>\n",
              "      <td>1580000.0</td>\n",
              "      <td>4</td>\n",
              "      <td>2.75</td>\n",
              "      <td>3480</td>\n",
              "      <td>19991</td>\n",
              "      <td>2.0</td>\n",
              "      <td>0</td>\n",
              "      <td>2</td>\n",
              "      <td>4</td>\n",
              "      <td>10</td>\n",
              "      <td>2630</td>\n",
              "      <td>850</td>\n",
              "      <td>1979</td>\n",
              "      <td>0</td>\n",
              "      <td>98004</td>\n",
              "      <td>47.6354</td>\n",
              "      <td>-122.214</td>\n",
              "      <td>3770</td>\n",
              "      <td>20271</td>\n",
              "    </tr>\n",
              "    <tr>\n",
              "      <th>15353</th>\n",
              "      <td>644210020</td>\n",
              "      <td>2015-01-05</td>\n",
              "      <td>780000.0</td>\n",
              "      <td>4</td>\n",
              "      <td>2.50</td>\n",
              "      <td>3020</td>\n",
              "      <td>15164</td>\n",
              "      <td>1.0</td>\n",
              "      <td>0</td>\n",
              "      <td>0</td>\n",
              "      <td>4</td>\n",
              "      <td>8</td>\n",
              "      <td>1730</td>\n",
              "      <td>1290</td>\n",
              "      <td>1976</td>\n",
              "      <td>0</td>\n",
              "      <td>98004</td>\n",
              "      <td>47.5882</td>\n",
              "      <td>-122.192</td>\n",
              "      <td>2600</td>\n",
              "      <td>11556</td>\n",
              "    </tr>\n",
              "    <tr>\n",
              "      <th>15405</th>\n",
              "      <td>3394100020</td>\n",
              "      <td>2014-11-20</td>\n",
              "      <td>990000.0</td>\n",
              "      <td>4</td>\n",
              "      <td>2.50</td>\n",
              "      <td>3140</td>\n",
              "      <td>11049</td>\n",
              "      <td>2.0</td>\n",
              "      <td>0</td>\n",
              "      <td>0</td>\n",
              "      <td>3</td>\n",
              "      <td>10</td>\n",
              "      <td>3140</td>\n",
              "      <td>0</td>\n",
              "      <td>1988</td>\n",
              "      <td>0</td>\n",
              "      <td>98004</td>\n",
              "      <td>47.5817</td>\n",
              "      <td>-122.192</td>\n",
              "      <td>2750</td>\n",
              "      <td>11049</td>\n",
              "    </tr>\n",
              "    <tr>\n",
              "      <th>16004</th>\n",
              "      <td>4122900190</td>\n",
              "      <td>2014-05-12</td>\n",
              "      <td>1346400.0</td>\n",
              "      <td>5</td>\n",
              "      <td>1.75</td>\n",
              "      <td>3380</td>\n",
              "      <td>20021</td>\n",
              "      <td>1.0</td>\n",
              "      <td>0</td>\n",
              "      <td>0</td>\n",
              "      <td>4</td>\n",
              "      <td>8</td>\n",
              "      <td>1690</td>\n",
              "      <td>1690</td>\n",
              "      <td>1963</td>\n",
              "      <td>0</td>\n",
              "      <td>98004</td>\n",
              "      <td>47.6395</td>\n",
              "      <td>-122.211</td>\n",
              "      <td>3260</td>\n",
              "      <td>19809</td>\n",
              "    </tr>\n",
              "    <tr>\n",
              "      <th>17151</th>\n",
              "      <td>4107100190</td>\n",
              "      <td>2015-03-24</td>\n",
              "      <td>2500000.0</td>\n",
              "      <td>4</td>\n",
              "      <td>3.75</td>\n",
              "      <td>3480</td>\n",
              "      <td>14850</td>\n",
              "      <td>1.0</td>\n",
              "      <td>0</td>\n",
              "      <td>4</td>\n",
              "      <td>3</td>\n",
              "      <td>9</td>\n",
              "      <td>1870</td>\n",
              "      <td>1610</td>\n",
              "      <td>1951</td>\n",
              "      <td>2013</td>\n",
              "      <td>98004</td>\n",
              "      <td>47.6227</td>\n",
              "      <td>-122.216</td>\n",
              "      <td>4780</td>\n",
              "      <td>18480</td>\n",
              "    </tr>\n",
              "    <tr>\n",
              "      <th>17324</th>\n",
              "      <td>9809000010</td>\n",
              "      <td>2015-01-06</td>\n",
              "      <td>1629000.0</td>\n",
              "      <td>5</td>\n",
              "      <td>2.50</td>\n",
              "      <td>3090</td>\n",
              "      <td>16583</td>\n",
              "      <td>2.0</td>\n",
              "      <td>0</td>\n",
              "      <td>0</td>\n",
              "      <td>4</td>\n",
              "      <td>9</td>\n",
              "      <td>3090</td>\n",
              "      <td>0</td>\n",
              "      <td>1964</td>\n",
              "      <td>0</td>\n",
              "      <td>98004</td>\n",
              "      <td>47.6458</td>\n",
              "      <td>-122.218</td>\n",
              "      <td>3740</td>\n",
              "      <td>17853</td>\n",
              "    </tr>\n",
              "    <tr>\n",
              "      <th>17407</th>\n",
              "      <td>9286730020</td>\n",
              "      <td>2015-03-31</td>\n",
              "      <td>1802750.0</td>\n",
              "      <td>5</td>\n",
              "      <td>3.25</td>\n",
              "      <td>3890</td>\n",
              "      <td>20005</td>\n",
              "      <td>1.0</td>\n",
              "      <td>0</td>\n",
              "      <td>0</td>\n",
              "      <td>3</td>\n",
              "      <td>10</td>\n",
              "      <td>2260</td>\n",
              "      <td>1630</td>\n",
              "      <td>1977</td>\n",
              "      <td>0</td>\n",
              "      <td>98004</td>\n",
              "      <td>47.6312</td>\n",
              "      <td>-122.224</td>\n",
              "      <td>3450</td>\n",
              "      <td>20176</td>\n",
              "    </tr>\n",
              "    <tr>\n",
              "      <th>17470</th>\n",
              "      <td>8084900170</td>\n",
              "      <td>2014-10-23</td>\n",
              "      <td>1562000.0</td>\n",
              "      <td>5</td>\n",
              "      <td>3.00</td>\n",
              "      <td>3910</td>\n",
              "      <td>16200</td>\n",
              "      <td>1.0</td>\n",
              "      <td>0</td>\n",
              "      <td>0</td>\n",
              "      <td>4</td>\n",
              "      <td>9</td>\n",
              "      <td>2890</td>\n",
              "      <td>1020</td>\n",
              "      <td>1960</td>\n",
              "      <td>0</td>\n",
              "      <td>98004</td>\n",
              "      <td>47.6326</td>\n",
              "      <td>-122.217</td>\n",
              "      <td>3620</td>\n",
              "      <td>16200</td>\n",
              "    </tr>\n",
              "    <tr>\n",
              "      <th>18432</th>\n",
              "      <td>6448000100</td>\n",
              "      <td>2014-06-17</td>\n",
              "      <td>1728000.0</td>\n",
              "      <td>4</td>\n",
              "      <td>3.00</td>\n",
              "      <td>3700</td>\n",
              "      <td>20570</td>\n",
              "      <td>1.0</td>\n",
              "      <td>0</td>\n",
              "      <td>0</td>\n",
              "      <td>4</td>\n",
              "      <td>10</td>\n",
              "      <td>1850</td>\n",
              "      <td>1850</td>\n",
              "      <td>1976</td>\n",
              "      <td>0</td>\n",
              "      <td>98004</td>\n",
              "      <td>47.6212</td>\n",
              "      <td>-122.224</td>\n",
              "      <td>3080</td>\n",
              "      <td>17595</td>\n",
              "    </tr>\n",
              "    <tr>\n",
              "      <th>18511</th>\n",
              "      <td>8964800975</td>\n",
              "      <td>2014-07-31</td>\n",
              "      <td>1650000.0</td>\n",
              "      <td>4</td>\n",
              "      <td>2.75</td>\n",
              "      <td>3190</td>\n",
              "      <td>14904</td>\n",
              "      <td>1.0</td>\n",
              "      <td>0</td>\n",
              "      <td>3</td>\n",
              "      <td>4</td>\n",
              "      <td>9</td>\n",
              "      <td>1940</td>\n",
              "      <td>1250</td>\n",
              "      <td>1949</td>\n",
              "      <td>1992</td>\n",
              "      <td>98004</td>\n",
              "      <td>47.6178</td>\n",
              "      <td>-122.214</td>\n",
              "      <td>2600</td>\n",
              "      <td>11195</td>\n",
              "    </tr>\n",
              "    <tr>\n",
              "      <th>18890</th>\n",
              "      <td>3394100230</td>\n",
              "      <td>2014-05-22</td>\n",
              "      <td>1050000.0</td>\n",
              "      <td>4</td>\n",
              "      <td>2.50</td>\n",
              "      <td>3030</td>\n",
              "      <td>12590</td>\n",
              "      <td>1.5</td>\n",
              "      <td>0</td>\n",
              "      <td>0</td>\n",
              "      <td>4</td>\n",
              "      <td>10</td>\n",
              "      <td>3030</td>\n",
              "      <td>0</td>\n",
              "      <td>1988</td>\n",
              "      <td>0</td>\n",
              "      <td>98004</td>\n",
              "      <td>47.5806</td>\n",
              "      <td>-122.193</td>\n",
              "      <td>2980</td>\n",
              "      <td>11635</td>\n",
              "    </tr>\n",
              "    <tr>\n",
              "      <th>19108</th>\n",
              "      <td>2025059131</td>\n",
              "      <td>2014-09-04</td>\n",
              "      <td>980000.0</td>\n",
              "      <td>4</td>\n",
              "      <td>4.25</td>\n",
              "      <td>3250</td>\n",
              "      <td>11780</td>\n",
              "      <td>2.0</td>\n",
              "      <td>0</td>\n",
              "      <td>0</td>\n",
              "      <td>3</td>\n",
              "      <td>8</td>\n",
              "      <td>2360</td>\n",
              "      <td>890</td>\n",
              "      <td>1944</td>\n",
              "      <td>2001</td>\n",
              "      <td>98004</td>\n",
              "      <td>47.6322</td>\n",
              "      <td>-122.203</td>\n",
              "      <td>1800</td>\n",
              "      <td>9000</td>\n",
              "    </tr>\n",
              "    <tr>\n",
              "      <th>19649</th>\n",
              "      <td>2213000030</td>\n",
              "      <td>2014-05-12</td>\n",
              "      <td>1264000.0</td>\n",
              "      <td>4</td>\n",
              "      <td>3.75</td>\n",
              "      <td>3490</td>\n",
              "      <td>9170</td>\n",
              "      <td>2.0</td>\n",
              "      <td>0</td>\n",
              "      <td>0</td>\n",
              "      <td>3</td>\n",
              "      <td>9</td>\n",
              "      <td>3490</td>\n",
              "      <td>0</td>\n",
              "      <td>2012</td>\n",
              "      <td>0</td>\n",
              "      <td>98004</td>\n",
              "      <td>47.5991</td>\n",
              "      <td>-122.200</td>\n",
              "      <td>1810</td>\n",
              "      <td>8470</td>\n",
              "    </tr>\n",
              "    <tr>\n",
              "      <th>19956</th>\n",
              "      <td>2311400195</td>\n",
              "      <td>2015-03-03</td>\n",
              "      <td>1563100.0</td>\n",
              "      <td>5</td>\n",
              "      <td>3.50</td>\n",
              "      <td>3630</td>\n",
              "      <td>8100</td>\n",
              "      <td>2.0</td>\n",
              "      <td>0</td>\n",
              "      <td>0</td>\n",
              "      <td>3</td>\n",
              "      <td>10</td>\n",
              "      <td>3630</td>\n",
              "      <td>0</td>\n",
              "      <td>2008</td>\n",
              "      <td>0</td>\n",
              "      <td>98004</td>\n",
              "      <td>47.5951</td>\n",
              "      <td>-122.200</td>\n",
              "      <td>1730</td>\n",
              "      <td>8246</td>\n",
              "    </tr>\n",
              "    <tr>\n",
              "      <th>19961</th>\n",
              "      <td>5078400215</td>\n",
              "      <td>2014-07-30</td>\n",
              "      <td>1695000.0</td>\n",
              "      <td>5</td>\n",
              "      <td>4.75</td>\n",
              "      <td>3940</td>\n",
              "      <td>7067</td>\n",
              "      <td>2.0</td>\n",
              "      <td>0</td>\n",
              "      <td>0</td>\n",
              "      <td>3</td>\n",
              "      <td>10</td>\n",
              "      <td>3230</td>\n",
              "      <td>710</td>\n",
              "      <td>2008</td>\n",
              "      <td>0</td>\n",
              "      <td>98004</td>\n",
              "      <td>47.6232</td>\n",
              "      <td>-122.205</td>\n",
              "      <td>1910</td>\n",
              "      <td>7735</td>\n",
              "    </tr>\n",
              "    <tr>\n",
              "      <th>19973</th>\n",
              "      <td>711000110</td>\n",
              "      <td>2014-09-15</td>\n",
              "      <td>1266520.0</td>\n",
              "      <td>3</td>\n",
              "      <td>2.50</td>\n",
              "      <td>3060</td>\n",
              "      <td>9576</td>\n",
              "      <td>2.0</td>\n",
              "      <td>0</td>\n",
              "      <td>0</td>\n",
              "      <td>3</td>\n",
              "      <td>10</td>\n",
              "      <td>3060</td>\n",
              "      <td>0</td>\n",
              "      <td>2005</td>\n",
              "      <td>0</td>\n",
              "      <td>98004</td>\n",
              "      <td>47.5928</td>\n",
              "      <td>-122.199</td>\n",
              "      <td>3060</td>\n",
              "      <td>9579</td>\n",
              "    </tr>\n",
              "    <tr>\n",
              "      <th>20168</th>\n",
              "      <td>250000010</td>\n",
              "      <td>2014-09-24</td>\n",
              "      <td>1750000.0</td>\n",
              "      <td>4</td>\n",
              "      <td>3.50</td>\n",
              "      <td>3845</td>\n",
              "      <td>8400</td>\n",
              "      <td>2.0</td>\n",
              "      <td>0</td>\n",
              "      <td>0</td>\n",
              "      <td>3</td>\n",
              "      <td>10</td>\n",
              "      <td>3845</td>\n",
              "      <td>0</td>\n",
              "      <td>2013</td>\n",
              "      <td>0</td>\n",
              "      <td>98004</td>\n",
              "      <td>47.6354</td>\n",
              "      <td>-122.198</td>\n",
              "      <td>1710</td>\n",
              "      <td>8400</td>\n",
              "    </tr>\n",
              "    <tr>\n",
              "      <th>20500</th>\n",
              "      <td>2311400145</td>\n",
              "      <td>2014-10-29</td>\n",
              "      <td>1699990.0</td>\n",
              "      <td>4</td>\n",
              "      <td>3.75</td>\n",
              "      <td>3320</td>\n",
              "      <td>8234</td>\n",
              "      <td>2.0</td>\n",
              "      <td>0</td>\n",
              "      <td>0</td>\n",
              "      <td>3</td>\n",
              "      <td>10</td>\n",
              "      <td>3320</td>\n",
              "      <td>0</td>\n",
              "      <td>2014</td>\n",
              "      <td>0</td>\n",
              "      <td>98004</td>\n",
              "      <td>47.5963</td>\n",
              "      <td>-122.200</td>\n",
              "      <td>1560</td>\n",
              "      <td>8240</td>\n",
              "    </tr>\n",
              "    <tr>\n",
              "      <th>21383</th>\n",
              "      <td>644000115</td>\n",
              "      <td>2014-09-23</td>\n",
              "      <td>1765000.0</td>\n",
              "      <td>4</td>\n",
              "      <td>3.25</td>\n",
              "      <td>3980</td>\n",
              "      <td>10249</td>\n",
              "      <td>2.0</td>\n",
              "      <td>0</td>\n",
              "      <td>0</td>\n",
              "      <td>3</td>\n",
              "      <td>10</td>\n",
              "      <td>3980</td>\n",
              "      <td>0</td>\n",
              "      <td>2011</td>\n",
              "      <td>0</td>\n",
              "      <td>98004</td>\n",
              "      <td>47.5873</td>\n",
              "      <td>-122.196</td>\n",
              "      <td>2450</td>\n",
              "      <td>10912</td>\n",
              "    </tr>\n",
              "    <tr>\n",
              "      <th>21473</th>\n",
              "      <td>8085400586</td>\n",
              "      <td>2014-11-01</td>\n",
              "      <td>1750000.0</td>\n",
              "      <td>4</td>\n",
              "      <td>2.75</td>\n",
              "      <td>3560</td>\n",
              "      <td>8975</td>\n",
              "      <td>2.0</td>\n",
              "      <td>0</td>\n",
              "      <td>0</td>\n",
              "      <td>3</td>\n",
              "      <td>10</td>\n",
              "      <td>3560</td>\n",
              "      <td>0</td>\n",
              "      <td>2014</td>\n",
              "      <td>0</td>\n",
              "      <td>98004</td>\n",
              "      <td>47.6322</td>\n",
              "      <td>-122.209</td>\n",
              "      <td>3440</td>\n",
              "      <td>12825</td>\n",
              "    </tr>\n",
              "    <tr>\n",
              "      <th>21568</th>\n",
              "      <td>524059330</td>\n",
              "      <td>2015-01-30</td>\n",
              "      <td>1700000.0</td>\n",
              "      <td>4</td>\n",
              "      <td>3.50</td>\n",
              "      <td>3830</td>\n",
              "      <td>8963</td>\n",
              "      <td>2.0</td>\n",
              "      <td>0</td>\n",
              "      <td>0</td>\n",
              "      <td>3</td>\n",
              "      <td>10</td>\n",
              "      <td>3120</td>\n",
              "      <td>710</td>\n",
              "      <td>2014</td>\n",
              "      <td>0</td>\n",
              "      <td>98004</td>\n",
              "      <td>47.5990</td>\n",
              "      <td>-122.197</td>\n",
              "      <td>2190</td>\n",
              "      <td>10777</td>\n",
              "    </tr>\n",
              "  </tbody>\n",
              "</table>\n",
              "</div>"
            ],
            "text/plain": [
              "               id       date      price  ...     long  sqft_living15  sqft_lot15\n",
              "69     1802000060 2014-06-12  1325000.0  ... -122.215           3390       20158\n",
              "393    1653500070 2014-05-12   927000.0  ... -122.218           3180       12239\n",
              "885    3323500030 2014-06-04  1270000.0  ... -122.222           4090       15732\n",
              "1282   8964800445 2015-02-09  2260000.0  ... -122.209           3110       12433\n",
              "1818   9290900160 2014-09-11  1430000.0  ... -122.225           3390       20075\n",
              "2449   4389200796 2014-05-22  1600000.0  ... -122.216           3390       11985\n",
              "2717   9808590310 2015-04-08  1000750.0  ... -122.191           3490       11913\n",
              "3256    540100057 2015-04-28  1208000.0  ... -122.219           2340       15234\n",
              "3281   8964800025 2015-02-26  1965000.0  ... -122.212           2370       13320\n",
              "3526   6448000090 2014-05-12  1575000.0  ... -122.224           3220       19800\n",
              "3989    629000615 2014-10-22  1495000.0  ... -122.198           2500       11194\n",
              "4627   3225059223 2014-05-19  1405000.0  ... -122.198           2650       10058\n",
              "4922   9809000020 2014-05-13  1895000.0  ... -122.219           3740       17853\n",
              "4923   9809000020 2015-03-13  1940000.0  ... -122.219           3740       17853\n",
              "5680   6645900010 2014-11-20  1470000.0  ... -122.206           1940       10189\n",
              "6740   3391500050 2014-07-03  1875000.0  ... -122.194           1780        9999\n",
              "7330   2450000290 2014-12-15  1245000.0  ... -122.196           2470        8113\n",
              "7663   8085400355 2014-12-04  1270000.0  ... -122.207           1890        9520\n",
              "7710    644200040 2014-05-15  1000000.0  ... -122.192           2540       12131\n",
              "7911   1051000040 2015-04-24  1824100.0  ... -122.214           2870       20053\n",
              "8540   8964800755 2015-01-16  1590000.0  ... -122.215           2300       12150\n",
              "9449   3472800065 2014-08-26  1698000.0  ... -122.208           2620       10400\n",
              "9573    644000040 2015-04-29  1780000.0  ... -122.196           3000       10998\n",
              "9695    524059250 2014-09-22  1388000.0  ... -122.206           3770       19530\n",
              "9742    686900030 2015-03-23   999950.0  ... -122.196           2680       19564\n",
              "10525  8146200070 2015-03-10  1700000.0  ... -122.194           2110        9870\n",
              "10949  8085400055 2015-04-28  1582500.0  ... -122.210           3980       16304\n",
              "11267  3536900030 2015-02-09  1600000.0  ... -122.225           2950       21052\n",
              "11591   629000510 2014-07-30  1185000.0  ... -122.201           3060       14303\n",
              "11843  2450500060 2014-08-26  1620000.0  ... -122.194           2440        9195\n",
              "11998  2068000270 2014-08-05  1400000.0  ... -122.218           3010       15001\n",
              "12186  4107100204 2014-08-21  2135000.0  ... -122.215           4590       23760\n",
              "12217   824059324 2015-03-25  1450000.0  ... -122.199           2080        9676\n",
              "12648  7490000040 2014-07-18  2535000.0  ... -122.221           4180       19110\n",
              "12826  3025059072 2014-07-25  1749000.0  ... -122.217           2920       16544\n",
              "13357  9808590210 2014-05-13   860000.0  ... -122.190           3290       11385\n",
              "13591   686550040 2014-06-19  1240000.0  ... -122.199           3340        9700\n",
              "13675  4389201075 2014-07-31  1900000.0  ... -122.214           3410       11700\n",
              "15072   251610020 2015-05-08  1580000.0  ... -122.214           3770       20271\n",
              "15353   644210020 2015-01-05   780000.0  ... -122.192           2600       11556\n",
              "15405  3394100020 2014-11-20   990000.0  ... -122.192           2750       11049\n",
              "16004  4122900190 2014-05-12  1346400.0  ... -122.211           3260       19809\n",
              "17151  4107100190 2015-03-24  2500000.0  ... -122.216           4780       18480\n",
              "17324  9809000010 2015-01-06  1629000.0  ... -122.218           3740       17853\n",
              "17407  9286730020 2015-03-31  1802750.0  ... -122.224           3450       20176\n",
              "17470  8084900170 2014-10-23  1562000.0  ... -122.217           3620       16200\n",
              "18432  6448000100 2014-06-17  1728000.0  ... -122.224           3080       17595\n",
              "18511  8964800975 2014-07-31  1650000.0  ... -122.214           2600       11195\n",
              "18890  3394100230 2014-05-22  1050000.0  ... -122.193           2980       11635\n",
              "19108  2025059131 2014-09-04   980000.0  ... -122.203           1800        9000\n",
              "19649  2213000030 2014-05-12  1264000.0  ... -122.200           1810        8470\n",
              "19956  2311400195 2015-03-03  1563100.0  ... -122.200           1730        8246\n",
              "19961  5078400215 2014-07-30  1695000.0  ... -122.205           1910        7735\n",
              "19973   711000110 2014-09-15  1266520.0  ... -122.199           3060        9579\n",
              "20168   250000010 2014-09-24  1750000.0  ... -122.198           1710        8400\n",
              "20500  2311400145 2014-10-29  1699990.0  ... -122.200           1560        8240\n",
              "21383   644000115 2014-09-23  1765000.0  ... -122.196           2450       10912\n",
              "21473  8085400586 2014-11-01  1750000.0  ... -122.209           3440       12825\n",
              "21568   524059330 2015-01-30  1700000.0  ... -122.197           2190       10777\n",
              "\n",
              "[59 rows x 21 columns]"
            ]
          },
          "metadata": {
            "tags": []
          },
          "execution_count": 149
        }
      ]
    },
    {
      "cell_type": "code",
      "metadata": {
        "colab": {
          "base_uri": "https://localhost:8080/"
        },
        "id": "1vyQQW45UXlD",
        "outputId": "32a8672b-ed2d-42ad-d0fd-ec83e0fc910b"
      },
      "source": [
        "# Checking the average price of houses in zipcode 98004 that have a ideal square feet size\r\n",
        "house_mean = df.query(\"sqft_living > 3000 & sqft_living <= 4000 & zipcode == 98004\").price.mean()\r\n",
        "house_mean"
      ],
      "execution_count": null,
      "outputs": [
        {
          "output_type": "execute_result",
          "data": {
            "text/plain": [
              "1532950.1694915255"
            ]
          },
          "metadata": {
            "tags": []
          },
          "execution_count": 167
        }
      ]
    },
    {
      "cell_type": "code",
      "metadata": {
        "colab": {
          "base_uri": "https://localhost:8080/"
        },
        "id": "HDOeviqIaipP",
        "outputId": "c126556c-1e72-40aa-832b-58608d240edb"
      },
      "source": [
        "# Creating a lower search price to find the chapest houses\r\n",
        "house_mean * 0.6"
      ],
      "execution_count": null,
      "outputs": [
        {
          "output_type": "execute_result",
          "data": {
            "text/plain": [
              "919770.1016949153"
            ]
          },
          "metadata": {
            "tags": []
          },
          "execution_count": 165
        }
      ]
    },
    {
      "cell_type": "code",
      "metadata": {
        "colab": {
          "base_uri": "https://localhost:8080/",
          "height": 165
        },
        "id": "CbiQ2psnUmmy",
        "outputId": "41e542df-c37e-4642-f1f5-9f7b34e3b613"
      },
      "source": [
        "# Reducing options when looking for cheaper houses than average using the new lower search price.\r\n",
        "df.query(\"sqft_living > 3000 & sqft_living <= 4000 & zipcode == 98004 & price < 919770.10\")"
      ],
      "execution_count": null,
      "outputs": [
        {
          "output_type": "execute_result",
          "data": {
            "text/html": [
              "<div>\n",
              "<style scoped>\n",
              "    .dataframe tbody tr th:only-of-type {\n",
              "        vertical-align: middle;\n",
              "    }\n",
              "\n",
              "    .dataframe tbody tr th {\n",
              "        vertical-align: top;\n",
              "    }\n",
              "\n",
              "    .dataframe thead th {\n",
              "        text-align: right;\n",
              "    }\n",
              "</style>\n",
              "<table border=\"1\" class=\"dataframe\">\n",
              "  <thead>\n",
              "    <tr style=\"text-align: right;\">\n",
              "      <th></th>\n",
              "      <th>id</th>\n",
              "      <th>date</th>\n",
              "      <th>price</th>\n",
              "      <th>bedrooms</th>\n",
              "      <th>bathrooms</th>\n",
              "      <th>sqft_living</th>\n",
              "      <th>sqft_lot</th>\n",
              "      <th>floors</th>\n",
              "      <th>waterfront</th>\n",
              "      <th>view</th>\n",
              "      <th>condition</th>\n",
              "      <th>grade</th>\n",
              "      <th>sqft_above</th>\n",
              "      <th>sqft_basement</th>\n",
              "      <th>yr_built</th>\n",
              "      <th>yr_renovated</th>\n",
              "      <th>zipcode</th>\n",
              "      <th>lat</th>\n",
              "      <th>long</th>\n",
              "      <th>sqft_living15</th>\n",
              "      <th>sqft_lot15</th>\n",
              "    </tr>\n",
              "  </thead>\n",
              "  <tbody>\n",
              "    <tr>\n",
              "      <th>13357</th>\n",
              "      <td>9808590210</td>\n",
              "      <td>2014-05-13</td>\n",
              "      <td>860000.0</td>\n",
              "      <td>4</td>\n",
              "      <td>2.5</td>\n",
              "      <td>3560</td>\n",
              "      <td>11119</td>\n",
              "      <td>1.0</td>\n",
              "      <td>0</td>\n",
              "      <td>2</td>\n",
              "      <td>3</td>\n",
              "      <td>10</td>\n",
              "      <td>2290</td>\n",
              "      <td>1270</td>\n",
              "      <td>1986</td>\n",
              "      <td>0</td>\n",
              "      <td>98004</td>\n",
              "      <td>47.6456</td>\n",
              "      <td>-122.190</td>\n",
              "      <td>3290</td>\n",
              "      <td>11385</td>\n",
              "    </tr>\n",
              "    <tr>\n",
              "      <th>15353</th>\n",
              "      <td>644210020</td>\n",
              "      <td>2015-01-05</td>\n",
              "      <td>780000.0</td>\n",
              "      <td>4</td>\n",
              "      <td>2.5</td>\n",
              "      <td>3020</td>\n",
              "      <td>15164</td>\n",
              "      <td>1.0</td>\n",
              "      <td>0</td>\n",
              "      <td>0</td>\n",
              "      <td>4</td>\n",
              "      <td>8</td>\n",
              "      <td>1730</td>\n",
              "      <td>1290</td>\n",
              "      <td>1976</td>\n",
              "      <td>0</td>\n",
              "      <td>98004</td>\n",
              "      <td>47.5882</td>\n",
              "      <td>-122.192</td>\n",
              "      <td>2600</td>\n",
              "      <td>11556</td>\n",
              "    </tr>\n",
              "  </tbody>\n",
              "</table>\n",
              "</div>"
            ],
            "text/plain": [
              "               id       date     price  ...     long  sqft_living15  sqft_lot15\n",
              "13357  9808590210 2014-05-13  860000.0  ... -122.190           3290       11385\n",
              "15353   644210020 2015-01-05  780000.0  ... -122.192           2600       11556\n",
              "\n",
              "[2 rows x 21 columns]"
            ]
          },
          "metadata": {
            "tags": []
          },
          "execution_count": 163
        }
      ]
    },
    {
      "cell_type": "markdown",
      "metadata": {
        "id": "vg7fvGzjaF53"
      },
      "source": [
        "Should buy the house with **id number 9808590210 and 644210020** for maximum of **$919,770.00** taking into account the average value of the neighborhood and the attribute with the highest correlation. And sell it for **1,532,950.00** considerating the average price of houses with those attributes."
      ]
    },
    {
      "cell_type": "markdown",
      "metadata": {
        "id": "MQnl2CV8dS7E"
      },
      "source": [
        "## **Challenge answer**"
      ]
    },
    {
      "cell_type": "markdown",
      "metadata": {
        "id": "Oe3_h54udhHv"
      },
      "source": [
        "Which houses should de CEO of House Rocket buy and a what purchase price? \r\n",
        "**The homes that the CEO must buy are divided into two groups, the first one consists of a house with all the ideal attributes and that is priced well below the average for that profile (id number: 7284900030), so the recommended purchase price is around   $774,470.00 to sell after for 1,475,000 dollars. The second one consists of two houses with a great location and a much lower price than the average for that location with an ideal square feet (id number 9808590210 / 644210020) and the recommended purchase price is around 919,770.00 to sell after for 1,532,950**\r\n",
        "\r\n",
        "---\r\n",
        "Once the house is owned by the company, what's the best moment to sell it and what would be the sale price? **The best moment to sell the house is from April to June, more precisely in April, since these months have the highest average price and also a good frequency of sales**\r\n",
        "\r\n",
        "---\r\n",
        "The House Rocket should do some renovation to increase the sale price? What would be the suggestions for changes? What is the increase in the price given for each renovation option? **Yes, the house rocket should do some renovation to the houses of the second group, increase the number of bathroom to 3 will allow to increase the price of the houses in approximately 340 thousand dollars without needing to sacrifice much of the frequency of sales.**\r\n",
        "\r\n",
        " ---\r\n",
        "What's the ideal house's profile based on average price and frequency? \r\n",
        "**The ideal house's profile is one that has a combination of attributes that increase the value of the house and that are sold with good frequency. So the ideal home should have between 3000 to 4000ft², 9 grades, 3 to 3.75 bathrooms, 4 views, 3 or 4 conditions and 4 bedrooms. It is not surprising that the average price of houses with these attributes is 1.475 million dollars, well above the general average.**\r\n",
        "\r\n",
        "\r\n",
        "\r\n",
        "\r\n",
        "\r\n"
      ]
    }
  ]
}